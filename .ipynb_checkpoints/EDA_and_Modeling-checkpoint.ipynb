{
 "cells": [
  {
   "cell_type": "markdown",
   "metadata": {
    "id": "Hjorj4ZKHr-_"
   },
   "source": [
    "## ADS505 Final Project\n",
    "## Dataset: Hotel Reservations\n",
    "## Vivian Do, Mirna Philip, Halee Staggs\n"
   ]
  },
  {
   "cell_type": "markdown",
   "metadata": {},
   "source": [
    "## This project is hosted at the following GitHub Repository: https://github.com/vivianndo/ads505"
   ]
  },
  {
   "cell_type": "markdown",
   "metadata": {},
   "source": [
    "### Attribute Description"
   ]
  },
  {
   "cell_type": "markdown",
   "metadata": {
    "id": "UiONTbMGIFCm"
   },
   "source": [
    "| Column Name                           | Description                                                                                      |\n",
    "|---------------------------------------|--------------------------------------------------------------------------------------------------|\n",
    "| Booking_ID                            | Unique identifier of each booking                                                                |\n",
    "| no_of_adults                          | Number of adults                                                                                 |\n",
    "| no_of_children                        | Number of Children                                                                               |\n",
    "| no_of_weekend_nights                  | Number of weekend nights (Saturday or Sunday) the guest stayed or booked to stay at the hotel  |\n",
    "| no_of_week_nights                     | Number of week nights (Monday to Friday) the guest stayed or booked to stay at the hotel      |\n",
    "| type_of_meal_plan                     | Type of meal plan booked by the customer                                                         |\n",
    "| required_car_parking_space            | Does the customer require a car parking space? (0 - No, 1- Yes)                                   |\n",
    "| room_type_reserved                    | Type of room reserved by the customer                                                             |\n",
    "| lead_time                             | Number of days between the date of booking and the arrival date                                   |\n",
    "| arrival_year                          | Year of arrival date                                                                             |\n",
    "| arrival_month                         | Month of arrival date                                                                            |\n",
    "| arrival_date                          | Date of the month                                                                                |\n",
    "| market_segment_type                   | Market segment designation                                                                       |\n",
    "| repeated_guest                        | Is the customer a repeated guest? (0 - No, 1- Yes)                                               |\n",
    "| no_of_previous_cancellations          | Number of previous bookings that were canceled by the customer prior to the current booking     |\n",
    "| no_of_previous_bookings_not_canceled  | Number of previous bookings not canceled by the customer prior to the current booking           |\n",
    "| avg_price_per_room                    | Average price per day of the reservation; prices of the rooms are dynamic (in euros)            |\n",
    "| no_of_special_requests                | Total number of special requests made by the customer                                            |\n",
    "| booking_status                        | Flag indicating if the booking was canceled or not                                               |\n"
   ]
  },
  {
   "cell_type": "markdown",
   "metadata": {},
   "source": [
    "### Library and Data Import"
   ]
  },
  {
   "cell_type": "code",
   "execution_count": 5,
   "metadata": {
    "ExecuteTime": {
     "end_time": "2023-10-16T19:36:03.456477Z",
     "start_time": "2023-10-16T19:36:01.133831Z"
    },
    "colab": {
     "base_uri": "https://localhost:8080/"
    },
    "id": "vZ47wxTFHgXT",
    "outputId": "2fe72586-053a-438e-8483-3757d36902ee"
   },
   "outputs": [
    {
     "name": "stdout",
     "output_type": "stream",
     "text": [
      "no display found. Using non-interactive Agg backend\n"
     ]
    }
   ],
   "source": [
    "#Importing all the necessary packages\n",
    "import pandas as pd\n",
    "import numpy as np\n",
    "import matplotlib\n",
    "import matplotlib.pyplot as plt\n",
    "matplotlib.use('TkAgg')\n",
    "import seaborn as sns\n",
    "import warnings\n",
    "import scipy.stats as stats\n",
    "from scipy.stats import zscore\n",
    "from scipy.stats import yeojohnson\n",
    "import statsmodels.api as sm\n",
    "from sklearn.preprocessing import OneHotEncoder, PowerTransformer\n",
    "from sklearn.feature_selection import VarianceThreshold\n",
    "from sklearn.compose import ColumnTransformer\n",
    "from sklearn.model_selection import train_test_split, cross_val_score, GridSearchCV\n",
    "from sklearn.metrics import confusion_matrix, accuracy_score, ConfusionMatrixDisplay,  roc_auc_score, roc_curve \n",
    "from sklearn.metrics import classification_report, mean_squared_error\n",
    "from sklearn.linear_model import LogisticRegressionCV\n",
    "from sklearn.tree import DecisionTreeRegressor\n",
    "from sklearn.preprocessing import StandardScaler\n",
    "from sklearn.pipeline import make_pipeline, Pipeline\n",
    "from dmba import classificationSummary, AIC_score, BIC_score, plotDecisionTree,gainsChart\n",
    "from scikitplot.metrics import plot_lift_curve\n",
    "from sklearn.neural_network import MLPClassifier\n",
    "from sklearn.tree import DecisionTreeClassifier\n",
    "from sklearn.neighbors import NearestNeighbors, KNeighborsClassifier \n",
    "from sklearn.ensemble import GradientBoostingClassifier, RandomForestClassifier\n",
    "from sklearn import set_config\n",
    "from imblearn.under_sampling import RandomUnderSampler\n",
    "from tabulate import tabulate\n",
    "#!pip install imblearn\n",
    "from imblearn.metrics import specificity_score, sensitivity_score\n"
   ]
  },
  {
   "cell_type": "code",
   "execution_count": 6,
   "metadata": {
    "ExecuteTime": {
     "end_time": "2023-10-16T19:36:03.479895Z",
     "start_time": "2023-10-16T19:36:03.465040Z"
    }
   },
   "outputs": [],
   "source": [
    "#!pip install ipympl\n",
    "#import ipympl"
   ]
  },
  {
   "cell_type": "code",
   "execution_count": 7,
   "metadata": {
    "ExecuteTime": {
     "end_time": "2023-10-16T19:36:03.771939Z",
     "start_time": "2023-10-16T19:36:03.484527Z"
    },
    "colab": {
     "base_uri": "https://localhost:8080/",
     "height": 200
    },
    "id": "8BNDaOpNILrV",
    "outputId": "9f8e2688-702e-4c55-b60e-d3ee74fcacc5"
   },
   "outputs": [
    {
     "data": {
      "text/html": [
       "<div>\n",
       "<style scoped>\n",
       "    .dataframe tbody tr th:only-of-type {\n",
       "        vertical-align: middle;\n",
       "    }\n",
       "\n",
       "    .dataframe tbody tr th {\n",
       "        vertical-align: top;\n",
       "    }\n",
       "\n",
       "    .dataframe thead th {\n",
       "        text-align: right;\n",
       "    }\n",
       "</style>\n",
       "<table border=\"1\" class=\"dataframe\">\n",
       "  <thead>\n",
       "    <tr style=\"text-align: right;\">\n",
       "      <th></th>\n",
       "      <th>Booking_ID</th>\n",
       "      <th>no_of_adults</th>\n",
       "      <th>no_of_children</th>\n",
       "      <th>no_of_weekend_nights</th>\n",
       "      <th>no_of_week_nights</th>\n",
       "      <th>type_of_meal_plan</th>\n",
       "      <th>required_car_parking_space</th>\n",
       "      <th>room_type_reserved</th>\n",
       "      <th>lead_time</th>\n",
       "      <th>arrival_year</th>\n",
       "      <th>arrival_month</th>\n",
       "      <th>arrival_date</th>\n",
       "      <th>market_segment_type</th>\n",
       "      <th>repeated_guest</th>\n",
       "      <th>no_of_previous_cancellations</th>\n",
       "      <th>no_of_previous_bookings_not_canceled</th>\n",
       "      <th>avg_price_per_room</th>\n",
       "      <th>no_of_special_requests</th>\n",
       "      <th>booking_status</th>\n",
       "    </tr>\n",
       "  </thead>\n",
       "  <tbody>\n",
       "    <tr>\n",
       "      <th>0</th>\n",
       "      <td>INN00001</td>\n",
       "      <td>2</td>\n",
       "      <td>0</td>\n",
       "      <td>1</td>\n",
       "      <td>2</td>\n",
       "      <td>Meal Plan 1</td>\n",
       "      <td>0</td>\n",
       "      <td>Room_Type 1</td>\n",
       "      <td>224</td>\n",
       "      <td>2017</td>\n",
       "      <td>10</td>\n",
       "      <td>2</td>\n",
       "      <td>Offline</td>\n",
       "      <td>0</td>\n",
       "      <td>0</td>\n",
       "      <td>0</td>\n",
       "      <td>65.00</td>\n",
       "      <td>0</td>\n",
       "      <td>Not_Canceled</td>\n",
       "    </tr>\n",
       "    <tr>\n",
       "      <th>1</th>\n",
       "      <td>INN00002</td>\n",
       "      <td>2</td>\n",
       "      <td>0</td>\n",
       "      <td>2</td>\n",
       "      <td>3</td>\n",
       "      <td>Not Selected</td>\n",
       "      <td>0</td>\n",
       "      <td>Room_Type 1</td>\n",
       "      <td>5</td>\n",
       "      <td>2018</td>\n",
       "      <td>11</td>\n",
       "      <td>6</td>\n",
       "      <td>Online</td>\n",
       "      <td>0</td>\n",
       "      <td>0</td>\n",
       "      <td>0</td>\n",
       "      <td>106.68</td>\n",
       "      <td>1</td>\n",
       "      <td>Not_Canceled</td>\n",
       "    </tr>\n",
       "    <tr>\n",
       "      <th>2</th>\n",
       "      <td>INN00003</td>\n",
       "      <td>1</td>\n",
       "      <td>0</td>\n",
       "      <td>2</td>\n",
       "      <td>1</td>\n",
       "      <td>Meal Plan 1</td>\n",
       "      <td>0</td>\n",
       "      <td>Room_Type 1</td>\n",
       "      <td>1</td>\n",
       "      <td>2018</td>\n",
       "      <td>2</td>\n",
       "      <td>28</td>\n",
       "      <td>Online</td>\n",
       "      <td>0</td>\n",
       "      <td>0</td>\n",
       "      <td>0</td>\n",
       "      <td>60.00</td>\n",
       "      <td>0</td>\n",
       "      <td>Canceled</td>\n",
       "    </tr>\n",
       "    <tr>\n",
       "      <th>3</th>\n",
       "      <td>INN00004</td>\n",
       "      <td>2</td>\n",
       "      <td>0</td>\n",
       "      <td>0</td>\n",
       "      <td>2</td>\n",
       "      <td>Meal Plan 1</td>\n",
       "      <td>0</td>\n",
       "      <td>Room_Type 1</td>\n",
       "      <td>211</td>\n",
       "      <td>2018</td>\n",
       "      <td>5</td>\n",
       "      <td>20</td>\n",
       "      <td>Online</td>\n",
       "      <td>0</td>\n",
       "      <td>0</td>\n",
       "      <td>0</td>\n",
       "      <td>100.00</td>\n",
       "      <td>0</td>\n",
       "      <td>Canceled</td>\n",
       "    </tr>\n",
       "    <tr>\n",
       "      <th>4</th>\n",
       "      <td>INN00005</td>\n",
       "      <td>2</td>\n",
       "      <td>0</td>\n",
       "      <td>1</td>\n",
       "      <td>1</td>\n",
       "      <td>Not Selected</td>\n",
       "      <td>0</td>\n",
       "      <td>Room_Type 1</td>\n",
       "      <td>48</td>\n",
       "      <td>2018</td>\n",
       "      <td>4</td>\n",
       "      <td>11</td>\n",
       "      <td>Online</td>\n",
       "      <td>0</td>\n",
       "      <td>0</td>\n",
       "      <td>0</td>\n",
       "      <td>94.50</td>\n",
       "      <td>0</td>\n",
       "      <td>Canceled</td>\n",
       "    </tr>\n",
       "  </tbody>\n",
       "</table>\n",
       "</div>"
      ],
      "text/plain": [
       "  Booking_ID  no_of_adults  no_of_children  no_of_weekend_nights  \\\n",
       "0   INN00001             2               0                     1   \n",
       "1   INN00002             2               0                     2   \n",
       "2   INN00003             1               0                     2   \n",
       "3   INN00004             2               0                     0   \n",
       "4   INN00005             2               0                     1   \n",
       "\n",
       "   no_of_week_nights type_of_meal_plan  required_car_parking_space  \\\n",
       "0                  2       Meal Plan 1                           0   \n",
       "1                  3      Not Selected                           0   \n",
       "2                  1       Meal Plan 1                           0   \n",
       "3                  2       Meal Plan 1                           0   \n",
       "4                  1      Not Selected                           0   \n",
       "\n",
       "  room_type_reserved  lead_time  arrival_year  arrival_month  arrival_date  \\\n",
       "0        Room_Type 1        224          2017             10             2   \n",
       "1        Room_Type 1          5          2018             11             6   \n",
       "2        Room_Type 1          1          2018              2            28   \n",
       "3        Room_Type 1        211          2018              5            20   \n",
       "4        Room_Type 1         48          2018              4            11   \n",
       "\n",
       "  market_segment_type  repeated_guest  no_of_previous_cancellations  \\\n",
       "0             Offline               0                             0   \n",
       "1              Online               0                             0   \n",
       "2              Online               0                             0   \n",
       "3              Online               0                             0   \n",
       "4              Online               0                             0   \n",
       "\n",
       "   no_of_previous_bookings_not_canceled  avg_price_per_room  \\\n",
       "0                                     0               65.00   \n",
       "1                                     0              106.68   \n",
       "2                                     0               60.00   \n",
       "3                                     0              100.00   \n",
       "4                                     0               94.50   \n",
       "\n",
       "   no_of_special_requests booking_status  \n",
       "0                       0   Not_Canceled  \n",
       "1                       1   Not_Canceled  \n",
       "2                       0       Canceled  \n",
       "3                       0       Canceled  \n",
       "4                       0       Canceled  "
      ]
     },
     "execution_count": 7,
     "metadata": {},
     "output_type": "execute_result"
    }
   ],
   "source": [
    "#uploating the dataset\n",
    "df = pd.read_csv('Hotel Reservations.csv')\n",
    "# display of first three rows  in the dataframe\n",
    "df.head()"
   ]
  },
  {
   "cell_type": "markdown",
   "metadata": {
    "id": "levEvZfJIlvy"
   },
   "source": [
    "### Understanding the dataset"
   ]
  },
  {
   "cell_type": "code",
   "execution_count": 8,
   "metadata": {
    "ExecuteTime": {
     "end_time": "2023-10-16T19:36:03.807288Z",
     "start_time": "2023-10-16T19:36:03.787578Z"
    },
    "colab": {
     "base_uri": "https://localhost:8080/"
    },
    "id": "oP7Zd7Ls46bb",
    "outputId": "e48ffeb9-eac3-451f-b3e6-e5b1f624bc08"
   },
   "outputs": [
    {
     "data": {
      "text/plain": [
       "Index(['Booking_ID', 'no_of_adults', 'no_of_children', 'no_of_weekend_nights',\n",
       "       'no_of_week_nights', 'type_of_meal_plan', 'required_car_parking_space',\n",
       "       'room_type_reserved', 'lead_time', 'arrival_year', 'arrival_month',\n",
       "       'arrival_date', 'market_segment_type', 'repeated_guest',\n",
       "       'no_of_previous_cancellations', 'no_of_previous_bookings_not_canceled',\n",
       "       'avg_price_per_room', 'no_of_special_requests', 'booking_status'],\n",
       "      dtype='object')"
      ]
     },
     "execution_count": 8,
     "metadata": {},
     "output_type": "execute_result"
    }
   ],
   "source": [
    "# Using .columns to show the column names of the DataFrame\n",
    "df.columns"
   ]
  },
  {
   "cell_type": "code",
   "execution_count": 9,
   "metadata": {
    "ExecuteTime": {
     "end_time": "2023-10-16T19:36:03.829658Z",
     "start_time": "2023-10-16T19:36:03.813233Z"
    },
    "colab": {
     "base_uri": "https://localhost:8080/"
    },
    "id": "QrgHJ39y49V5",
    "outputId": "08f59760-d8ce-4040-d56d-94adaf187cdf"
   },
   "outputs": [
    {
     "data": {
      "text/plain": [
       "(36275, 19)"
      ]
     },
     "execution_count": 9,
     "metadata": {},
     "output_type": "execute_result"
    }
   ],
   "source": [
    "# Dimensions: 36275 observations and 19 variables\n",
    "df.shape"
   ]
  },
  {
   "cell_type": "code",
   "execution_count": 10,
   "metadata": {
    "ExecuteTime": {
     "end_time": "2023-10-16T19:36:03.917042Z",
     "start_time": "2023-10-16T19:36:03.836657Z"
    },
    "colab": {
     "base_uri": "https://localhost:8080/"
    },
    "id": "fULia4Li23rv",
    "outputId": "0b8c28e3-f2b3-4454-daa9-fec0721c86ef"
   },
   "outputs": [
    {
     "name": "stdout",
     "output_type": "stream",
     "text": [
      "<class 'pandas.core.frame.DataFrame'>\n",
      "RangeIndex: 36275 entries, 0 to 36274\n",
      "Data columns (total 19 columns):\n",
      " #   Column                                Non-Null Count  Dtype  \n",
      "---  ------                                --------------  -----  \n",
      " 0   Booking_ID                            36275 non-null  object \n",
      " 1   no_of_adults                          36275 non-null  int64  \n",
      " 2   no_of_children                        36275 non-null  int64  \n",
      " 3   no_of_weekend_nights                  36275 non-null  int64  \n",
      " 4   no_of_week_nights                     36275 non-null  int64  \n",
      " 5   type_of_meal_plan                     36275 non-null  object \n",
      " 6   required_car_parking_space            36275 non-null  int64  \n",
      " 7   room_type_reserved                    36275 non-null  object \n",
      " 8   lead_time                             36275 non-null  int64  \n",
      " 9   arrival_year                          36275 non-null  int64  \n",
      " 10  arrival_month                         36275 non-null  int64  \n",
      " 11  arrival_date                          36275 non-null  int64  \n",
      " 12  market_segment_type                   36275 non-null  object \n",
      " 13  repeated_guest                        36275 non-null  int64  \n",
      " 14  no_of_previous_cancellations          36275 non-null  int64  \n",
      " 15  no_of_previous_bookings_not_canceled  36275 non-null  int64  \n",
      " 16  avg_price_per_room                    36275 non-null  float64\n",
      " 17  no_of_special_requests                36275 non-null  int64  \n",
      " 18  booking_status                        36275 non-null  object \n",
      "dtypes: float64(1), int64(13), object(5)\n",
      "memory usage: 5.3+ MB\n"
     ]
    }
   ],
   "source": [
    "#Check data types and missing values\n",
    "df.info()"
   ]
  },
  {
   "cell_type": "code",
   "execution_count": 11,
   "metadata": {
    "ExecuteTime": {
     "end_time": "2023-10-16T19:36:03.994555Z",
     "start_time": "2023-10-16T19:36:03.923247Z"
    }
   },
   "outputs": [
    {
     "data": {
      "text/plain": [
       "0"
      ]
     },
     "execution_count": 11,
     "metadata": {},
     "output_type": "execute_result"
    }
   ],
   "source": [
    "#The sum count of the duplicated values\n",
    "df.duplicated().sum()"
   ]
  },
  {
   "cell_type": "code",
   "execution_count": 12,
   "metadata": {
    "ExecuteTime": {
     "end_time": "2023-10-16T19:36:04.143546Z",
     "start_time": "2023-10-16T19:36:04.002964Z"
    },
    "colab": {
     "base_uri": "https://localhost:8080/",
     "height": 400
    },
    "id": "DtxmG8a5I1Pa",
    "outputId": "32f9359d-7100-47ac-a732-b9f6153b966e"
   },
   "outputs": [
    {
     "data": {
      "text/html": [
       "<div>\n",
       "<style scoped>\n",
       "    .dataframe tbody tr th:only-of-type {\n",
       "        vertical-align: middle;\n",
       "    }\n",
       "\n",
       "    .dataframe tbody tr th {\n",
       "        vertical-align: top;\n",
       "    }\n",
       "\n",
       "    .dataframe thead th {\n",
       "        text-align: right;\n",
       "    }\n",
       "</style>\n",
       "<table border=\"1\" class=\"dataframe\">\n",
       "  <thead>\n",
       "    <tr style=\"text-align: right;\">\n",
       "      <th></th>\n",
       "      <th>no_of_adults</th>\n",
       "      <th>no_of_children</th>\n",
       "      <th>no_of_weekend_nights</th>\n",
       "      <th>no_of_week_nights</th>\n",
       "      <th>required_car_parking_space</th>\n",
       "      <th>lead_time</th>\n",
       "      <th>arrival_year</th>\n",
       "      <th>arrival_month</th>\n",
       "      <th>arrival_date</th>\n",
       "      <th>repeated_guest</th>\n",
       "      <th>no_of_previous_cancellations</th>\n",
       "      <th>no_of_previous_bookings_not_canceled</th>\n",
       "      <th>avg_price_per_room</th>\n",
       "      <th>no_of_special_requests</th>\n",
       "    </tr>\n",
       "  </thead>\n",
       "  <tbody>\n",
       "    <tr>\n",
       "      <th>count</th>\n",
       "      <td>36275.000000</td>\n",
       "      <td>36275.000000</td>\n",
       "      <td>36275.000000</td>\n",
       "      <td>36275.000000</td>\n",
       "      <td>36275.000000</td>\n",
       "      <td>36275.000000</td>\n",
       "      <td>36275.000000</td>\n",
       "      <td>36275.000000</td>\n",
       "      <td>36275.000000</td>\n",
       "      <td>36275.000000</td>\n",
       "      <td>36275.000000</td>\n",
       "      <td>36275.000000</td>\n",
       "      <td>36275.000000</td>\n",
       "      <td>36275.000000</td>\n",
       "    </tr>\n",
       "    <tr>\n",
       "      <th>mean</th>\n",
       "      <td>1.844962</td>\n",
       "      <td>0.105279</td>\n",
       "      <td>0.810724</td>\n",
       "      <td>2.204300</td>\n",
       "      <td>0.030986</td>\n",
       "      <td>85.232557</td>\n",
       "      <td>2017.820427</td>\n",
       "      <td>7.423653</td>\n",
       "      <td>15.596995</td>\n",
       "      <td>0.025637</td>\n",
       "      <td>0.023349</td>\n",
       "      <td>0.153411</td>\n",
       "      <td>103.423539</td>\n",
       "      <td>0.619655</td>\n",
       "    </tr>\n",
       "    <tr>\n",
       "      <th>std</th>\n",
       "      <td>0.518715</td>\n",
       "      <td>0.402648</td>\n",
       "      <td>0.870644</td>\n",
       "      <td>1.410905</td>\n",
       "      <td>0.173281</td>\n",
       "      <td>85.930817</td>\n",
       "      <td>0.383836</td>\n",
       "      <td>3.069894</td>\n",
       "      <td>8.740447</td>\n",
       "      <td>0.158053</td>\n",
       "      <td>0.368331</td>\n",
       "      <td>1.754171</td>\n",
       "      <td>35.089424</td>\n",
       "      <td>0.786236</td>\n",
       "    </tr>\n",
       "    <tr>\n",
       "      <th>min</th>\n",
       "      <td>0.000000</td>\n",
       "      <td>0.000000</td>\n",
       "      <td>0.000000</td>\n",
       "      <td>0.000000</td>\n",
       "      <td>0.000000</td>\n",
       "      <td>0.000000</td>\n",
       "      <td>2017.000000</td>\n",
       "      <td>1.000000</td>\n",
       "      <td>1.000000</td>\n",
       "      <td>0.000000</td>\n",
       "      <td>0.000000</td>\n",
       "      <td>0.000000</td>\n",
       "      <td>0.000000</td>\n",
       "      <td>0.000000</td>\n",
       "    </tr>\n",
       "    <tr>\n",
       "      <th>25%</th>\n",
       "      <td>2.000000</td>\n",
       "      <td>0.000000</td>\n",
       "      <td>0.000000</td>\n",
       "      <td>1.000000</td>\n",
       "      <td>0.000000</td>\n",
       "      <td>17.000000</td>\n",
       "      <td>2018.000000</td>\n",
       "      <td>5.000000</td>\n",
       "      <td>8.000000</td>\n",
       "      <td>0.000000</td>\n",
       "      <td>0.000000</td>\n",
       "      <td>0.000000</td>\n",
       "      <td>80.300000</td>\n",
       "      <td>0.000000</td>\n",
       "    </tr>\n",
       "    <tr>\n",
       "      <th>50%</th>\n",
       "      <td>2.000000</td>\n",
       "      <td>0.000000</td>\n",
       "      <td>1.000000</td>\n",
       "      <td>2.000000</td>\n",
       "      <td>0.000000</td>\n",
       "      <td>57.000000</td>\n",
       "      <td>2018.000000</td>\n",
       "      <td>8.000000</td>\n",
       "      <td>16.000000</td>\n",
       "      <td>0.000000</td>\n",
       "      <td>0.000000</td>\n",
       "      <td>0.000000</td>\n",
       "      <td>99.450000</td>\n",
       "      <td>0.000000</td>\n",
       "    </tr>\n",
       "    <tr>\n",
       "      <th>75%</th>\n",
       "      <td>2.000000</td>\n",
       "      <td>0.000000</td>\n",
       "      <td>2.000000</td>\n",
       "      <td>3.000000</td>\n",
       "      <td>0.000000</td>\n",
       "      <td>126.000000</td>\n",
       "      <td>2018.000000</td>\n",
       "      <td>10.000000</td>\n",
       "      <td>23.000000</td>\n",
       "      <td>0.000000</td>\n",
       "      <td>0.000000</td>\n",
       "      <td>0.000000</td>\n",
       "      <td>120.000000</td>\n",
       "      <td>1.000000</td>\n",
       "    </tr>\n",
       "    <tr>\n",
       "      <th>max</th>\n",
       "      <td>4.000000</td>\n",
       "      <td>10.000000</td>\n",
       "      <td>7.000000</td>\n",
       "      <td>17.000000</td>\n",
       "      <td>1.000000</td>\n",
       "      <td>443.000000</td>\n",
       "      <td>2018.000000</td>\n",
       "      <td>12.000000</td>\n",
       "      <td>31.000000</td>\n",
       "      <td>1.000000</td>\n",
       "      <td>13.000000</td>\n",
       "      <td>58.000000</td>\n",
       "      <td>540.000000</td>\n",
       "      <td>5.000000</td>\n",
       "    </tr>\n",
       "  </tbody>\n",
       "</table>\n",
       "</div>"
      ],
      "text/plain": [
       "       no_of_adults  no_of_children  no_of_weekend_nights  no_of_week_nights  \\\n",
       "count  36275.000000    36275.000000          36275.000000       36275.000000   \n",
       "mean       1.844962        0.105279              0.810724           2.204300   \n",
       "std        0.518715        0.402648              0.870644           1.410905   \n",
       "min        0.000000        0.000000              0.000000           0.000000   \n",
       "25%        2.000000        0.000000              0.000000           1.000000   \n",
       "50%        2.000000        0.000000              1.000000           2.000000   \n",
       "75%        2.000000        0.000000              2.000000           3.000000   \n",
       "max        4.000000       10.000000              7.000000          17.000000   \n",
       "\n",
       "       required_car_parking_space     lead_time  arrival_year  arrival_month  \\\n",
       "count                36275.000000  36275.000000  36275.000000   36275.000000   \n",
       "mean                     0.030986     85.232557   2017.820427       7.423653   \n",
       "std                      0.173281     85.930817      0.383836       3.069894   \n",
       "min                      0.000000      0.000000   2017.000000       1.000000   \n",
       "25%                      0.000000     17.000000   2018.000000       5.000000   \n",
       "50%                      0.000000     57.000000   2018.000000       8.000000   \n",
       "75%                      0.000000    126.000000   2018.000000      10.000000   \n",
       "max                      1.000000    443.000000   2018.000000      12.000000   \n",
       "\n",
       "       arrival_date  repeated_guest  no_of_previous_cancellations  \\\n",
       "count  36275.000000    36275.000000                  36275.000000   \n",
       "mean      15.596995        0.025637                      0.023349   \n",
       "std        8.740447        0.158053                      0.368331   \n",
       "min        1.000000        0.000000                      0.000000   \n",
       "25%        8.000000        0.000000                      0.000000   \n",
       "50%       16.000000        0.000000                      0.000000   \n",
       "75%       23.000000        0.000000                      0.000000   \n",
       "max       31.000000        1.000000                     13.000000   \n",
       "\n",
       "       no_of_previous_bookings_not_canceled  avg_price_per_room  \\\n",
       "count                          36275.000000        36275.000000   \n",
       "mean                               0.153411          103.423539   \n",
       "std                                1.754171           35.089424   \n",
       "min                                0.000000            0.000000   \n",
       "25%                                0.000000           80.300000   \n",
       "50%                                0.000000           99.450000   \n",
       "75%                                0.000000          120.000000   \n",
       "max                               58.000000          540.000000   \n",
       "\n",
       "       no_of_special_requests  \n",
       "count            36275.000000  \n",
       "mean                 0.619655  \n",
       "std                  0.786236  \n",
       "min                  0.000000  \n",
       "25%                  0.000000  \n",
       "50%                  0.000000  \n",
       "75%                  1.000000  \n",
       "max                  5.000000  "
      ]
     },
     "execution_count": 12,
     "metadata": {},
     "output_type": "execute_result"
    }
   ],
   "source": [
    "#df.describe() provides statistics such as the mean, minimum, standard deviation, and more.\n",
    "df.describe()"
   ]
  },
  {
   "cell_type": "markdown",
   "metadata": {},
   "source": [
    "## In the provided code, the column names of the DataFrame are displayed using `df.columns`, revealing the dataset's 19 variables, including features like 'no_of_adults,' 'arrival_date,' 'market_segment_type,' and the target variable 'booking_status.' The dimensions of the dataset are checked using `df.shape`, indicating it contains 36,275 observations. To understand the data better, `df.info()` is used to check data types and identify any missing values, revealing no missing values. The data includes various data types, such as integers, floats, and objects. Lastly, it is confirmed that there are no duplicated values using `df.duplicated().sum()`, which returns a count of 0. These steps provide valuable insights into the dataset's structure, data types, and basic statistics, setting the stage for further data preprocessing and analysis."
   ]
  },
  {
   "cell_type": "markdown",
   "metadata": {},
   "source": [
    "Numerical Data Insights"
   ]
  },
  {
   "cell_type": "code",
   "execution_count": 13,
   "metadata": {
    "ExecuteTime": {
     "end_time": "2023-10-16T19:36:04.177233Z",
     "start_time": "2023-10-16T19:36:04.151704Z"
    },
    "colab": {
     "base_uri": "https://localhost:8080/"
    },
    "id": "UwZTemFX29CM",
    "outputId": "f4fc35bb-4817-4975-88f4-a248e96839ae"
   },
   "outputs": [
    {
     "data": {
      "text/plain": [
       "Not_Canceled    95\n",
       "Canceled        44\n",
       "Name: booking_status, dtype: int64"
      ]
     },
     "execution_count": 13,
     "metadata": {},
     "output_type": "execute_result"
    }
   ],
   "source": [
    "# Data related to reservations with zero adults\n",
    "adult_zero = pd.DataFrame(df[df['no_of_adults'] == 0])\n",
    "adult_zero['booking_status'].value_counts()"
   ]
  },
  {
   "cell_type": "code",
   "execution_count": 14,
   "metadata": {
    "ExecuteTime": {
     "end_time": "2023-10-16T19:36:04.218516Z",
     "start_time": "2023-10-16T19:36:04.196445Z"
    },
    "colab": {
     "base_uri": "https://localhost:8080/"
    },
    "id": "_2kk-Gaw3F_G",
    "outputId": "06f275ba-b3d0-444f-b4d2-40f8efd592f1"
   },
   "outputs": [
    {
     "data": {
      "text/plain": [
       "Series([], Name: booking_status, dtype: int64)"
      ]
     },
     "execution_count": 14,
     "metadata": {},
     "output_type": "execute_result"
    }
   ],
   "source": [
    "#Check for rows that report no adults or children\n",
    "both = pd.DataFrame(df[(df['no_of_adults'] == 0) & (df['no_of_children'] == 0)])\n",
    "both['booking_status'].value_counts()  # None"
   ]
  },
  {
   "cell_type": "code",
   "execution_count": 15,
   "metadata": {
    "ExecuteTime": {
     "end_time": "2023-10-16T19:36:04.261087Z",
     "start_time": "2023-10-16T19:36:04.228283Z"
    },
    "colab": {
     "base_uri": "https://localhost:8080/"
    },
    "id": "AFGgUzZH3mvA",
    "outputId": "7eab810e-9bd8-471a-950f-68241b5526b8"
   },
   "outputs": [
    {
     "data": {
      "text/plain": [
       "Not_Canceled    76\n",
       "Canceled         2\n",
       "Name: booking_status, dtype: int64"
      ]
     },
     "execution_count": 15,
     "metadata": {},
     "output_type": "execute_result"
    }
   ],
   "source": [
    "#Check if any reservations report being not a week or weekend day\n",
    "#Small amount of sample has no data for weekdays or weeknights\n",
    "#Can maybe impute with median\n",
    "no_day_type = pd.DataFrame(df[(df['no_of_weekend_nights'] == 0) & (df['no_of_week_nights'] == 0)])\n",
    "no_day_type['booking_status'].value_counts()  # Drop these later"
   ]
  },
  {
   "cell_type": "markdown",
   "metadata": {},
   "source": [
    "## In the section that explores Numerical Data Insights, the analysis focuses on reservations with specific characteristics. Firstly, reservations with zero adults are examined using a DataFrame named 'adult_zero.' The counts of 'booking_status' for such reservations are shown, revealing that 95 of them are 'Not_Canceled' and 44 are 'Canceled.' Subsequently, reservations with both zero adults and zero children are checked using the DataFrame 'both,' but no such reservations are found. Lastly, the code investigates reservations that don't specify any week or weekend nights ('no_of_weekend_nights' and 'no_of_week_nights' both equal to zero) with a DataFrame 'no_day_type.' The counts of 'booking_status' for these reservations indicate that 76 are 'Not_Canceled' and 2 are 'Canceled.' These insights help identify specific patterns within the dataset, including reservations with no adults and no specified day type. Further actions such as imputation or removal of such cases may be considered during data preprocessing."
   ]
  },
  {
   "cell_type": "markdown",
   "metadata": {},
   "source": [
    "### Categorical Data Insights"
   ]
  },
  {
   "cell_type": "code",
   "execution_count": 16,
   "metadata": {
    "ExecuteTime": {
     "end_time": "2023-10-16T19:36:04.302465Z",
     "start_time": "2023-10-16T19:36:04.276266Z"
    },
    "colab": {
     "base_uri": "https://localhost:8080/"
    },
    "id": "wYBqt6n-6a90",
    "outputId": "d1ffc8bc-6ad3-4e2b-f25a-fa0c63e4ea36"
   },
   "outputs": [
    {
     "name": "stdout",
     "output_type": "stream",
     "text": [
      "Not_Canceled    24390\n",
      "Canceled        11885\n",
      "Name: booking_status, dtype: int64\n",
      "\n",
      " Not_Canceled    0.672364\n",
      "Canceled        0.327636\n",
      "Name: booking_status, dtype: float64\n"
     ]
    }
   ],
   "source": [
    "# Distribution of outcome variable -- Class imbalance, needs to be addressed in training set\n",
    "print(df['booking_status'].value_counts())\n",
    "print('\\n',df['booking_status'].value_counts()/len(df))"
   ]
  },
  {
   "cell_type": "markdown",
   "metadata": {},
   "source": [
    "## In the section that explores Categorical Data Insights, the focus is on understanding the distribution of the outcome variable, 'booking_status.' The code first prints the counts of each class, showing that there are 24,390 instances of 'Not_Canceled' and 11,885 instances of 'Canceled' in the dataset. To further emphasize the class imbalance, the code calculates and displays the proportions of each class, revealing that 'Not_Canceled' constitutes approximately 67.24% of the dataset, while 'Canceled' makes up about 32.76%. This class imbalance is a crucial factor that needs to be addressed during the model training phase to prevent potential biases and ensure balanced predictions for both classes."
   ]
  },
  {
   "cell_type": "markdown",
   "metadata": {},
   "source": [
    "#### Arrival Year"
   ]
  },
  {
   "cell_type": "code",
   "execution_count": 17,
   "metadata": {
    "ExecuteTime": {
     "end_time": "2023-10-16T19:36:04.335799Z",
     "start_time": "2023-10-16T19:36:04.313622Z"
    },
    "colab": {
     "base_uri": "https://localhost:8080/"
    },
    "id": "0FKeir9i5DAr",
    "outputId": "100c970a-1315-4d9d-e817-2332f1e6657d"
   },
   "outputs": [
    {
     "data": {
      "text/plain": [
       "2018    29761\n",
       "2017     6514\n",
       "Name: arrival_year, dtype: int64"
      ]
     },
     "execution_count": 17,
     "metadata": {},
     "output_type": "execute_result"
    }
   ],
   "source": [
    "# Data spans two years (2017-2018)\n",
    "df['arrival_year'].value_counts()"
   ]
  },
  {
   "cell_type": "code",
   "execution_count": 18,
   "metadata": {
    "ExecuteTime": {
     "end_time": "2023-10-16T19:36:04.607006Z",
     "start_time": "2023-10-16T19:36:04.355054Z"
    }
   },
   "outputs": [
    {
     "data": {
      "text/plain": [
       "Text(0.5, 1.0, 'Arrival Year by Booking Status')"
      ]
     },
     "execution_count": 18,
     "metadata": {},
     "output_type": "execute_result"
    }
   ],
   "source": [
    "# Create a stacked bar chart to visualize the relationship between arrival year and booking status.\n",
    "pd.crosstab(df['arrival_year'], df['booking_status']).plot(kind='bar', stacked=True)\n",
    "plt.ylabel('Frequency')\n",
    "plt.title('Arrival Year by Booking Status')"
   ]
  },
  {
   "cell_type": "markdown",
   "metadata": {},
   "source": [
    "## This code generates a stacked bar chart to illustrate the relationship between the arrival year of guests and their booking status using a DataFrame 'df.' It begins by displaying the count of guests for each of the two years, 2017 and 2018. The main visualization is a stacked bar chart that showcases how booking statuses are distributed within each of these two years. The bars are stacked on top of each other, and the chart helps to compare the proportion of various booking statuses in the context of different arrival years. This visualization provides a clear overview of the booking dynamics across the two years, aiding in identifying trends and patterns in the data."
   ]
  },
  {
   "cell_type": "code",
   "execution_count": 19,
   "metadata": {
    "ExecuteTime": {
     "end_time": "2023-10-16T19:36:04.801020Z",
     "start_time": "2023-10-16T19:36:04.612594Z"
    }
   },
   "outputs": [
    {
     "name": "stderr",
     "output_type": "stream",
     "text": [
      "/var/folders/b8/4ntn3_wd1wg59r0lmbfgfmwc0000gn/T/ipykernel_32933/70235549.py:9: UserWarning: Matplotlib is currently using agg, which is a non-GUI backend, so cannot show the figure.\n",
      "  plt.show()\n"
     ]
    }
   ],
   "source": [
    "# Create normalized bar charts to illustrate the proportion of booking statuses across different arrival years.\n",
    "cross_tab = pd.crosstab(index=df['arrival_year'], columns=df['booking_status'])\n",
    "cross_tab = round(cross_tab.div(cross_tab.sum(0), axis=1)*100,1)\n",
    "norm_cross_tab=cross_tab.div(cross_tab.sum(axis=1), axis=0)\n",
    "norm_cross_tab.plot(kind='bar', stacked=True)\n",
    "plt.title(f\"Normalized Arrival Year by Booking Status\")\n",
    "plt.xticks(rotation=45)\n",
    "plt.ylabel('Proportion')\n",
    "plt.show()"
   ]
  },
  {
   "cell_type": "code",
   "execution_count": 20,
   "metadata": {
    "ExecuteTime": {
     "end_time": "2023-10-16T19:36:04.946606Z",
     "start_time": "2023-10-16T19:36:04.811812Z"
    }
   },
   "outputs": [
    {
     "data": {
      "text/html": [
       "<div>\n",
       "<style scoped>\n",
       "    .dataframe tbody tr th:only-of-type {\n",
       "        vertical-align: middle;\n",
       "    }\n",
       "\n",
       "    .dataframe tbody tr th {\n",
       "        vertical-align: top;\n",
       "    }\n",
       "\n",
       "    .dataframe thead th {\n",
       "        text-align: right;\n",
       "    }\n",
       "</style>\n",
       "<table border=\"1\" class=\"dataframe\">\n",
       "  <thead>\n",
       "    <tr style=\"text-align: right;\">\n",
       "      <th>booking_status</th>\n",
       "      <th>Canceled</th>\n",
       "      <th>Not_Canceled</th>\n",
       "      <th>All</th>\n",
       "    </tr>\n",
       "    <tr>\n",
       "      <th>arrival_year</th>\n",
       "      <th></th>\n",
       "      <th></th>\n",
       "      <th></th>\n",
       "    </tr>\n",
       "  </thead>\n",
       "  <tbody>\n",
       "    <tr>\n",
       "      <th>2017</th>\n",
       "      <td>0.026492</td>\n",
       "      <td>0.153081</td>\n",
       "      <td>0.179573</td>\n",
       "    </tr>\n",
       "    <tr>\n",
       "      <th>2018</th>\n",
       "      <td>0.301144</td>\n",
       "      <td>0.519283</td>\n",
       "      <td>0.820427</td>\n",
       "    </tr>\n",
       "    <tr>\n",
       "      <th>All</th>\n",
       "      <td>0.327636</td>\n",
       "      <td>0.672364</td>\n",
       "      <td>1.000000</td>\n",
       "    </tr>\n",
       "  </tbody>\n",
       "</table>\n",
       "</div>"
      ],
      "text/plain": [
       "booking_status  Canceled  Not_Canceled       All\n",
       "arrival_year                                    \n",
       "2017            0.026492      0.153081  0.179573\n",
       "2018            0.301144      0.519283  0.820427\n",
       "All             0.327636      0.672364  1.000000"
      ]
     },
     "execution_count": 20,
     "metadata": {},
     "output_type": "execute_result"
    }
   ],
   "source": [
    "# Create a cross-tabulation table for arrival year and booking status, including margins and normalization.\n",
    "pd.crosstab(df['arrival_year'], df['booking_status'], margins = True, normalize = True)"
   ]
  },
  {
   "cell_type": "code",
   "execution_count": 21,
   "metadata": {
    "ExecuteTime": {
     "end_time": "2023-10-16T19:36:04.993558Z",
     "start_time": "2023-10-16T19:36:04.963500Z"
    }
   },
   "outputs": [
    {
     "data": {
      "text/plain": [
       "Not_Canceled    0.852472\n",
       "Canceled        0.147528\n",
       "Name: booking_status, dtype: float64"
      ]
     },
     "execution_count": 21,
     "metadata": {},
     "output_type": "execute_result"
    }
   ],
   "source": [
    "# Calculating the proportion of booking statuses in the year 2017.\n",
    "year17 = df[df['arrival_year'] == 2017]\n",
    "year17['booking_status'].value_counts()/len(year17)"
   ]
  },
  {
   "cell_type": "code",
   "execution_count": 22,
   "metadata": {
    "ExecuteTime": {
     "end_time": "2023-10-16T19:36:05.058539Z",
     "start_time": "2023-10-16T19:36:05.004113Z"
    }
   },
   "outputs": [
    {
     "data": {
      "text/plain": [
       "Not_Canceled    0.632942\n",
       "Canceled        0.367058\n",
       "Name: booking_status, dtype: float64"
      ]
     },
     "execution_count": 22,
     "metadata": {},
     "output_type": "execute_result"
    }
   ],
   "source": [
    "# Calculating the proportion of booking statuses in the year 2018.\n",
    "year18 = df[df['arrival_year'] == 2018]\n",
    "year18['booking_status'].value_counts()/len(year18)"
   ]
  },
  {
   "cell_type": "code",
   "execution_count": 23,
   "metadata": {
    "ExecuteTime": {
     "end_time": "2023-10-16T19:36:05.102127Z",
     "start_time": "2023-10-16T19:36:05.074991Z"
    }
   },
   "outputs": [
    {
     "data": {
      "text/plain": [
       "0.219"
      ]
     },
     "execution_count": 23,
     "metadata": {},
     "output_type": "execute_result"
    }
   ],
   "source": [
    "# Calculate the difference in cancellation rates between two years.\n",
    "year_cancel_diff = 0.367-0.148\n",
    "year_cancel_diff"
   ]
  },
  {
   "cell_type": "markdown",
   "metadata": {},
   "source": [
    "## The code efficiently analyzes the proportion of booking statuses (\"Canceled\" and \"Not_Canceled\") across two consecutive years, 2017 and 2018. A stacked bar chart provides a clear visual representation, demonstrating that the cancellation rate in 2018 was notably higher, at 36.7%, compared to 2017, which had a cancellation rate of 14.8%. This stark contrast reveals a substantial difference in cancellation rates between the two years. Further calculations emphasize that in 2017, \"Not_Canceled\" bookings constituted 85.2% of the total, whereas \"Canceled\" bookings made up 14.8%. In 2018, the proportion of \"Not_Canceled\" bookings decreased to 63.3%, while \"Canceled\" bookings increased to 36.7%. The difference in cancellation rates between the two years is approximately 21.9%, highlighting the significance of this shift in booking behavior. These insights can be pivotal in understanding customer preferences, identifying potential factors driving cancellations, and informing strategic decisions."
   ]
  },
  {
   "cell_type": "markdown",
   "metadata": {},
   "source": [
    "#### Car Parking Space"
   ]
  },
  {
   "cell_type": "code",
   "execution_count": 24,
   "metadata": {
    "ExecuteTime": {
     "end_time": "2023-10-16T19:36:05.132726Z",
     "start_time": "2023-10-16T19:36:05.111285Z"
    },
    "colab": {
     "base_uri": "https://localhost:8080/"
    },
    "id": "c5W6k5Mj35hC",
    "outputId": "770ba149-8742-450d-868a-51984cd20aa9"
   },
   "outputs": [
    {
     "data": {
      "text/plain": [
       "0    35151\n",
       "1     1124\n",
       "Name: required_car_parking_space, dtype: int64"
      ]
     },
     "execution_count": 24,
     "metadata": {},
     "output_type": "execute_result"
    }
   ],
   "source": [
    "# Count the occurrences of 'required_car_parking_space' values.\n",
    "df['required_car_parking_space'].value_counts()"
   ]
  },
  {
   "cell_type": "code",
   "execution_count": 25,
   "metadata": {
    "ExecuteTime": {
     "end_time": "2023-10-16T19:36:05.445988Z",
     "start_time": "2023-10-16T19:36:05.142129Z"
    }
   },
   "outputs": [
    {
     "data": {
      "text/plain": [
       "Text(0.5, 1.0, 'Parking Space by Booking Status')"
      ]
     },
     "execution_count": 25,
     "metadata": {},
     "output_type": "execute_result"
    }
   ],
   "source": [
    "## Create a stacked bar chart to visualize the relationship between parking space and booking status.\n",
    "pd.crosstab(df['required_car_parking_space'], df['booking_status']).plot(kind='bar', stacked=True)\n",
    "plt.ylabel('Frequency')\n",
    "plt.title('Parking Space by Booking Status')"
   ]
  },
  {
   "cell_type": "code",
   "execution_count": 26,
   "metadata": {
    "ExecuteTime": {
     "end_time": "2023-10-16T19:36:05.632269Z",
     "start_time": "2023-10-16T19:36:05.452110Z"
    }
   },
   "outputs": [
    {
     "name": "stderr",
     "output_type": "stream",
     "text": [
      "/var/folders/b8/4ntn3_wd1wg59r0lmbfgfmwc0000gn/T/ipykernel_32933/1307370578.py:9: UserWarning: Matplotlib is currently using agg, which is a non-GUI backend, so cannot show the figure.\n",
      "  plt.show()\n"
     ]
    }
   ],
   "source": [
    "# Create normalized bar charts to illustrate the proportion of booking statuses based on parking space requirements.\n",
    "cross_tab = pd.crosstab(index=df['required_car_parking_space'], columns=df['booking_status'])\n",
    "cross_tab = round(cross_tab.div(cross_tab.sum(0), axis=1)*100,1)\n",
    "norm_cross_tab=cross_tab.div(cross_tab.sum(axis=1), axis=0)\n",
    "norm_cross_tab.plot(kind='bar', stacked=True)\n",
    "plt.title(f\"Normalized Required Car Parking by Booking Status\")\n",
    "plt.xticks(rotation=45)\n",
    "plt.ylabel('Proportion')\n",
    "plt.show()"
   ]
  },
  {
   "cell_type": "markdown",
   "metadata": {},
   "source": [
    "## This code explores the relationship between 'required_car_parking_space' and booking statuses. It begins by counting occurrences of two values, 0 (no parking space requirement) and 1 (parking space requirement). The subsequent stacked bar chart visualizes the distribution of booking statuses for both scenarios, revealing that the '0' category has a higher proportion of \"Canceled\" bookings compared to the '1' category. "
   ]
  },
  {
   "cell_type": "markdown",
   "metadata": {},
   "source": [
    "#### Repeated Guest"
   ]
  },
  {
   "cell_type": "code",
   "execution_count": 27,
   "metadata": {
    "ExecuteTime": {
     "end_time": "2023-10-16T19:36:05.659524Z",
     "start_time": "2023-10-16T19:36:05.637709Z"
    },
    "colab": {
     "base_uri": "https://localhost:8080/"
    },
    "id": "emu8Rg1X3-C3",
    "outputId": "05a03c51-621f-4926-824f-bb57f77c5019"
   },
   "outputs": [
    {
     "data": {
      "text/plain": [
       "0    35345\n",
       "1      930\n",
       "Name: repeated_guest, dtype: int64"
      ]
     },
     "execution_count": 27,
     "metadata": {},
     "output_type": "execute_result"
    }
   ],
   "source": [
    "# Count the occurrences of 'repeated_guest' values.\n",
    "df['repeated_guest'].value_counts()"
   ]
  },
  {
   "cell_type": "code",
   "execution_count": 28,
   "metadata": {
    "ExecuteTime": {
     "end_time": "2023-10-16T19:36:05.849125Z",
     "start_time": "2023-10-16T19:36:05.664273Z"
    }
   },
   "outputs": [
    {
     "data": {
      "text/plain": [
       "Text(0.5, 1.0, 'Repeated Guest by Booking Status')"
      ]
     },
     "execution_count": 28,
     "metadata": {},
     "output_type": "execute_result"
    }
   ],
   "source": [
    "# Create a stacked bar chart to visualize the relationship between repeated guest status and booking outcomes.\n",
    "pd.crosstab(df['repeated_guest'], df['booking_status']).plot(kind='bar', stacked=True)\n",
    "plt.ylabel('Frequency')\n",
    "plt.title('Repeated Guest by Booking Status')"
   ]
  },
  {
   "cell_type": "code",
   "execution_count": 29,
   "metadata": {
    "ExecuteTime": {
     "end_time": "2023-10-16T19:36:06.000624Z",
     "start_time": "2023-10-16T19:36:05.858482Z"
    }
   },
   "outputs": [
    {
     "name": "stderr",
     "output_type": "stream",
     "text": [
      "/var/folders/b8/4ntn3_wd1wg59r0lmbfgfmwc0000gn/T/ipykernel_32933/4240903187.py:9: UserWarning: Matplotlib is currently using agg, which is a non-GUI backend, so cannot show the figure.\n",
      "  plt.show()\n"
     ]
    }
   ],
   "source": [
    "# Create normalized bar charts to illustrate the proportion of booking statuses for repeated and non-repeated guests.\n",
    "cross_tab = pd.crosstab(index=df['repeated_guest'], columns=df['booking_status'])\n",
    "cross_tab = round(cross_tab.div(cross_tab.sum(0), axis=1)*100,1)\n",
    "norm_cross_tab=cross_tab.div(cross_tab.sum(axis=1), axis=0)\n",
    "norm_cross_tab.plot(kind='bar', stacked=True)\n",
    "plt.title(f\"Normalized Repeated Guest by Booking Status\")\n",
    "plt.xticks(rotation=45)\n",
    "plt.ylabel('Proportion')\n",
    "plt.show()"
   ]
  },
  {
   "cell_type": "markdown",
   "metadata": {},
   "source": [
    "## The code analyzes the relationship between the 'repeated_guest' variable and booking statuses. It starts by counting the occurrences of two values: 0 (indicating a non-repeated guest) and 1 (indicating a repeated guest). It then creates a stacked bar chart to visually represent the distribution of booking statuses for both types of guests. Notably, the '0' category, representing non-repeated guests, has a significantly higher proportion of \"Canceled\" bookings compared to the '1' category, indicating that non-repeated guests tend to have a higher rate of cancellations. "
   ]
  },
  {
   "cell_type": "markdown",
   "metadata": {},
   "source": [
    "#### Arrival Month"
   ]
  },
  {
   "cell_type": "code",
   "execution_count": 30,
   "metadata": {
    "ExecuteTime": {
     "end_time": "2023-10-16T19:36:06.021107Z",
     "start_time": "2023-10-16T19:36:06.009326Z"
    },
    "colab": {
     "base_uri": "https://localhost:8080/"
    },
    "id": "yf1O57ql4ErG",
    "outputId": "61915d23-3683-43d0-a57c-f161adf1b650"
   },
   "outputs": [
    {
     "data": {
      "text/plain": [
       "10    5317\n",
       "9     4611\n",
       "8     3813\n",
       "6     3203\n",
       "12    3021\n",
       "11    2980\n",
       "7     2920\n",
       "4     2736\n",
       "5     2598\n",
       "3     2358\n",
       "2     1704\n",
       "1     1014\n",
       "Name: arrival_month, dtype: int64"
      ]
     },
     "execution_count": 30,
     "metadata": {},
     "output_type": "execute_result"
    }
   ],
   "source": [
    "# Count the occurrences of 'arrival_month' values.\n",
    "df['arrival_month'].value_counts()"
   ]
  },
  {
   "cell_type": "code",
   "execution_count": 31,
   "metadata": {
    "ExecuteTime": {
     "end_time": "2023-10-16T19:36:06.372751Z",
     "start_time": "2023-10-16T19:36:06.028933Z"
    }
   },
   "outputs": [
    {
     "data": {
      "text/plain": [
       "Text(0.5, 1.0, 'Arrival Month by Booking Status')"
      ]
     },
     "execution_count": 31,
     "metadata": {},
     "output_type": "execute_result"
    }
   ],
   "source": [
    "# Create a stacked bar chart to visualize the relationship between arrival month and booking status.\n",
    "pd.crosstab(df['arrival_month'], df['booking_status']).plot(kind='bar', stacked=True)\n",
    "plt.ylabel('Frequency')\n",
    "plt.title('Arrival Month by Booking Status')"
   ]
  },
  {
   "cell_type": "code",
   "execution_count": 32,
   "metadata": {
    "ExecuteTime": {
     "end_time": "2023-10-16T19:36:06.609856Z",
     "start_time": "2023-10-16T19:36:06.393350Z"
    }
   },
   "outputs": [
    {
     "name": "stderr",
     "output_type": "stream",
     "text": [
      "/var/folders/b8/4ntn3_wd1wg59r0lmbfgfmwc0000gn/T/ipykernel_32933/2561124722.py:9: UserWarning: Matplotlib is currently using agg, which is a non-GUI backend, so cannot show the figure.\n",
      "  plt.show()\n"
     ]
    }
   ],
   "source": [
    "# Create a normalized bar chart to visualize the proportion of booking statuses based on arrival months.\n",
    "cross_tab = pd.crosstab(index=df['arrival_month'], columns=df['booking_status'])\n",
    "cross_tab = round(cross_tab.div(cross_tab.sum(0), axis=1)*100,1)\n",
    "norm_cross_tab=cross_tab.div(cross_tab.sum(axis=1), axis=0)\n",
    "norm_cross_tab.plot(kind='bar', stacked=True)\n",
    "plt.title(f\"Normalized Arrival Month by Booking Status\")\n",
    "plt.xticks(rotation=45)\n",
    "plt.ylabel('Proportion')\n",
    "plt.show()"
   ]
  },
  {
   "cell_type": "markdown",
   "metadata": {},
   "source": [
    "## The normalized bar chart illustrates the proportions of booking statuses across different arrival months. It's evident from the graph that the months of 7, 6, and 8 have a higher proportion of 'Canceled' bookings, indicating a greater likelihood of cancellations during these periods. In contrast, the months 1, 12, and 11 show a lower proportion of 'Canceled' bookings, implying a reduced rate of cancellations during those months. This analysis sheds light on the seasonal variations in booking cancellations, providing insights that can be valuable for optimizing strategies and services throughout the year."
   ]
  },
  {
   "cell_type": "markdown",
   "metadata": {},
   "source": [
    "#### Meal Plan"
   ]
  },
  {
   "cell_type": "code",
   "execution_count": 33,
   "metadata": {
    "ExecuteTime": {
     "end_time": "2023-10-16T19:36:06.634286Z",
     "start_time": "2023-10-16T19:36:06.617555Z"
    },
    "colab": {
     "base_uri": "https://localhost:8080/"
    },
    "id": "931ZWZvO4K1E",
    "outputId": "b68f10ec-cbce-48d8-fe54-8887e37004bc"
   },
   "outputs": [
    {
     "data": {
      "text/plain": [
       "Meal Plan 1     27835\n",
       "Not Selected     5130\n",
       "Meal Plan 2      3305\n",
       "Meal Plan 3         5\n",
       "Name: type_of_meal_plan, dtype: int64"
      ]
     },
     "execution_count": 33,
     "metadata": {},
     "output_type": "execute_result"
    }
   ],
   "source": [
    "# Count the occurrences of 'type_of_meal_plan' values.\n",
    "df['type_of_meal_plan'].value_counts()"
   ]
  },
  {
   "cell_type": "code",
   "execution_count": 34,
   "metadata": {
    "ExecuteTime": {
     "end_time": "2023-10-16T19:36:06.815987Z",
     "start_time": "2023-10-16T19:36:06.642013Z"
    }
   },
   "outputs": [
    {
     "data": {
      "text/plain": [
       "Text(0.5, 1.0, 'Meal Plan by Booking Status')"
      ]
     },
     "execution_count": 34,
     "metadata": {},
     "output_type": "execute_result"
    }
   ],
   "source": [
    "# Create a stacked bar chart to visualize the relationship between meal plans and booking status.\n",
    "pd.crosstab(df['type_of_meal_plan'], df['booking_status']).plot(kind='bar', stacked=True)\n",
    "plt.ylabel('Frequency')\n",
    "plt.title('Meal Plan by Booking Status')"
   ]
  },
  {
   "cell_type": "code",
   "execution_count": 35,
   "metadata": {
    "ExecuteTime": {
     "end_time": "2023-10-16T19:36:06.934733Z",
     "start_time": "2023-10-16T19:36:06.819817Z"
    }
   },
   "outputs": [
    {
     "name": "stderr",
     "output_type": "stream",
     "text": [
      "/var/folders/b8/4ntn3_wd1wg59r0lmbfgfmwc0000gn/T/ipykernel_32933/2181298713.py:9: UserWarning: Matplotlib is currently using agg, which is a non-GUI backend, so cannot show the figure.\n",
      "  plt.show()\n"
     ]
    }
   ],
   "source": [
    "# Create a normalized bar chart to visualize the proportion of booking statuses based on meal plans.\n",
    "cross_tab = pd.crosstab(index=df['type_of_meal_plan'], columns=df['booking_status'])\n",
    "cross_tab = round(cross_tab.div(cross_tab.sum(0), axis=1)*100,1)\n",
    "norm_cross_tab=cross_tab.div(cross_tab.sum(axis=1), axis=0)\n",
    "norm_cross_tab.plot(kind='bar', stacked=True)\n",
    "plt.title(f\"Normalized Meal Plan by Booking Status\")\n",
    "plt.xticks(rotation=45)\n",
    "plt.ylabel('Proportion')\n",
    "plt.show()"
   ]
  },
  {
   "cell_type": "markdown",
   "metadata": {},
   "source": [
    "## The analysis of meal plan preferences in the dataset reveals that 'Meal Plan 1' is the most popular choice with 27,835 occurrences, followed by 'Not Selected' at 5,130, 'Meal Plan 2' at 3,305, and 'Meal Plan 3' with just 5 occurrences. The normalized bar chart then provides a visual representation of the proportions of booking statuses for each meal plan. Interestingly, 'Meal Plan 3' shows no 'Canceled' bookings, while 'Meal Plan 2' has the highest proportion of 'Canceled' bookings compared to 'Meal Plan 1' and 'Not Selected.' This suggests that 'Meal Plan 2' may have a higher cancellation rate than the other options, although it's essential to note that 'Meal Plan 3' has very limited data, making any conclusions about its cancellation rate less reliable."
   ]
  },
  {
   "cell_type": "markdown",
   "metadata": {},
   "source": [
    "#### Room Type"
   ]
  },
  {
   "cell_type": "code",
   "execution_count": 36,
   "metadata": {
    "ExecuteTime": {
     "end_time": "2023-10-16T19:36:06.948035Z",
     "start_time": "2023-10-16T19:36:06.938045Z"
    },
    "colab": {
     "base_uri": "https://localhost:8080/"
    },
    "id": "6f8RjoIE4Klu",
    "outputId": "8bcaa394-707a-4898-8020-8c323681432c"
   },
   "outputs": [
    {
     "data": {
      "text/plain": [
       "Room_Type 1    28130\n",
       "Room_Type 4     6057\n",
       "Room_Type 6      966\n",
       "Room_Type 2      692\n",
       "Room_Type 5      265\n",
       "Room_Type 7      158\n",
       "Room_Type 3        7\n",
       "Name: room_type_reserved, dtype: int64"
      ]
     },
     "execution_count": 36,
     "metadata": {},
     "output_type": "execute_result"
    }
   ],
   "source": [
    "# Count the occurrences of 'room_type_reserved' values.\n",
    "df['room_type_reserved'].value_counts()"
   ]
  },
  {
   "cell_type": "code",
   "execution_count": 37,
   "metadata": {
    "ExecuteTime": {
     "end_time": "2023-10-16T19:36:07.111208Z",
     "start_time": "2023-10-16T19:36:06.951586Z"
    }
   },
   "outputs": [
    {
     "data": {
      "text/plain": [
       "Text(0.5, 1.0, 'Room Type by Booking Status')"
      ]
     },
     "execution_count": 37,
     "metadata": {},
     "output_type": "execute_result"
    }
   ],
   "source": [
    "# Generate a stacked bar chart to depict the correlation between room types and booking status.\n",
    "pd.crosstab(df['room_type_reserved'], df['booking_status']).plot(kind='bar', stacked=True)\n",
    "plt.ylabel('Frequency')\n",
    "plt.title('Room Type by Booking Status')"
   ]
  },
  {
   "cell_type": "code",
   "execution_count": 38,
   "metadata": {
    "ExecuteTime": {
     "end_time": "2023-10-16T19:36:07.240198Z",
     "start_time": "2023-10-16T19:36:07.114780Z"
    }
   },
   "outputs": [
    {
     "name": "stderr",
     "output_type": "stream",
     "text": [
      "/var/folders/b8/4ntn3_wd1wg59r0lmbfgfmwc0000gn/T/ipykernel_32933/1628477.py:9: UserWarning: Matplotlib is currently using agg, which is a non-GUI backend, so cannot show the figure.\n",
      "  plt.show()\n"
     ]
    }
   ],
   "source": [
    "# Creating a normalized bar chart to visualize the proportion of booking statuses within different room types.\n",
    "cross_tab = pd.crosstab(index=df['room_type_reserved'], columns=df['booking_status'])\n",
    "cross_tab = round(cross_tab.div(cross_tab.sum(0), axis=1)*100,1)\n",
    "norm_cross_tab=cross_tab.div(cross_tab.sum(axis=1), axis=0)\n",
    "norm_cross_tab.plot(kind='bar', stacked=True)\n",
    "plt.title(f\"Normalized Room Type by Booking Status\")\n",
    "plt.xticks(rotation=45)\n",
    "plt.ylabel('Proportion')\n",
    "plt.show()"
   ]
  },
  {
   "cell_type": "code",
   "execution_count": 39,
   "metadata": {
    "ExecuteTime": {
     "end_time": "2023-10-16T19:36:07.253150Z",
     "start_time": "2023-10-16T19:36:07.244112Z"
    },
    "colab": {
     "base_uri": "https://localhost:8080/"
    },
    "id": "lEqtGWLs4KJH",
    "outputId": "bd9cef24-202a-4e21-86dd-495a9564354d"
   },
   "outputs": [
    {
     "data": {
      "text/plain": [
       "Online           23214\n",
       "Offline          10528\n",
       "Corporate         2017\n",
       "Complementary      391\n",
       "Aviation           125\n",
       "Name: market_segment_type, dtype: int64"
      ]
     },
     "execution_count": 39,
     "metadata": {},
     "output_type": "execute_result"
    }
   ],
   "source": [
    "# Count the occurrences of 'market_segment_type' values.\n",
    "df['market_segment_type'].value_counts()"
   ]
  },
  {
   "cell_type": "code",
   "execution_count": 40,
   "metadata": {
    "ExecuteTime": {
     "end_time": "2023-10-16T19:36:07.415641Z",
     "start_time": "2023-10-16T19:36:07.256458Z"
    }
   },
   "outputs": [
    {
     "data": {
      "text/plain": [
       "Text(0.5, 1.0, 'Market Segment by Booking Status')"
      ]
     },
     "execution_count": 40,
     "metadata": {},
     "output_type": "execute_result"
    }
   ],
   "source": [
    "# Creating a stacked bar chart to visualize the relationship between market segments and booking status.\n",
    "pd.crosstab(df['market_segment_type'], df['booking_status']).plot(kind='bar', stacked=True)\n",
    "plt.ylabel('Frequency')\n",
    "plt.title('Market Segment by Booking Status')"
   ]
  },
  {
   "cell_type": "code",
   "execution_count": 41,
   "metadata": {
    "ExecuteTime": {
     "end_time": "2023-10-16T19:36:07.633930Z",
     "start_time": "2023-10-16T19:36:07.419951Z"
    }
   },
   "outputs": [
    {
     "name": "stderr",
     "output_type": "stream",
     "text": [
      "/var/folders/b8/4ntn3_wd1wg59r0lmbfgfmwc0000gn/T/ipykernel_32933/499624389.py:9: UserWarning: Matplotlib is currently using agg, which is a non-GUI backend, so cannot show the figure.\n",
      "  plt.show()\n"
     ]
    }
   ],
   "source": [
    "# Create normalized bar charts to visualize the proportion of booking statuses within different market segments.\n",
    "cross_tab = pd.crosstab(index=df['market_segment_type'], columns=df['booking_status'])\n",
    "cross_tab = round(cross_tab.div(cross_tab.sum(0), axis=1)*100,1)\n",
    "norm_cross_tab=cross_tab.div(cross_tab.sum(axis=1), axis=0)\n",
    "norm_cross_tab.plot(kind='bar', stacked=True)\n",
    "plt.title(f\"Normalized Market Segment by Booking Status\")\n",
    "plt.xticks(rotation=45)\n",
    "plt.ylabel('Proportion')\n",
    "plt.show()"
   ]
  },
  {
   "cell_type": "markdown",
   "metadata": {},
   "source": [
    "## The code examines market segment types and their relationship with booking statuses. 'Online' is the most common with 23,214 occurrences, followed by 'Aviation' with the highest proportion of cancellations. 'Complementary' has no cancellations, indicating a unique pattern."
   ]
  },
  {
   "cell_type": "markdown",
   "metadata": {
    "id": "QPlvXuBD6nco"
   },
   "source": [
    "## Data Preparation"
   ]
  },
  {
   "cell_type": "code",
   "execution_count": 42,
   "metadata": {
    "ExecuteTime": {
     "end_time": "2023-10-16T19:36:07.648847Z",
     "start_time": "2023-10-16T19:36:07.637144Z"
    },
    "colab": {
     "base_uri": "https://localhost:8080/",
     "height": 554
    },
    "id": "N7RBMD0H6qgR",
    "outputId": "49a598b7-a4bb-4267-e76f-d12abce36890"
   },
   "outputs": [],
   "source": [
    "# Drop non-predictors\n",
    "df=df.drop(['Booking_ID'],axis=1)"
   ]
  },
  {
   "cell_type": "code",
   "execution_count": 43,
   "metadata": {
    "ExecuteTime": {
     "end_time": "2023-10-16T19:36:07.707860Z",
     "start_time": "2023-10-16T19:36:07.652781Z"
    }
   },
   "outputs": [
    {
     "name": "stdout",
     "output_type": "stream",
     "text": [
      "Categorical attributes \n",
      " Index(['type_of_meal_plan', 'required_car_parking_space', 'room_type_reserved',\n",
      "       'arrival_year', 'arrival_month', 'market_segment_type',\n",
      "       'repeated_guest', 'booking_status'],\n",
      "      dtype='object')\n",
      "\n",
      " Numerical attributes \n",
      " Index(['no_of_adults', 'no_of_children', 'no_of_weekend_nights',\n",
      "       'no_of_week_nights', 'lead_time', 'arrival_date',\n",
      "       'no_of_previous_cancellations', 'no_of_previous_bookings_not_canceled',\n",
      "       'avg_price_per_room', 'no_of_special_requests'],\n",
      "      dtype='object')\n"
     ]
    }
   ],
   "source": [
    "# Convert columns to correct datatypes \n",
    "\n",
    "# Categorical='object'/'category'\n",
    "# Numerical='int'/'float'\n",
    "df['type_of_meal_plan']=df['type_of_meal_plan'].astype('category')\n",
    "df['required_car_parking_space']=df['required_car_parking_space'].astype('category')\n",
    "df['room_type_reserved']=df['room_type_reserved'].astype('category')\n",
    "df['arrival_year']=df['arrival_year'].astype('category')\n",
    "df['arrival_month']=df['arrival_month'].astype('category')\n",
    "df['market_segment_type']=df['market_segment_type'].astype('category')\n",
    "df['repeated_guest']=df['repeated_guest'].astype('category')\n",
    "df['booking_status']=df['booking_status'].astype('category')\n",
    "\n",
    "# Show all categorical data\n",
    "print('Categorical attributes \\n',df.select_dtypes(include=['category']).columns)\n",
    "\n",
    "# Show all numerical data\n",
    "print('\\n Numerical attributes \\n',df.select_dtypes(include=['integer','float']).columns)"
   ]
  },
  {
   "cell_type": "markdown",
   "metadata": {},
   "source": [
    "## In the Data Preparation section, the code first drops the non-predictor 'Booking_ID' column. It then corrects categorical attributes and identifies numerical ones. Finally, it displays separate lists of the categorical and numerical attributes in the dataset. These steps ensure the dataset is well-prepared for analysis and modeling."
   ]
  },
  {
   "cell_type": "markdown",
   "metadata": {},
   "source": [
    "# Feature Engineering\n",
    "\n",
    "1. Calculate cancellation rate based on the number of previous cancellations out of all bookings"
   ]
  },
  {
   "cell_type": "code",
   "execution_count": 44,
   "metadata": {
    "ExecuteTime": {
     "end_time": "2023-10-16T19:36:07.737899Z",
     "start_time": "2023-10-16T19:36:07.716405Z"
    }
   },
   "outputs": [
    {
     "data": {
      "text/plain": [
       "0.000000    592\n",
       "1.000000    118\n",
       "0.166667     16\n",
       "0.200000     15\n",
       "0.333333     15\n",
       "           ... \n",
       "0.089286      1\n",
       "0.120000      1\n",
       "0.075000      1\n",
       "0.078947      1\n",
       "0.190476      1\n",
       "Name: cancellation_rate, Length: 81, dtype: int64"
      ]
     },
     "execution_count": 44,
     "metadata": {},
     "output_type": "execute_result"
    }
   ],
   "source": [
    "# Calculate the cancellation rate based on previous cancellations and bookings.\n",
    "df['cancellation_rate']=df['no_of_previous_cancellations']/((df['no_of_previous_cancellations'])+(df['no_of_previous_bookings_not_canceled']))\n",
    "df['cancellation_rate']=df['cancellation_rate'].astype('float64')\n",
    "df['cancellation_rate'].value_counts()"
   ]
  },
  {
   "cell_type": "markdown",
   "metadata": {},
   "source": [
    "## The cancellation rate uses historic bookings to calculate the guest's overall rate of bookings fulfilled, where 0 = a customer has fulfilled every booking and 1 = a customer has canceled every booking. "
   ]
  },
  {
   "cell_type": "code",
   "execution_count": 45,
   "metadata": {
    "ExecuteTime": {
     "end_time": "2023-10-16T19:36:07.877064Z",
     "start_time": "2023-10-16T19:36:07.746393Z"
    }
   },
   "outputs": [
    {
     "name": "stderr",
     "output_type": "stream",
     "text": [
      "/var/folders/b8/4ntn3_wd1wg59r0lmbfgfmwc0000gn/T/ipykernel_32933/182662953.py:14: UserWarning: Matplotlib is currently using agg, which is a non-GUI backend, so cannot show the figure.\n",
      "  plt.show()\n"
     ]
    }
   ],
   "source": [
    "# Extract cancellation rates for both canceled and not-canceled bookings.\n",
    "y1 = list(df[df['booking_status'] == 'Canceled']['cancellation_rate'])\n",
    "y0 = list(df[df['booking_status'] == 'Not_Canceled']['cancellation_rate'])\n",
    "\n",
    "# Define labels for the two categories.\n",
    "names = ['Fulfilled','Cancelled']\n",
    "\n",
    "# Create a histogram to visualize the distribution of cancellation rates by cancellation status.\n",
    "plt.hist([y0,y1], label=names, stacked = True)\n",
    "plt.xlabel('Cancellation Rate')\n",
    "plt.ylabel('Frequency')\n",
    "plt.title('Cancellation Rate by Cancellation Status')\n",
    "plt.legend(loc='upper right')\n",
    "plt.show()"
   ]
  },
  {
   "cell_type": "markdown",
   "metadata": {},
   "source": [
    "## In the \"Feature Engineering\" section, the code calculates and visualizes cancellation rates for each booking. It converts these rates to 'float64' data type and presents a histogram showing the distribution of cancellation rates based on cancellation status, where 'Online' stands out with the highest frequency among 'Not_Canceled' bookings and the highest count in 'Canceled' bookings. This feature engineering step introduces the 'cancellation_rate' variable, measuring booking cancellation likelihood based on historical data."
   ]
  },
  {
   "cell_type": "markdown",
   "metadata": {},
   "source": [
    "2. Get full arrival date by combining year, month, and day"
   ]
  },
  {
   "cell_type": "code",
   "execution_count": 46,
   "metadata": {
    "ExecuteTime": {
     "end_time": "2023-10-16T19:36:07.911503Z",
     "start_time": "2023-10-16T19:36:07.880189Z"
    }
   },
   "outputs": [],
   "source": [
    "# Combine year, month, day into 1 column in datetime format ('full_arrival_date')\n",
    "df['day']=df['arrival_date'].copy()\n",
    "df['month']=df['arrival_month'].copy()\n",
    "df['year']=df['arrival_year'].copy()\n",
    "df['full_arrival_date']=pd.to_datetime(df[['year','month','day']],format='%Y-%M-%D',errors='coerce')"
   ]
  },
  {
   "cell_type": "markdown",
   "metadata": {},
   "source": [
    "3. Get total number of guests"
   ]
  },
  {
   "cell_type": "code",
   "execution_count": 47,
   "metadata": {
    "ExecuteTime": {
     "end_time": "2023-10-16T19:36:07.931783Z",
     "start_time": "2023-10-16T19:36:07.919346Z"
    }
   },
   "outputs": [],
   "source": [
    "# Calculate the total number of guests by summing the number of adults and children.\n",
    "df['total_guests']=df['no_of_adults']+df['no_of_children']"
   ]
  },
  {
   "cell_type": "code",
   "execution_count": 48,
   "metadata": {
    "ExecuteTime": {
     "end_time": "2023-10-16T19:36:08.036484Z",
     "start_time": "2023-10-16T19:36:07.936076Z"
    }
   },
   "outputs": [
    {
     "name": "stderr",
     "output_type": "stream",
     "text": [
      "/var/folders/b8/4ntn3_wd1wg59r0lmbfgfmwc0000gn/T/ipykernel_32933/1689863087.py:14: UserWarning: Matplotlib is currently using agg, which is a non-GUI backend, so cannot show the figure.\n",
      "  plt.show()\n"
     ]
    }
   ],
   "source": [
    "# Extract the total number of guests for both canceled and not-canceled bookings.\n",
    "y1 = list(df[df['booking_status'] == 'Canceled']['total_guests'])\n",
    "y0 = list(df[df['booking_status'] == 'Not_Canceled']['total_guests'])\n",
    "\n",
    "# Define labels for the two categories.\n",
    "names = ['Fulfilled','Cancelled']\n",
    "\n",
    "# Create a histogram to visualize the distribution of total guests by cancellation status.\n",
    "plt.hist([y0,y1], label=names, stacked = True)\n",
    "plt.xlabel('Total Guests')\n",
    "plt.ylabel('Frequency')\n",
    "plt.title('Total Guests by Cancellation Status')\n",
    "plt.legend(loc='upper right')\n",
    "plt.show()"
   ]
  },
  {
   "cell_type": "code",
   "execution_count": 49,
   "metadata": {
    "ExecuteTime": {
     "end_time": "2023-10-16T19:36:08.175498Z",
     "start_time": "2023-10-16T19:36:08.039310Z"
    }
   },
   "outputs": [
    {
     "data": {
      "text/plain": [
       "Text(0.5, 1.0, 'Total Guests by Booking Status')"
      ]
     },
     "execution_count": 49,
     "metadata": {},
     "output_type": "execute_result"
    }
   ],
   "source": [
    "pd.crosstab(df['total_guests'], df['booking_status'], normalize = 'index').plot(kind='bar', stacked=True)\n",
    "plt.ylabel('Frequency')\n",
    "plt.title('Total Guests by Booking Status')"
   ]
  },
  {
   "cell_type": "markdown",
   "metadata": {},
   "source": [
    "4. Get total number of nights for each booking"
   ]
  },
  {
   "cell_type": "code",
   "execution_count": 50,
   "metadata": {
    "ExecuteTime": {
     "end_time": "2023-10-16T19:36:08.186968Z",
     "start_time": "2023-10-16T19:36:08.179992Z"
    }
   },
   "outputs": [],
   "source": [
    "# Calculate the total number of nights for each reservation by adding the weekend nights and week nights.\n",
    "df['total_nights']=df['no_of_weekend_nights']+df['no_of_week_nights']"
   ]
  },
  {
   "cell_type": "code",
   "execution_count": 51,
   "metadata": {
    "ExecuteTime": {
     "end_time": "2023-10-16T19:36:08.292963Z",
     "start_time": "2023-10-16T19:36:08.190265Z"
    }
   },
   "outputs": [
    {
     "name": "stderr",
     "output_type": "stream",
     "text": [
      "/var/folders/b8/4ntn3_wd1wg59r0lmbfgfmwc0000gn/T/ipykernel_32933/1607628421.py:14: UserWarning: Matplotlib is currently using agg, which is a non-GUI backend, so cannot show the figure.\n",
      "  plt.show()\n"
     ]
    }
   ],
   "source": [
    "# Extract the total number of nights for both canceled and not-canceled bookings.\n",
    "y1 = list(df[df['booking_status'] == 'Canceled']['total_nights'])\n",
    "y0 = list(df[df['booking_status'] == 'Not_Canceled']['total_nights'])\n",
    "\n",
    "# Define labels for the two categories.\n",
    "names = ['Fulfilled','Cancelled']\n",
    "\n",
    "# Create a histogram to visualize the distribution of total nights by cancellation status.\n",
    "plt.hist([y0,y1], label=names, stacked = True)\n",
    "plt.xlabel('Total Nights')\n",
    "plt.ylabel('Frequency')\n",
    "plt.title('Total Nights by Cancellation Status')\n",
    "plt.legend(loc='upper right')\n",
    "plt.show()"
   ]
  },
  {
   "cell_type": "code",
   "execution_count": 52,
   "metadata": {
    "ExecuteTime": {
     "end_time": "2023-10-16T19:36:08.512355Z",
     "start_time": "2023-10-16T19:36:08.297630Z"
    }
   },
   "outputs": [
    {
     "data": {
      "text/plain": [
       "Text(0.5, 1.0, 'Nights by Booking Status')"
      ]
     },
     "execution_count": 52,
     "metadata": {},
     "output_type": "execute_result"
    }
   ],
   "source": [
    "pd.crosstab(df['total_nights'], df['booking_status'], normalize = 'index').plot(kind='bar', stacked=True)\n",
    "plt.ylabel('Frequency')\n",
    "plt.title('Nights by Booking Status')"
   ]
  },
  {
   "cell_type": "markdown",
   "metadata": {},
   "source": [
    "5. Get seasonality from arrival month"
   ]
  },
  {
   "cell_type": "code",
   "execution_count": 53,
   "metadata": {
    "ExecuteTime": {
     "end_time": "2023-10-16T19:36:08.536165Z",
     "start_time": "2023-10-16T19:36:08.515727Z"
    }
   },
   "outputs": [
    {
     "data": {
      "text/plain": [
       "Autumn    12908\n",
       "Summer     9936\n",
       "Spring     7692\n",
       "Winter     5739\n",
       "Name: season, dtype: int64"
      ]
     },
     "execution_count": 53,
     "metadata": {},
     "output_type": "execute_result"
    }
   ],
   "source": [
    "# Define a mapping function to assign seasons based on arrival month.\n",
    "def map_to_season(month):\n",
    "    if month in [12,1,2]:\n",
    "        return 'Winter'\n",
    "    elif month in [3,4,5]:\n",
    "        return 'Spring'\n",
    "    elif month in [6,7,8]:\n",
    "        return 'Summer'\n",
    "    elif month in [9,10,11]:\n",
    "        return 'Autumn'\n",
    "    else:\n",
    "        return 'Unknown'  # Handle any unexpected values\n",
    "\n",
    "# Apply mapping function to create a new 'season' column\n",
    "df['season'] = df['arrival_month'].apply(map_to_season)\n",
    "df['season']=df['season'].astype('category')\n",
    "df['season'].value_counts()"
   ]
  },
  {
   "cell_type": "code",
   "execution_count": 54,
   "metadata": {
    "ExecuteTime": {
     "end_time": "2023-10-16T19:36:08.681523Z",
     "start_time": "2023-10-16T19:36:08.541425Z"
    }
   },
   "outputs": [
    {
     "data": {
      "text/plain": [
       "Text(0.5, 1.0, 'Season by Booking Status')"
      ]
     },
     "execution_count": 54,
     "metadata": {},
     "output_type": "execute_result"
    }
   ],
   "source": [
    "# Create a stacked bar chart to visualize the relationship between seasons and booking status.\n",
    "pd.crosstab(df['season'], df['booking_status']).plot(kind='bar', stacked=True)\n",
    "plt.ylabel('Frequency')\n",
    "plt.title('Season by Booking Status')"
   ]
  },
  {
   "cell_type": "code",
   "execution_count": 55,
   "metadata": {
    "ExecuteTime": {
     "end_time": "2023-10-16T19:36:08.796863Z",
     "start_time": "2023-10-16T19:36:08.685953Z"
    }
   },
   "outputs": [
    {
     "name": "stderr",
     "output_type": "stream",
     "text": [
      "/var/folders/b8/4ntn3_wd1wg59r0lmbfgfmwc0000gn/T/ipykernel_32933/96474307.py:11: UserWarning: Matplotlib is currently using agg, which is a non-GUI backend, so cannot show the figure.\n",
      "  plt.show()\n"
     ]
    }
   ],
   "source": [
    "# Create normalized bar charts to visualize the proportion of booking statuses within different seasons.\n",
    "cross_tab = pd.crosstab(index=df['season'], columns=df['booking_status'])\n",
    "cross_tab = round(cross_tab.div(cross_tab.sum(0), axis=1)*100,1)\n",
    "# Create a stacked bar chart to display the normalized booking status by seasonality.\n",
    "norm_cross_tab=cross_tab.div(cross_tab.sum(axis=1), axis=0)\n",
    "norm_cross_tab.plot(kind='bar', stacked=True)\n",
    "# Set the chart title and adjust the x-axis labels for readability and label the y-axis to indicate proportion\n",
    "plt.title(f\"Normalized Seasonality by Booking Status\")\n",
    "plt.xticks(rotation=45)\n",
    "plt.ylabel('Proportion')\n",
    "plt.show()"
   ]
  },
  {
   "cell_type": "markdown",
   "metadata": {},
   "source": [
    "Past guests have a lower cancellation rate"
   ]
  },
  {
   "cell_type": "markdown",
   "metadata": {},
   "source": [
    "6. Past Cancellation (0- No, 1-Yes)"
   ]
  },
  {
   "cell_type": "code",
   "execution_count": 56,
   "metadata": {
    "ExecuteTime": {
     "end_time": "2023-10-16T19:36:08.810995Z",
     "start_time": "2023-10-16T19:36:08.800445Z"
    },
    "colab": {
     "base_uri": "https://localhost:8080/"
    },
    "id": "eOVdbPLZBcpJ",
    "outputId": "84e356db-c067-40a3-ac73-51fede05f69c"
   },
   "outputs": [
    {
     "data": {
      "text/plain": [
       "0     35937\n",
       "1       198\n",
       "2        46\n",
       "3        43\n",
       "11       25\n",
       "5        11\n",
       "4        10\n",
       "13        4\n",
       "6         1\n",
       "Name: no_of_previous_cancellations, dtype: int64"
      ]
     },
     "execution_count": 56,
     "metadata": {},
     "output_type": "execute_result"
    }
   ],
   "source": [
    "# Show value counts\n",
    "df['no_of_previous_cancellations'].value_counts()\n"
   ]
  },
  {
   "cell_type": "markdown",
   "metadata": {},
   "source": [
    "Most guests did not have a previous cancellation. We will convert this numerical variable to a binary variable where:\n",
    "\n",
    "    * 0 = guest did not have a previous cancellation\n",
    "    * 1 = guest had at least 1 previous cancellation"
   ]
  },
  {
   "cell_type": "code",
   "execution_count": 57,
   "metadata": {
    "ExecuteTime": {
     "end_time": "2023-10-16T19:36:08.850458Z",
     "start_time": "2023-10-16T19:36:08.815450Z"
    }
   },
   "outputs": [],
   "source": [
    "# Make binary; 0=no past cancellations, 1=at least 1 past cancellation\n",
    "df['past_cancellation'] = df['no_of_previous_cancellations'].apply(lambda x: 1 if x > 0 else 0)\n",
    "df['past_cancellation']=df['past_cancellation'].astype('category')"
   ]
  },
  {
   "cell_type": "code",
   "execution_count": 58,
   "metadata": {
    "ExecuteTime": {
     "end_time": "2023-10-16T19:36:08.989500Z",
     "start_time": "2023-10-16T19:36:08.859209Z"
    }
   },
   "outputs": [
    {
     "data": {
      "text/plain": [
       "Text(0.5, 1.0, 'Past Cancellation by Booking Status')"
      ]
     },
     "execution_count": 58,
     "metadata": {},
     "output_type": "execute_result"
    }
   ],
   "source": [
    "# Create a stacked bar chart to visualize the relationship between past cancellations and booking status.\n",
    "pd.crosstab(df['past_cancellation'], df['booking_status']).plot(kind='bar', stacked=True)\n",
    "plt.ylabel('Frequency')\n",
    "plt.title('Past Cancellation by Booking Status')"
   ]
  },
  {
   "cell_type": "code",
   "execution_count": 59,
   "metadata": {
    "ExecuteTime": {
     "end_time": "2023-10-16T19:36:09.097899Z",
     "start_time": "2023-10-16T19:36:08.994826Z"
    }
   },
   "outputs": [
    {
     "name": "stderr",
     "output_type": "stream",
     "text": [
      "/var/folders/b8/4ntn3_wd1wg59r0lmbfgfmwc0000gn/T/ipykernel_32933/2349143697.py:9: UserWarning: Matplotlib is currently using agg, which is a non-GUI backend, so cannot show the figure.\n",
      "  plt.show()\n"
     ]
    }
   ],
   "source": [
    "# Create normalized bar charts to visualize the proportion of booking statuses based on past cancellations.\n",
    "cross_tab = pd.crosstab(index=df['past_cancellation'], columns=df['booking_status'])\n",
    "cross_tab = round(cross_tab.div(cross_tab.sum(0), axis=1)*100,1)\n",
    "norm_cross_tab=cross_tab.div(cross_tab.sum(axis=1), axis=0)\n",
    "norm_cross_tab.plot(kind='bar', stacked=True)\n",
    "plt.title(f\"Normalized Past Cancellation by Booking Status\")\n",
    "plt.xticks(rotation=45)\n",
    "plt.ylabel('Proportion')\n",
    "plt.show()"
   ]
  },
  {
   "cell_type": "markdown",
   "metadata": {},
   "source": [
    "7. Total Reservation Price"
   ]
  },
  {
   "cell_type": "code",
   "execution_count": 60,
   "metadata": {
    "ExecuteTime": {
     "end_time": "2023-10-16T19:36:09.110492Z",
     "start_time": "2023-10-16T19:36:09.103128Z"
    }
   },
   "outputs": [],
   "source": [
    "# Calculate the total reservation price by multiplying the total number of nights and the average price per room.\n",
    "df['total_price'] = pd.array(df['total_nights'])*pd.array(df['avg_price_per_room'])"
   ]
  },
  {
   "cell_type": "code",
   "execution_count": 61,
   "metadata": {
    "ExecuteTime": {
     "end_time": "2023-10-16T19:36:09.217468Z",
     "start_time": "2023-10-16T19:36:09.114704Z"
    }
   },
   "outputs": [
    {
     "name": "stderr",
     "output_type": "stream",
     "text": [
      "/var/folders/b8/4ntn3_wd1wg59r0lmbfgfmwc0000gn/T/ipykernel_32933/2168202576.py:12: UserWarning: Matplotlib is currently using agg, which is a non-GUI backend, so cannot show the figure.\n",
      "  plt.show()\n"
     ]
    }
   ],
   "source": [
    "# Extract the total reservation price for both canceled and not-canceled bookings.\n",
    "y1 = list(df[df['booking_status'] == 'Canceled']['total_price'])\n",
    "y0 = list(df[df['booking_status'] == 'Not_Canceled']['total_price'])\n",
    "# Define labels for the two categories.\n",
    "names = ['Fulfilled','Cancelled']\n",
    "# Create a histogram to visualize the distribution of reservation prices by cancellation status.\n",
    "plt.hist([y0,y1], label=names, stacked = True)\n",
    "plt.xlabel('Total Price (euros)')\n",
    "plt.ylabel('Frequency')\n",
    "plt.title('Reservation Price by Cancellation Status')\n",
    "plt.legend(loc='upper right')\n",
    "plt.show()"
   ]
  },
  {
   "cell_type": "markdown",
   "metadata": {},
   "source": [
    "8. Meal plan as binary"
   ]
  },
  {
   "cell_type": "code",
   "execution_count": 62,
   "metadata": {
    "ExecuteTime": {
     "end_time": "2023-10-16T19:36:09.229140Z",
     "start_time": "2023-10-16T19:36:09.221134Z"
    }
   },
   "outputs": [],
   "source": [
    "# Create a binary column 'meal_plan' based on the 'type_of_meal_plan,' where 0 represents 'Not Selected' and 1 represents 'Selected.'\n",
    "df['meal_plan'] = df['type_of_meal_plan'].apply(lambda x: 0 if x == 'Not Selected' else 1)\n",
    "df['meal_plan']=df['meal_plan'].astype('category')"
   ]
  },
  {
   "cell_type": "code",
   "execution_count": 63,
   "metadata": {
    "ExecuteTime": {
     "end_time": "2023-10-16T19:36:09.369965Z",
     "start_time": "2023-10-16T19:36:09.233622Z"
    }
   },
   "outputs": [
    {
     "name": "stderr",
     "output_type": "stream",
     "text": [
      "/opt/miniconda3/envs/ADS500B/lib/python3.10/site-packages/pandas/plotting/_matplotlib/core.py:386: RuntimeWarning: More than 20 figures have been opened. Figures created through the pyplot interface (`matplotlib.pyplot.figure`) are retained until explicitly closed and may consume too much memory. (To control this warning, see the rcParam `figure.max_open_warning`).\n",
      "  fig = self.plt.figure(figsize=self.figsize)\n"
     ]
    },
    {
     "data": {
      "text/plain": [
       "Text(0.5, 1.0, 'Meal Plan by Booking Status')"
      ]
     },
     "execution_count": 63,
     "metadata": {},
     "output_type": "execute_result"
    }
   ],
   "source": [
    "# Create a stacked bar chart to visualize the relationship between meal plans and booking status.\n",
    "pd.crosstab(df['meal_plan'], df['booking_status']).plot(kind='bar', stacked=True)\n",
    "plt.ylabel('Frequency')\n",
    "plt.title('Meal Plan by Booking Status')"
   ]
  },
  {
   "cell_type": "code",
   "execution_count": 64,
   "metadata": {
    "ExecuteTime": {
     "end_time": "2023-10-16T19:36:09.478212Z",
     "start_time": "2023-10-16T19:36:09.373853Z"
    }
   },
   "outputs": [
    {
     "name": "stderr",
     "output_type": "stream",
     "text": [
      "/var/folders/b8/4ntn3_wd1wg59r0lmbfgfmwc0000gn/T/ipykernel_32933/4198392811.py:9: UserWarning: Matplotlib is currently using agg, which is a non-GUI backend, so cannot show the figure.\n",
      "  plt.show()\n"
     ]
    }
   ],
   "source": [
    "# Create normalized bar charts to visualize the proportion of booking statuses with respect to meal plans.\n",
    "cross_tab = pd.crosstab(index=df['meal_plan'], columns=df['booking_status'])\n",
    "cross_tab = round(cross_tab.div(cross_tab.sum(0), axis=1)*100,1)\n",
    "norm_cross_tab=cross_tab.div(cross_tab.sum(axis=1), axis=0)\n",
    "norm_cross_tab.plot(kind='bar', stacked=True)\n",
    "plt.title(f\"Normalized Meal Plan by Booking Status\")\n",
    "plt.xticks(rotation=45)\n",
    "plt.ylabel('Proportion')\n",
    "plt.show()"
   ]
  },
  {
   "cell_type": "markdown",
   "metadata": {},
   "source": [
    "No significant difference between guests that selected a meal plan compared to guests that didn't. "
   ]
  },
  {
   "cell_type": "markdown",
   "metadata": {},
   "source": [
    "9. Room type as binary"
   ]
  },
  {
   "cell_type": "code",
   "execution_count": 65,
   "metadata": {
    "ExecuteTime": {
     "end_time": "2023-10-16T19:36:09.492604Z",
     "start_time": "2023-10-16T19:36:09.482573Z"
    }
   },
   "outputs": [],
   "source": [
    "# Create a binary column 'room_type' based on the 'room_type_reserved,' where 1 represents 'Room_Type 1' and 0 represents 'Other.'\n",
    "df['room_type'] = df['room_type_reserved'].apply(lambda x: 1 if x == 'Room_Type 1' else 0)\n",
    "df['room_type']=df['room_type'].astype('category')"
   ]
  },
  {
   "cell_type": "code",
   "execution_count": 66,
   "metadata": {
    "ExecuteTime": {
     "end_time": "2023-10-16T19:36:09.768231Z",
     "start_time": "2023-10-16T19:36:09.496789Z"
    }
   },
   "outputs": [
    {
     "data": {
      "text/plain": [
       "Text(0.5, 1.0, 'Room Type by Booking Status')"
      ]
     },
     "execution_count": 66,
     "metadata": {},
     "output_type": "execute_result"
    }
   ],
   "source": [
    "# Create a stacked bar chart to visualize the relationship between room types and booking status.\n",
    "pd.crosstab(df['room_type'], df['booking_status']).plot(kind='bar', stacked=True)\n",
    "plt.ylabel('Frequency')\n",
    "plt.title('Room Type by Booking Status')"
   ]
  },
  {
   "cell_type": "code",
   "execution_count": 67,
   "metadata": {
    "ExecuteTime": {
     "end_time": "2023-10-16T19:36:09.872100Z",
     "start_time": "2023-10-16T19:36:09.773175Z"
    }
   },
   "outputs": [
    {
     "name": "stderr",
     "output_type": "stream",
     "text": [
      "/var/folders/b8/4ntn3_wd1wg59r0lmbfgfmwc0000gn/T/ipykernel_32933/2520584279.py:9: UserWarning: Matplotlib is currently using agg, which is a non-GUI backend, so cannot show the figure.\n",
      "  plt.show()\n"
     ]
    }
   ],
   "source": [
    "# Create normalized bar charts to visualize the proportion of booking statuses based on room types.\n",
    "cross_tab = pd.crosstab(index=df['room_type'], columns=df['booking_status'])\n",
    "cross_tab = round(cross_tab.div(cross_tab.sum(0), axis=1)*100,1)\n",
    "norm_cross_tab=cross_tab.div(cross_tab.sum(axis=1), axis=0)\n",
    "norm_cross_tab.plot(kind='bar', stacked=True)\n",
    "plt.title(f\"Normalized Room Type by Booking Status\")\n",
    "plt.xticks(rotation=45)\n",
    "plt.ylabel('Proportion')\n",
    "plt.show()"
   ]
  },
  {
   "cell_type": "markdown",
   "metadata": {},
   "source": [
    "No significant difference between room types chosen"
   ]
  },
  {
   "cell_type": "markdown",
   "metadata": {},
   "source": [
    "10. Special Requests as Binary\n",
    "\n",
    "Most guests had at least 1 special request or none."
   ]
  },
  {
   "cell_type": "code",
   "execution_count": 68,
   "metadata": {
    "ExecuteTime": {
     "end_time": "2023-10-16T19:36:09.883783Z",
     "start_time": "2023-10-16T19:36:09.876827Z"
    }
   },
   "outputs": [
    {
     "data": {
      "text/plain": [
       "0    19777\n",
       "1    11373\n",
       "2     4364\n",
       "3      675\n",
       "4       78\n",
       "5        8\n",
       "Name: no_of_special_requests, dtype: int64"
      ]
     },
     "execution_count": 68,
     "metadata": {},
     "output_type": "execute_result"
    }
   ],
   "source": [
    "# Count the frequency of the number of special requests.\n",
    "df['no_of_special_requests'].value_counts()"
   ]
  },
  {
   "cell_type": "code",
   "execution_count": 69,
   "metadata": {
    "ExecuteTime": {
     "end_time": "2023-10-16T19:36:09.917121Z",
     "start_time": "2023-10-16T19:36:09.886796Z"
    }
   },
   "outputs": [
    {
     "data": {
      "text/plain": [
       "0    19777\n",
       "1    16498\n",
       "Name: special_requests, dtype: int64"
      ]
     },
     "execution_count": 69,
     "metadata": {},
     "output_type": "execute_result"
    }
   ],
   "source": [
    "# Create a binary column 'special_requests' based on the 'no_of_special_requests,' where 1 indicates the presence of special requests (more than 0) and 0 indicates no special requests.\n",
    "df['special_requests'] = df['no_of_special_requests'].apply(lambda x: 1 if x > 0 else 0)\n",
    "df['special_requests']=df['special_requests'].astype('category')\n",
    "df['special_requests'].value_counts()"
   ]
  },
  {
   "cell_type": "code",
   "execution_count": 70,
   "metadata": {
    "ExecuteTime": {
     "end_time": "2023-10-16T19:36:10.062938Z",
     "start_time": "2023-10-16T19:36:09.923284Z"
    }
   },
   "outputs": [
    {
     "data": {
      "text/plain": [
       "Text(0.5, 1.0, 'Special Requests by Booking Status')"
      ]
     },
     "execution_count": 70,
     "metadata": {},
     "output_type": "execute_result"
    }
   ],
   "source": [
    "# Create a stacked bar chart to visualize the relationship between special requests and booking status.\n",
    "pd.crosstab(df['special_requests'], df['booking_status']).plot(kind='bar', stacked=True)\n",
    "plt.ylabel('Frequency')\n",
    "plt.title('Special Requests by Booking Status')"
   ]
  },
  {
   "cell_type": "code",
   "execution_count": 71,
   "metadata": {
    "ExecuteTime": {
     "end_time": "2023-10-16T19:36:10.183144Z",
     "start_time": "2023-10-16T19:36:10.066487Z"
    }
   },
   "outputs": [
    {
     "data": {
      "text/plain": [
       "Text(0.5, 1.0, 'Special Requests by Booking Status')"
      ]
     },
     "execution_count": 71,
     "metadata": {},
     "output_type": "execute_result"
    }
   ],
   "source": [
    "# Create a normalized stacked bar chart to visualize the relationship between special requests and booking status.\n",
    "pd.crosstab(df['special_requests'], df['booking_status'], normalize = 'index').plot(kind='bar', stacked=True)\n",
    "plt.ylabel('Frequency')\n",
    "plt.title('Special Requests by Booking Status')"
   ]
  },
  {
   "cell_type": "code",
   "execution_count": 72,
   "metadata": {
    "ExecuteTime": {
     "end_time": "2023-10-16T19:36:10.198804Z",
     "start_time": "2023-10-16T19:36:10.186162Z"
    }
   },
   "outputs": [
    {
     "data": {
      "text/plain": [
       "Index(['no_of_adults', 'no_of_children', 'no_of_weekend_nights',\n",
       "       'no_of_week_nights', 'type_of_meal_plan', 'required_car_parking_space',\n",
       "       'room_type_reserved', 'lead_time', 'arrival_year', 'arrival_month',\n",
       "       'arrival_date', 'market_segment_type', 'repeated_guest',\n",
       "       'no_of_previous_cancellations', 'no_of_previous_bookings_not_canceled',\n",
       "       'avg_price_per_room', 'no_of_special_requests', 'booking_status',\n",
       "       'cancellation_rate', 'day', 'month', 'year', 'full_arrival_date',\n",
       "       'total_guests', 'total_nights', 'season', 'past_cancellation',\n",
       "       'total_price', 'meal_plan', 'room_type', 'special_requests'],\n",
       "      dtype='object')"
      ]
     },
     "execution_count": 72,
     "metadata": {},
     "output_type": "execute_result"
    }
   ],
   "source": [
    "# Show all columns, including all added columns\n",
    "df.columns"
   ]
  },
  {
   "cell_type": "markdown",
   "metadata": {
    "id": "l3jy8KVSSDaX"
   },
   "source": [
    "## Exploratory Data Analysis"
   ]
  },
  {
   "cell_type": "code",
   "execution_count": 73,
   "metadata": {
    "ExecuteTime": {
     "end_time": "2023-10-16T19:36:10.214141Z",
     "start_time": "2023-10-16T19:36:10.202383Z"
    }
   },
   "outputs": [
    {
     "name": "stdout",
     "output_type": "stream",
     "text": [
      "['no_of_adults', 'no_of_children', 'no_of_weekend_nights', 'no_of_week_nights', 'lead_time', 'arrival_date', 'no_of_previous_cancellations', 'no_of_previous_bookings_not_canceled', 'avg_price_per_room', 'no_of_special_requests', 'cancellation_rate', 'day', 'total_guests', 'total_nights', 'total_price']\n"
     ]
    }
   ],
   "source": [
    "#Get a list of numeric column names in a DataFrame.\n",
    "def numeric_cols(data):\n",
    "    num_cols = []\n",
    "    for col in data.columns:\n",
    "        if data[col].dtype == 'int64' or data[col].dtype == 'float64':\n",
    "            num_cols.append(col)\n",
    "    return num_cols\n",
    "numeric_columns = numeric_cols(df)\n",
    "print(numeric_columns)\n"
   ]
  },
  {
   "cell_type": "code",
   "execution_count": 74,
   "metadata": {
    "ExecuteTime": {
     "end_time": "2023-10-16T19:36:10.280345Z",
     "start_time": "2023-10-16T19:36:10.219064Z"
    }
   },
   "outputs": [
    {
     "name": "stdout",
     "output_type": "stream",
     "text": [
      "['type_of_meal_plan', 'required_car_parking_space', 'room_type_reserved', 'arrival_year', 'arrival_month', 'market_segment_type', 'repeated_guest', 'booking_status', 'month', 'year', 'season', 'past_cancellation', 'meal_plan', 'room_type', 'special_requests']\n"
     ]
    }
   ],
   "source": [
    "#Get a list of categorical column names in a DataFrame.\n",
    "def category_columns(data):\n",
    "  cat_cols = []\n",
    "  for i in data:\n",
    "    if data[i].dtype == 'object' or data[i].dtype == 'category':\n",
    "      cat_cols.append(i)\n",
    "  return cat_cols\n",
    "categorical_columns = category_columns(df)\n",
    "print(categorical_columns)\n"
   ]
  },
  {
   "cell_type": "code",
   "execution_count": 75,
   "metadata": {
    "ExecuteTime": {
     "end_time": "2023-10-16T19:36:11.516338Z",
     "start_time": "2023-10-16T19:36:10.299522Z"
    },
    "colab": {
     "base_uri": "https://localhost:8080/",
     "height": 1000
    },
    "id": "P7ndrZUw8qoV",
    "outputId": "d938c130-4fad-4fde-80f0-2dc10123cc25"
   },
   "outputs": [
    {
     "name": "stderr",
     "output_type": "stream",
     "text": [
      "/var/folders/b8/4ntn3_wd1wg59r0lmbfgfmwc0000gn/T/ipykernel_32933/3984197658.py:3: UserWarning: Matplotlib is currently using agg, which is a non-GUI backend, so cannot show the figure.\n",
      "  plt.show()\n"
     ]
    }
   ],
   "source": [
    "#Distributions for numerical variables\n",
    "df.hist(figsize=(12,12),bins=20)\n",
    "plt.show()"
   ]
  },
  {
   "cell_type": "code",
   "execution_count": 76,
   "metadata": {
    "ExecuteTime": {
     "end_time": "2023-10-16T19:36:12.301634Z",
     "start_time": "2023-10-16T19:36:11.520955Z"
    }
   },
   "outputs": [
    {
     "name": "stderr",
     "output_type": "stream",
     "text": [
      "/var/folders/b8/4ntn3_wd1wg59r0lmbfgfmwc0000gn/T/ipykernel_32933/3817509854.py:16: UserWarning: Matplotlib is currently using agg, which is a non-GUI backend, so cannot show the figure.\n",
      "  plt.show()\n"
     ]
    }
   ],
   "source": [
    "# Drop the categorical columns before calculating correlations\n",
    "non_categorical_columns = df.select_dtypes(exclude=['category']).columns\n",
    "df_numerical = df[non_categorical_columns]\n",
    "\n",
    "# Calculate the correlation matrix\n",
    "correlation_matrix = df_numerical.corr()\n",
    "\n",
    "# Create a figure and set the title\n",
    "plt.figure(figsize=(12, 8))\n",
    "plt.title(\"Heat Map of Correlation Coefficients\", fontsize=16)\n",
    "\n",
    "# Create a heatmap\n",
    "sns.heatmap(correlation_matrix, cmap='coolwarm', fmt='.1f', linewidths=1, annot=True)\n",
    "\n",
    "# Display the heatmap\n",
    "plt.show()\n",
    "\n"
   ]
  },
  {
   "cell_type": "code",
   "execution_count": 77,
   "metadata": {
    "ExecuteTime": {
     "end_time": "2023-10-16T19:36:12.331922Z",
     "start_time": "2023-10-16T19:36:12.304667Z"
    },
    "colab": {
     "base_uri": "https://localhost:8080/",
     "height": 484
    },
    "id": "KV6a-A2y805v",
    "outputId": "4a61e42d-a49d-4ccc-b9dc-56969736c497"
   },
   "outputs": [
    {
     "data": {
      "text/html": [
       "<div>\n",
       "<style scoped>\n",
       "    .dataframe tbody tr th:only-of-type {\n",
       "        vertical-align: middle;\n",
       "    }\n",
       "\n",
       "    .dataframe tbody tr th {\n",
       "        vertical-align: top;\n",
       "    }\n",
       "\n",
       "    .dataframe thead th {\n",
       "        text-align: right;\n",
       "    }\n",
       "</style>\n",
       "<table border=\"1\" class=\"dataframe\">\n",
       "  <thead>\n",
       "    <tr style=\"text-align: right;\">\n",
       "      <th></th>\n",
       "      <th>no_of_adults</th>\n",
       "      <th>no_of_children</th>\n",
       "      <th>no_of_weekend_nights</th>\n",
       "      <th>no_of_week_nights</th>\n",
       "      <th>lead_time</th>\n",
       "      <th>arrival_date</th>\n",
       "      <th>no_of_previous_cancellations</th>\n",
       "      <th>no_of_previous_bookings_not_canceled</th>\n",
       "      <th>avg_price_per_room</th>\n",
       "      <th>no_of_special_requests</th>\n",
       "      <th>cancellation_rate</th>\n",
       "      <th>day</th>\n",
       "      <th>total_guests</th>\n",
       "      <th>total_nights</th>\n",
       "      <th>total_price</th>\n",
       "    </tr>\n",
       "  </thead>\n",
       "  <tbody>\n",
       "    <tr>\n",
       "      <th>no_of_adults</th>\n",
       "      <td>1.000000</td>\n",
       "      <td>-0.019787</td>\n",
       "      <td>0.103316</td>\n",
       "      <td>0.105622</td>\n",
       "      <td>0.097287</td>\n",
       "      <td>0.026338</td>\n",
       "      <td>-0.047426</td>\n",
       "      <td>-0.119166</td>\n",
       "      <td>0.296886</td>\n",
       "      <td>0.189401</td>\n",
       "      <td>0.363589</td>\n",
       "      <td>0.026338</td>\n",
       "      <td>0.785371</td>\n",
       "      <td>0.133803</td>\n",
       "      <td>0.241718</td>\n",
       "    </tr>\n",
       "    <tr>\n",
       "      <th>no_of_children</th>\n",
       "      <td>-0.019787</td>\n",
       "      <td>1.000000</td>\n",
       "      <td>0.029478</td>\n",
       "      <td>0.024398</td>\n",
       "      <td>-0.047091</td>\n",
       "      <td>0.025482</td>\n",
       "      <td>-0.016390</td>\n",
       "      <td>-0.021189</td>\n",
       "      <td>0.337728</td>\n",
       "      <td>0.124486</td>\n",
       "      <td>-0.060046</td>\n",
       "      <td>0.025482</td>\n",
       "      <td>0.603365</td>\n",
       "      <td>0.033644</td>\n",
       "      <td>0.198209</td>\n",
       "    </tr>\n",
       "    <tr>\n",
       "      <th>no_of_weekend_nights</th>\n",
       "      <td>0.103316</td>\n",
       "      <td>0.029478</td>\n",
       "      <td>1.000000</td>\n",
       "      <td>0.179577</td>\n",
       "      <td>0.046595</td>\n",
       "      <td>0.027304</td>\n",
       "      <td>-0.020690</td>\n",
       "      <td>-0.026312</td>\n",
       "      <td>-0.004525</td>\n",
       "      <td>0.060593</td>\n",
       "      <td>0.067632</td>\n",
       "      <td>0.027304</td>\n",
       "      <td>0.100658</td>\n",
       "      <td>0.629339</td>\n",
       "      <td>0.525327</td>\n",
       "    </tr>\n",
       "    <tr>\n",
       "      <th>no_of_week_nights</th>\n",
       "      <td>0.105622</td>\n",
       "      <td>0.024398</td>\n",
       "      <td>0.179577</td>\n",
       "      <td>1.000000</td>\n",
       "      <td>0.149650</td>\n",
       "      <td>-0.009305</td>\n",
       "      <td>-0.030080</td>\n",
       "      <td>-0.049344</td>\n",
       "      <td>0.022753</td>\n",
       "      <td>0.045994</td>\n",
       "      <td>0.266809</td>\n",
       "      <td>-0.009305</td>\n",
       "      <td>0.099352</td>\n",
       "      <td>0.877513</td>\n",
       "      <td>0.739939</td>\n",
       "    </tr>\n",
       "    <tr>\n",
       "      <th>lead_time</th>\n",
       "      <td>0.097287</td>\n",
       "      <td>-0.047091</td>\n",
       "      <td>0.046595</td>\n",
       "      <td>0.149650</td>\n",
       "      <td>1.000000</td>\n",
       "      <td>0.006479</td>\n",
       "      <td>-0.045723</td>\n",
       "      <td>-0.078137</td>\n",
       "      <td>-0.062596</td>\n",
       "      <td>-0.101645</td>\n",
       "      <td>0.261401</td>\n",
       "      <td>0.006479</td>\n",
       "      <td>0.048441</td>\n",
       "      <td>0.140934</td>\n",
       "      <td>0.076493</td>\n",
       "    </tr>\n",
       "    <tr>\n",
       "      <th>arrival_date</th>\n",
       "      <td>0.026338</td>\n",
       "      <td>0.025482</td>\n",
       "      <td>0.027304</td>\n",
       "      <td>-0.009305</td>\n",
       "      <td>0.006479</td>\n",
       "      <td>1.000000</td>\n",
       "      <td>-0.012542</td>\n",
       "      <td>-0.001498</td>\n",
       "      <td>0.017898</td>\n",
       "      <td>0.018352</td>\n",
       "      <td>-0.149283</td>\n",
       "      <td>1.000000</td>\n",
       "      <td>0.036785</td>\n",
       "      <td>0.005960</td>\n",
       "      <td>0.008446</td>\n",
       "    </tr>\n",
       "    <tr>\n",
       "      <th>no_of_previous_cancellations</th>\n",
       "      <td>-0.047426</td>\n",
       "      <td>-0.016390</td>\n",
       "      <td>-0.020690</td>\n",
       "      <td>-0.030080</td>\n",
       "      <td>-0.045723</td>\n",
       "      <td>-0.012542</td>\n",
       "      <td>1.000000</td>\n",
       "      <td>0.468147</td>\n",
       "      <td>-0.063340</td>\n",
       "      <td>-0.003317</td>\n",
       "      <td>0.379768</td>\n",
       "      <td>-0.012542</td>\n",
       "      <td>-0.047975</td>\n",
       "      <td>-0.033849</td>\n",
       "      <td>-0.048069</td>\n",
       "    </tr>\n",
       "    <tr>\n",
       "      <th>no_of_previous_bookings_not_canceled</th>\n",
       "      <td>-0.119166</td>\n",
       "      <td>-0.021189</td>\n",
       "      <td>-0.026312</td>\n",
       "      <td>-0.049344</td>\n",
       "      <td>-0.078137</td>\n",
       "      <td>-0.001498</td>\n",
       "      <td>0.468147</td>\n",
       "      <td>1.000000</td>\n",
       "      <td>-0.113684</td>\n",
       "      <td>0.027377</td>\n",
       "      <td>-0.204408</td>\n",
       "      <td>-0.001498</td>\n",
       "      <td>-0.108168</td>\n",
       "      <td>-0.051807</td>\n",
       "      <td>-0.077407</td>\n",
       "    </tr>\n",
       "    <tr>\n",
       "      <th>avg_price_per_room</th>\n",
       "      <td>0.296886</td>\n",
       "      <td>0.337728</td>\n",
       "      <td>-0.004525</td>\n",
       "      <td>0.022753</td>\n",
       "      <td>-0.062596</td>\n",
       "      <td>0.017898</td>\n",
       "      <td>-0.063340</td>\n",
       "      <td>-0.113684</td>\n",
       "      <td>1.000000</td>\n",
       "      <td>0.184381</td>\n",
       "      <td>0.200016</td>\n",
       "      <td>0.017898</td>\n",
       "      <td>0.445906</td>\n",
       "      <td>0.015768</td>\n",
       "      <td>0.467291</td>\n",
       "    </tr>\n",
       "    <tr>\n",
       "      <th>no_of_special_requests</th>\n",
       "      <td>0.189401</td>\n",
       "      <td>0.124486</td>\n",
       "      <td>0.060593</td>\n",
       "      <td>0.045994</td>\n",
       "      <td>-0.101645</td>\n",
       "      <td>0.018352</td>\n",
       "      <td>-0.003317</td>\n",
       "      <td>0.027377</td>\n",
       "      <td>0.184381</td>\n",
       "      <td>1.000000</td>\n",
       "      <td>-0.192821</td>\n",
       "      <td>0.018352</td>\n",
       "      <td>0.228146</td>\n",
       "      <td>0.065871</td>\n",
       "      <td>0.142985</td>\n",
       "    </tr>\n",
       "    <tr>\n",
       "      <th>cancellation_rate</th>\n",
       "      <td>0.363589</td>\n",
       "      <td>-0.060046</td>\n",
       "      <td>0.067632</td>\n",
       "      <td>0.266809</td>\n",
       "      <td>0.261401</td>\n",
       "      <td>-0.149283</td>\n",
       "      <td>0.379768</td>\n",
       "      <td>-0.204408</td>\n",
       "      <td>0.200016</td>\n",
       "      <td>-0.192821</td>\n",
       "      <td>1.000000</td>\n",
       "      <td>-0.149283</td>\n",
       "      <td>0.314054</td>\n",
       "      <td>0.275682</td>\n",
       "      <td>0.316046</td>\n",
       "    </tr>\n",
       "    <tr>\n",
       "      <th>day</th>\n",
       "      <td>0.026338</td>\n",
       "      <td>0.025482</td>\n",
       "      <td>0.027304</td>\n",
       "      <td>-0.009305</td>\n",
       "      <td>0.006479</td>\n",
       "      <td>1.000000</td>\n",
       "      <td>-0.012542</td>\n",
       "      <td>-0.001498</td>\n",
       "      <td>0.017898</td>\n",
       "      <td>0.018352</td>\n",
       "      <td>-0.149283</td>\n",
       "      <td>1.000000</td>\n",
       "      <td>0.036785</td>\n",
       "      <td>0.005960</td>\n",
       "      <td>0.008446</td>\n",
       "    </tr>\n",
       "    <tr>\n",
       "      <th>total_guests</th>\n",
       "      <td>0.785371</td>\n",
       "      <td>0.603365</td>\n",
       "      <td>0.100658</td>\n",
       "      <td>0.099352</td>\n",
       "      <td>0.048441</td>\n",
       "      <td>0.036785</td>\n",
       "      <td>-0.047975</td>\n",
       "      <td>-0.108168</td>\n",
       "      <td>0.445906</td>\n",
       "      <td>0.228146</td>\n",
       "      <td>0.314054</td>\n",
       "      <td>0.036785</td>\n",
       "      <td>1.000000</td>\n",
       "      <td>0.127554</td>\n",
       "      <td>0.315520</td>\n",
       "    </tr>\n",
       "    <tr>\n",
       "      <th>total_nights</th>\n",
       "      <td>0.133803</td>\n",
       "      <td>0.033644</td>\n",
       "      <td>0.629339</td>\n",
       "      <td>0.877513</td>\n",
       "      <td>0.140934</td>\n",
       "      <td>0.005960</td>\n",
       "      <td>-0.033849</td>\n",
       "      <td>-0.051807</td>\n",
       "      <td>0.015768</td>\n",
       "      <td>0.065871</td>\n",
       "      <td>0.275682</td>\n",
       "      <td>0.005960</td>\n",
       "      <td>0.127554</td>\n",
       "      <td>1.000000</td>\n",
       "      <td>0.840617</td>\n",
       "    </tr>\n",
       "    <tr>\n",
       "      <th>total_price</th>\n",
       "      <td>0.241718</td>\n",
       "      <td>0.198209</td>\n",
       "      <td>0.525327</td>\n",
       "      <td>0.739939</td>\n",
       "      <td>0.076493</td>\n",
       "      <td>0.008446</td>\n",
       "      <td>-0.048069</td>\n",
       "      <td>-0.077407</td>\n",
       "      <td>0.467291</td>\n",
       "      <td>0.142985</td>\n",
       "      <td>0.316046</td>\n",
       "      <td>0.008446</td>\n",
       "      <td>0.315520</td>\n",
       "      <td>0.840617</td>\n",
       "      <td>1.000000</td>\n",
       "    </tr>\n",
       "  </tbody>\n",
       "</table>\n",
       "</div>"
      ],
      "text/plain": [
       "                                      no_of_adults  no_of_children  \\\n",
       "no_of_adults                              1.000000       -0.019787   \n",
       "no_of_children                           -0.019787        1.000000   \n",
       "no_of_weekend_nights                      0.103316        0.029478   \n",
       "no_of_week_nights                         0.105622        0.024398   \n",
       "lead_time                                 0.097287       -0.047091   \n",
       "arrival_date                              0.026338        0.025482   \n",
       "no_of_previous_cancellations             -0.047426       -0.016390   \n",
       "no_of_previous_bookings_not_canceled     -0.119166       -0.021189   \n",
       "avg_price_per_room                        0.296886        0.337728   \n",
       "no_of_special_requests                    0.189401        0.124486   \n",
       "cancellation_rate                         0.363589       -0.060046   \n",
       "day                                       0.026338        0.025482   \n",
       "total_guests                              0.785371        0.603365   \n",
       "total_nights                              0.133803        0.033644   \n",
       "total_price                               0.241718        0.198209   \n",
       "\n",
       "                                      no_of_weekend_nights  no_of_week_nights  \\\n",
       "no_of_adults                                      0.103316           0.105622   \n",
       "no_of_children                                    0.029478           0.024398   \n",
       "no_of_weekend_nights                              1.000000           0.179577   \n",
       "no_of_week_nights                                 0.179577           1.000000   \n",
       "lead_time                                         0.046595           0.149650   \n",
       "arrival_date                                      0.027304          -0.009305   \n",
       "no_of_previous_cancellations                     -0.020690          -0.030080   \n",
       "no_of_previous_bookings_not_canceled             -0.026312          -0.049344   \n",
       "avg_price_per_room                               -0.004525           0.022753   \n",
       "no_of_special_requests                            0.060593           0.045994   \n",
       "cancellation_rate                                 0.067632           0.266809   \n",
       "day                                               0.027304          -0.009305   \n",
       "total_guests                                      0.100658           0.099352   \n",
       "total_nights                                      0.629339           0.877513   \n",
       "total_price                                       0.525327           0.739939   \n",
       "\n",
       "                                      lead_time  arrival_date  \\\n",
       "no_of_adults                           0.097287      0.026338   \n",
       "no_of_children                        -0.047091      0.025482   \n",
       "no_of_weekend_nights                   0.046595      0.027304   \n",
       "no_of_week_nights                      0.149650     -0.009305   \n",
       "lead_time                              1.000000      0.006479   \n",
       "arrival_date                           0.006479      1.000000   \n",
       "no_of_previous_cancellations          -0.045723     -0.012542   \n",
       "no_of_previous_bookings_not_canceled  -0.078137     -0.001498   \n",
       "avg_price_per_room                    -0.062596      0.017898   \n",
       "no_of_special_requests                -0.101645      0.018352   \n",
       "cancellation_rate                      0.261401     -0.149283   \n",
       "day                                    0.006479      1.000000   \n",
       "total_guests                           0.048441      0.036785   \n",
       "total_nights                           0.140934      0.005960   \n",
       "total_price                            0.076493      0.008446   \n",
       "\n",
       "                                      no_of_previous_cancellations  \\\n",
       "no_of_adults                                             -0.047426   \n",
       "no_of_children                                           -0.016390   \n",
       "no_of_weekend_nights                                     -0.020690   \n",
       "no_of_week_nights                                        -0.030080   \n",
       "lead_time                                                -0.045723   \n",
       "arrival_date                                             -0.012542   \n",
       "no_of_previous_cancellations                              1.000000   \n",
       "no_of_previous_bookings_not_canceled                      0.468147   \n",
       "avg_price_per_room                                       -0.063340   \n",
       "no_of_special_requests                                   -0.003317   \n",
       "cancellation_rate                                         0.379768   \n",
       "day                                                      -0.012542   \n",
       "total_guests                                             -0.047975   \n",
       "total_nights                                             -0.033849   \n",
       "total_price                                              -0.048069   \n",
       "\n",
       "                                      no_of_previous_bookings_not_canceled  \\\n",
       "no_of_adults                                                     -0.119166   \n",
       "no_of_children                                                   -0.021189   \n",
       "no_of_weekend_nights                                             -0.026312   \n",
       "no_of_week_nights                                                -0.049344   \n",
       "lead_time                                                        -0.078137   \n",
       "arrival_date                                                     -0.001498   \n",
       "no_of_previous_cancellations                                      0.468147   \n",
       "no_of_previous_bookings_not_canceled                              1.000000   \n",
       "avg_price_per_room                                               -0.113684   \n",
       "no_of_special_requests                                            0.027377   \n",
       "cancellation_rate                                                -0.204408   \n",
       "day                                                              -0.001498   \n",
       "total_guests                                                     -0.108168   \n",
       "total_nights                                                     -0.051807   \n",
       "total_price                                                      -0.077407   \n",
       "\n",
       "                                      avg_price_per_room  \\\n",
       "no_of_adults                                    0.296886   \n",
       "no_of_children                                  0.337728   \n",
       "no_of_weekend_nights                           -0.004525   \n",
       "no_of_week_nights                               0.022753   \n",
       "lead_time                                      -0.062596   \n",
       "arrival_date                                    0.017898   \n",
       "no_of_previous_cancellations                   -0.063340   \n",
       "no_of_previous_bookings_not_canceled           -0.113684   \n",
       "avg_price_per_room                              1.000000   \n",
       "no_of_special_requests                          0.184381   \n",
       "cancellation_rate                               0.200016   \n",
       "day                                             0.017898   \n",
       "total_guests                                    0.445906   \n",
       "total_nights                                    0.015768   \n",
       "total_price                                     0.467291   \n",
       "\n",
       "                                      no_of_special_requests  \\\n",
       "no_of_adults                                        0.189401   \n",
       "no_of_children                                      0.124486   \n",
       "no_of_weekend_nights                                0.060593   \n",
       "no_of_week_nights                                   0.045994   \n",
       "lead_time                                          -0.101645   \n",
       "arrival_date                                        0.018352   \n",
       "no_of_previous_cancellations                       -0.003317   \n",
       "no_of_previous_bookings_not_canceled                0.027377   \n",
       "avg_price_per_room                                  0.184381   \n",
       "no_of_special_requests                              1.000000   \n",
       "cancellation_rate                                  -0.192821   \n",
       "day                                                 0.018352   \n",
       "total_guests                                        0.228146   \n",
       "total_nights                                        0.065871   \n",
       "total_price                                         0.142985   \n",
       "\n",
       "                                      cancellation_rate       day  \\\n",
       "no_of_adults                                   0.363589  0.026338   \n",
       "no_of_children                                -0.060046  0.025482   \n",
       "no_of_weekend_nights                           0.067632  0.027304   \n",
       "no_of_week_nights                              0.266809 -0.009305   \n",
       "lead_time                                      0.261401  0.006479   \n",
       "arrival_date                                  -0.149283  1.000000   \n",
       "no_of_previous_cancellations                   0.379768 -0.012542   \n",
       "no_of_previous_bookings_not_canceled          -0.204408 -0.001498   \n",
       "avg_price_per_room                             0.200016  0.017898   \n",
       "no_of_special_requests                        -0.192821  0.018352   \n",
       "cancellation_rate                              1.000000 -0.149283   \n",
       "day                                           -0.149283  1.000000   \n",
       "total_guests                                   0.314054  0.036785   \n",
       "total_nights                                   0.275682  0.005960   \n",
       "total_price                                    0.316046  0.008446   \n",
       "\n",
       "                                      total_guests  total_nights  total_price  \n",
       "no_of_adults                              0.785371      0.133803     0.241718  \n",
       "no_of_children                            0.603365      0.033644     0.198209  \n",
       "no_of_weekend_nights                      0.100658      0.629339     0.525327  \n",
       "no_of_week_nights                         0.099352      0.877513     0.739939  \n",
       "lead_time                                 0.048441      0.140934     0.076493  \n",
       "arrival_date                              0.036785      0.005960     0.008446  \n",
       "no_of_previous_cancellations             -0.047975     -0.033849    -0.048069  \n",
       "no_of_previous_bookings_not_canceled     -0.108168     -0.051807    -0.077407  \n",
       "avg_price_per_room                        0.445906      0.015768     0.467291  \n",
       "no_of_special_requests                    0.228146      0.065871     0.142985  \n",
       "cancellation_rate                         0.314054      0.275682     0.316046  \n",
       "day                                       0.036785      0.005960     0.008446  \n",
       "total_guests                              1.000000      0.127554     0.315520  \n",
       "total_nights                              0.127554      1.000000     0.840617  \n",
       "total_price                               0.315520      0.840617     1.000000  "
      ]
     },
     "execution_count": 77,
     "metadata": {},
     "output_type": "execute_result"
    }
   ],
   "source": [
    "# correlation matrix for numerical columns in the DataFrame.\n",
    "correlation_matrix"
   ]
  },
  {
   "cell_type": "code",
   "execution_count": 78,
   "metadata": {
    "ExecuteTime": {
     "end_time": "2023-10-16T19:36:12.343303Z",
     "start_time": "2023-10-16T19:36:12.335178Z"
    },
    "id": "7bhiiDfz65oE"
   },
   "outputs": [],
   "source": [
    "# numeric columns for the box plot\n",
    "numeric_columns = ['no_of_adults', 'no_of_children',\n",
    "                    'total_guests',\n",
    "                   'no_of_weekend_nights', 'no_of_week_nights',\n",
    "                   #'required_car_parking_space', 'arrival_year',\n",
    "                   'lead_time',\n",
    "                   #'arrival_month', 'arrival_date', 'repeated_guest', \n",
    "                   'no_of_previous_cancellations',\n",
    "                   'no_of_previous_bookings_not_canceled', \n",
    "                   'avg_price_per_room', 'no_of_special_requests',\n",
    "                  'cancellation_rate', 'total_price']"
   ]
  },
  {
   "cell_type": "code",
   "execution_count": 79,
   "metadata": {
    "ExecuteTime": {
     "end_time": "2023-10-16T19:36:12.619584Z",
     "start_time": "2023-10-16T19:36:12.348268Z"
    },
    "colab": {
     "base_uri": "https://localhost:8080/",
     "height": 574
    },
    "id": "L7_gjc9mLQsu",
    "outputId": "138687b6-338e-4361-90ab-ce4fc3159c6c"
   },
   "outputs": [
    {
     "name": "stderr",
     "output_type": "stream",
     "text": [
      "/var/folders/b8/4ntn3_wd1wg59r0lmbfgfmwc0000gn/T/ipykernel_32933/272080775.py:6: UserWarning: Matplotlib is currently using agg, which is a non-GUI backend, so cannot show the figure.\n",
      "  plt.show()\n"
     ]
    }
   ],
   "source": [
    "# Create box plots for numeric columns to visualize the distribution of data.\n",
    "plt.figure(figsize=(12, 6))\n",
    "sns.boxplot(data=df[numeric_columns], orient=\"h\", palette=\"Set2\")\n",
    "plt.title(\"Box Plots for Numeric Columns\")\n",
    "plt.xlabel(\"Value\")\n",
    "plt.show()\n"
   ]
  },
  {
   "cell_type": "code",
   "execution_count": 80,
   "metadata": {
    "ExecuteTime": {
     "end_time": "2023-10-16T19:36:12.862566Z",
     "start_time": "2023-10-16T19:36:12.623618Z"
    },
    "colab": {
     "base_uri": "https://localhost:8080/"
    },
    "id": "goMPhq9c7a3t",
    "outputId": "4e5352b2-b16e-44e6-e274-c884f6e4355e"
   },
   "outputs": [
    {
     "name": "stdout",
     "output_type": "stream",
     "text": [
      "booking_status     Canceled  Not_Canceled\n",
      "type_of_meal_plan                        \n",
      "Meal Plan 1            8679         19156\n",
      "Meal Plan 2            1506          1799\n",
      "Meal Plan 3               1             4\n",
      "Not Selected           1699          3431\n",
      "\n",
      "\n",
      "booking_status              Canceled  Not_Canceled\n",
      "required_car_parking_space                        \n",
      "0                              11771         23380\n",
      "1                                114          1010\n",
      "\n",
      "\n",
      "booking_status      Canceled  Not_Canceled\n",
      "room_type_reserved                        \n",
      "Room_Type 1             9072         19058\n",
      "Room_Type 2              228           464\n",
      "Room_Type 3                2             5\n",
      "Room_Type 4             2069          3988\n",
      "Room_Type 5               72           193\n",
      "Room_Type 6              406           560\n",
      "Room_Type 7               36           122\n",
      "\n",
      "\n",
      "booking_status  Canceled  Not_Canceled\n",
      "arrival_year                          \n",
      "2017                 961          5553\n",
      "2018               10924         18837\n",
      "\n",
      "\n",
      "booking_status  Canceled  Not_Canceled\n",
      "arrival_month                         \n",
      "1                     24           990\n",
      "2                    430          1274\n",
      "3                    700          1658\n",
      "4                    995          1741\n",
      "5                    948          1650\n",
      "6                   1291          1912\n",
      "7                   1314          1606\n",
      "8                   1488          2325\n",
      "9                   1538          3073\n",
      "10                  1880          3437\n",
      "11                   875          2105\n",
      "12                   402          2619\n",
      "\n",
      "\n",
      "booking_status       Canceled  Not_Canceled\n",
      "market_segment_type                        \n",
      "Aviation                   37            88\n",
      "Complementary               0           391\n",
      "Corporate                 220          1797\n",
      "Offline                  3153          7375\n",
      "Online                   8475         14739\n",
      "\n",
      "\n",
      "booking_status  Canceled  Not_Canceled\n",
      "repeated_guest                        \n",
      "0                  11869         23476\n",
      "1                     16           914\n",
      "\n",
      "\n",
      "booking_status  Canceled  Not_Canceled\n",
      "booking_status                        \n",
      "Canceled           11885             0\n",
      "Not_Canceled           0         24390\n",
      "\n",
      "\n",
      "booking_status  Canceled  Not_Canceled\n",
      "month                                 \n",
      "1                     24           990\n",
      "2                    430          1274\n",
      "3                    700          1658\n",
      "4                    995          1741\n",
      "5                    948          1650\n",
      "6                   1291          1912\n",
      "7                   1314          1606\n",
      "8                   1488          2325\n",
      "9                   1538          3073\n",
      "10                  1880          3437\n",
      "11                   875          2105\n",
      "12                   402          2619\n",
      "\n",
      "\n",
      "booking_status  Canceled  Not_Canceled\n",
      "year                                  \n",
      "2017                 961          5553\n",
      "2018               10924         18837\n",
      "\n",
      "\n",
      "booking_status  Canceled  Not_Canceled\n",
      "season                                \n",
      "Autumn              4293          8615\n",
      "Spring              2643          5049\n",
      "Summer              4093          5843\n",
      "Winter               856          4883\n",
      "\n",
      "\n",
      "booking_status     Canceled  Not_Canceled\n",
      "past_cancellation                        \n",
      "0                     11869         24068\n",
      "1                        16           322\n",
      "\n",
      "\n",
      "booking_status  Canceled  Not_Canceled\n",
      "meal_plan                             \n",
      "0                   1699          3431\n",
      "1                  10186         20959\n",
      "\n",
      "\n",
      "booking_status  Canceled  Not_Canceled\n",
      "room_type                             \n",
      "0                   2813          5332\n",
      "1                   9072         19058\n",
      "\n",
      "\n",
      "booking_status    Canceled  Not_Canceled\n",
      "special_requests                        \n",
      "0                     8545         11232\n",
      "1                     3340         13158\n",
      "\n",
      "\n"
     ]
    }
   ],
   "source": [
    "# Create cross-tabulations for each categorical variable against booking status.\n",
    "df_cat = df[categorical_columns]\n",
    "# Create cross-tab for categorical variables\n",
    "for column in df_cat.columns:\n",
    "    cross_tab = pd.crosstab(index=df_cat[column], columns=df['booking_status'])\n",
    "    print(cross_tab)\n",
    "    print(\"\\n\")"
   ]
  },
  {
   "cell_type": "markdown",
   "metadata": {
    "id": "-fMsawFa9Ncq"
   },
   "source": [
    "Checking for outlier"
   ]
  },
  {
   "cell_type": "code",
   "execution_count": 81,
   "metadata": {
    "ExecuteTime": {
     "end_time": "2023-10-16T19:36:13.744300Z",
     "start_time": "2023-10-16T19:36:12.868536Z"
    }
   },
   "outputs": [],
   "source": [
    "# Save the DataFrame to a CSV file, excluding the index column.\n",
    "df.to_csv('hotel_reservations_for_modeling.csv',index=False)"
   ]
  },
  {
   "cell_type": "markdown",
   "metadata": {
    "id": "3Jq-i-67LtQW"
   },
   "source": [
    "## **Data Split and Preprocessing Pipeline**"
   ]
  },
  {
   "cell_type": "code",
   "execution_count": 82,
   "metadata": {
    "ExecuteTime": {
     "end_time": "2023-10-16T19:36:13.788959Z",
     "start_time": "2023-10-16T19:36:13.748146Z"
    }
   },
   "outputs": [
    {
     "data": {
      "text/plain": [
       "Index(['no_of_adults', 'no_of_children', 'no_of_weekend_nights',\n",
       "       'no_of_week_nights', 'type_of_meal_plan', 'required_car_parking_space',\n",
       "       'room_type_reserved', 'lead_time', 'arrival_year', 'arrival_month',\n",
       "       'arrival_date', 'market_segment_type', 'repeated_guest',\n",
       "       'no_of_previous_cancellations', 'no_of_previous_bookings_not_canceled',\n",
       "       'avg_price_per_room', 'no_of_special_requests', 'booking_status',\n",
       "       'cancellation_rate', 'day', 'month', 'year', 'full_arrival_date',\n",
       "       'total_guests', 'total_nights', 'season', 'past_cancellation',\n",
       "       'total_price', 'meal_plan', 'room_type', 'special_requests'],\n",
       "      dtype='object')"
      ]
     },
     "execution_count": 82,
     "metadata": {},
     "output_type": "execute_result"
    }
   ],
   "source": [
    "# Display the column names of the DataFrame.\n",
    "df.columns"
   ]
  },
  {
   "cell_type": "code",
   "execution_count": 83,
   "metadata": {
    "ExecuteTime": {
     "end_time": "2023-10-16T19:36:13.867149Z",
     "start_time": "2023-10-16T19:36:13.828149Z"
    }
   },
   "outputs": [
    {
     "name": "stdout",
     "output_type": "stream",
     "text": [
      "Predictors used for modeling: \n",
      " ['market_segment_type', 'season', 'required_car_parking_space', 'repeated_guest', 'special_requests', 'lead_time', 'total_price', 'total_guests']\n"
     ]
    }
   ],
   "source": [
    "# Define a list of categorical predictors for the model.\n",
    "cats = ['market_segment_type', 'season','required_car_parking_space',\n",
    "        'repeated_guest','special_requests']\n",
    "# Define a list of numerical predictors for the model.\n",
    "nums = ['lead_time', 'total_price', 'total_guests']\n",
    "        #'cancellation_rate']\n",
    "# Combine categorical and numerical predictors into a single list.\n",
    "all_vars = cats+nums\n",
    "print(f\"Predictors used for modeling: \\n\", all_vars)"
   ]
  },
  {
   "cell_type": "code",
   "execution_count": 84,
   "metadata": {
    "ExecuteTime": {
     "end_time": "2023-10-16T19:36:13.904834Z",
     "start_time": "2023-10-16T19:36:13.878458Z"
    }
   },
   "outputs": [],
   "source": [
    "# Create a binary target variable 'book_binary' where 1 represents 'Canceled' and 0 represents 'Not Canceled'.\n",
    "df['book_binary'] = df['booking_status'].apply(lambda x: 1 if x == 'Canceled' else 0)"
   ]
  },
  {
   "cell_type": "code",
   "execution_count": 85,
   "metadata": {
    "ExecuteTime": {
     "end_time": "2023-10-16T19:36:13.932252Z",
     "start_time": "2023-10-16T19:36:13.916667Z"
    },
    "colab": {
     "base_uri": "https://localhost:8080/"
    },
    "id": "-EQ_HuHkL9c9",
    "outputId": "1f44ce94-92e0-424e-e494-763690b4a99a"
   },
   "outputs": [
    {
     "name": "stdout",
     "output_type": "stream",
     "text": [
      "0    24390\n",
      "1    11885\n",
      "Name: book_binary, dtype: int64\n",
      "\n",
      " 0    0.672364\n",
      "1    0.327636\n",
      "Name: book_binary, dtype: float64\n"
     ]
    }
   ],
   "source": [
    "# Print the count of binary target variable 'book_binary,' showing the number of Canceled (1) and Not Canceled (0) bookings.\n",
    "print(df['book_binary'].value_counts())\n",
    "\n",
    "# Print the proportion of Canceled (1) and Not Canceled (0) bookings in the dataset.\n",
    "print('\\n', df['book_binary'].value_counts()/len(df))"
   ]
  },
  {
   "cell_type": "markdown",
   "metadata": {},
   "source": [
    "## The original dataset is imbalanced, with 33% (11885) cancellations and 67% (24390) non-cancellations. A stratified split will be used to create the training, validation, and testing sets to preserve these proportions. Then, the training set will be further processed to be balanced with a 50/50 split of donations/non-donations. "
   ]
  },
  {
   "cell_type": "code",
   "execution_count": 86,
   "metadata": {
    "ExecuteTime": {
     "end_time": "2023-10-16T19:36:14.053180Z",
     "start_time": "2023-10-16T19:36:14.020879Z"
    },
    "colab": {
     "base_uri": "https://localhost:8080/",
     "height": 242
    },
    "id": "kXP18RaBMfPr",
    "outputId": "1ffeb558-d8e2-4497-946c-2fb7d3feb203"
   },
   "outputs": [
    {
     "data": {
      "text/plain": [
       "{'columntransformer': ColumnTransformer(transformers=[('cat',\n",
       "                                  Pipeline(steps=[('encoder',\n",
       "                                                   OneHotEncoder(drop='if_binary'))]),\n",
       "                                  ['market_segment_type', 'season',\n",
       "                                   'required_car_parking_space',\n",
       "                                   'repeated_guest', 'special_requests']),\n",
       "                                 ('num',\n",
       "                                  Pipeline(steps=[('variance',\n",
       "                                                   VarianceThreshold()),\n",
       "                                                  ('skew_standardize',\n",
       "                                                   PowerTransformer())]),\n",
       "                                  ['lead_time', 'total_price', 'total_guests'])],\n",
       "                   verbose_feature_names_out=False)}"
      ]
     },
     "execution_count": 86,
     "metadata": {},
     "output_type": "execute_result"
    }
   ],
   "source": [
    "# Create a categorical processing pipeline that uses one-hot encoding, dropping binary columns.\n",
    "cat_pipe = Pipeline([('encoder', OneHotEncoder(drop='if_binary'))])\n",
    "# Create a numerical processing pipeline that includes variance thresholding and power transformation.\n",
    "num_pipe = Pipeline([('variance', VarianceThreshold()),('skew_standardize', PowerTransformer())])\n",
    "#set_config(transform_output=\"pandas\")\n",
    "all_pipe = make_pipeline(ColumnTransformer([('cat', cat_pipe, cats),('num', num_pipe, nums)],\n",
    "                                          verbose_feature_names_out=False))\n",
    "all_pipe.named_steps\n"
   ]
  },
  {
   "cell_type": "markdown",
   "metadata": {},
   "source": [
    "## In the Data Split and Preprocessing Pipeline, the code defines predictor variables as categorical and numerical. It creates a binary target variable, 'book_binary,' for modeling. Two pipelines are set up: one for categorical data with one-hot encoding, and another for numerical data using variance thresholding and power transformation. These pipelines are combined into 'all_pipe,' which handles data transformations. The 'named_steps' attribute displays the structure of these transformations."
   ]
  },
  {
   "cell_type": "markdown",
   "metadata": {},
   "source": [
    "## Creating a balanced training dataset"
   ]
  },
  {
   "cell_type": "code",
   "execution_count": 87,
   "metadata": {
    "ExecuteTime": {
     "end_time": "2023-10-16T19:36:14.134223Z",
     "start_time": "2023-10-16T19:36:14.062698Z"
    }
   },
   "outputs": [
    {
     "name": "stdout",
     "output_type": "stream",
     "text": [
      "(27000, 8)\n",
      "(27000,)\n",
      "(4637, 8)\n",
      "(4637,)\n",
      "(4638, 8)\n",
      "(4638,)\n"
     ]
    }
   ],
   "source": [
    "# Split the data into features (X) and the binary target variable (y).\n",
    "X = df[all_vars]\n",
    "y = df['book_binary']\n",
    "# Perform a three-way split: training, validation, and test sets.\n",
    "# First, split the data into training (X_train, y_train) and the rest (X_test, y_test).\n",
    "X_train, X_test, y_train, y_test = train_test_split(X, y, train_size = 27000, stratify=y, random_state=1)\n",
    "X_val, X_test, y_val, y_test = train_test_split(X_test, y_test, train_size=.50, random_state=1)\n",
    "#X_train, X_test, y_train, y_test = train_test_split(X, y, train_size = 27000, random_state=1)\n",
    "#X_train, X_val, y_train, y_val = train_test_split(X_train, y_train, train_size=15000, random_state=1)\n",
    "# Print the shapes of the resulting datasets for verification.\n",
    "\n",
    "print(X_train.shape)\n",
    "print(y_train.shape)\n",
    "print(X_val.shape)\n",
    "print(y_val.shape)\n",
    "print(X_test.shape)\n",
    "print(y_test.shape)"
   ]
  },
  {
   "cell_type": "code",
   "execution_count": 88,
   "metadata": {
    "ExecuteTime": {
     "end_time": "2023-10-16T19:36:14.174972Z",
     "start_time": "2023-10-16T19:36:14.144805Z"
    }
   },
   "outputs": [
    {
     "data": {
      "text/plain": [
       "0    0.67237\n",
       "1    0.32763\n",
       "Name: book_binary, dtype: float64"
      ]
     },
     "execution_count": 88,
     "metadata": {},
     "output_type": "execute_result"
    }
   ],
   "source": [
    "# Confirm stratified split \n",
    "y_train.value_counts()/len(y_train)"
   ]
  },
  {
   "cell_type": "code",
   "execution_count": 89,
   "metadata": {
    "ExecuteTime": {
     "end_time": "2023-10-16T19:36:14.220416Z",
     "start_time": "2023-10-16T19:36:14.190912Z"
    }
   },
   "outputs": [
    {
     "data": {
      "text/plain": [
       "0    18154\n",
       "1     8846\n",
       "Name: book_binary, dtype: int64"
      ]
     },
     "execution_count": 89,
     "metadata": {},
     "output_type": "execute_result"
    }
   ],
   "source": [
    "# Count the number of instances for each unique value in the y_train \n",
    "y_train.value_counts()"
   ]
  },
  {
   "cell_type": "code",
   "execution_count": 90,
   "metadata": {
    "ExecuteTime": {
     "end_time": "2023-10-16T19:36:14.243811Z",
     "start_time": "2023-10-16T19:36:14.234797Z"
    }
   },
   "outputs": [],
   "source": [
    "#from imblearn.over_sampling import RandomOverSampler\n",
    "#ros=RandomOverSampler(random_state=1)\n",
    "#X_train_over, y_train_over = ros.fit_resample(X_train, y_train)\n",
    "\n",
    "# Check proportions \n",
    "#y_train_over.value_counts()"
   ]
  },
  {
   "cell_type": "code",
   "execution_count": 91,
   "metadata": {
    "ExecuteTime": {
     "end_time": "2023-10-16T19:36:14.335635Z",
     "start_time": "2023-10-16T19:36:14.252825Z"
    }
   },
   "outputs": [
    {
     "data": {
      "text/plain": [
       "1    8846\n",
       "0    8846\n",
       "Name: book_binary, dtype: int64"
      ]
     },
     "execution_count": 91,
     "metadata": {},
     "output_type": "execute_result"
    }
   ],
   "source": [
    "# Create a RandomUnderSampler instance with a specified random seed and sampling strategy\n",
    "rus = RandomUnderSampler(random_state = 1, sampling_strategy='majority')\n",
    "\n",
    "# Perform random under-sampling on the training dataset\n",
    "X_train_under, y_train_under =rus.fit_resample(X_train, y_train)\n",
    "\n",
    "# Check proportions \n",
    "y_train_under.value_counts()"
   ]
  },
  {
   "cell_type": "code",
   "execution_count": 92,
   "metadata": {
    "ExecuteTime": {
     "end_time": "2023-10-16T19:36:14.390575Z",
     "start_time": "2023-10-16T19:36:14.346820Z"
    }
   },
   "outputs": [
    {
     "name": "stdout",
     "output_type": "stream",
     "text": [
      "<class 'pandas.core.frame.DataFrame'>\n",
      "Int64Index: 17692 entries, 1067 to 28199\n",
      "Data columns (total 8 columns):\n",
      " #   Column                      Non-Null Count  Dtype   \n",
      "---  ------                      --------------  -----   \n",
      " 0   market_segment_type         17692 non-null  category\n",
      " 1   season                      17692 non-null  category\n",
      " 2   required_car_parking_space  17692 non-null  category\n",
      " 3   repeated_guest              17692 non-null  category\n",
      " 4   special_requests            17692 non-null  category\n",
      " 5   lead_time                   17692 non-null  int64   \n",
      " 6   total_price                 17692 non-null  float64 \n",
      " 7   total_guests                17692 non-null  int64   \n",
      "dtypes: category(5), float64(1), int64(2)\n",
      "memory usage: 640.0 KB\n"
     ]
    }
   ],
   "source": [
    "# Display information about the X_train_under dataset\n",
    "X_train_under.info()"
   ]
  },
  {
   "cell_type": "markdown",
   "metadata": {},
   "source": [
    "## In the section on creating a balanced training dataset, the code splits the data into features (X) and the binary target variable (y). It then performs a three-way split to create training, validation, and test sets, ensuring that they are stratified based on the target variable to maintain class balance. The resulting dataset shapes are displayed to verify the split. The 'X_train_under' dataset creates a balanced outcome variable for training. The validation and testing sets are left with the original ratio. This preprocessing step prepares the data for subsequent modeling and analysis."
   ]
  },
  {
   "cell_type": "markdown",
   "metadata": {},
   "source": [
    "## Transform Datasets with Pipeline"
   ]
  },
  {
   "cell_type": "code",
   "execution_count": 93,
   "metadata": {
    "ExecuteTime": {
     "end_time": "2023-10-16T19:36:14.859007Z",
     "start_time": "2023-10-16T19:36:14.401330Z"
    }
   },
   "outputs": [],
   "source": [
    "#Fit pipeline to resampled data\n",
    "X_train_resampled = all_pipe.fit(X_train_under)\n",
    "#Get feature names out from fit and create as new list\n",
    "X_train_cols = X_train_resampled.get_feature_names_out().tolist()\n",
    "#Create new dataframe with transformed data, and apply feature name list as column names\n",
    "X_train_bal = pd.DataFrame(all_pipe.fit_transform(X_train_under), columns = X_train_cols)"
   ]
  },
  {
   "cell_type": "code",
   "execution_count": 94,
   "metadata": {
    "ExecuteTime": {
     "end_time": "2023-10-16T19:36:15.004267Z",
     "start_time": "2023-10-16T19:36:14.865575Z"
    }
   },
   "outputs": [],
   "source": [
    "#Create new dataframe with transformed validation and testing data, and apply feature name list as column names\n",
    "X_val = pd.DataFrame(all_pipe.fit_transform(X_val), columns = X_train_cols)\n",
    "X_test = pd.DataFrame(all_pipe.fit_transform(X_test), columns = X_train_cols)"
   ]
  },
  {
   "cell_type": "code",
   "execution_count": 95,
   "metadata": {
    "ExecuteTime": {
     "end_time": "2023-10-16T19:36:15.029067Z",
     "start_time": "2023-10-16T19:36:15.015860Z"
    }
   },
   "outputs": [
    {
     "data": {
      "text/plain": [
       "((17692, 15), (4637, 15), (4638, 15))"
      ]
     },
     "execution_count": 95,
     "metadata": {},
     "output_type": "execute_result"
    }
   ],
   "source": [
    "# Display the shapes of different datasets to check their dimensions\n",
    "X_train_bal.shape, X_val.shape, X_test.shape"
   ]
  },
  {
   "cell_type": "code",
   "execution_count": 96,
   "metadata": {
    "ExecuteTime": {
     "end_time": "2023-10-16T19:36:15.093433Z",
     "start_time": "2023-10-16T19:36:15.045237Z"
    }
   },
   "outputs": [
    {
     "data": {
      "text/html": [
       "<div>\n",
       "<style scoped>\n",
       "    .dataframe tbody tr th:only-of-type {\n",
       "        vertical-align: middle;\n",
       "    }\n",
       "\n",
       "    .dataframe tbody tr th {\n",
       "        vertical-align: top;\n",
       "    }\n",
       "\n",
       "    .dataframe thead th {\n",
       "        text-align: right;\n",
       "    }\n",
       "</style>\n",
       "<table border=\"1\" class=\"dataframe\">\n",
       "  <thead>\n",
       "    <tr style=\"text-align: right;\">\n",
       "      <th></th>\n",
       "      <th>market_segment_type_Aviation</th>\n",
       "      <th>market_segment_type_Complementary</th>\n",
       "      <th>market_segment_type_Corporate</th>\n",
       "      <th>market_segment_type_Offline</th>\n",
       "      <th>market_segment_type_Online</th>\n",
       "      <th>season_Autumn</th>\n",
       "      <th>season_Spring</th>\n",
       "      <th>season_Summer</th>\n",
       "      <th>season_Winter</th>\n",
       "      <th>required_car_parking_space_1</th>\n",
       "      <th>repeated_guest_1</th>\n",
       "      <th>special_requests_1</th>\n",
       "      <th>lead_time</th>\n",
       "      <th>total_price</th>\n",
       "      <th>total_guests</th>\n",
       "    </tr>\n",
       "  </thead>\n",
       "  <tbody>\n",
       "    <tr>\n",
       "      <th>0</th>\n",
       "      <td>0.0</td>\n",
       "      <td>0.0</td>\n",
       "      <td>0.0</td>\n",
       "      <td>0.0</td>\n",
       "      <td>1.0</td>\n",
       "      <td>0.0</td>\n",
       "      <td>1.0</td>\n",
       "      <td>0.0</td>\n",
       "      <td>0.0</td>\n",
       "      <td>0.0</td>\n",
       "      <td>0.0</td>\n",
       "      <td>1.0</td>\n",
       "      <td>-0.826710</td>\n",
       "      <td>1.050635</td>\n",
       "      <td>0.137698</td>\n",
       "    </tr>\n",
       "    <tr>\n",
       "      <th>1</th>\n",
       "      <td>0.0</td>\n",
       "      <td>0.0</td>\n",
       "      <td>0.0</td>\n",
       "      <td>1.0</td>\n",
       "      <td>0.0</td>\n",
       "      <td>0.0</td>\n",
       "      <td>0.0</td>\n",
       "      <td>1.0</td>\n",
       "      <td>0.0</td>\n",
       "      <td>0.0</td>\n",
       "      <td>0.0</td>\n",
       "      <td>0.0</td>\n",
       "      <td>0.465769</td>\n",
       "      <td>-1.355087</td>\n",
       "      <td>-1.667318</td>\n",
       "    </tr>\n",
       "    <tr>\n",
       "      <th>2</th>\n",
       "      <td>0.0</td>\n",
       "      <td>0.0</td>\n",
       "      <td>0.0</td>\n",
       "      <td>1.0</td>\n",
       "      <td>0.0</td>\n",
       "      <td>0.0</td>\n",
       "      <td>0.0</td>\n",
       "      <td>0.0</td>\n",
       "      <td>1.0</td>\n",
       "      <td>0.0</td>\n",
       "      <td>0.0</td>\n",
       "      <td>0.0</td>\n",
       "      <td>0.001580</td>\n",
       "      <td>0.086355</td>\n",
       "      <td>0.137698</td>\n",
       "    </tr>\n",
       "    <tr>\n",
       "      <th>3</th>\n",
       "      <td>0.0</td>\n",
       "      <td>0.0</td>\n",
       "      <td>0.0</td>\n",
       "      <td>1.0</td>\n",
       "      <td>0.0</td>\n",
       "      <td>0.0</td>\n",
       "      <td>1.0</td>\n",
       "      <td>0.0</td>\n",
       "      <td>0.0</td>\n",
       "      <td>0.0</td>\n",
       "      <td>0.0</td>\n",
       "      <td>0.0</td>\n",
       "      <td>1.461213</td>\n",
       "      <td>0.183550</td>\n",
       "      <td>0.137698</td>\n",
       "    </tr>\n",
       "    <tr>\n",
       "      <th>4</th>\n",
       "      <td>0.0</td>\n",
       "      <td>0.0</td>\n",
       "      <td>0.0</td>\n",
       "      <td>1.0</td>\n",
       "      <td>0.0</td>\n",
       "      <td>1.0</td>\n",
       "      <td>0.0</td>\n",
       "      <td>0.0</td>\n",
       "      <td>0.0</td>\n",
       "      <td>0.0</td>\n",
       "      <td>0.0</td>\n",
       "      <td>0.0</td>\n",
       "      <td>0.238323</td>\n",
       "      <td>-0.323012</td>\n",
       "      <td>0.137698</td>\n",
       "    </tr>\n",
       "  </tbody>\n",
       "</table>\n",
       "</div>"
      ],
      "text/plain": [
       "   market_segment_type_Aviation  market_segment_type_Complementary  \\\n",
       "0                           0.0                                0.0   \n",
       "1                           0.0                                0.0   \n",
       "2                           0.0                                0.0   \n",
       "3                           0.0                                0.0   \n",
       "4                           0.0                                0.0   \n",
       "\n",
       "   market_segment_type_Corporate  market_segment_type_Offline  \\\n",
       "0                            0.0                          0.0   \n",
       "1                            0.0                          1.0   \n",
       "2                            0.0                          1.0   \n",
       "3                            0.0                          1.0   \n",
       "4                            0.0                          1.0   \n",
       "\n",
       "   market_segment_type_Online  season_Autumn  season_Spring  season_Summer  \\\n",
       "0                         1.0            0.0            1.0            0.0   \n",
       "1                         0.0            0.0            0.0            1.0   \n",
       "2                         0.0            0.0            0.0            0.0   \n",
       "3                         0.0            0.0            1.0            0.0   \n",
       "4                         0.0            1.0            0.0            0.0   \n",
       "\n",
       "   season_Winter  required_car_parking_space_1  repeated_guest_1  \\\n",
       "0            0.0                           0.0               0.0   \n",
       "1            0.0                           0.0               0.0   \n",
       "2            1.0                           0.0               0.0   \n",
       "3            0.0                           0.0               0.0   \n",
       "4            0.0                           0.0               0.0   \n",
       "\n",
       "   special_requests_1  lead_time  total_price  total_guests  \n",
       "0                 1.0  -0.826710     1.050635      0.137698  \n",
       "1                 0.0   0.465769    -1.355087     -1.667318  \n",
       "2                 0.0   0.001580     0.086355      0.137698  \n",
       "3                 0.0   1.461213     0.183550      0.137698  \n",
       "4                 0.0   0.238323    -0.323012      0.137698  "
      ]
     },
     "execution_count": 96,
     "metadata": {},
     "output_type": "execute_result"
    }
   ],
   "source": [
    "# View the balanced training data\n",
    "X_train_bal.head()"
   ]
  },
  {
   "cell_type": "markdown",
   "metadata": {},
   "source": [
    "### Predictors for logistic regression with one of the dummies removed: need C-1 dummies for linear models"
   ]
  },
  {
   "cell_type": "code",
   "execution_count": 97,
   "metadata": {
    "ExecuteTime": {
     "end_time": "2023-10-16T19:36:15.114004Z",
     "start_time": "2023-10-16T19:36:15.101382Z"
    }
   },
   "outputs": [],
   "source": [
    "# Remove specific columns from the datasets\n",
    "X_train_log = X_train_bal.drop(['market_segment_type_Aviation', 'season_Autumn'], axis = 1)\n",
    "X_val_log = X_val.drop(['market_segment_type_Aviation', 'season_Autumn'], axis = 1)\n",
    "X_test_log = X_test.drop(['market_segment_type_Aviation', 'season_Autumn'], axis = 1)"
   ]
  },
  {
   "cell_type": "markdown",
   "metadata": {},
   "source": [
    "## The code fits the data transformation pipeline ('all_pipe') to the resampled training data, extracts feature names, and creates a list ('X_train_cols') for them. It applies this list as column names to new dataframes for balanced training, validation, and test datasets. Additionally, specific columns, 'market_segment_type_Aviation' and 'season_Autumn,' are removed from the training set speficially for logistic regression. These steps prepare the data for modeling and analysis, ensuring proper transformations and feature selection."
   ]
  },
  {
   "cell_type": "markdown",
   "metadata": {},
   "source": [
    "# Feature Importance"
   ]
  },
  {
   "cell_type": "code",
   "execution_count": 98,
   "metadata": {
    "ExecuteTime": {
     "end_time": "2023-10-16T19:36:16.970454Z",
     "start_time": "2023-10-16T19:36:15.117815Z"
    }
   },
   "outputs": [
    {
     "data": {
      "text/html": [
       "<style>#sk-container-id-1 {color: black;background-color: white;}#sk-container-id-1 pre{padding: 0;}#sk-container-id-1 div.sk-toggleable {background-color: white;}#sk-container-id-1 label.sk-toggleable__label {cursor: pointer;display: block;width: 100%;margin-bottom: 0;padding: 0.3em;box-sizing: border-box;text-align: center;}#sk-container-id-1 label.sk-toggleable__label-arrow:before {content: \"▸\";float: left;margin-right: 0.25em;color: #696969;}#sk-container-id-1 label.sk-toggleable__label-arrow:hover:before {color: black;}#sk-container-id-1 div.sk-estimator:hover label.sk-toggleable__label-arrow:before {color: black;}#sk-container-id-1 div.sk-toggleable__content {max-height: 0;max-width: 0;overflow: hidden;text-align: left;background-color: #f0f8ff;}#sk-container-id-1 div.sk-toggleable__content pre {margin: 0.2em;color: black;border-radius: 0.25em;background-color: #f0f8ff;}#sk-container-id-1 input.sk-toggleable__control:checked~div.sk-toggleable__content {max-height: 200px;max-width: 100%;overflow: auto;}#sk-container-id-1 input.sk-toggleable__control:checked~label.sk-toggleable__label-arrow:before {content: \"▾\";}#sk-container-id-1 div.sk-estimator input.sk-toggleable__control:checked~label.sk-toggleable__label {background-color: #d4ebff;}#sk-container-id-1 div.sk-label input.sk-toggleable__control:checked~label.sk-toggleable__label {background-color: #d4ebff;}#sk-container-id-1 input.sk-hidden--visually {border: 0;clip: rect(1px 1px 1px 1px);clip: rect(1px, 1px, 1px, 1px);height: 1px;margin: -1px;overflow: hidden;padding: 0;position: absolute;width: 1px;}#sk-container-id-1 div.sk-estimator {font-family: monospace;background-color: #f0f8ff;border: 1px dotted black;border-radius: 0.25em;box-sizing: border-box;margin-bottom: 0.5em;}#sk-container-id-1 div.sk-estimator:hover {background-color: #d4ebff;}#sk-container-id-1 div.sk-parallel-item::after {content: \"\";width: 100%;border-bottom: 1px solid gray;flex-grow: 1;}#sk-container-id-1 div.sk-label:hover label.sk-toggleable__label {background-color: #d4ebff;}#sk-container-id-1 div.sk-serial::before {content: \"\";position: absolute;border-left: 1px solid gray;box-sizing: border-box;top: 0;bottom: 0;left: 50%;z-index: 0;}#sk-container-id-1 div.sk-serial {display: flex;flex-direction: column;align-items: center;background-color: white;padding-right: 0.2em;padding-left: 0.2em;position: relative;}#sk-container-id-1 div.sk-item {position: relative;z-index: 1;}#sk-container-id-1 div.sk-parallel {display: flex;align-items: stretch;justify-content: center;background-color: white;position: relative;}#sk-container-id-1 div.sk-item::before, #sk-container-id-1 div.sk-parallel-item::before {content: \"\";position: absolute;border-left: 1px solid gray;box-sizing: border-box;top: 0;bottom: 0;left: 50%;z-index: -1;}#sk-container-id-1 div.sk-parallel-item {display: flex;flex-direction: column;z-index: 1;position: relative;background-color: white;}#sk-container-id-1 div.sk-parallel-item:first-child::after {align-self: flex-end;width: 50%;}#sk-container-id-1 div.sk-parallel-item:last-child::after {align-self: flex-start;width: 50%;}#sk-container-id-1 div.sk-parallel-item:only-child::after {width: 0;}#sk-container-id-1 div.sk-dashed-wrapped {border: 1px dashed gray;margin: 0 0.4em 0.5em 0.4em;box-sizing: border-box;padding-bottom: 0.4em;background-color: white;}#sk-container-id-1 div.sk-label label {font-family: monospace;font-weight: bold;display: inline-block;line-height: 1.2em;}#sk-container-id-1 div.sk-label-container {text-align: center;}#sk-container-id-1 div.sk-container {/* jupyter's `normalize.less` sets `[hidden] { display: none; }` but bootstrap.min.css set `[hidden] { display: none !important; }` so we also need the `!important` here to be able to override the default hidden behavior on the sphinx rendered scikit-learn.org. See: https://github.com/scikit-learn/scikit-learn/issues/21755 */display: inline-block !important;position: relative;}#sk-container-id-1 div.sk-text-repr-fallback {display: none;}</style><div id=\"sk-container-id-1\" class=\"sk-top-container\"><div class=\"sk-text-repr-fallback\"><pre>RandomForestClassifier(random_state=1)</pre><b>In a Jupyter environment, please rerun this cell to show the HTML representation or trust the notebook. <br />On GitHub, the HTML representation is unable to render, please try loading this page with nbviewer.org.</b></div><div class=\"sk-container\" hidden><div class=\"sk-item\"><div class=\"sk-estimator sk-toggleable\"><input class=\"sk-toggleable__control sk-hidden--visually\" id=\"sk-estimator-id-1\" type=\"checkbox\" checked><label for=\"sk-estimator-id-1\" class=\"sk-toggleable__label sk-toggleable__label-arrow\">RandomForestClassifier</label><div class=\"sk-toggleable__content\"><pre>RandomForestClassifier(random_state=1)</pre></div></div></div></div></div>"
      ],
      "text/plain": [
       "RandomForestClassifier(random_state=1)"
      ]
     },
     "execution_count": 98,
     "metadata": {},
     "output_type": "execute_result"
    }
   ],
   "source": [
    "# Create a Random Forest classifier with 100 trees (you can adjust the number of trees) and set a random seed for reproducibility\n",
    "random_forest = RandomForestClassifier(n_estimators=100, random_state=1)  \n",
    "\n",
    "# Fit (train) the Random Forest classifier on the balanced training data\n",
    "random_forest.fit(X_train_bal, y_train_under)\n"
   ]
  },
  {
   "cell_type": "code",
   "execution_count": 99,
   "metadata": {
    "ExecuteTime": {
     "end_time": "2023-10-16T19:36:17.011556Z",
     "start_time": "2023-10-16T19:36:16.975615Z"
    }
   },
   "outputs": [
    {
     "name": "stdout",
     "output_type": "stream",
     "text": [
      "Feature Importance Scores\n",
      "lead_time: 0.4413\n",
      "total_price: 0.3092\n",
      "special_requests_1: 0.0955\n",
      "total_guests: 0.0321\n",
      "market_segment_type_Online: 0.0312\n",
      "market_segment_type_Offline: 0.0223\n",
      "season_Winter: 0.0217\n",
      "required_car_parking_space_1: 0.0084\n",
      "season_Spring: 0.0081\n",
      "season_Summer: 0.0079\n",
      "season_Autumn: 0.0075\n",
      "market_segment_type_Corporate: 0.0068\n",
      "repeated_guest_1: 0.0058\n",
      "market_segment_type_Complementary: 0.0014\n",
      "market_segment_type_Aviation: 0.0007\n"
     ]
    }
   ],
   "source": [
    "# Get feature importance scores\n",
    "importances=random_forest.feature_importances_\n",
    "feature_importance_pairs=list(zip(X_train_bal.columns, importances))\n",
    "\n",
    "# Sort in descending order\n",
    "sorted_feature_importance_pairs = sorted(feature_importance_pairs, key=lambda x: x[1], reverse=True)\n",
    "\n",
    "# Print scores\n",
    "print(\"Feature Importance Scores\")\n",
    "for feature, importance in sorted_feature_importance_pairs:\n",
    "    print(f\"{feature}: {importance:.4f}\")"
   ]
  },
  {
   "cell_type": "code",
   "execution_count": 100,
   "metadata": {
    "ExecuteTime": {
     "end_time": "2023-10-16T19:36:17.182945Z",
     "start_time": "2023-10-16T19:36:17.023404Z"
    }
   },
   "outputs": [
    {
     "name": "stderr",
     "output_type": "stream",
     "text": [
      "/var/folders/b8/4ntn3_wd1wg59r0lmbfgfmwc0000gn/T/ipykernel_32933/1407123015.py:10: UserWarning: Matplotlib is currently using agg, which is a non-GUI backend, so cannot show the figure.\n",
      "  plt.show()\n"
     ]
    }
   ],
   "source": [
    "# Extract feature names and importances\n",
    "feature_names, importances = zip(*sorted_feature_importance_pairs)\n",
    "\n",
    "# Create a horizontal bar plot\n",
    "plt.figure(figsize=(10, 6))\n",
    "plt.barh(range(len(feature_names)), importances, align='center')\n",
    "plt.yticks(range(len(feature_names)), feature_names)\n",
    "plt.xlabel('Feature Importance')\n",
    "plt.gca().invert_yaxis()  # Invert the y-axis to show the most important features at the top\n",
    "plt.show()"
   ]
  },
  {
   "cell_type": "markdown",
   "metadata": {},
   "source": [
    "The most important features were lead time, total price, and whether the guest had a special request. "
   ]
  },
  {
   "cell_type": "markdown",
   "metadata": {},
   "source": [
    "## In the Feature Importance, a Random Forest classifier with 100 trees is trained on balanced data to assess feature importance for predicting cancellations. The most influential attributes are 'Lead Time,' 'Total Price,' and 'Special Requests_1,' emphasizing their significance in understanding guest cancellation behaviors. These insights are visually presented in a horizontal bar plot."
   ]
  },
  {
   "cell_type": "markdown",
   "metadata": {},
   "source": [
    "# Model Training"
   ]
  },
  {
   "cell_type": "markdown",
   "metadata": {},
   "source": [
    "## L2 penalized logistic regression with balanced data"
   ]
  },
  {
   "cell_type": "code",
   "execution_count": 101,
   "metadata": {
    "ExecuteTime": {
     "end_time": "2023-10-16T19:36:19.796839Z",
     "start_time": "2023-10-16T19:36:17.187080Z"
    }
   },
   "outputs": [
    {
     "name": "stderr",
     "output_type": "stream",
     "text": [
      "/opt/miniconda3/envs/ADS500B/lib/python3.10/site-packages/sklearn/linear_model/_logistic.py:444: ConvergenceWarning: lbfgs failed to converge (status=1):\n",
      "STOP: TOTAL NO. of ITERATIONS REACHED LIMIT.\n",
      "\n",
      "Increase the number of iterations (max_iter) or scale the data as shown in:\n",
      "    https://scikit-learn.org/stable/modules/preprocessing.html\n",
      "Please also refer to the documentation for alternative solver options:\n",
      "    https://scikit-learn.org/stable/modules/linear_model.html#logistic-regression\n",
      "  n_iter_i = _check_optimize_result(\n"
     ]
    },
    {
     "data": {
      "text/html": [
       "<style>#sk-container-id-2 {color: black;background-color: white;}#sk-container-id-2 pre{padding: 0;}#sk-container-id-2 div.sk-toggleable {background-color: white;}#sk-container-id-2 label.sk-toggleable__label {cursor: pointer;display: block;width: 100%;margin-bottom: 0;padding: 0.3em;box-sizing: border-box;text-align: center;}#sk-container-id-2 label.sk-toggleable__label-arrow:before {content: \"▸\";float: left;margin-right: 0.25em;color: #696969;}#sk-container-id-2 label.sk-toggleable__label-arrow:hover:before {color: black;}#sk-container-id-2 div.sk-estimator:hover label.sk-toggleable__label-arrow:before {color: black;}#sk-container-id-2 div.sk-toggleable__content {max-height: 0;max-width: 0;overflow: hidden;text-align: left;background-color: #f0f8ff;}#sk-container-id-2 div.sk-toggleable__content pre {margin: 0.2em;color: black;border-radius: 0.25em;background-color: #f0f8ff;}#sk-container-id-2 input.sk-toggleable__control:checked~div.sk-toggleable__content {max-height: 200px;max-width: 100%;overflow: auto;}#sk-container-id-2 input.sk-toggleable__control:checked~label.sk-toggleable__label-arrow:before {content: \"▾\";}#sk-container-id-2 div.sk-estimator input.sk-toggleable__control:checked~label.sk-toggleable__label {background-color: #d4ebff;}#sk-container-id-2 div.sk-label input.sk-toggleable__control:checked~label.sk-toggleable__label {background-color: #d4ebff;}#sk-container-id-2 input.sk-hidden--visually {border: 0;clip: rect(1px 1px 1px 1px);clip: rect(1px, 1px, 1px, 1px);height: 1px;margin: -1px;overflow: hidden;padding: 0;position: absolute;width: 1px;}#sk-container-id-2 div.sk-estimator {font-family: monospace;background-color: #f0f8ff;border: 1px dotted black;border-radius: 0.25em;box-sizing: border-box;margin-bottom: 0.5em;}#sk-container-id-2 div.sk-estimator:hover {background-color: #d4ebff;}#sk-container-id-2 div.sk-parallel-item::after {content: \"\";width: 100%;border-bottom: 1px solid gray;flex-grow: 1;}#sk-container-id-2 div.sk-label:hover label.sk-toggleable__label {background-color: #d4ebff;}#sk-container-id-2 div.sk-serial::before {content: \"\";position: absolute;border-left: 1px solid gray;box-sizing: border-box;top: 0;bottom: 0;left: 50%;z-index: 0;}#sk-container-id-2 div.sk-serial {display: flex;flex-direction: column;align-items: center;background-color: white;padding-right: 0.2em;padding-left: 0.2em;position: relative;}#sk-container-id-2 div.sk-item {position: relative;z-index: 1;}#sk-container-id-2 div.sk-parallel {display: flex;align-items: stretch;justify-content: center;background-color: white;position: relative;}#sk-container-id-2 div.sk-item::before, #sk-container-id-2 div.sk-parallel-item::before {content: \"\";position: absolute;border-left: 1px solid gray;box-sizing: border-box;top: 0;bottom: 0;left: 50%;z-index: -1;}#sk-container-id-2 div.sk-parallel-item {display: flex;flex-direction: column;z-index: 1;position: relative;background-color: white;}#sk-container-id-2 div.sk-parallel-item:first-child::after {align-self: flex-end;width: 50%;}#sk-container-id-2 div.sk-parallel-item:last-child::after {align-self: flex-start;width: 50%;}#sk-container-id-2 div.sk-parallel-item:only-child::after {width: 0;}#sk-container-id-2 div.sk-dashed-wrapped {border: 1px dashed gray;margin: 0 0.4em 0.5em 0.4em;box-sizing: border-box;padding-bottom: 0.4em;background-color: white;}#sk-container-id-2 div.sk-label label {font-family: monospace;font-weight: bold;display: inline-block;line-height: 1.2em;}#sk-container-id-2 div.sk-label-container {text-align: center;}#sk-container-id-2 div.sk-container {/* jupyter's `normalize.less` sets `[hidden] { display: none; }` but bootstrap.min.css set `[hidden] { display: none !important; }` so we also need the `!important` here to be able to override the default hidden behavior on the sphinx rendered scikit-learn.org. See: https://github.com/scikit-learn/scikit-learn/issues/21755 */display: inline-block !important;position: relative;}#sk-container-id-2 div.sk-text-repr-fallback {display: none;}</style><div id=\"sk-container-id-2\" class=\"sk-top-container\"><div class=\"sk-text-repr-fallback\"><pre>LogisticRegressionCV(cv=5, random_state=1)</pre><b>In a Jupyter environment, please rerun this cell to show the HTML representation or trust the notebook. <br />On GitHub, the HTML representation is unable to render, please try loading this page with nbviewer.org.</b></div><div class=\"sk-container\" hidden><div class=\"sk-item\"><div class=\"sk-estimator sk-toggleable\"><input class=\"sk-toggleable__control sk-hidden--visually\" id=\"sk-estimator-id-2\" type=\"checkbox\" checked><label for=\"sk-estimator-id-2\" class=\"sk-toggleable__label sk-toggleable__label-arrow\">LogisticRegressionCV</label><div class=\"sk-toggleable__content\"><pre>LogisticRegressionCV(cv=5, random_state=1)</pre></div></div></div></div></div>"
      ],
      "text/plain": [
       "LogisticRegressionCV(cv=5, random_state=1)"
      ]
     },
     "execution_count": 101,
     "metadata": {},
     "output_type": "execute_result"
    }
   ],
   "source": [
    "# Create Logistic Regression model with L2 regularization\n",
    "log_l2_bal = LogisticRegressionCV(solver = 'lbfgs', cv = 5, random_state = 1)\n",
    "# Fit the model to the training data\n",
    "log_l2_bal.fit(X_train_log, y_train_under.values.ravel())"
   ]
  },
  {
   "cell_type": "code",
   "execution_count": 112,
   "metadata": {
    "ExecuteTime": {
     "end_time": "2023-10-16T19:42:02.575681Z",
     "start_time": "2023-10-16T19:42:02.563283Z"
    }
   },
   "outputs": [
    {
     "data": {
      "text/plain": [
       "array([[-0.05586689, -0.09058129, -0.59656903,  0.67792759,  0.08227876,\n",
       "         0.13662713, -0.45866358, -0.35993276, -0.17111891, -1.38865516,\n",
       "         1.08625156,  0.21449904,  0.04635123]])"
      ]
     },
     "execution_count": 112,
     "metadata": {},
     "output_type": "execute_result"
    }
   ],
   "source": [
    "# Retrieve the coefficients of the trained Logistic Regression model\n",
    "log_l2_bal.coef_"
   ]
  },
  {
   "cell_type": "code",
   "execution_count": 115,
   "metadata": {
    "ExecuteTime": {
     "end_time": "2023-10-16T19:44:22.123188Z",
     "start_time": "2023-10-16T19:44:22.104048Z"
    }
   },
   "outputs": [
    {
     "data": {
      "text/html": [
       "<div>\n",
       "<style scoped>\n",
       "    .dataframe tbody tr th:only-of-type {\n",
       "        vertical-align: middle;\n",
       "    }\n",
       "\n",
       "    .dataframe tbody tr th {\n",
       "        vertical-align: top;\n",
       "    }\n",
       "\n",
       "    .dataframe thead th {\n",
       "        text-align: right;\n",
       "    }\n",
       "</style>\n",
       "<table border=\"1\" class=\"dataframe\">\n",
       "  <thead>\n",
       "    <tr style=\"text-align: right;\">\n",
       "      <th></th>\n",
       "      <th>Feature</th>\n",
       "      <th>Coefficient</th>\n",
       "    </tr>\n",
       "  </thead>\n",
       "  <tbody>\n",
       "    <tr>\n",
       "      <th>9</th>\n",
       "      <td>special_requests_1</td>\n",
       "      <td>-1.388655</td>\n",
       "    </tr>\n",
       "    <tr>\n",
       "      <th>10</th>\n",
       "      <td>lead_time</td>\n",
       "      <td>1.086252</td>\n",
       "    </tr>\n",
       "    <tr>\n",
       "      <th>3</th>\n",
       "      <td>market_segment_type_Online</td>\n",
       "      <td>0.677928</td>\n",
       "    </tr>\n",
       "    <tr>\n",
       "      <th>2</th>\n",
       "      <td>market_segment_type_Offline</td>\n",
       "      <td>-0.596569</td>\n",
       "    </tr>\n",
       "    <tr>\n",
       "      <th>6</th>\n",
       "      <td>season_Winter</td>\n",
       "      <td>-0.458664</td>\n",
       "    </tr>\n",
       "    <tr>\n",
       "      <th>7</th>\n",
       "      <td>required_car_parking_space_1</td>\n",
       "      <td>-0.359933</td>\n",
       "    </tr>\n",
       "    <tr>\n",
       "      <th>11</th>\n",
       "      <td>total_price</td>\n",
       "      <td>0.214499</td>\n",
       "    </tr>\n",
       "    <tr>\n",
       "      <th>8</th>\n",
       "      <td>repeated_guest_1</td>\n",
       "      <td>-0.171119</td>\n",
       "    </tr>\n",
       "    <tr>\n",
       "      <th>5</th>\n",
       "      <td>season_Summer</td>\n",
       "      <td>0.136627</td>\n",
       "    </tr>\n",
       "    <tr>\n",
       "      <th>1</th>\n",
       "      <td>market_segment_type_Corporate</td>\n",
       "      <td>-0.090581</td>\n",
       "    </tr>\n",
       "    <tr>\n",
       "      <th>4</th>\n",
       "      <td>season_Spring</td>\n",
       "      <td>0.082279</td>\n",
       "    </tr>\n",
       "    <tr>\n",
       "      <th>0</th>\n",
       "      <td>market_segment_type_Complementary</td>\n",
       "      <td>-0.055867</td>\n",
       "    </tr>\n",
       "    <tr>\n",
       "      <th>12</th>\n",
       "      <td>total_guests</td>\n",
       "      <td>0.046351</td>\n",
       "    </tr>\n",
       "  </tbody>\n",
       "</table>\n",
       "</div>"
      ],
      "text/plain": [
       "                              Feature  Coefficient\n",
       "9                  special_requests_1    -1.388655\n",
       "10                          lead_time     1.086252\n",
       "3          market_segment_type_Online     0.677928\n",
       "2         market_segment_type_Offline    -0.596569\n",
       "6                       season_Winter    -0.458664\n",
       "7        required_car_parking_space_1    -0.359933\n",
       "11                        total_price     0.214499\n",
       "8                    repeated_guest_1    -0.171119\n",
       "5                       season_Summer     0.136627\n",
       "1       market_segment_type_Corporate    -0.090581\n",
       "4                       season_Spring     0.082279\n",
       "0   market_segment_type_Complementary    -0.055867\n",
       "12                       total_guests     0.046351"
      ]
     },
     "execution_count": 115,
     "metadata": {},
     "output_type": "execute_result"
    }
   ],
   "source": [
    "# Show coefficents w/ feature names \n",
    "coeffs = pd.DataFrame({\n",
    "    'Feature': X_train_log.columns,\n",
    "    'Coefficient': log_l2_bal.coef_[0]\n",
    "})\n",
    "\n",
    "#Sort in descending order by absolute value\n",
    "coeffs = coeffs.loc[coeffs['Coefficient'].abs().argsort()[::-1]]\n",
    "coeffs"
   ]
  },
  {
   "cell_type": "markdown",
   "metadata": {},
   "source": [
    "## KNN Classifier"
   ]
  },
  {
   "cell_type": "code",
   "execution_count": 103,
   "metadata": {
    "ExecuteTime": {
     "end_time": "2023-10-16T19:36:25.177553Z",
     "start_time": "2023-10-16T19:36:19.833948Z"
    }
   },
   "outputs": [],
   "source": [
    "# Initialize an empty list to store KNN results\n",
    "knn_results = []\n",
    "for k in range (1, 11):\n",
    "    # Create a K-Nearest Neighbors model with k neighbors and fit it to the balanced training data\n",
    "    knn_mod = KNeighborsClassifier(n_neighbors = k).fit(X_train_bal, y_train_under.values.ravel())\n",
    "    # Calculate and append results to the list\n",
    "    knn_results.append({\n",
    "        'k': k,\n",
    "        'Accuracy': accuracy_score(y_val.values.ravel(), knn_mod.predict(X_val)) \n",
    "    })\n",
    "# Create a DataFrame from the list of KNN results    \n",
    "knn_results = pd.DataFrame(knn_results)\n",
    "warnings.filterwarnings('ignore')"
   ]
  },
  {
   "cell_type": "code",
   "execution_count": 104,
   "metadata": {
    "ExecuteTime": {
     "end_time": "2023-10-16T19:36:25.206703Z",
     "start_time": "2023-10-16T19:36:25.181496Z"
    }
   },
   "outputs": [
    {
     "data": {
      "text/html": [
       "<div>\n",
       "<style scoped>\n",
       "    .dataframe tbody tr th:only-of-type {\n",
       "        vertical-align: middle;\n",
       "    }\n",
       "\n",
       "    .dataframe tbody tr th {\n",
       "        vertical-align: top;\n",
       "    }\n",
       "\n",
       "    .dataframe thead th {\n",
       "        text-align: right;\n",
       "    }\n",
       "</style>\n",
       "<table border=\"1\" class=\"dataframe\">\n",
       "  <thead>\n",
       "    <tr style=\"text-align: right;\">\n",
       "      <th></th>\n",
       "      <th>k</th>\n",
       "      <th>Accuracy</th>\n",
       "    </tr>\n",
       "  </thead>\n",
       "  <tbody>\n",
       "    <tr>\n",
       "      <th>0</th>\n",
       "      <td>1</td>\n",
       "      <td>0.725900</td>\n",
       "    </tr>\n",
       "    <tr>\n",
       "      <th>1</th>\n",
       "      <td>2</td>\n",
       "      <td>0.783696</td>\n",
       "    </tr>\n",
       "    <tr>\n",
       "      <th>2</th>\n",
       "      <td>3</td>\n",
       "      <td>0.758680</td>\n",
       "    </tr>\n",
       "    <tr>\n",
       "      <th>3</th>\n",
       "      <td>4</td>\n",
       "      <td>0.791029</td>\n",
       "    </tr>\n",
       "    <tr>\n",
       "      <th>4</th>\n",
       "      <td>5</td>\n",
       "      <td>0.775286</td>\n",
       "    </tr>\n",
       "    <tr>\n",
       "      <th>5</th>\n",
       "      <td>6</td>\n",
       "      <td>0.792323</td>\n",
       "    </tr>\n",
       "    <tr>\n",
       "      <th>6</th>\n",
       "      <td>7</td>\n",
       "      <td>0.786069</td>\n",
       "    </tr>\n",
       "    <tr>\n",
       "      <th>7</th>\n",
       "      <td>8</td>\n",
       "      <td>0.802674</td>\n",
       "    </tr>\n",
       "    <tr>\n",
       "      <th>8</th>\n",
       "      <td>9</td>\n",
       "      <td>0.791891</td>\n",
       "    </tr>\n",
       "    <tr>\n",
       "      <th>9</th>\n",
       "      <td>10</td>\n",
       "      <td>0.803968</td>\n",
       "    </tr>\n",
       "  </tbody>\n",
       "</table>\n",
       "</div>"
      ],
      "text/plain": [
       "    k  Accuracy\n",
       "0   1  0.725900\n",
       "1   2  0.783696\n",
       "2   3  0.758680\n",
       "3   4  0.791029\n",
       "4   5  0.775286\n",
       "5   6  0.792323\n",
       "6   7  0.786069\n",
       "7   8  0.802674\n",
       "8   9  0.791891\n",
       "9  10  0.803968"
      ]
     },
     "execution_count": 104,
     "metadata": {},
     "output_type": "execute_result"
    }
   ],
   "source": [
    "# Display the results\n",
    "knn_results"
   ]
  },
  {
   "cell_type": "code",
   "execution_count": 105,
   "metadata": {
    "ExecuteTime": {
     "end_time": "2023-10-16T19:36:25.295212Z",
     "start_time": "2023-10-16T19:36:25.225896Z"
    }
   },
   "outputs": [],
   "source": [
    "# Create a K-Nearest Neighbors (KNN) classifier with 4 neighbors and fit it to the balanced training data\n",
    "knn = KNeighborsClassifier(n_neighbors = 4).fit(X_train_bal, y_train_under.values.ravel())"
   ]
  },
  {
   "cell_type": "markdown",
   "metadata": {},
   "source": [
    "## Neural Network Classifier"
   ]
  },
  {
   "cell_type": "code",
   "execution_count": 106,
   "metadata": {
    "ExecuteTime": {
     "end_time": "2023-10-16T19:36:27.718931Z",
     "start_time": "2023-10-16T19:36:25.299218Z"
    }
   },
   "outputs": [],
   "source": [
    "# Create a Multi-layer Perceptron (MLP) classifier with specified settings and fit it to the balanced training data\n",
    "nn = MLPClassifier(hidden_layer_sizes=(6,4), solver = 'lbfgs', random_state=1)\n",
    "nn.fit(X_train_bal, y_train_under.values.ravel())\n",
    "warnings.filterwarnings('ignore')"
   ]
  },
  {
   "cell_type": "markdown",
   "metadata": {},
   "source": [
    "## Boosted Tree Classifier"
   ]
  },
  {
   "cell_type": "code",
   "execution_count": 107,
   "metadata": {
    "ExecuteTime": {
     "end_time": "2023-10-16T19:38:43.852052Z",
     "start_time": "2023-10-16T19:36:27.726572Z"
    }
   },
   "outputs": [
    {
     "ename": "KeyboardInterrupt",
     "evalue": "",
     "output_type": "error",
     "traceback": [
      "\u001b[0;31m---------------------------------------------------------------------------\u001b[0m",
      "\u001b[0;31mKeyboardInterrupt\u001b[0m                         Traceback (most recent call last)",
      "Input \u001b[0;32mIn [107]\u001b[0m, in \u001b[0;36m<cell line: 10>\u001b[0;34m()\u001b[0m\n\u001b[1;32m      8\u001b[0m tree_search \u001b[38;5;241m=\u001b[39m GridSearchCV(GradientBoostingClassifier(random_state\u001b[38;5;241m=\u001b[39m\u001b[38;5;241m1\u001b[39m), param_grid, cv\u001b[38;5;241m=\u001b[39m\u001b[38;5;241m5\u001b[39m, n_jobs\u001b[38;5;241m=\u001b[39m\u001b[38;5;241m-\u001b[39m\u001b[38;5;241m1\u001b[39m)\n\u001b[1;32m      9\u001b[0m \u001b[38;5;66;03m# Fit the GridSearchCV to the balanced training data to find the best hyperparameters\u001b[39;00m\n\u001b[0;32m---> 10\u001b[0m \u001b[43mtree_search\u001b[49m\u001b[38;5;241;43m.\u001b[39;49m\u001b[43mfit\u001b[49m\u001b[43m(\u001b[49m\u001b[43mX_train_bal\u001b[49m\u001b[43m,\u001b[49m\u001b[43m \u001b[49m\u001b[43my_train_under\u001b[49m\u001b[38;5;241;43m.\u001b[39;49m\u001b[43mvalues\u001b[49m\u001b[38;5;241;43m.\u001b[39;49m\u001b[43mravel\u001b[49m\u001b[43m(\u001b[49m\u001b[43m)\u001b[49m\u001b[43m)\u001b[49m\n\u001b[1;32m     11\u001b[0m \u001b[38;5;66;03m# Get the best hyperparameters found by the GridSearch\u001b[39;00m\n\u001b[1;32m     12\u001b[0m tree \u001b[38;5;241m=\u001b[39m tree_search\u001b[38;5;241m.\u001b[39mbest_params_\n",
      "File \u001b[0;32m/opt/miniconda3/envs/ADS500B/lib/python3.10/site-packages/sklearn/model_selection/_search.py:875\u001b[0m, in \u001b[0;36mBaseSearchCV.fit\u001b[0;34m(self, X, y, groups, **fit_params)\u001b[0m\n\u001b[1;32m    869\u001b[0m     results \u001b[38;5;241m=\u001b[39m \u001b[38;5;28mself\u001b[39m\u001b[38;5;241m.\u001b[39m_format_results(\n\u001b[1;32m    870\u001b[0m         all_candidate_params, n_splits, all_out, all_more_results\n\u001b[1;32m    871\u001b[0m     )\n\u001b[1;32m    873\u001b[0m     \u001b[38;5;28;01mreturn\u001b[39;00m results\n\u001b[0;32m--> 875\u001b[0m \u001b[38;5;28;43mself\u001b[39;49m\u001b[38;5;241;43m.\u001b[39;49m\u001b[43m_run_search\u001b[49m\u001b[43m(\u001b[49m\u001b[43mevaluate_candidates\u001b[49m\u001b[43m)\u001b[49m\n\u001b[1;32m    877\u001b[0m \u001b[38;5;66;03m# multimetric is determined here because in the case of a callable\u001b[39;00m\n\u001b[1;32m    878\u001b[0m \u001b[38;5;66;03m# self.scoring the return type is only known after calling\u001b[39;00m\n\u001b[1;32m    879\u001b[0m first_test_score \u001b[38;5;241m=\u001b[39m all_out[\u001b[38;5;241m0\u001b[39m][\u001b[38;5;124m\"\u001b[39m\u001b[38;5;124mtest_scores\u001b[39m\u001b[38;5;124m\"\u001b[39m]\n",
      "File \u001b[0;32m/opt/miniconda3/envs/ADS500B/lib/python3.10/site-packages/sklearn/model_selection/_search.py:1375\u001b[0m, in \u001b[0;36mGridSearchCV._run_search\u001b[0;34m(self, evaluate_candidates)\u001b[0m\n\u001b[1;32m   1373\u001b[0m \u001b[38;5;28;01mdef\u001b[39;00m \u001b[38;5;21m_run_search\u001b[39m(\u001b[38;5;28mself\u001b[39m, evaluate_candidates):\n\u001b[1;32m   1374\u001b[0m     \u001b[38;5;124;03m\"\"\"Search all candidates in param_grid\"\"\"\u001b[39;00m\n\u001b[0;32m-> 1375\u001b[0m     \u001b[43mevaluate_candidates\u001b[49m\u001b[43m(\u001b[49m\u001b[43mParameterGrid\u001b[49m\u001b[43m(\u001b[49m\u001b[38;5;28;43mself\u001b[39;49m\u001b[38;5;241;43m.\u001b[39;49m\u001b[43mparam_grid\u001b[49m\u001b[43m)\u001b[49m\u001b[43m)\u001b[49m\n",
      "File \u001b[0;32m/opt/miniconda3/envs/ADS500B/lib/python3.10/site-packages/sklearn/model_selection/_search.py:822\u001b[0m, in \u001b[0;36mBaseSearchCV.fit.<locals>.evaluate_candidates\u001b[0;34m(candidate_params, cv, more_results)\u001b[0m\n\u001b[1;32m    814\u001b[0m \u001b[38;5;28;01mif\u001b[39;00m \u001b[38;5;28mself\u001b[39m\u001b[38;5;241m.\u001b[39mverbose \u001b[38;5;241m>\u001b[39m \u001b[38;5;241m0\u001b[39m:\n\u001b[1;32m    815\u001b[0m     \u001b[38;5;28mprint\u001b[39m(\n\u001b[1;32m    816\u001b[0m         \u001b[38;5;124m\"\u001b[39m\u001b[38;5;124mFitting \u001b[39m\u001b[38;5;132;01m{0}\u001b[39;00m\u001b[38;5;124m folds for each of \u001b[39m\u001b[38;5;132;01m{1}\u001b[39;00m\u001b[38;5;124m candidates,\u001b[39m\u001b[38;5;124m\"\u001b[39m\n\u001b[1;32m    817\u001b[0m         \u001b[38;5;124m\"\u001b[39m\u001b[38;5;124m totalling \u001b[39m\u001b[38;5;132;01m{2}\u001b[39;00m\u001b[38;5;124m fits\u001b[39m\u001b[38;5;124m\"\u001b[39m\u001b[38;5;241m.\u001b[39mformat(\n\u001b[1;32m    818\u001b[0m             n_splits, n_candidates, n_candidates \u001b[38;5;241m*\u001b[39m n_splits\n\u001b[1;32m    819\u001b[0m         )\n\u001b[1;32m    820\u001b[0m     )\n\u001b[0;32m--> 822\u001b[0m out \u001b[38;5;241m=\u001b[39m \u001b[43mparallel\u001b[49m\u001b[43m(\u001b[49m\n\u001b[1;32m    823\u001b[0m \u001b[43m    \u001b[49m\u001b[43mdelayed\u001b[49m\u001b[43m(\u001b[49m\u001b[43m_fit_and_score\u001b[49m\u001b[43m)\u001b[49m\u001b[43m(\u001b[49m\n\u001b[1;32m    824\u001b[0m \u001b[43m        \u001b[49m\u001b[43mclone\u001b[49m\u001b[43m(\u001b[49m\u001b[43mbase_estimator\u001b[49m\u001b[43m)\u001b[49m\u001b[43m,\u001b[49m\n\u001b[1;32m    825\u001b[0m \u001b[43m        \u001b[49m\u001b[43mX\u001b[49m\u001b[43m,\u001b[49m\n\u001b[1;32m    826\u001b[0m \u001b[43m        \u001b[49m\u001b[43my\u001b[49m\u001b[43m,\u001b[49m\n\u001b[1;32m    827\u001b[0m \u001b[43m        \u001b[49m\u001b[43mtrain\u001b[49m\u001b[38;5;241;43m=\u001b[39;49m\u001b[43mtrain\u001b[49m\u001b[43m,\u001b[49m\n\u001b[1;32m    828\u001b[0m \u001b[43m        \u001b[49m\u001b[43mtest\u001b[49m\u001b[38;5;241;43m=\u001b[39;49m\u001b[43mtest\u001b[49m\u001b[43m,\u001b[49m\n\u001b[1;32m    829\u001b[0m \u001b[43m        \u001b[49m\u001b[43mparameters\u001b[49m\u001b[38;5;241;43m=\u001b[39;49m\u001b[43mparameters\u001b[49m\u001b[43m,\u001b[49m\n\u001b[1;32m    830\u001b[0m \u001b[43m        \u001b[49m\u001b[43msplit_progress\u001b[49m\u001b[38;5;241;43m=\u001b[39;49m\u001b[43m(\u001b[49m\u001b[43msplit_idx\u001b[49m\u001b[43m,\u001b[49m\u001b[43m \u001b[49m\u001b[43mn_splits\u001b[49m\u001b[43m)\u001b[49m\u001b[43m,\u001b[49m\n\u001b[1;32m    831\u001b[0m \u001b[43m        \u001b[49m\u001b[43mcandidate_progress\u001b[49m\u001b[38;5;241;43m=\u001b[39;49m\u001b[43m(\u001b[49m\u001b[43mcand_idx\u001b[49m\u001b[43m,\u001b[49m\u001b[43m \u001b[49m\u001b[43mn_candidates\u001b[49m\u001b[43m)\u001b[49m\u001b[43m,\u001b[49m\n\u001b[1;32m    832\u001b[0m \u001b[43m        \u001b[49m\u001b[38;5;241;43m*\u001b[39;49m\u001b[38;5;241;43m*\u001b[39;49m\u001b[43mfit_and_score_kwargs\u001b[49m\u001b[43m,\u001b[49m\n\u001b[1;32m    833\u001b[0m \u001b[43m    \u001b[49m\u001b[43m)\u001b[49m\n\u001b[1;32m    834\u001b[0m \u001b[43m    \u001b[49m\u001b[38;5;28;43;01mfor\u001b[39;49;00m\u001b[43m \u001b[49m\u001b[43m(\u001b[49m\u001b[43mcand_idx\u001b[49m\u001b[43m,\u001b[49m\u001b[43m \u001b[49m\u001b[43mparameters\u001b[49m\u001b[43m)\u001b[49m\u001b[43m,\u001b[49m\u001b[43m \u001b[49m\u001b[43m(\u001b[49m\u001b[43msplit_idx\u001b[49m\u001b[43m,\u001b[49m\u001b[43m \u001b[49m\u001b[43m(\u001b[49m\u001b[43mtrain\u001b[49m\u001b[43m,\u001b[49m\u001b[43m \u001b[49m\u001b[43mtest\u001b[49m\u001b[43m)\u001b[49m\u001b[43m)\u001b[49m\u001b[43m \u001b[49m\u001b[38;5;129;43;01min\u001b[39;49;00m\u001b[43m \u001b[49m\u001b[43mproduct\u001b[49m\u001b[43m(\u001b[49m\n\u001b[1;32m    835\u001b[0m \u001b[43m        \u001b[49m\u001b[38;5;28;43menumerate\u001b[39;49m\u001b[43m(\u001b[49m\u001b[43mcandidate_params\u001b[49m\u001b[43m)\u001b[49m\u001b[43m,\u001b[49m\u001b[43m \u001b[49m\u001b[38;5;28;43menumerate\u001b[39;49m\u001b[43m(\u001b[49m\u001b[43mcv\u001b[49m\u001b[38;5;241;43m.\u001b[39;49m\u001b[43msplit\u001b[49m\u001b[43m(\u001b[49m\u001b[43mX\u001b[49m\u001b[43m,\u001b[49m\u001b[43m \u001b[49m\u001b[43my\u001b[49m\u001b[43m,\u001b[49m\u001b[43m \u001b[49m\u001b[43mgroups\u001b[49m\u001b[43m)\u001b[49m\u001b[43m)\u001b[49m\n\u001b[1;32m    836\u001b[0m \u001b[43m    \u001b[49m\u001b[43m)\u001b[49m\n\u001b[1;32m    837\u001b[0m \u001b[43m\u001b[49m\u001b[43m)\u001b[49m\n\u001b[1;32m    839\u001b[0m \u001b[38;5;28;01mif\u001b[39;00m \u001b[38;5;28mlen\u001b[39m(out) \u001b[38;5;241m<\u001b[39m \u001b[38;5;241m1\u001b[39m:\n\u001b[1;32m    840\u001b[0m     \u001b[38;5;28;01mraise\u001b[39;00m \u001b[38;5;167;01mValueError\u001b[39;00m(\n\u001b[1;32m    841\u001b[0m         \u001b[38;5;124m\"\u001b[39m\u001b[38;5;124mNo fits were performed. \u001b[39m\u001b[38;5;124m\"\u001b[39m\n\u001b[1;32m    842\u001b[0m         \u001b[38;5;124m\"\u001b[39m\u001b[38;5;124mWas the CV iterator empty? \u001b[39m\u001b[38;5;124m\"\u001b[39m\n\u001b[1;32m    843\u001b[0m         \u001b[38;5;124m\"\u001b[39m\u001b[38;5;124mWere there no candidates?\u001b[39m\u001b[38;5;124m\"\u001b[39m\n\u001b[1;32m    844\u001b[0m     )\n",
      "File \u001b[0;32m/opt/miniconda3/envs/ADS500B/lib/python3.10/site-packages/joblib/parallel.py:1952\u001b[0m, in \u001b[0;36mParallel.__call__\u001b[0;34m(self, iterable)\u001b[0m\n\u001b[1;32m   1946\u001b[0m \u001b[38;5;66;03m# The first item from the output is blank, but it makes the interpreter\u001b[39;00m\n\u001b[1;32m   1947\u001b[0m \u001b[38;5;66;03m# progress until it enters the Try/Except block of the generator and\u001b[39;00m\n\u001b[1;32m   1948\u001b[0m \u001b[38;5;66;03m# reach the first `yield` statement. This starts the aynchronous\u001b[39;00m\n\u001b[1;32m   1949\u001b[0m \u001b[38;5;66;03m# dispatch of the tasks to the workers.\u001b[39;00m\n\u001b[1;32m   1950\u001b[0m \u001b[38;5;28mnext\u001b[39m(output)\n\u001b[0;32m-> 1952\u001b[0m \u001b[38;5;28;01mreturn\u001b[39;00m output \u001b[38;5;28;01mif\u001b[39;00m \u001b[38;5;28mself\u001b[39m\u001b[38;5;241m.\u001b[39mreturn_generator \u001b[38;5;28;01melse\u001b[39;00m \u001b[38;5;28;43mlist\u001b[39;49m\u001b[43m(\u001b[49m\u001b[43moutput\u001b[49m\u001b[43m)\u001b[49m\n",
      "File \u001b[0;32m/opt/miniconda3/envs/ADS500B/lib/python3.10/site-packages/joblib/parallel.py:1595\u001b[0m, in \u001b[0;36mParallel._get_outputs\u001b[0;34m(self, iterator, pre_dispatch)\u001b[0m\n\u001b[1;32m   1592\u001b[0m     \u001b[38;5;28;01myield\u001b[39;00m\n\u001b[1;32m   1594\u001b[0m     \u001b[38;5;28;01mwith\u001b[39;00m \u001b[38;5;28mself\u001b[39m\u001b[38;5;241m.\u001b[39m_backend\u001b[38;5;241m.\u001b[39mretrieval_context():\n\u001b[0;32m-> 1595\u001b[0m         \u001b[38;5;28;01myield from\u001b[39;00m \u001b[38;5;28mself\u001b[39m\u001b[38;5;241m.\u001b[39m_retrieve()\n\u001b[1;32m   1597\u001b[0m \u001b[38;5;28;01mexcept\u001b[39;00m \u001b[38;5;167;01mGeneratorExit\u001b[39;00m:\n\u001b[1;32m   1598\u001b[0m     \u001b[38;5;66;03m# The generator has been garbage collected before being fully\u001b[39;00m\n\u001b[1;32m   1599\u001b[0m     \u001b[38;5;66;03m# consumed. This aborts the remaining tasks if possible and warn\u001b[39;00m\n\u001b[1;32m   1600\u001b[0m     \u001b[38;5;66;03m# the user if necessary.\u001b[39;00m\n\u001b[1;32m   1601\u001b[0m     \u001b[38;5;28mself\u001b[39m\u001b[38;5;241m.\u001b[39m_exception \u001b[38;5;241m=\u001b[39m \u001b[38;5;28;01mTrue\u001b[39;00m\n",
      "File \u001b[0;32m/opt/miniconda3/envs/ADS500B/lib/python3.10/site-packages/joblib/parallel.py:1707\u001b[0m, in \u001b[0;36mParallel._retrieve\u001b[0;34m(self)\u001b[0m\n\u001b[1;32m   1702\u001b[0m \u001b[38;5;66;03m# If the next job is not ready for retrieval yet, we just wait for\u001b[39;00m\n\u001b[1;32m   1703\u001b[0m \u001b[38;5;66;03m# async callbacks to progress.\u001b[39;00m\n\u001b[1;32m   1704\u001b[0m \u001b[38;5;28;01mif\u001b[39;00m ((\u001b[38;5;28mlen\u001b[39m(\u001b[38;5;28mself\u001b[39m\u001b[38;5;241m.\u001b[39m_jobs) \u001b[38;5;241m==\u001b[39m \u001b[38;5;241m0\u001b[39m) \u001b[38;5;129;01mor\u001b[39;00m\n\u001b[1;32m   1705\u001b[0m     (\u001b[38;5;28mself\u001b[39m\u001b[38;5;241m.\u001b[39m_jobs[\u001b[38;5;241m0\u001b[39m]\u001b[38;5;241m.\u001b[39mget_status(\n\u001b[1;32m   1706\u001b[0m         timeout\u001b[38;5;241m=\u001b[39m\u001b[38;5;28mself\u001b[39m\u001b[38;5;241m.\u001b[39mtimeout) \u001b[38;5;241m==\u001b[39m TASK_PENDING)):\n\u001b[0;32m-> 1707\u001b[0m     \u001b[43mtime\u001b[49m\u001b[38;5;241;43m.\u001b[39;49m\u001b[43msleep\u001b[49m\u001b[43m(\u001b[49m\u001b[38;5;241;43m0.01\u001b[39;49m\u001b[43m)\u001b[49m\n\u001b[1;32m   1708\u001b[0m     \u001b[38;5;28;01mcontinue\u001b[39;00m\n\u001b[1;32m   1710\u001b[0m \u001b[38;5;66;03m# We need to be careful: the job list can be filling up as\u001b[39;00m\n\u001b[1;32m   1711\u001b[0m \u001b[38;5;66;03m# we empty it and Python list are not thread-safe by\u001b[39;00m\n\u001b[1;32m   1712\u001b[0m \u001b[38;5;66;03m# default hence the use of the lock\u001b[39;00m\n",
      "\u001b[0;31mKeyboardInterrupt\u001b[0m: "
     ]
    }
   ],
   "source": [
    "# Define a grid of hyperparameters to search for in the Gradient Boosting Classifier\n",
    "param_grid = {\n",
    "    'max_depth' : [9,10,11,12,13],\n",
    "    'learning_rate' : [0.0001, 0.001, 0.01, 0.1, 1],\n",
    "    'n_estimators' : [17,18,19,20,21],\n",
    "}\n",
    "# Create a GridSearchCV object using GradientBoostingClassifier and the defined parameter grid\n",
    "tree_search = GridSearchCV(GradientBoostingClassifier(random_state=1), param_grid, cv=5, n_jobs=-1)\n",
    "# Fit the GridSearchCV to the balanced training data to find the best hyperparameters\n",
    "tree_search.fit(X_train_bal, y_train_under.values.ravel())\n",
    "# Get the best hyperparameters found by the GridSearch\n",
    "tree = tree_search.best_params_"
   ]
  },
  {
   "cell_type": "markdown",
   "metadata": {},
   "source": [
    "# Model Performance"
   ]
  },
  {
   "cell_type": "markdown",
   "metadata": {},
   "source": [
    "## Log reg with balanced data"
   ]
  },
  {
   "cell_type": "code",
   "execution_count": null,
   "metadata": {
    "ExecuteTime": {
     "end_time": "2023-10-16T19:38:43.859999Z",
     "start_time": "2023-10-16T19:38:43.859958Z"
    }
   },
   "outputs": [],
   "source": [
    "#Confusion matrix for logistic regression balanced\n",
    "log_cm_bal = confusion_matrix(y_true = y_val, y_pred = log_l2_bal.predict(X_val_log), labels = log_l2_bal.classes_)\n",
    "log_disp_bal = ConfusionMatrixDisplay(confusion_matrix= log_cm_bal, display_labels=log_l2_bal.classes_)\n",
    "log_disp_bal.plot()\n",
    "plt.show() "
   ]
  },
  {
   "cell_type": "code",
   "execution_count": null,
   "metadata": {
    "ExecuteTime": {
     "end_time": "2023-10-16T19:38:43.863132Z",
     "start_time": "2023-10-16T19:38:43.863097Z"
    }
   },
   "outputs": [],
   "source": [
    "#ROC curve for logistic regression\n",
    "fpr, tpr, thresholds = roc_curve(y_val, log_l2_bal.predict(X_val_log))\n",
    "auc = round(roc_auc_score(y_val, log_l2_bal.predict(X_val_log)), 4)\n",
    "plt.plot(fpr,tpr,label=\"Logistic Regression, AUC=\"+str(auc))\n",
    "plt.xlabel('False Positive Rate')\n",
    "plt.ylabel('True Positive Rate') "
   ]
  },
  {
   "cell_type": "code",
   "execution_count": null,
   "metadata": {
    "ExecuteTime": {
     "end_time": "2023-10-16T19:38:43.867367Z",
     "start_time": "2023-10-16T19:38:43.867334Z"
    }
   },
   "outputs": [],
   "source": [
    "#Sensitivity, specificity, and accuracy for log reg with balanced data\n",
    "#Much improved\n",
    "log_sens_bal = sensitivity_score(y_val, log_l2_bal.predict(X_val_log))\n",
    "log_spec_bal = specificity_score(y_val, log_l2_bal.predict(X_val_log))\n",
    "log_acc_bal = accuracy_score(y_val, log_l2_bal.predict(X_val_log))\n",
    "log_sens_bal, log_spec_bal, log_acc_bal"
   ]
  },
  {
   "cell_type": "markdown",
   "metadata": {},
   "source": [
    "## Decision Tree"
   ]
  },
  {
   "cell_type": "code",
   "execution_count": null,
   "metadata": {
    "ExecuteTime": {
     "end_time": "2023-10-16T19:38:43.872088Z",
     "start_time": "2023-10-16T19:38:43.872051Z"
    }
   },
   "outputs": [],
   "source": [
    "#Confusion matrix for logistic regression balanced\n",
    "tree_cm_bal = confusion_matrix(y_true = y_val, y_pred = tree_search.predict(X_val), labels = tree_search.classes_)\n",
    "tree_disp_bal = ConfusionMatrixDisplay(confusion_matrix= tree_cm_bal, display_labels=tree_search.classes_)\n",
    "tree_disp_bal.plot()\n",
    "plt.show() "
   ]
  },
  {
   "cell_type": "code",
   "execution_count": null,
   "metadata": {
    "ExecuteTime": {
     "end_time": "2023-10-16T19:38:43.875977Z",
     "start_time": "2023-10-16T19:38:43.875944Z"
    }
   },
   "outputs": [],
   "source": [
    "#ROC curve for tree\n",
    "fpr, tpr, thresholds = roc_curve(y_val, tree_search.predict(X_val))\n",
    "auc = round(roc_auc_score(y_val, tree_search.predict(X_val)), 4)\n",
    "plt.plot(fpr,tpr,label=\"Boosted Tree, AUC=\"+str(auc))\n",
    "plt.xlabel('False Positive Rate')\n",
    "plt.ylabel('True Positive Rate') "
   ]
  },
  {
   "cell_type": "code",
   "execution_count": null,
   "metadata": {
    "ExecuteTime": {
     "end_time": "2023-10-16T19:38:43.880095Z",
     "start_time": "2023-10-16T19:38:43.880061Z"
    }
   },
   "outputs": [],
   "source": [
    "#Sensitivity, specificity, and accuracy for decision tree with balanced training\n",
    "#Much improved\n",
    "tree_sens_bal = sensitivity_score(y_val, tree_search.predict(X_val))\n",
    "tree_spec_bal = specificity_score(y_val, tree_search.predict(X_val))\n",
    "tree_acc_bal = accuracy_score(y_val, tree_search.predict(X_val))\n",
    "tree_sens_bal, tree_spec_bal, tree_acc_bal"
   ]
  },
  {
   "cell_type": "markdown",
   "metadata": {},
   "source": [
    "## KNN"
   ]
  },
  {
   "cell_type": "code",
   "execution_count": null,
   "metadata": {
    "ExecuteTime": {
     "end_time": "2023-10-16T19:38:43.903257Z",
     "start_time": "2023-10-16T19:38:43.903209Z"
    }
   },
   "outputs": [],
   "source": [
    "# Compute the confusion matrix for KNN model on the validation data\n",
    "knn_cm_bal = confusion_matrix(y_true = y_val, y_pred = knn.predict(X_val), labels = knn.classes_)\n",
    "# Create a ConfusionMatrixDisplay object for visualization\n",
    "knn_disp_bal = ConfusionMatrixDisplay(confusion_matrix= knn_cm_bal, display_labels=knn.classes_)\n",
    "knn_disp_bal.plot()\n",
    "warnings.filterwarnings('ignore')\n",
    "plt.show()"
   ]
  },
  {
   "cell_type": "code",
   "execution_count": null,
   "metadata": {
    "ExecuteTime": {
     "end_time": "2023-10-16T19:38:43.912839Z",
     "start_time": "2023-10-16T19:38:43.912797Z"
    }
   },
   "outputs": [],
   "source": [
    "#ROC curve for KNN\n",
    "fpr, tpr, thresholds = roc_curve(y_val, knn.predict(X_val))\n",
    "plt.plot(fpr, tpr)\n",
    "plt.xlabel('False Positive Rate')\n",
    "plt.ylabel('True Positive Rate') "
   ]
  },
  {
   "cell_type": "code",
   "execution_count": null,
   "metadata": {
    "ExecuteTime": {
     "end_time": "2023-10-16T19:38:43.918040Z",
     "start_time": "2023-10-16T19:38:43.918001Z"
    }
   },
   "outputs": [],
   "source": [
    "#Sensitivity, specificity, and accuracy for KNN trained with balanced data\n",
    "#Much improved\n",
    "knn_sens_bal = sensitivity_score(y_val, knn.predict(X_val))\n",
    "knn_spec_bal = specificity_score(y_val, knn.predict(X_val))\n",
    "knn_acc_bal = accuracy_score(y_val, knn.predict(X_val))\n",
    "warnings.filterwarnings('ignore')\n",
    "knn_sens_bal, knn_spec_bal, knn_acc_bal"
   ]
  },
  {
   "cell_type": "markdown",
   "metadata": {},
   "source": [
    "## Neural network"
   ]
  },
  {
   "cell_type": "code",
   "execution_count": null,
   "metadata": {
    "ExecuteTime": {
     "end_time": "2023-10-16T19:38:43.925721Z",
     "start_time": "2023-10-16T19:38:43.925663Z"
    }
   },
   "outputs": [],
   "source": [
    "# Compute the confusion matrix for the Neural Network (nn) model on the validation data\n",
    "nn_cm_bal = confusion_matrix(y_true = y_val, y_pred = nn.predict(X_val), labels = nn.classes_)\n",
    "nn_disp_bal = ConfusionMatrixDisplay(confusion_matrix= nn_cm_bal, display_labels=nn.classes_)\n",
    "# Plot the Neural Network confusion matrix\n",
    "nn_disp_bal.plot()\n",
    "plt.show() "
   ]
  },
  {
   "cell_type": "code",
   "execution_count": null,
   "metadata": {
    "ExecuteTime": {
     "end_time": "2023-10-16T19:38:43.930226Z",
     "start_time": "2023-10-16T19:38:43.930176Z"
    }
   },
   "outputs": [],
   "source": [
    "#ROC curve for Neural Network\n",
    "fpr, tpr, thresholds = roc_curve(y_val, nn.predict(X_val))\n",
    "plt.plot(fpr, tpr)\n",
    "plt.xlabel('False Positive Rate')\n",
    "plt.ylabel('True Positive Rate') "
   ]
  },
  {
   "cell_type": "code",
   "execution_count": null,
   "metadata": {
    "ExecuteTime": {
     "end_time": "2023-10-16T19:38:43.936152Z",
     "start_time": "2023-10-16T19:38:43.936108Z"
    }
   },
   "outputs": [],
   "source": [
    "#Sensitivity, specificity, and accuracy for neural net\n",
    "nn_sens = sensitivity_score(y_val, nn.predict(X_val))\n",
    "nn_spec = specificity_score(y_val, nn.predict(X_val))\n",
    "nn_acc = accuracy_score(y_val, nn.predict(X_val))\n",
    "nn_sens, nn_spec, nn_acc"
   ]
  },
  {
   "cell_type": "markdown",
   "metadata": {},
   "source": [
    "## In our quest for the best-performing model, both the 'Logistic Regression' and 'Neural Network' stood out as strong contenders. The 'Logistic Regression' model demonstrated an specificty of 82.7%, while the 'Neural Network' achieved an specificity of 81%. This closely fought comparison showcases the proficiency of these models in addressing our cancellation prediction task. Ultimately, the choice between these two models depends on model interpretability because the features of the model will inform business decisions at the hotel."
   ]
  },
  {
   "cell_type": "markdown",
   "metadata": {},
   "source": [
    "# Compiled ROC Curves for All Models on Unbalanced Validation Data"
   ]
  },
  {
   "cell_type": "code",
   "execution_count": null,
   "metadata": {
    "ExecuteTime": {
     "end_time": "2023-10-16T19:38:43.941611Z",
     "start_time": "2023-10-16T19:38:43.941562Z"
    }
   },
   "outputs": [],
   "source": [
    "#ROC curve for logistic regression\n",
    "fpr, tpr, thresholds = roc_curve(y_val, log_l2_bal.predict(X_val_log))\n",
    "auc_log = round(roc_auc_score(y_val, log_l2_bal.predict(X_val_log)), 4)\n",
    "plt.plot(fpr,tpr,label=\"Logistic Regression, AUC=\"+str(auc_log))\n",
    "\n",
    "fpr, tpr, thresholds = roc_curve(y_val, tree_search.predict(X_val))\n",
    "auc_tree = round(roc_auc_score(y_val, tree_search.predict(X_val)), 4)\n",
    "plt.plot(fpr,tpr,label=\"Boosted Tree, AUC=\"+str(auc_tree))\n",
    "\n",
    "fpr, tpr, thresholds = roc_curve(y_val, knn.predict(X_val))\n",
    "auc_knn = round(roc_auc_score(y_val, knn.predict(X_val)), 4)\n",
    "plt.plot(fpr,tpr,label=\"K-Nearest Neighbors, AUC=\"+str(auc_knn))\n",
    "\n",
    "fpr, tpr, thresholds = roc_curve(y_val, nn.predict(X_val))\n",
    "auc_nn = round(roc_auc_score(y_val, nn.predict(X_val)), 4)\n",
    "plt.plot(fpr,tpr,label=\"Neural Network, AUC=\"+str(auc_nn))\n",
    "\n",
    "\n",
    "plt.xlabel('False Positive Rate')\n",
    "plt.ylabel('True Positive Rate') \n",
    "plt.title('ROC Curves for Validation Data')\n",
    "plt.legend()\n",
    "plt.savefig('ROCs.png')"
   ]
  },
  {
   "cell_type": "markdown",
   "metadata": {},
   "source": [
    "# Validation Performance Metrics"
   ]
  },
  {
   "cell_type": "code",
   "execution_count": null,
   "metadata": {
    "ExecuteTime": {
     "end_time": "2023-10-16T19:38:43.948124Z",
     "start_time": "2023-10-16T19:38:43.948085Z"
    }
   },
   "outputs": [],
   "source": [
    "# Create a table to display performance metrics for different models on the validation dataset\n",
    "\n",
    "val_performance = [\n",
    "{'Model': 'Logistic Regression', 'Validation Sensitivity': log_sens_bal, 'Validation Specificity':log_spec_bal, \n",
    " 'Accuracy': log_acc_bal, 'Area Under Curve':auc_log},\n",
    "    {'Model': 'Boosted Tree', 'Validation Sensitivity': tree_sens_bal, 'Validation Specificity':tree_spec_bal, \n",
    " 'Accuracy': tree_acc_bal, 'Area Under Curve':auc_tree},\n",
    "    {'Model': 'K-Nearest Neighbors', 'Validation Sensitivity': knn_sens_bal, 'Validation Specificity':knn_spec_bal, \n",
    " 'Accuracy': knn_acc_bal, 'Area Under Curve':auc_knn},\n",
    "    {'Model': 'Neural Network', 'Validation Sensitivity': nn_sens, 'Validation Specificity':nn_spec, \n",
    " 'Accuracy': nn_acc, 'Area Under Curve':auc_nn}]\n",
    "# Create a formatted table using tabulate and specify the format as 'fancy_grid'\n",
    "table = tabulate(val_performance, headers='keys', tablefmt='fancy_grid')\n",
    "# Display the comparison table\n",
    "print(table)"
   ]
  },
  {
   "cell_type": "markdown",
   "metadata": {},
   "source": [
    "## In our validation performance assessment, we evaluated the effectiveness of different models in predicting reservation cancellations. The 'Logistic Regression' model exhibited a sensitivity of 0.821, specificity of 0.694, and an accuracy of 0.736, with an area under the curve (AUC) of 0.762. Meanwhile, the 'Boosted Tree' model achieved a sensitivity of 0.771, specificity of 0.798, an accuracy of 0.790, and an AUC of 0.785. 'K-Nearest Neighbors' displayed a sensitivity of 0.733, specificity of 0.819, an accuracy of 0.791, and an AUC of 0.776. Lastly, the 'Neural Network' model showed a sensitivity of 0.805, specificity of 0.770, an accuracy of 0.782, and an AUC of 0.788. These results indicate that the 'K-Nearest Neighbors' model performed particularly well in achieving a balance between sensitivity and specificity, with the highest accuracy, making it a promising choice for predicting cancellations"
   ]
  },
  {
   "cell_type": "markdown",
   "metadata": {},
   "source": [
    "# Top Two Models: Logistic Regression and Neural Network. Compare performance on test set."
   ]
  },
  {
   "cell_type": "code",
   "execution_count": null,
   "metadata": {
    "ExecuteTime": {
     "end_time": "2023-10-16T19:38:43.952070Z",
     "start_time": "2023-10-16T19:38:43.952034Z"
    }
   },
   "outputs": [],
   "source": [
    "#Confusion matrix for logistic regression balanced\n",
    "log_cm_bal = confusion_matrix(y_true = y_test, y_pred = log_l2_bal.predict(X_test_log), labels = log_l2_bal.classes_)\n",
    "log_disp_bal = ConfusionMatrixDisplay(confusion_matrix= log_cm_bal, display_labels=log_l2_bal.classes_)\n",
    "log_disp_bal.plot()\n",
    "plt.show() "
   ]
  },
  {
   "cell_type": "code",
   "execution_count": null,
   "metadata": {
    "ExecuteTime": {
     "end_time": "2023-10-16T19:38:43.961528Z",
     "start_time": "2023-10-16T19:38:43.961482Z"
    }
   },
   "outputs": [],
   "source": [
    "# Calculate sensitivity, specificity, and accuracy for the Logistic Regression model on the test data\n",
    "log_sens_bal = sensitivity_score(y_test, log_l2_bal.predict(X_test_log))\n",
    "log_spec_bal = specificity_score(y_test, log_l2_bal.predict(X_test_log))\n",
    "log_acc_bal = accuracy_score(y_test, log_l2_bal.predict(X_test_log))\n",
    "# Print the calculated sensitivity, specificity, and accuracy\n",
    "log_sens_bal, log_spec_bal, log_acc_bal"
   ]
  },
  {
   "cell_type": "code",
   "execution_count": null,
   "metadata": {
    "ExecuteTime": {
     "end_time": "2023-10-16T19:38:43.969641Z",
     "start_time": "2023-10-16T19:38:43.969552Z"
    }
   },
   "outputs": [],
   "source": [
    "#Lift curve for logistic regression on test data\n",
    "plot_lift_curve(y_test, log_l2_bal.predict_proba(X_test_log), title = 'Lift Curve for Logistic Regression')\n",
    "plt.savefig('LogLift.png')"
   ]
  },
  {
   "cell_type": "code",
   "execution_count": null,
   "metadata": {
    "ExecuteTime": {
     "end_time": "2023-10-16T19:38:43.974642Z",
     "start_time": "2023-10-16T19:38:43.974601Z"
    }
   },
   "outputs": [],
   "source": [
    "# Compute the confusion matrix for the Neural Network (nn) model on the test data\n",
    "nn_cm_bal = confusion_matrix(y_true = y_test, y_pred = nn.predict(X_test), labels = nn.classes_)\n",
    "nn_disp_bal = ConfusionMatrixDisplay(confusion_matrix= nn_cm_bal, display_labels=nn.classes_)\n",
    "# Plot the Neural Network confusion matrix\n",
    "nn_disp_bal.plot()\n",
    "plt.show() "
   ]
  },
  {
   "cell_type": "code",
   "execution_count": null,
   "metadata": {
    "ExecuteTime": {
     "end_time": "2023-10-16T19:38:43.980261Z",
     "start_time": "2023-10-16T19:38:43.980212Z"
    }
   },
   "outputs": [],
   "source": [
    "# Calculate sensitivity, specificity, and accuracy for the Neural Network model on the test data\n",
    "nn_sens_bal = sensitivity_score(y_test, nn.predict(X_test))\n",
    "nn_spec_bal = specificity_score(y_test, nn.predict(X_test))\n",
    "nn_acc_bal = accuracy_score(y_test, nn.predict(X_test))\n",
    "# Print the calculated sensitivity, specificity, and accuracy\n",
    "nn_sens_bal, nn_spec_bal, nn_acc_bal"
   ]
  },
  {
   "cell_type": "code",
   "execution_count": null,
   "metadata": {
    "ExecuteTime": {
     "end_time": "2023-10-16T19:38:43.984371Z",
     "start_time": "2023-10-16T19:38:43.984329Z"
    }
   },
   "outputs": [],
   "source": [
    "#Lift curve for neural network on test data\n",
    "plot_lift_curve(y_test, nn.predict_proba(X_test), title = 'Lift Curve for Neural Network')\n",
    "plt.savefig('NNLift.png')"
   ]
  },
  {
   "cell_type": "markdown",
   "metadata": {},
   "source": [
    "## In conclusion, our validation performance assessment revealed several models' effectiveness in predicting reservation cancellations. Among these models, the 'Logistic Regression' and 'Neural Network' emerged as strong contenders because they predicted the cancellation class the best. This competitive performance underscores their suitability for addressing our cancellation prediction task. The choice between these models depends on interpretability and performance on the test set. We choose the logistic regression as the optimal model because the log-odds contribution of each feature shows the feature contributions for classifying the outcome. With the additional input from the random forest feature importance plot, we can determine the top features for the hotel to use for cancellation prevention strategies."
   ]
  },
  {
   "cell_type": "markdown",
   "metadata": {
    "id": "I1IifrG4NUs-"
   },
   "source": [
    "# References\n",
    " * https://saturncloud.io/blog/pandas-seaborn-countplot-from-several-columns/\n",
    " * https://medium.com/@anderson.riciamorim/how-to-keep-feature-names-in-sklearn-pipeline-e00295359e31\n",
    " * https://imbalanced-learn.org/stable/references/generated/imblearn.over_sampling.RandomOverSampler.html\n",
    " * https://machinelearningmastery.com/random-oversampling-and-undersampling-for-imbalanced-classification/\n",
    " * https://www.statology.org/plot-multiple-roc-curves-python/"
   ]
  }
 ],
 "metadata": {
  "colab": {
   "provenance": []
  },
  "kernelspec": {
   "display_name": "Python 3 (ipykernel)",
   "language": "python",
   "name": "python3"
  },
  "language_info": {
   "codemirror_mode": {
    "name": "ipython",
    "version": 3
   },
   "file_extension": ".py",
   "mimetype": "text/x-python",
   "name": "python",
   "nbconvert_exporter": "python",
   "pygments_lexer": "ipython3",
   "version": "3.10.4"
  }
 },
 "nbformat": 4,
 "nbformat_minor": 1
}
