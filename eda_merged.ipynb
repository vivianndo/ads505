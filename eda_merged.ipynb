{
  "cells": [
    {
      "cell_type": "markdown",
      "metadata": {
        "id": "Hjorj4ZKHr-_"
      },
      "source": [
        "## ADS505 Final Project\n",
        "## Dataset: Hotel Reservations\n",
        "## Vivian Do, Mirna Philip, Halee Staggs\n"
      ]
    },
    {
      "cell_type": "markdown",
      "metadata": {},
      "source": [
        "### Attribute Description"
      ]
    },
    {
      "cell_type": "markdown",
      "metadata": {
        "id": "UiONTbMGIFCm"
      },
      "source": [
        "| Column Name                           | Description                                                                                      |\n",
        "|---------------------------------------|--------------------------------------------------------------------------------------------------|\n",
        "| Booking_ID                            | Unique identifier of each booking                                                                |\n",
        "| no_of_adults                          | Number of adults                                                                                 |\n",
        "| no_of_children                        | Number of Children                                                                               |\n",
        "| no_of_weekend_nights                  | Number of weekend nights (Saturday or Sunday) the guest stayed or booked to stay at the hotel  |\n",
        "| no_of_week_nights                     | Number of week nights (Monday to Friday) the guest stayed or booked to stay at the hotel      |\n",
        "| type_of_meal_plan                     | Type of meal plan booked by the customer                                                         |\n",
        "| required_car_parking_space            | Does the customer require a car parking space? (0 - No, 1- Yes)                                   |\n",
        "| room_type_reserved                    | Type of room reserved by the customer                                                             |\n",
        "| lead_time                             | Number of days between the date of booking and the arrival date                                   |\n",
        "| arrival_year                          | Year of arrival date                                                                             |\n",
        "| arrival_month                         | Month of arrival date                                                                            |\n",
        "| arrival_date                          | Date of the month                                                                                |\n",
        "| market_segment_type                   | Market segment designation                                                                       |\n",
        "| repeated_guest                        | Is the customer a repeated guest? (0 - No, 1- Yes)                                               |\n",
        "| no_of_previous_cancellations          | Number of previous bookings that were canceled by the customer prior to the current booking     |\n",
        "| no_of_previous_bookings_not_canceled  | Number of previous bookings not canceled by the customer prior to the current booking           |\n",
        "| avg_price_per_room                    | Average price per day of the reservation; prices of the rooms are dynamic (in euros)            |\n",
        "| no_of_special_requests                | Total number of special requests made by the customer                                            |\n",
        "| booking_status                        | Flag indicating if the booking was canceled or not                                               |\n"
      ]
    },
    {
      "cell_type": "markdown",
      "metadata": {},
      "source": [
        "### Library and Data Import"
      ]
    },
    {
      "cell_type": "code",
      "execution_count": 1,
      "metadata": {
        "colab": {
          "base_uri": "https://localhost:8080/"
        },
        "id": "vZ47wxTFHgXT",
        "outputId": "2fe72586-053a-438e-8483-3757d36902ee"
      },
      "outputs": [
        {
          "name": "stdout",
          "output_type": "stream",
          "text": [
            "\u001b[31mERROR: Could not find a version that satisfies the requirement scikitplot (from versions: none)\u001b[0m\u001b[31m\n",
            "\u001b[0m\u001b[31mERROR: No matching distribution found for scikitplot\u001b[0m\u001b[31m\n",
            "\u001b[0mNote: you may need to restart the kernel to use updated packages.\n",
            "Requirement already satisfied: dmba in /opt/miniconda3/envs/ADS500B/lib/python3.10/site-packages (0.2.4)\n",
            "Requirement already satisfied: numpy in /opt/miniconda3/envs/ADS500B/lib/python3.10/site-packages (from dmba) (1.22.3)\n",
            "Requirement already satisfied: pandas in /opt/miniconda3/envs/ADS500B/lib/python3.10/site-packages (from dmba) (1.4.3)\n",
            "Requirement already satisfied: graphviz in /opt/miniconda3/envs/ADS500B/lib/python3.10/site-packages (from dmba) (0.20.1)\n",
            "Requirement already satisfied: scikit-learn in /opt/miniconda3/envs/ADS500B/lib/python3.10/site-packages (from dmba) (1.1.1)\n",
            "Requirement already satisfied: scipy in /opt/miniconda3/envs/ADS500B/lib/python3.10/site-packages (from dmba) (1.8.1)\n",
            "Requirement already satisfied: matplotlib in /opt/miniconda3/envs/ADS500B/lib/python3.10/site-packages (from dmba) (3.5.2)\n",
            "Requirement already satisfied: kiwisolver>=1.0.1 in /opt/miniconda3/envs/ADS500B/lib/python3.10/site-packages (from matplotlib->dmba) (1.4.4)\n",
            "Requirement already satisfied: packaging>=20.0 in /opt/miniconda3/envs/ADS500B/lib/python3.10/site-packages (from matplotlib->dmba) (21.3)\n",
            "Requirement already satisfied: pillow>=6.2.0 in /opt/miniconda3/envs/ADS500B/lib/python3.10/site-packages (from matplotlib->dmba) (9.2.0)\n",
            "Requirement already satisfied: fonttools>=4.22.0 in /opt/miniconda3/envs/ADS500B/lib/python3.10/site-packages (from matplotlib->dmba) (4.34.4)\n",
            "Requirement already satisfied: python-dateutil>=2.7 in /opt/miniconda3/envs/ADS500B/lib/python3.10/site-packages (from matplotlib->dmba) (2.8.2)\n",
            "Requirement already satisfied: pyparsing>=2.2.1 in /opt/miniconda3/envs/ADS500B/lib/python3.10/site-packages (from matplotlib->dmba) (3.0.9)\n",
            "Requirement already satisfied: cycler>=0.10 in /opt/miniconda3/envs/ADS500B/lib/python3.10/site-packages (from matplotlib->dmba) (0.11.0)\n",
            "Requirement already satisfied: pytz>=2020.1 in /opt/miniconda3/envs/ADS500B/lib/python3.10/site-packages (from pandas->dmba) (2022.1)\n",
            "Requirement already satisfied: joblib>=1.0.0 in /opt/miniconda3/envs/ADS500B/lib/python3.10/site-packages (from scikit-learn->dmba) (1.1.0)\n",
            "Requirement already satisfied: threadpoolctl>=2.0.0 in /opt/miniconda3/envs/ADS500B/lib/python3.10/site-packages (from scikit-learn->dmba) (3.1.0)\n",
            "Requirement already satisfied: six>=1.5 in /opt/miniconda3/envs/ADS500B/lib/python3.10/site-packages (from python-dateutil>=2.7->matplotlib->dmba) (1.16.0)\n",
            "Note: you may need to restart the kernel to use updated packages.\n",
            "no display found. Using non-interactive Agg backend\n"
          ]
        }
      ],
      "source": [
        "#Importing all the necessary packages\n",
        "%pip install scikitplot\n",
        "%pip install dmba\n",
        "import pandas as pd\n",
        "import numpy as np\n",
        "import matplotlib as mpl\n",
        "import matplotlib.pyplot as plt\n",
        "import seaborn as sns\n",
        "import warnings\n",
        "import scipy.stats as stats\n",
        "from scipy.stats import zscore\n",
        "from scipy.stats import yeojohnson\n",
        "import statsmodels.api as sm\n",
        "from sklearn.preprocessing import OneHotEncoder, OrdinalEncoder, LabelEncoder, PowerTransformer\n",
        "from sklearn.feature_selection import VarianceThreshold\n",
        "from sklearn.compose import ColumnTransformer\n",
        "from sklearn.model_selection import train_test_split, cross_val_score\n",
        "from sklearn.metrics import confusion_matrix, accuracy_score, ConfusionMatrixDisplay\n",
        "from sklearn.metrics import classification_report, mean_squared_error\n",
        "from sklearn.linear_model import LogisticRegressionCV, LinearRegression\n",
        "from sklearn.tree import DecisionTreeRegressor\n",
        "from sklearn.preprocessing import StandardScaler\n",
        "from sklearn.pipeline import make_pipeline, Pipeline\n",
        "from dmba import stepwise_selection, regressionSummary, classificationSummary, adjusted_r2_score, AIC_score, BIC_score, plotDecisionTree,gainsChart"
      ]
    },
    {
      "cell_type": "code",
      "execution_count": 2,
      "metadata": {},
      "outputs": [
        {
          "name": "stdout",
          "output_type": "stream",
          "text": [
            "Requirement already satisfied: ipympl in /opt/miniconda3/envs/ADS500B/lib/python3.10/site-packages (0.9.3)\n",
            "Requirement already satisfied: ipython<9 in /opt/miniconda3/envs/ADS500B/lib/python3.10/site-packages (from ipympl) (8.4.0)\n",
            "Requirement already satisfied: traitlets<6 in /opt/miniconda3/envs/ADS500B/lib/python3.10/site-packages (from ipympl) (5.3.0)\n",
            "Requirement already satisfied: numpy in /opt/miniconda3/envs/ADS500B/lib/python3.10/site-packages (from ipympl) (1.22.3)\n",
            "Requirement already satisfied: matplotlib<4,>=3.4.0 in /opt/miniconda3/envs/ADS500B/lib/python3.10/site-packages (from ipympl) (3.5.2)\n",
            "Requirement already satisfied: pillow in /opt/miniconda3/envs/ADS500B/lib/python3.10/site-packages (from ipympl) (9.2.0)\n",
            "Requirement already satisfied: ipywidgets<9,>=7.6.0 in /opt/miniconda3/envs/ADS500B/lib/python3.10/site-packages (from ipympl) (8.1.1)\n",
            "Requirement already satisfied: ipython-genutils in /opt/miniconda3/envs/ADS500B/lib/python3.10/site-packages (from ipympl) (0.2.0)\n",
            "Requirement already satisfied: pygments>=2.4.0 in /opt/miniconda3/envs/ADS500B/lib/python3.10/site-packages (from ipython<9->ipympl) (2.12.0)\n",
            "Requirement already satisfied: pexpect>4.3 in /opt/miniconda3/envs/ADS500B/lib/python3.10/site-packages (from ipython<9->ipympl) (4.8.0)\n",
            "Requirement already satisfied: appnope in /opt/miniconda3/envs/ADS500B/lib/python3.10/site-packages (from ipython<9->ipympl) (0.1.3)\n",
            "Requirement already satisfied: jedi>=0.16 in /opt/miniconda3/envs/ADS500B/lib/python3.10/site-packages (from ipython<9->ipympl) (0.18.1)\n",
            "Requirement already satisfied: stack-data in /opt/miniconda3/envs/ADS500B/lib/python3.10/site-packages (from ipython<9->ipympl) (0.3.0)\n",
            "Requirement already satisfied: prompt-toolkit!=3.0.0,!=3.0.1,<3.1.0,>=2.0.0 in /opt/miniconda3/envs/ADS500B/lib/python3.10/site-packages (from ipython<9->ipympl) (3.0.30)\n",
            "Requirement already satisfied: setuptools>=18.5 in /opt/miniconda3/envs/ADS500B/lib/python3.10/site-packages (from ipython<9->ipympl) (63.1.0)\n",
            "Requirement already satisfied: backcall in /opt/miniconda3/envs/ADS500B/lib/python3.10/site-packages (from ipython<9->ipympl) (0.2.0)\n",
            "Requirement already satisfied: pickleshare in /opt/miniconda3/envs/ADS500B/lib/python3.10/site-packages (from ipython<9->ipympl) (0.7.5)\n",
            "Requirement already satisfied: matplotlib-inline in /opt/miniconda3/envs/ADS500B/lib/python3.10/site-packages (from ipython<9->ipympl) (0.1.3)\n",
            "Requirement already satisfied: decorator in /opt/miniconda3/envs/ADS500B/lib/python3.10/site-packages (from ipython<9->ipympl) (5.1.1)\n",
            "Requirement already satisfied: widgetsnbextension~=4.0.9 in /opt/miniconda3/envs/ADS500B/lib/python3.10/site-packages (from ipywidgets<9,>=7.6.0->ipympl) (4.0.9)\n",
            "Requirement already satisfied: jupyterlab-widgets~=3.0.9 in /opt/miniconda3/envs/ADS500B/lib/python3.10/site-packages (from ipywidgets<9,>=7.6.0->ipympl) (3.0.9)\n",
            "Requirement already satisfied: comm>=0.1.3 in /opt/miniconda3/envs/ADS500B/lib/python3.10/site-packages (from ipywidgets<9,>=7.6.0->ipympl) (0.1.4)\n",
            "Requirement already satisfied: python-dateutil>=2.7 in /opt/miniconda3/envs/ADS500B/lib/python3.10/site-packages (from matplotlib<4,>=3.4.0->ipympl) (2.8.2)\n",
            "Requirement already satisfied: cycler>=0.10 in /opt/miniconda3/envs/ADS500B/lib/python3.10/site-packages (from matplotlib<4,>=3.4.0->ipympl) (0.11.0)\n",
            "Requirement already satisfied: packaging>=20.0 in /opt/miniconda3/envs/ADS500B/lib/python3.10/site-packages (from matplotlib<4,>=3.4.0->ipympl) (21.3)\n",
            "Requirement already satisfied: fonttools>=4.22.0 in /opt/miniconda3/envs/ADS500B/lib/python3.10/site-packages (from matplotlib<4,>=3.4.0->ipympl) (4.34.4)\n",
            "Requirement already satisfied: pyparsing>=2.2.1 in /opt/miniconda3/envs/ADS500B/lib/python3.10/site-packages (from matplotlib<4,>=3.4.0->ipympl) (3.0.9)\n",
            "Requirement already satisfied: kiwisolver>=1.0.1 in /opt/miniconda3/envs/ADS500B/lib/python3.10/site-packages (from matplotlib<4,>=3.4.0->ipympl) (1.4.4)\n",
            "Requirement already satisfied: parso<0.9.0,>=0.8.0 in /opt/miniconda3/envs/ADS500B/lib/python3.10/site-packages (from jedi>=0.16->ipython<9->ipympl) (0.8.3)\n",
            "Requirement already satisfied: ptyprocess>=0.5 in /opt/miniconda3/envs/ADS500B/lib/python3.10/site-packages (from pexpect>4.3->ipython<9->ipympl) (0.7.0)\n",
            "Requirement already satisfied: wcwidth in /opt/miniconda3/envs/ADS500B/lib/python3.10/site-packages (from prompt-toolkit!=3.0.0,!=3.0.1,<3.1.0,>=2.0.0->ipython<9->ipympl) (0.2.5)\n",
            "Requirement already satisfied: six>=1.5 in /opt/miniconda3/envs/ADS500B/lib/python3.10/site-packages (from python-dateutil>=2.7->matplotlib<4,>=3.4.0->ipympl) (1.16.0)\n",
            "Requirement already satisfied: executing in /opt/miniconda3/envs/ADS500B/lib/python3.10/site-packages (from stack-data->ipython<9->ipympl) (0.8.3)\n",
            "Requirement already satisfied: pure-eval in /opt/miniconda3/envs/ADS500B/lib/python3.10/site-packages (from stack-data->ipython<9->ipympl) (0.2.2)\n",
            "Requirement already satisfied: asttokens in /opt/miniconda3/envs/ADS500B/lib/python3.10/site-packages (from stack-data->ipython<9->ipympl) (2.0.5)\n"
          ]
        }
      ],
      "source": [
        "!pip install ipympl"
      ]
    },
    {
      "cell_type": "code",
      "execution_count": 3,
      "metadata": {
        "colab": {
          "base_uri": "https://localhost:8080/",
          "height": 200
        },
        "id": "8BNDaOpNILrV",
        "outputId": "9f8e2688-702e-4c55-b60e-d3ee74fcacc5"
      },
      "outputs": [
        {
          "data": {
            "text/plain": [
              "<bound method NDFrame.head of       Booking_ID  no_of_adults  no_of_children  no_of_weekend_nights  \\\n",
              "0       INN00001             2               0                     1   \n",
              "1       INN00002             2               0                     2   \n",
              "2       INN00003             1               0                     2   \n",
              "3       INN00004             2               0                     0   \n",
              "4       INN00005             2               0                     1   \n",
              "...          ...           ...             ...                   ...   \n",
              "36270   INN36271             3               0                     2   \n",
              "36271   INN36272             2               0                     1   \n",
              "36272   INN36273             2               0                     2   \n",
              "36273   INN36274             2               0                     0   \n",
              "36274   INN36275             2               0                     1   \n",
              "\n",
              "       no_of_week_nights type_of_meal_plan  required_car_parking_space  \\\n",
              "0                      2       Meal Plan 1                           0   \n",
              "1                      3      Not Selected                           0   \n",
              "2                      1       Meal Plan 1                           0   \n",
              "3                      2       Meal Plan 1                           0   \n",
              "4                      1      Not Selected                           0   \n",
              "...                  ...               ...                         ...   \n",
              "36270                  6       Meal Plan 1                           0   \n",
              "36271                  3       Meal Plan 1                           0   \n",
              "36272                  6       Meal Plan 1                           0   \n",
              "36273                  3      Not Selected                           0   \n",
              "36274                  2       Meal Plan 1                           0   \n",
              "\n",
              "      room_type_reserved  lead_time  arrival_year  arrival_month  \\\n",
              "0            Room_Type 1        224          2017             10   \n",
              "1            Room_Type 1          5          2018             11   \n",
              "2            Room_Type 1          1          2018              2   \n",
              "3            Room_Type 1        211          2018              5   \n",
              "4            Room_Type 1         48          2018              4   \n",
              "...                  ...        ...           ...            ...   \n",
              "36270        Room_Type 4         85          2018              8   \n",
              "36271        Room_Type 1        228          2018             10   \n",
              "36272        Room_Type 1        148          2018              7   \n",
              "36273        Room_Type 1         63          2018              4   \n",
              "36274        Room_Type 1        207          2018             12   \n",
              "\n",
              "       arrival_date market_segment_type  repeated_guest  \\\n",
              "0                 2             Offline               0   \n",
              "1                 6              Online               0   \n",
              "2                28              Online               0   \n",
              "3                20              Online               0   \n",
              "4                11              Online               0   \n",
              "...             ...                 ...             ...   \n",
              "36270             3              Online               0   \n",
              "36271            17              Online               0   \n",
              "36272             1              Online               0   \n",
              "36273            21              Online               0   \n",
              "36274            30             Offline               0   \n",
              "\n",
              "       no_of_previous_cancellations  no_of_previous_bookings_not_canceled  \\\n",
              "0                                 0                                     0   \n",
              "1                                 0                                     0   \n",
              "2                                 0                                     0   \n",
              "3                                 0                                     0   \n",
              "4                                 0                                     0   \n",
              "...                             ...                                   ...   \n",
              "36270                             0                                     0   \n",
              "36271                             0                                     0   \n",
              "36272                             0                                     0   \n",
              "36273                             0                                     0   \n",
              "36274                             0                                     0   \n",
              "\n",
              "       avg_price_per_room  no_of_special_requests booking_status  \n",
              "0                   65.00                       0   Not_Canceled  \n",
              "1                  106.68                       1   Not_Canceled  \n",
              "2                   60.00                       0       Canceled  \n",
              "3                  100.00                       0       Canceled  \n",
              "4                   94.50                       0       Canceled  \n",
              "...                   ...                     ...            ...  \n",
              "36270              167.80                       1   Not_Canceled  \n",
              "36271               90.95                       2       Canceled  \n",
              "36272               98.39                       2   Not_Canceled  \n",
              "36273               94.50                       0       Canceled  \n",
              "36274              161.67                       0   Not_Canceled  \n",
              "\n",
              "[36275 rows x 19 columns]>"
            ]
          },
          "execution_count": 3,
          "metadata": {},
          "output_type": "execute_result"
        }
      ],
      "source": [
        "#uploating the dataset\n",
        "df = pd.read_csv(\"Hotel Reservations.csv\")\n",
        "# display of first three rows  in the dataframe\n",
        "df.head"
      ]
    },
    {
      "cell_type": "markdown",
      "metadata": {
        "id": "levEvZfJIlvy"
      },
      "source": [
        "### Understanding the dataset"
      ]
    },
    {
      "cell_type": "code",
      "execution_count": 4,
      "metadata": {
        "colab": {
          "base_uri": "https://localhost:8080/"
        },
        "id": "oP7Zd7Ls46bb",
        "outputId": "e48ffeb9-eac3-451f-b3e6-e5b1f624bc08"
      },
      "outputs": [
        {
          "data": {
            "text/plain": [
              "Index(['Booking_ID', 'no_of_adults', 'no_of_children', 'no_of_weekend_nights',\n",
              "       'no_of_week_nights', 'type_of_meal_plan', 'required_car_parking_space',\n",
              "       'room_type_reserved', 'lead_time', 'arrival_year', 'arrival_month',\n",
              "       'arrival_date', 'market_segment_type', 'repeated_guest',\n",
              "       'no_of_previous_cancellations', 'no_of_previous_bookings_not_canceled',\n",
              "       'avg_price_per_room', 'no_of_special_requests', 'booking_status'],\n",
              "      dtype='object')"
            ]
          },
          "execution_count": 4,
          "metadata": {},
          "output_type": "execute_result"
        }
      ],
      "source": [
        "df.columns"
      ]
    },
    {
      "cell_type": "code",
      "execution_count": 5,
      "metadata": {
        "colab": {
          "base_uri": "https://localhost:8080/"
        },
        "id": "QrgHJ39y49V5",
        "outputId": "08f59760-d8ce-4040-d56d-94adaf187cdf"
      },
      "outputs": [
        {
          "data": {
            "text/plain": [
              "(36275, 19)"
            ]
          },
          "execution_count": 5,
          "metadata": {},
          "output_type": "execute_result"
        }
      ],
      "source": [
        "# Dimensions: 36275 observations and 19 variables\n",
        "df.shape"
      ]
    },
    {
      "cell_type": "code",
      "execution_count": 6,
      "metadata": {
        "colab": {
          "base_uri": "https://localhost:8080/"
        },
        "id": "fULia4Li23rv",
        "outputId": "0b8c28e3-f2b3-4454-daa9-fec0721c86ef"
      },
      "outputs": [
        {
          "name": "stdout",
          "output_type": "stream",
          "text": [
            "<class 'pandas.core.frame.DataFrame'>\n",
            "RangeIndex: 36275 entries, 0 to 36274\n",
            "Data columns (total 19 columns):\n",
            " #   Column                                Non-Null Count  Dtype  \n",
            "---  ------                                --------------  -----  \n",
            " 0   Booking_ID                            36275 non-null  object \n",
            " 1   no_of_adults                          36275 non-null  int64  \n",
            " 2   no_of_children                        36275 non-null  int64  \n",
            " 3   no_of_weekend_nights                  36275 non-null  int64  \n",
            " 4   no_of_week_nights                     36275 non-null  int64  \n",
            " 5   type_of_meal_plan                     36275 non-null  object \n",
            " 6   required_car_parking_space            36275 non-null  int64  \n",
            " 7   room_type_reserved                    36275 non-null  object \n",
            " 8   lead_time                             36275 non-null  int64  \n",
            " 9   arrival_year                          36275 non-null  int64  \n",
            " 10  arrival_month                         36275 non-null  int64  \n",
            " 11  arrival_date                          36275 non-null  int64  \n",
            " 12  market_segment_type                   36275 non-null  object \n",
            " 13  repeated_guest                        36275 non-null  int64  \n",
            " 14  no_of_previous_cancellations          36275 non-null  int64  \n",
            " 15  no_of_previous_bookings_not_canceled  36275 non-null  int64  \n",
            " 16  avg_price_per_room                    36275 non-null  float64\n",
            " 17  no_of_special_requests                36275 non-null  int64  \n",
            " 18  booking_status                        36275 non-null  object \n",
            "dtypes: float64(1), int64(13), object(5)\n",
            "memory usage: 5.3+ MB\n"
          ]
        }
      ],
      "source": [
        "#Check data types and missing values\n",
        "df.info()"
      ]
    },
    {
      "cell_type": "code",
      "execution_count": 7,
      "metadata": {
        "colab": {
          "base_uri": "https://localhost:8080/",
          "height": 400
        },
        "id": "DtxmG8a5I1Pa",
        "outputId": "32f9359d-7100-47ac-a732-b9f6153b966e"
      },
      "outputs": [
        {
          "data": {
            "text/html": [
              "<div>\n",
              "<style scoped>\n",
              "    .dataframe tbody tr th:only-of-type {\n",
              "        vertical-align: middle;\n",
              "    }\n",
              "\n",
              "    .dataframe tbody tr th {\n",
              "        vertical-align: top;\n",
              "    }\n",
              "\n",
              "    .dataframe thead th {\n",
              "        text-align: right;\n",
              "    }\n",
              "</style>\n",
              "<table border=\"1\" class=\"dataframe\">\n",
              "  <thead>\n",
              "    <tr style=\"text-align: right;\">\n",
              "      <th></th>\n",
              "      <th>no_of_adults</th>\n",
              "      <th>no_of_children</th>\n",
              "      <th>no_of_weekend_nights</th>\n",
              "      <th>no_of_week_nights</th>\n",
              "      <th>required_car_parking_space</th>\n",
              "      <th>lead_time</th>\n",
              "      <th>arrival_year</th>\n",
              "      <th>arrival_month</th>\n",
              "      <th>arrival_date</th>\n",
              "      <th>repeated_guest</th>\n",
              "      <th>no_of_previous_cancellations</th>\n",
              "      <th>no_of_previous_bookings_not_canceled</th>\n",
              "      <th>avg_price_per_room</th>\n",
              "      <th>no_of_special_requests</th>\n",
              "    </tr>\n",
              "  </thead>\n",
              "  <tbody>\n",
              "    <tr>\n",
              "      <th>count</th>\n",
              "      <td>36275.000000</td>\n",
              "      <td>36275.000000</td>\n",
              "      <td>36275.000000</td>\n",
              "      <td>36275.000000</td>\n",
              "      <td>36275.000000</td>\n",
              "      <td>36275.000000</td>\n",
              "      <td>36275.000000</td>\n",
              "      <td>36275.000000</td>\n",
              "      <td>36275.000000</td>\n",
              "      <td>36275.000000</td>\n",
              "      <td>36275.000000</td>\n",
              "      <td>36275.000000</td>\n",
              "      <td>36275.000000</td>\n",
              "      <td>36275.000000</td>\n",
              "    </tr>\n",
              "    <tr>\n",
              "      <th>mean</th>\n",
              "      <td>1.844962</td>\n",
              "      <td>0.105279</td>\n",
              "      <td>0.810724</td>\n",
              "      <td>2.204300</td>\n",
              "      <td>0.030986</td>\n",
              "      <td>85.232557</td>\n",
              "      <td>2017.820427</td>\n",
              "      <td>7.423653</td>\n",
              "      <td>15.596995</td>\n",
              "      <td>0.025637</td>\n",
              "      <td>0.023349</td>\n",
              "      <td>0.153411</td>\n",
              "      <td>103.423539</td>\n",
              "      <td>0.619655</td>\n",
              "    </tr>\n",
              "    <tr>\n",
              "      <th>std</th>\n",
              "      <td>0.518715</td>\n",
              "      <td>0.402648</td>\n",
              "      <td>0.870644</td>\n",
              "      <td>1.410905</td>\n",
              "      <td>0.173281</td>\n",
              "      <td>85.930817</td>\n",
              "      <td>0.383836</td>\n",
              "      <td>3.069894</td>\n",
              "      <td>8.740447</td>\n",
              "      <td>0.158053</td>\n",
              "      <td>0.368331</td>\n",
              "      <td>1.754171</td>\n",
              "      <td>35.089424</td>\n",
              "      <td>0.786236</td>\n",
              "    </tr>\n",
              "    <tr>\n",
              "      <th>min</th>\n",
              "      <td>0.000000</td>\n",
              "      <td>0.000000</td>\n",
              "      <td>0.000000</td>\n",
              "      <td>0.000000</td>\n",
              "      <td>0.000000</td>\n",
              "      <td>0.000000</td>\n",
              "      <td>2017.000000</td>\n",
              "      <td>1.000000</td>\n",
              "      <td>1.000000</td>\n",
              "      <td>0.000000</td>\n",
              "      <td>0.000000</td>\n",
              "      <td>0.000000</td>\n",
              "      <td>0.000000</td>\n",
              "      <td>0.000000</td>\n",
              "    </tr>\n",
              "    <tr>\n",
              "      <th>25%</th>\n",
              "      <td>2.000000</td>\n",
              "      <td>0.000000</td>\n",
              "      <td>0.000000</td>\n",
              "      <td>1.000000</td>\n",
              "      <td>0.000000</td>\n",
              "      <td>17.000000</td>\n",
              "      <td>2018.000000</td>\n",
              "      <td>5.000000</td>\n",
              "      <td>8.000000</td>\n",
              "      <td>0.000000</td>\n",
              "      <td>0.000000</td>\n",
              "      <td>0.000000</td>\n",
              "      <td>80.300000</td>\n",
              "      <td>0.000000</td>\n",
              "    </tr>\n",
              "    <tr>\n",
              "      <th>50%</th>\n",
              "      <td>2.000000</td>\n",
              "      <td>0.000000</td>\n",
              "      <td>1.000000</td>\n",
              "      <td>2.000000</td>\n",
              "      <td>0.000000</td>\n",
              "      <td>57.000000</td>\n",
              "      <td>2018.000000</td>\n",
              "      <td>8.000000</td>\n",
              "      <td>16.000000</td>\n",
              "      <td>0.000000</td>\n",
              "      <td>0.000000</td>\n",
              "      <td>0.000000</td>\n",
              "      <td>99.450000</td>\n",
              "      <td>0.000000</td>\n",
              "    </tr>\n",
              "    <tr>\n",
              "      <th>75%</th>\n",
              "      <td>2.000000</td>\n",
              "      <td>0.000000</td>\n",
              "      <td>2.000000</td>\n",
              "      <td>3.000000</td>\n",
              "      <td>0.000000</td>\n",
              "      <td>126.000000</td>\n",
              "      <td>2018.000000</td>\n",
              "      <td>10.000000</td>\n",
              "      <td>23.000000</td>\n",
              "      <td>0.000000</td>\n",
              "      <td>0.000000</td>\n",
              "      <td>0.000000</td>\n",
              "      <td>120.000000</td>\n",
              "      <td>1.000000</td>\n",
              "    </tr>\n",
              "    <tr>\n",
              "      <th>max</th>\n",
              "      <td>4.000000</td>\n",
              "      <td>10.000000</td>\n",
              "      <td>7.000000</td>\n",
              "      <td>17.000000</td>\n",
              "      <td>1.000000</td>\n",
              "      <td>443.000000</td>\n",
              "      <td>2018.000000</td>\n",
              "      <td>12.000000</td>\n",
              "      <td>31.000000</td>\n",
              "      <td>1.000000</td>\n",
              "      <td>13.000000</td>\n",
              "      <td>58.000000</td>\n",
              "      <td>540.000000</td>\n",
              "      <td>5.000000</td>\n",
              "    </tr>\n",
              "  </tbody>\n",
              "</table>\n",
              "</div>"
            ],
            "text/plain": [
              "       no_of_adults  no_of_children  no_of_weekend_nights  no_of_week_nights  \\\n",
              "count  36275.000000    36275.000000          36275.000000       36275.000000   \n",
              "mean       1.844962        0.105279              0.810724           2.204300   \n",
              "std        0.518715        0.402648              0.870644           1.410905   \n",
              "min        0.000000        0.000000              0.000000           0.000000   \n",
              "25%        2.000000        0.000000              0.000000           1.000000   \n",
              "50%        2.000000        0.000000              1.000000           2.000000   \n",
              "75%        2.000000        0.000000              2.000000           3.000000   \n",
              "max        4.000000       10.000000              7.000000          17.000000   \n",
              "\n",
              "       required_car_parking_space     lead_time  arrival_year  arrival_month  \\\n",
              "count                36275.000000  36275.000000  36275.000000   36275.000000   \n",
              "mean                     0.030986     85.232557   2017.820427       7.423653   \n",
              "std                      0.173281     85.930817      0.383836       3.069894   \n",
              "min                      0.000000      0.000000   2017.000000       1.000000   \n",
              "25%                      0.000000     17.000000   2018.000000       5.000000   \n",
              "50%                      0.000000     57.000000   2018.000000       8.000000   \n",
              "75%                      0.000000    126.000000   2018.000000      10.000000   \n",
              "max                      1.000000    443.000000   2018.000000      12.000000   \n",
              "\n",
              "       arrival_date  repeated_guest  no_of_previous_cancellations  \\\n",
              "count  36275.000000    36275.000000                  36275.000000   \n",
              "mean      15.596995        0.025637                      0.023349   \n",
              "std        8.740447        0.158053                      0.368331   \n",
              "min        1.000000        0.000000                      0.000000   \n",
              "25%        8.000000        0.000000                      0.000000   \n",
              "50%       16.000000        0.000000                      0.000000   \n",
              "75%       23.000000        0.000000                      0.000000   \n",
              "max       31.000000        1.000000                     13.000000   \n",
              "\n",
              "       no_of_previous_bookings_not_canceled  avg_price_per_room  \\\n",
              "count                          36275.000000        36275.000000   \n",
              "mean                               0.153411          103.423539   \n",
              "std                                1.754171           35.089424   \n",
              "min                                0.000000            0.000000   \n",
              "25%                                0.000000           80.300000   \n",
              "50%                                0.000000           99.450000   \n",
              "75%                                0.000000          120.000000   \n",
              "max                               58.000000          540.000000   \n",
              "\n",
              "       no_of_special_requests  \n",
              "count            36275.000000  \n",
              "mean                 0.619655  \n",
              "std                  0.786236  \n",
              "min                  0.000000  \n",
              "25%                  0.000000  \n",
              "50%                  0.000000  \n",
              "75%                  1.000000  \n",
              "max                  5.000000  "
            ]
          },
          "execution_count": 7,
          "metadata": {},
          "output_type": "execute_result"
        }
      ],
      "source": [
        "#df.describe() provides statistics such as the mean, minimum, standard deviation, and more.\n",
        "df.describe()"
      ]
    },
    {
      "cell_type": "code",
      "execution_count": 8,
      "metadata": {
        "colab": {
          "base_uri": "https://localhost:8080/"
        },
        "id": "0FKeir9i5DAr",
        "outputId": "100c970a-1315-4d9d-e817-2332f1e6657d"
      },
      "outputs": [
        {
          "data": {
            "text/plain": [
              "2018    29761\n",
              "2017     6514\n",
              "Name: arrival_year, dtype: int64"
            ]
          },
          "execution_count": 8,
          "metadata": {},
          "output_type": "execute_result"
        }
      ],
      "source": [
        "# Data spans two years (2017-2018)\n",
        "df['arrival_year'].value_counts()"
      ]
    },
    {
      "cell_type": "code",
      "execution_count": 9,
      "metadata": {
        "colab": {
          "base_uri": "https://localhost:8080/"
        },
        "id": "wYBqt6n-6a90",
        "outputId": "d1ffc8bc-6ad3-4e2b-f25a-fa0c63e4ea36"
      },
      "outputs": [
        {
          "name": "stdout",
          "output_type": "stream",
          "text": [
            "Not_Canceled    24390\n",
            "Canceled        11885\n",
            "Name: booking_status, dtype: int64\n",
            "\n",
            " Not_Canceled    0.672364\n",
            "Canceled        0.327636\n",
            "Name: booking_status, dtype: float64\n"
          ]
        }
      ],
      "source": [
        "# Distribution of outcome variable -- Class imbalance, needs to be addressed in training set\n",
        "print(df['booking_status'].value_counts())\n",
        "print('\\n',df['booking_status'].value_counts()/len(df))"
      ]
    },
    {
      "cell_type": "code",
      "execution_count": 10,
      "metadata": {
        "colab": {
          "base_uri": "https://localhost:8080/",
          "height": 496
        },
        "id": "X3KeKfc16iAE",
        "outputId": "098414e3-9963-40c5-8fc5-86ea1f37fc55"
      },
      "outputs": [
        {
          "name": "stderr",
          "output_type": "stream",
          "text": [
            "/var/folders/b8/4ntn3_wd1wg59r0lmbfgfmwc0000gn/T/ipykernel_39254/2717009892.py:6: UserWarning: Matplotlib is currently using agg, which is a non-GUI backend, so cannot show the figure.\n",
            "  plt.show()\n"
          ]
        }
      ],
      "source": [
        "# Booking status distribution\n",
        "plt.hist(df['booking_status'])\n",
        "plt.title('Booking Status Distribution in Training Set')\n",
        "plt.xlabel('Booking Status')\n",
        "plt.ylabel('Count')\n",
        "plt.show()"
      ]
    },
    {
      "cell_type": "code",
      "execution_count": 11,
      "metadata": {
        "colab": {
          "base_uri": "https://localhost:8080/"
        },
        "id": "UwZTemFX29CM",
        "outputId": "f4fc35bb-4817-4975-88f4-a248e96839ae"
      },
      "outputs": [
        {
          "data": {
            "text/plain": [
              "Not_Canceled    95\n",
              "Canceled        44\n",
              "Name: booking_status, dtype: int64"
            ]
          },
          "execution_count": 11,
          "metadata": {},
          "output_type": "execute_result"
        }
      ],
      "source": [
        "#Data from children?\n",
        "adult_zero = pd.DataFrame(df[df['no_of_adults'] == 0])\n",
        "adult_zero['booking_status'].value_counts()"
      ]
    },
    {
      "cell_type": "code",
      "execution_count": 12,
      "metadata": {
        "colab": {
          "base_uri": "https://localhost:8080/"
        },
        "id": "_2kk-Gaw3F_G",
        "outputId": "06f275ba-b3d0-444f-b4d2-40f8efd592f1"
      },
      "outputs": [
        {
          "data": {
            "text/plain": [
              "Series([], Name: booking_status, dtype: int64)"
            ]
          },
          "execution_count": 12,
          "metadata": {},
          "output_type": "execute_result"
        }
      ],
      "source": [
        "#Check for rows that report no adults or children\n",
        "both = pd.DataFrame(df[(df['no_of_adults'] == 0) & (df['no_of_children'] == 0)])\n",
        "both['booking_status'].value_counts()  # None"
      ]
    },
    {
      "cell_type": "code",
      "execution_count": 13,
      "metadata": {
        "colab": {
          "base_uri": "https://localhost:8080/"
        },
        "id": "AFGgUzZH3mvA",
        "outputId": "7eab810e-9bd8-471a-950f-68241b5526b8"
      },
      "outputs": [
        {
          "data": {
            "text/plain": [
              "Not_Canceled    76\n",
              "Canceled         2\n",
              "Name: booking_status, dtype: int64"
            ]
          },
          "execution_count": 13,
          "metadata": {},
          "output_type": "execute_result"
        }
      ],
      "source": [
        "#Check if any reservations report being not a week or weekend day\n",
        "no_day_type = pd.DataFrame(df[(df['no_of_weekend_nights'] == 0) & (df['no_of_week_nights'] == 0)])\n",
        "no_day_type['booking_status'].value_counts()  # Drop these later"
      ]
    },
    {
      "cell_type": "code",
      "execution_count": 14,
      "metadata": {
        "colab": {
          "base_uri": "https://localhost:8080/"
        },
        "id": "c5W6k5Mj35hC",
        "outputId": "770ba149-8742-450d-868a-51984cd20aa9"
      },
      "outputs": [
        {
          "data": {
            "text/plain": [
              "0    35151\n",
              "1     1124\n",
              "Name: required_car_parking_space, dtype: int64"
            ]
          },
          "execution_count": 14,
          "metadata": {},
          "output_type": "execute_result"
        }
      ],
      "source": [
        "df['required_car_parking_space'].value_counts()"
      ]
    },
    {
      "cell_type": "code",
      "execution_count": 15,
      "metadata": {
        "colab": {
          "base_uri": "https://localhost:8080/"
        },
        "id": "emu8Rg1X3-C3",
        "outputId": "05a03c51-621f-4926-824f-bb57f77c5019"
      },
      "outputs": [
        {
          "data": {
            "text/plain": [
              "0    35345\n",
              "1      930\n",
              "Name: repeated_guest, dtype: int64"
            ]
          },
          "execution_count": 15,
          "metadata": {},
          "output_type": "execute_result"
        }
      ],
      "source": [
        "df['repeated_guest'].value_counts()"
      ]
    },
    {
      "cell_type": "code",
      "execution_count": 16,
      "metadata": {
        "colab": {
          "base_uri": "https://localhost:8080/"
        },
        "id": "yf1O57ql4ErG",
        "outputId": "61915d23-3683-43d0-a57c-f161adf1b650"
      },
      "outputs": [
        {
          "data": {
            "text/plain": [
              "10    5317\n",
              "9     4611\n",
              "8     3813\n",
              "6     3203\n",
              "12    3021\n",
              "11    2980\n",
              "7     2920\n",
              "4     2736\n",
              "5     2598\n",
              "3     2358\n",
              "2     1704\n",
              "1     1014\n",
              "Name: arrival_month, dtype: int64"
            ]
          },
          "execution_count": 16,
          "metadata": {},
          "output_type": "execute_result"
        }
      ],
      "source": [
        "df['arrival_month'].value_counts()"
      ]
    },
    {
      "cell_type": "code",
      "execution_count": 17,
      "metadata": {
        "colab": {
          "base_uri": "https://localhost:8080/"
        },
        "id": "931ZWZvO4K1E",
        "outputId": "b68f10ec-cbce-48d8-fe54-8887e37004bc"
      },
      "outputs": [
        {
          "data": {
            "text/plain": [
              "Meal Plan 1     27835\n",
              "Not Selected     5130\n",
              "Meal Plan 2      3305\n",
              "Meal Plan 3         5\n",
              "Name: type_of_meal_plan, dtype: int64"
            ]
          },
          "execution_count": 17,
          "metadata": {},
          "output_type": "execute_result"
        }
      ],
      "source": [
        "df['type_of_meal_plan'].value_counts()"
      ]
    },
    {
      "cell_type": "code",
      "execution_count": 18,
      "metadata": {
        "colab": {
          "base_uri": "https://localhost:8080/"
        },
        "id": "6f8RjoIE4Klu",
        "outputId": "8bcaa394-707a-4898-8020-8c323681432c"
      },
      "outputs": [
        {
          "data": {
            "text/plain": [
              "Room_Type 1    28130\n",
              "Room_Type 4     6057\n",
              "Room_Type 6      966\n",
              "Room_Type 2      692\n",
              "Room_Type 5      265\n",
              "Room_Type 7      158\n",
              "Room_Type 3        7\n",
              "Name: room_type_reserved, dtype: int64"
            ]
          },
          "execution_count": 18,
          "metadata": {},
          "output_type": "execute_result"
        }
      ],
      "source": [
        "df['room_type_reserved'].value_counts()"
      ]
    },
    {
      "cell_type": "code",
      "execution_count": 19,
      "metadata": {
        "colab": {
          "base_uri": "https://localhost:8080/"
        },
        "id": "lEqtGWLs4KJH",
        "outputId": "bd9cef24-202a-4e21-86dd-495a9564354d"
      },
      "outputs": [
        {
          "data": {
            "text/plain": [
              "Online           23214\n",
              "Offline          10528\n",
              "Corporate         2017\n",
              "Complementary      391\n",
              "Aviation           125\n",
              "Name: market_segment_type, dtype: int64"
            ]
          },
          "execution_count": 19,
          "metadata": {},
          "output_type": "execute_result"
        }
      ],
      "source": [
        "df['market_segment_type'].value_counts()"
      ]
    },
    {
      "cell_type": "code",
      "execution_count": 20,
      "metadata": {},
      "outputs": [
        {
          "data": {
            "text/plain": [
              "0"
            ]
          },
          "execution_count": 20,
          "metadata": {},
          "output_type": "execute_result"
        }
      ],
      "source": [
        "#The sum count of the duplicated values\n",
        "df.duplicated().sum()"
      ]
    },
    {
      "cell_type": "markdown",
      "metadata": {
        "id": "QPlvXuBD6nco"
      },
      "source": [
        "## Data Preparation"
      ]
    },
    {
      "cell_type": "code",
      "execution_count": 21,
      "metadata": {
        "colab": {
          "base_uri": "https://localhost:8080/",
          "height": 554
        },
        "id": "N7RBMD0H6qgR",
        "outputId": "49a598b7-a4bb-4267-e76f-d12abce36890"
      },
      "outputs": [],
      "source": [
        "# Drop non-predictors\n",
        "df=df.drop(['Booking_ID'],axis=1)"
      ]
    },
    {
      "cell_type": "code",
      "execution_count": 22,
      "metadata": {},
      "outputs": [
        {
          "name": "stdout",
          "output_type": "stream",
          "text": [
            "Categorical attributes \n",
            " Index(['type_of_meal_plan', 'required_car_parking_space', 'room_type_reserved',\n",
            "       'arrival_year', 'arrival_month', 'market_segment_type',\n",
            "       'repeated_guest', 'booking_status'],\n",
            "      dtype='object')\n",
            "\n",
            " Numerical attributes \n",
            " Index(['no_of_adults', 'no_of_children', 'no_of_weekend_nights',\n",
            "       'no_of_week_nights', 'lead_time', 'arrival_date',\n",
            "       'no_of_previous_cancellations', 'no_of_previous_bookings_not_canceled',\n",
            "       'avg_price_per_room', 'no_of_special_requests'],\n",
            "      dtype='object')\n"
          ]
        }
      ],
      "source": [
        "# Convert columns to correct datatypes \n",
        "\n",
        "# Categorical='object'/'category'\n",
        "# Numerical='int'/'float'\n",
        "df['type_of_meal_plan']=df['type_of_meal_plan'].astype('category')\n",
        "df['required_car_parking_space']=df['required_car_parking_space'].astype('category')\n",
        "df['room_type_reserved']=df['room_type_reserved'].astype('category')\n",
        "df['arrival_year']=df['arrival_year'].astype('category')\n",
        "df['arrival_month']=df['arrival_month'].astype('category')\n",
        "df['market_segment_type']=df['market_segment_type'].astype('category')\n",
        "df['repeated_guest']=df['repeated_guest'].astype('category')\n",
        "df['booking_status']=df['booking_status'].astype('category')\n",
        "\n",
        "# Show all categorical data\n",
        "print('Categorical attributes \\n',df.select_dtypes(include=['category']).columns)\n",
        "\n",
        "# Show all numerical data\n",
        "print('\\n Numerical attributes \\n',df.select_dtypes(include=['integer','float']).columns)"
      ]
    },
    {
      "cell_type": "markdown",
      "metadata": {
        "id": "zB05XjzDCp3Z"
      },
      "source": [
        "### **Outlier**"
      ]
    },
    {
      "cell_type": "code",
      "execution_count": 23,
      "metadata": {
        "colab": {
          "base_uri": "https://localhost:8080/",
          "height": 1000
        },
        "id": "I5M2_JY3C-if",
        "outputId": "9704aa7e-6e9d-40d4-e286-b2b3e1b91a28"
      },
      "outputs": [
        {
          "name": "stderr",
          "output_type": "stream",
          "text": [
            "/opt/miniconda3/envs/ADS500B/lib/python3.10/site-packages/seaborn/_decorators.py:36: FutureWarning: Pass the following variable as a keyword arg: x. From version 0.12, the only valid positional argument will be `data`, and passing other arguments without an explicit keyword will result in an error or misinterpretation.\n",
            "  warnings.warn(\n"
          ]
        },
        {
          "ename": "ValueError",
          "evalue": "The truth value of a Series is ambiguous. Use a.empty, a.bool(), a.item(), a.any() or a.all().",
          "output_type": "error",
          "traceback": [
            "\u001b[0;31m---------------------------------------------------------------------------\u001b[0m",
            "\u001b[0;31mValueError\u001b[0m                                Traceback (most recent call last)",
            "\u001b[1;32m/Users/viviando/Desktop/MSADS/ADS505_Notebooks/ADS505_finalproject/ads505/Main.ipynb Cell 30\u001b[0m line \u001b[0;36m<cell line: 16>\u001b[0;34m()\u001b[0m\n\u001b[1;32m     <a href='vscode-notebook-cell:/Users/viviando/Desktop/MSADS/ADS505_Notebooks/ADS505_finalproject/ads505/Main.ipynb#X42sZmlsZQ%3D%3D?line=11'>12</a>\u001b[0m     axes[\u001b[39m0\u001b[39m, \u001b[39m1\u001b[39m]\u001b[39m.\u001b[39mset(xlabel\u001b[39m=\u001b[39m\u001b[39m'\u001b[39m\u001b[39m'\u001b[39m)\n\u001b[1;32m     <a href='vscode-notebook-cell:/Users/viviando/Desktop/MSADS/ADS505_Notebooks/ADS505_finalproject/ads505/Main.ipynb#X42sZmlsZQ%3D%3D?line=13'>14</a>\u001b[0m     plt\u001b[39m.\u001b[39mshow()\n\u001b[0;32m---> <a href='vscode-notebook-cell:/Users/viviando/Desktop/MSADS/ADS505_Notebooks/ADS505_finalproject/ads505/Main.ipynb#X42sZmlsZQ%3D%3D?line=15'>16</a>\u001b[0m print_box_hist(df, \u001b[39m'\u001b[39;49m\u001b[39mno_of_adults\u001b[39;49m\u001b[39m'\u001b[39;49m, \u001b[39m'\u001b[39;49m\u001b[39mno_of_children\u001b[39;49m\u001b[39m'\u001b[39;49m)\n\u001b[1;32m     <a href='vscode-notebook-cell:/Users/viviando/Desktop/MSADS/ADS505_Notebooks/ADS505_finalproject/ads505/Main.ipynb#X42sZmlsZQ%3D%3D?line=16'>17</a>\u001b[0m print_box_hist(df, \u001b[39m'\u001b[39m\u001b[39mlead_time\u001b[39m\u001b[39m'\u001b[39m, \u001b[39m'\u001b[39m\u001b[39mno_of_weekend_nights\u001b[39m\u001b[39m'\u001b[39m)\n\u001b[1;32m     <a href='vscode-notebook-cell:/Users/viviando/Desktop/MSADS/ADS505_Notebooks/ADS505_finalproject/ads505/Main.ipynb#X42sZmlsZQ%3D%3D?line=17'>18</a>\u001b[0m print_box_hist(df, \u001b[39m'\u001b[39m\u001b[39mno_of_week_nights\u001b[39m\u001b[39m'\u001b[39m, \u001b[39m'\u001b[39m\u001b[39mavg_price_per_room\u001b[39m\u001b[39m'\u001b[39m)\n",
            "\u001b[1;32m/Users/viviando/Desktop/MSADS/ADS505_Notebooks/ADS505_finalproject/ads505/Main.ipynb Cell 30\u001b[0m line \u001b[0;36mprint_box_hist\u001b[0;34m(data, data1, data2)\u001b[0m\n\u001b[1;32m      <a href='vscode-notebook-cell:/Users/viviando/Desktop/MSADS/ADS505_Notebooks/ADS505_finalproject/ads505/Main.ipynb#X42sZmlsZQ%3D%3D?line=1'>2</a>\u001b[0m sns\u001b[39m.\u001b[39mset(style\u001b[39m=\u001b[39m\u001b[39m\"\u001b[39m\u001b[39mdarkgrid\u001b[39m\u001b[39m\"\u001b[39m)\n\u001b[1;32m      <a href='vscode-notebook-cell:/Users/viviando/Desktop/MSADS/ADS505_Notebooks/ADS505_finalproject/ads505/Main.ipynb#X42sZmlsZQ%3D%3D?line=2'>3</a>\u001b[0m f, axes \u001b[39m=\u001b[39m plt\u001b[39m.\u001b[39msubplots(\u001b[39m2\u001b[39m, \u001b[39m2\u001b[39m, figsize\u001b[39m=\u001b[39m(\u001b[39m12\u001b[39m, \u001b[39m4\u001b[39m), gridspec_kw\u001b[39m=\u001b[39m{\u001b[39m\"\u001b[39m\u001b[39mheight_ratios\u001b[39m\u001b[39m\"\u001b[39m: (\u001b[39m.15\u001b[39m, \u001b[39m.85\u001b[39m)})\n\u001b[0;32m----> <a href='vscode-notebook-cell:/Users/viviando/Desktop/MSADS/ADS505_Notebooks/ADS505_finalproject/ads505/Main.ipynb#X42sZmlsZQ%3D%3D?line=4'>5</a>\u001b[0m sns\u001b[39m.\u001b[39;49mboxplot(data, x\u001b[39m=\u001b[39;49mdata1, orient\u001b[39m=\u001b[39;49m\u001b[39m\"\u001b[39;49m\u001b[39mh\u001b[39;49m\u001b[39m\"\u001b[39;49m, ax\u001b[39m=\u001b[39;49maxes[\u001b[39m0\u001b[39;49m, \u001b[39m0\u001b[39;49m])\n\u001b[1;32m      <a href='vscode-notebook-cell:/Users/viviando/Desktop/MSADS/ADS505_Notebooks/ADS505_finalproject/ads505/Main.ipynb#X42sZmlsZQ%3D%3D?line=5'>6</a>\u001b[0m sns\u001b[39m.\u001b[39mhistplot(data, x\u001b[39m=\u001b[39mdata1, ax\u001b[39m=\u001b[39maxes[\u001b[39m1\u001b[39m, \u001b[39m0\u001b[39m])\n\u001b[1;32m      <a href='vscode-notebook-cell:/Users/viviando/Desktop/MSADS/ADS505_Notebooks/ADS505_finalproject/ads505/Main.ipynb#X42sZmlsZQ%3D%3D?line=7'>8</a>\u001b[0m sns\u001b[39m.\u001b[39mboxplot(data, x\u001b[39m=\u001b[39mdata2, orient\u001b[39m=\u001b[39m\u001b[39m\"\u001b[39m\u001b[39mh\u001b[39m\u001b[39m\"\u001b[39m, ax\u001b[39m=\u001b[39maxes[\u001b[39m0\u001b[39m, \u001b[39m1\u001b[39m])\n",
            "File \u001b[0;32m/opt/miniconda3/envs/ADS500B/lib/python3.10/site-packages/seaborn/_decorators.py:46\u001b[0m, in \u001b[0;36m_deprecate_positional_args.<locals>.inner_f\u001b[0;34m(*args, **kwargs)\u001b[0m\n\u001b[1;32m     36\u001b[0m     warnings\u001b[39m.\u001b[39mwarn(\n\u001b[1;32m     37\u001b[0m         \u001b[39m\"\u001b[39m\u001b[39mPass the following variable\u001b[39m\u001b[39m{}\u001b[39;00m\u001b[39m as \u001b[39m\u001b[39m{}\u001b[39;00m\u001b[39mkeyword arg\u001b[39m\u001b[39m{}\u001b[39;00m\u001b[39m: \u001b[39m\u001b[39m{}\u001b[39;00m\u001b[39m. \u001b[39m\u001b[39m\"\u001b[39m\n\u001b[1;32m     38\u001b[0m         \u001b[39m\"\u001b[39m\u001b[39mFrom version 0.12, the only valid positional argument \u001b[39m\u001b[39m\"\u001b[39m\n\u001b[0;32m   (...)\u001b[0m\n\u001b[1;32m     43\u001b[0m         \u001b[39mFutureWarning\u001b[39;00m\n\u001b[1;32m     44\u001b[0m     )\n\u001b[1;32m     45\u001b[0m kwargs\u001b[39m.\u001b[39mupdate({k: arg \u001b[39mfor\u001b[39;00m k, arg \u001b[39min\u001b[39;00m \u001b[39mzip\u001b[39m(sig\u001b[39m.\u001b[39mparameters, args)})\n\u001b[0;32m---> 46\u001b[0m \u001b[39mreturn\u001b[39;00m f(\u001b[39m*\u001b[39;49m\u001b[39m*\u001b[39;49mkwargs)\n",
            "File \u001b[0;32m/opt/miniconda3/envs/ADS500B/lib/python3.10/site-packages/seaborn/categorical.py:2243\u001b[0m, in \u001b[0;36mboxplot\u001b[0;34m(x, y, hue, data, order, hue_order, orient, color, palette, saturation, width, dodge, fliersize, linewidth, whis, ax, **kwargs)\u001b[0m\n\u001b[1;32m   2231\u001b[0m \u001b[39m@_deprecate_positional_args\u001b[39m\n\u001b[1;32m   2232\u001b[0m \u001b[39mdef\u001b[39;00m \u001b[39mboxplot\u001b[39m(\n\u001b[1;32m   2233\u001b[0m     \u001b[39m*\u001b[39m,\n\u001b[0;32m   (...)\u001b[0m\n\u001b[1;32m   2240\u001b[0m     \u001b[39m*\u001b[39m\u001b[39m*\u001b[39mkwargs\n\u001b[1;32m   2241\u001b[0m ):\n\u001b[0;32m-> 2243\u001b[0m     plotter \u001b[39m=\u001b[39m _BoxPlotter(x, y, hue, data, order, hue_order,\n\u001b[1;32m   2244\u001b[0m                           orient, color, palette, saturation,\n\u001b[1;32m   2245\u001b[0m                           width, dodge, fliersize, linewidth)\n\u001b[1;32m   2247\u001b[0m     \u001b[39mif\u001b[39;00m ax \u001b[39mis\u001b[39;00m \u001b[39mNone\u001b[39;00m:\n\u001b[1;32m   2248\u001b[0m         ax \u001b[39m=\u001b[39m plt\u001b[39m.\u001b[39mgca()\n",
            "File \u001b[0;32m/opt/miniconda3/envs/ADS500B/lib/python3.10/site-packages/seaborn/categorical.py:406\u001b[0m, in \u001b[0;36m_BoxPlotter.__init__\u001b[0;34m(self, x, y, hue, data, order, hue_order, orient, color, palette, saturation, width, dodge, fliersize, linewidth)\u001b[0m\n\u001b[1;32m    402\u001b[0m \u001b[39mdef\u001b[39;00m \u001b[39m__init__\u001b[39m(\u001b[39mself\u001b[39m, x, y, hue, data, order, hue_order,\n\u001b[1;32m    403\u001b[0m              orient, color, palette, saturation,\n\u001b[1;32m    404\u001b[0m              width, dodge, fliersize, linewidth):\n\u001b[0;32m--> 406\u001b[0m     \u001b[39mself\u001b[39;49m\u001b[39m.\u001b[39;49mestablish_variables(x, y, hue, data, orient, order, hue_order)\n\u001b[1;32m    407\u001b[0m     \u001b[39mself\u001b[39m\u001b[39m.\u001b[39mestablish_colors(color, palette, saturation)\n\u001b[1;32m    409\u001b[0m     \u001b[39mself\u001b[39m\u001b[39m.\u001b[39mdodge \u001b[39m=\u001b[39m dodge\n",
            "File \u001b[0;32m/opt/miniconda3/envs/ADS500B/lib/python3.10/site-packages/seaborn/categorical.py:156\u001b[0m, in \u001b[0;36m_CategoricalPlotter.establish_variables\u001b[0;34m(self, x, y, hue, data, orient, order, hue_order, units)\u001b[0m\n\u001b[1;32m    153\u001b[0m         \u001b[39mraise\u001b[39;00m \u001b[39mValueError\u001b[39;00m(err)\n\u001b[1;32m    155\u001b[0m \u001b[39m# Figure out the plotting orientation\u001b[39;00m\n\u001b[0;32m--> 156\u001b[0m orient \u001b[39m=\u001b[39m infer_orient(\n\u001b[1;32m    157\u001b[0m     x, y, orient, require_numeric\u001b[39m=\u001b[39;49m\u001b[39mself\u001b[39;49m\u001b[39m.\u001b[39;49mrequire_numeric\n\u001b[1;32m    158\u001b[0m )\n\u001b[1;32m    160\u001b[0m \u001b[39m# Option 2a:\u001b[39;00m\n\u001b[1;32m    161\u001b[0m \u001b[39m# We are plotting a single set of data\u001b[39;00m\n\u001b[1;32m    162\u001b[0m \u001b[39m# ------------------------------------\u001b[39;00m\n\u001b[1;32m    163\u001b[0m \u001b[39mif\u001b[39;00m x \u001b[39mis\u001b[39;00m \u001b[39mNone\u001b[39;00m \u001b[39mor\u001b[39;00m y \u001b[39mis\u001b[39;00m \u001b[39mNone\u001b[39;00m:\n\u001b[1;32m    164\u001b[0m \n\u001b[1;32m    165\u001b[0m     \u001b[39m# Determine where the data are\u001b[39;00m\n",
            "File \u001b[0;32m/opt/miniconda3/envs/ADS500B/lib/python3.10/site-packages/seaborn/_core.py:1311\u001b[0m, in \u001b[0;36minfer_orient\u001b[0;34m(x, y, orient, require_numeric)\u001b[0m\n\u001b[1;32m   1283\u001b[0m \u001b[39mdef\u001b[39;00m \u001b[39minfer_orient\u001b[39m(x\u001b[39m=\u001b[39m\u001b[39mNone\u001b[39;00m, y\u001b[39m=\u001b[39m\u001b[39mNone\u001b[39;00m, orient\u001b[39m=\u001b[39m\u001b[39mNone\u001b[39;00m, require_numeric\u001b[39m=\u001b[39m\u001b[39mTrue\u001b[39;00m):\n\u001b[1;32m   1284\u001b[0m     \u001b[39m\"\"\"Determine how the plot should be oriented based on the data.\u001b[39;00m\n\u001b[1;32m   1285\u001b[0m \n\u001b[1;32m   1286\u001b[0m \u001b[39m    For historical reasons, the convention is to call a plot \"horizontally\"\u001b[39;00m\n\u001b[0;32m   (...)\u001b[0m\n\u001b[1;32m   1308\u001b[0m \n\u001b[1;32m   1309\u001b[0m \u001b[39m    \"\"\"\u001b[39;00m\n\u001b[0;32m-> 1311\u001b[0m     x_type \u001b[39m=\u001b[39m \u001b[39mNone\u001b[39;00m \u001b[39mif\u001b[39;00m x \u001b[39mis\u001b[39;00m \u001b[39mNone\u001b[39;00m \u001b[39melse\u001b[39;00m variable_type(x)\n\u001b[1;32m   1312\u001b[0m     y_type \u001b[39m=\u001b[39m \u001b[39mNone\u001b[39;00m \u001b[39mif\u001b[39;00m y \u001b[39mis\u001b[39;00m \u001b[39mNone\u001b[39;00m \u001b[39melse\u001b[39;00m variable_type(y)\n\u001b[1;32m   1314\u001b[0m     nonnumeric_dv_error \u001b[39m=\u001b[39m \u001b[39m\"\u001b[39m\u001b[39m{}\u001b[39;00m\u001b[39m orientation requires numeric `\u001b[39m\u001b[39m{}\u001b[39;00m\u001b[39m` variable.\u001b[39m\u001b[39m\"\u001b[39m\n",
            "File \u001b[0;32m/opt/miniconda3/envs/ADS500B/lib/python3.10/site-packages/seaborn/_core.py:1229\u001b[0m, in \u001b[0;36mvariable_type\u001b[0;34m(vector, boolean_type)\u001b[0m\n\u001b[1;32m   1226\u001b[0m     \u001b[39mreturn\u001b[39;00m \u001b[39m\"\u001b[39m\u001b[39mcategorical\u001b[39m\u001b[39m\"\u001b[39m\n\u001b[1;32m   1228\u001b[0m \u001b[39m# Special-case all-na data, which is always \"numeric\"\u001b[39;00m\n\u001b[0;32m-> 1229\u001b[0m \u001b[39mif\u001b[39;00m pd\u001b[39m.\u001b[39misna(vector)\u001b[39m.\u001b[39mall():\n\u001b[1;32m   1230\u001b[0m     \u001b[39mreturn\u001b[39;00m \u001b[39m\"\u001b[39m\u001b[39mnumeric\u001b[39m\u001b[39m\"\u001b[39m\n\u001b[1;32m   1232\u001b[0m \u001b[39m# Special-case binary/boolean data, allow caller to determine\u001b[39;00m\n\u001b[1;32m   1233\u001b[0m \u001b[39m# This triggers a numpy warning when vector has strings/objects\u001b[39;00m\n\u001b[1;32m   1234\u001b[0m \u001b[39m# https://github.com/numpy/numpy/issues/6784\u001b[39;00m\n\u001b[0;32m   (...)\u001b[0m\n\u001b[1;32m   1238\u001b[0m \u001b[39m# https://github.com/numpy/numpy/issues/13548\u001b[39;00m\n\u001b[1;32m   1239\u001b[0m \u001b[39m# This is considered a bug by numpy and will likely go away.\u001b[39;00m\n",
            "File \u001b[0;32m/opt/miniconda3/envs/ADS500B/lib/python3.10/site-packages/pandas/core/generic.py:1527\u001b[0m, in \u001b[0;36mNDFrame.__nonzero__\u001b[0;34m(self)\u001b[0m\n\u001b[1;32m   1525\u001b[0m \u001b[39m@final\u001b[39m\n\u001b[1;32m   1526\u001b[0m \u001b[39mdef\u001b[39;00m \u001b[39m__nonzero__\u001b[39m(\u001b[39mself\u001b[39m):\n\u001b[0;32m-> 1527\u001b[0m     \u001b[39mraise\u001b[39;00m \u001b[39mValueError\u001b[39;00m(\n\u001b[1;32m   1528\u001b[0m         \u001b[39mf\u001b[39m\u001b[39m\"\u001b[39m\u001b[39mThe truth value of a \u001b[39m\u001b[39m{\u001b[39;00m\u001b[39mtype\u001b[39m(\u001b[39mself\u001b[39m)\u001b[39m.\u001b[39m\u001b[39m__name__\u001b[39m\u001b[39m}\u001b[39;00m\u001b[39m is ambiguous. \u001b[39m\u001b[39m\"\u001b[39m\n\u001b[1;32m   1529\u001b[0m         \u001b[39m\"\u001b[39m\u001b[39mUse a.empty, a.bool(), a.item(), a.any() or a.all().\u001b[39m\u001b[39m\"\u001b[39m\n\u001b[1;32m   1530\u001b[0m     )\n",
            "\u001b[0;31mValueError\u001b[0m: The truth value of a Series is ambiguous. Use a.empty, a.bool(), a.item(), a.any() or a.all()."
          ]
        }
      ],
      "source": [
        "def print_box_hist(data, data1, data2):\n",
        "    sns.set(style=\"darkgrid\")\n",
        "    f, axes = plt.subplots(2, 2, figsize=(12, 4), gridspec_kw={\"height_ratios\": (.15, .85)})\n",
        "\n",
        "    sns.boxplot(data, x=data1, orient=\"h\", ax=axes[0, 0])\n",
        "    sns.histplot(data, x=data1, ax=axes[1, 0])\n",
        "\n",
        "    sns.boxplot(data, x=data2, orient=\"h\", ax=axes[0, 1])\n",
        "    sns.histplot(data, x=data2, ax=axes[1, 1])\n",
        "\n",
        "    axes[0, 0].set(xlabel='')\n",
        "    axes[0, 1].set(xlabel='')\n",
        "\n",
        "    plt.show()\n",
        "\n",
        "print_box_hist(df, 'no_of_adults', 'no_of_children')\n",
        "print_box_hist(df, 'lead_time', 'no_of_weekend_nights')\n",
        "print_box_hist(df, 'no_of_week_nights', 'avg_price_per_room')\n",
        "print_box_hist(df, 'required_car_parking_space', 'lead_time')\n",
        "print_box_hist(df, 'arrival_year', 'arrival_month')\n",
        "print_box_hist(df, 'arrival_date', 'repeated_guest')\n",
        "print_box_hist(df, 'no_of_previous_cancellations', 'no_of_previous_bookings_not_canceled')\n",
        "print_box_hist(df, 'avg_price_per_room', 'no_of_special_requests')\n"
      ]
    },
    {
      "cell_type": "code",
      "execution_count": 24,
      "metadata": {
        "colab": {
          "base_uri": "https://localhost:8080/"
        },
        "id": "HfPbezP8Cvnn",
        "outputId": "af6321c6-3489-4741-8385-e666f407cca2"
      },
      "outputs": [
        {
          "name": "stdout",
          "output_type": "stream",
          "text": [
            "['no_of_adults', 'no_of_children', 'no_of_weekend_nights', 'no_of_week_nights', 'lead_time', 'arrival_date', 'no_of_previous_cancellations', 'no_of_previous_bookings_not_canceled', 'avg_price_per_room', 'no_of_special_requests']\n"
          ]
        }
      ],
      "source": [
        "#Get a list of numeric column names in a DataFrame.\n",
        "def numeric_cols(data):\n",
        "    num_cols = []\n",
        "    for col in data.columns:\n",
        "        if data[col].dtype == 'int64' or data[col].dtype == 'float64':\n",
        "            num_cols.append(col)\n",
        "    return num_cols\n",
        "numeric_columns = numeric_cols(df)\n",
        "print(numeric_columns)\n"
      ]
    },
    {
      "cell_type": "code",
      "execution_count": 25,
      "metadata": {
        "colab": {
          "base_uri": "https://localhost:8080/"
        },
        "id": "GzyXMaR5C3Yf",
        "outputId": "d273ba9d-2889-43f0-c255-9d9af29d48ea"
      },
      "outputs": [
        {
          "name": "stdout",
          "output_type": "stream",
          "text": [
            "['type_of_meal_plan', 'required_car_parking_space', 'room_type_reserved', 'arrival_year', 'arrival_month', 'market_segment_type', 'repeated_guest', 'booking_status']\n"
          ]
        }
      ],
      "source": [
        "#Get a list of categorical column names in a DataFrame.\n",
        "def category_columns(data):\n",
        "  cat_cols = []\n",
        "  for i in data:\n",
        "    if data[i].dtype == 'object' or data[i].dtype == 'category':\n",
        "      cat_cols.append(i)\n",
        "  return cat_cols\n",
        "categorical_columns = category_columns(df)\n",
        "print(categorical_columns)\n"
      ]
    },
    {
      "cell_type": "code",
      "execution_count": null,
      "metadata": {
        "colab": {
          "base_uri": "https://localhost:8080/",
          "height": 1000
        },
        "id": "WiSTQrkKGCL_",
        "outputId": "b7eb1834-2c11-4c59-c4ae-6cfa6c843118"
      },
      "outputs": [],
      "source": [
        "# removing the outluers from dataset\n",
        "def remove_outliers(data, columns, lower_bound = 0.25, upper_bound = 0.75):\n",
        "    masks = []\n",
        "    for column in columns:\n",
        "        q1 = data[column].quantile(lower_bound)\n",
        "        q3 = data[column].quantile(upper_bound)\n",
        "        iqr = q3 - q1\n",
        "\n",
        "        lower = q1 - 1.5 * iqr\n",
        "        upper = q3 + 1.5 * iqr\n",
        "\n",
        "        mask = (data[column] >= lower) & (data[column] <= upper)\n",
        "        masks.append(mask)\n",
        "\n",
        "    # Combine the masks\n",
        "    final_mask = np.all(masks, axis=0)\n",
        "    # Remove outliers\n",
        "    final_dataset = data[final_mask]\n",
        "\n",
        "    return final_dataset\n",
        "\n",
        "#removing outlers\n",
        "columns=[\"no_of_children\",\"lead_time\",\"no_of_week_nights\",\"avg_price_per_room\",\"lead_time\", \"no_of_previous_cancellations\", \"no_of_previous_bookings_not_canceled\",\"avg_price_per_room\", \"no_of_special_requests\"]\n",
        "removeOutliers= remove_outliers(df,columns)\n",
        "\n",
        "print_box_hist(removeOutliers, 'no_of_adults', 'no_of_children')\n",
        "print_box_hist(removeOutliers, 'lead_time', 'no_of_weekend_nights')\n",
        "print_box_hist(removeOutliers, 'no_of_week_nights', 'avg_price_per_room')\n",
        "print_box_hist(removeOutliers, 'required_car_parking_space', 'lead_time')\n",
        "print_box_hist(removeOutliers, 'arrival_year', 'arrival_month')\n",
        "print_box_hist(removeOutliers, 'arrival_date', 'repeated_guest')\n",
        "print_box_hist(removeOutliers, 'no_of_previous_cancellations', 'no_of_previous_bookings_not_canceled')\n",
        "print_box_hist(removeOutliers, 'avg_price_per_room', 'no_of_special_requests')"
      ]
    },
    {
      "cell_type": "markdown",
      "metadata": {
        "id": "eXMCD5qJBduL"
      },
      "source": [
        " ### **Cleaning columns**"
      ]
    },
    {
      "cell_type": "code",
      "execution_count": 26,
      "metadata": {
        "colab": {
          "base_uri": "https://localhost:8080/"
        },
        "id": "eOVdbPLZBcpJ",
        "outputId": "84e356db-c067-40a3-ac73-51fede05f69c"
      },
      "outputs": [
        {
          "data": {
            "text/plain": [
              "0     35937\n",
              "1       198\n",
              "2        46\n",
              "3        43\n",
              "11       25\n",
              "5        11\n",
              "4        10\n",
              "13        4\n",
              "6         1\n",
              "Name: no_of_previous_cancellations, dtype: int64"
            ]
          },
          "execution_count": 26,
          "metadata": {},
          "output_type": "execute_result"
        }
      ],
      "source": [
        "# Show value counts---possibly bin into three categories (0, 1-3, 5+)\n",
        "df['no_of_previous_cancellations'].value_counts()\n"
      ]
    },
    {
      "cell_type": "code",
      "execution_count": 50,
      "metadata": {
        "colab": {
          "base_uri": "https://localhost:8080/"
        },
        "id": "gczFjxbnBZit",
        "outputId": "e0dd380d-0dbf-4667-a3e0-283ec0178ee7"
      },
      "outputs": [
        {
          "data": {
            "text/plain": [
              "1-3    36181\n",
              "5+        94\n",
              "0          0\n",
              "Name: no_of_previous_cancellations, dtype: int64"
            ]
          },
          "execution_count": 50,
          "metadata": {},
          "output_type": "execute_result"
        }
      ],
      "source": [
        "# Create a new column 'no_of_previous_cancellations' with values '0', '1-3', and '5+'\n",
        "df['no_of_previous_cancellations'] = pd.cut(df['no_of_previous_cancellations'],\n",
        "                                      bins=[-1, 0, 3, float('inf')],\n",
        "                                      labels=['0', '1-3', '5+'],\n",
        "                                      right=False)\n",
        "# Show value counts---possibly bin into three categories (0, 1-3, 5+)\n",
        "df['no_of_previous_cancellations'].value_counts()"
      ]
    },
    {
      "cell_type": "markdown",
      "metadata": {
        "id": "l3jy8KVSSDaX"
      },
      "source": [
        "## Exploratory Data Analysis"
      ]
    },
    {
      "cell_type": "code",
      "execution_count": null,
      "metadata": {
        "colab": {
          "base_uri": "https://localhost:8080/",
          "height": 1000
        },
        "id": "P7ndrZUw8qoV",
        "outputId": "d938c130-4fad-4fde-80f0-2dc10123cc25"
      },
      "outputs": [],
      "source": [
        "#Distributions for numerical variables\n",
        "df.hist(figsize=(12,12),bins=20)\n",
        "plt.show()"
      ]
    },
    {
      "cell_type": "code",
      "execution_count": null,
      "metadata": {
        "colab": {
          "base_uri": "https://localhost:8080/",
          "height": 1000
        },
        "id": "7VLXqzX88vv6",
        "outputId": "9e376707-e37a-4834-a793-45c2fa4cf867"
      },
      "outputs": [],
      "source": [
        "#Correlations between numerical variables\n",
        "plt.figure(figsize=(12, 8))\n",
        "plt.title(\"Heat Map of Correlation Coefficients\", fontsize=16)\n",
        "sns.heatmap(df.corr(), cmap = 'coolwarm', fmt = '.1f', linewidths = 1, annot = True)"
      ]
    },
    {
      "cell_type": "code",
      "execution_count": null,
      "metadata": {
        "colab": {
          "base_uri": "https://localhost:8080/",
          "height": 484
        },
        "id": "KV6a-A2y805v",
        "outputId": "4a61e42d-a49d-4ccc-b9dc-56969736c497"
      },
      "outputs": [],
      "source": [
        "#All numerical values have low to no correlation with each other\n",
        "df.corr()"
      ]
    },
    {
      "cell_type": "code",
      "execution_count": null,
      "metadata": {
        "id": "7bhiiDfz65oE"
      },
      "outputs": [],
      "source": [
        "# numeric columns for the box plot\n",
        "numeric_columns = ['no_of_adults', 'no_of_children',\n",
        "                   'no_of_weekend_nights', 'no_of_week_nights',\n",
        "                   'required_car_parking_space', 'lead_time', 'arrival_year',\n",
        "                   'arrival_month', 'arrival_date', 'repeated_guest', 'no_of_previous_cancellations',\n",
        "                   'no_of_previous_bookings_not_canceled', 'avg_price_per_room', 'no_of_special_requests']"
      ]
    },
    {
      "cell_type": "code",
      "execution_count": null,
      "metadata": {
        "colab": {
          "base_uri": "https://localhost:8080/",
          "height": 1000
        },
        "id": "y8tf2CDJ6xJ4",
        "outputId": "d07b91bc-195a-4852-c849-da58dff90442"
      },
      "outputs": [],
      "source": [
        "# Histograms for numerical variables\n",
        "for column in df[numeric_columns].columns:\n",
        "    plt.hist(df[numeric_columns][column])\n",
        "    plt.title(f\"Distribution of {column}\")\n",
        "    plt.ylabel(\"Frequency\")\n",
        "    plt.show()"
      ]
    },
    {
      "cell_type": "code",
      "execution_count": null,
      "metadata": {
        "colab": {
          "base_uri": "https://localhost:8080/",
          "height": 574
        },
        "id": "L7_gjc9mLQsu",
        "outputId": "138687b6-338e-4361-90ab-ce4fc3159c6c"
      },
      "outputs": [],
      "source": [
        "# box plots\n",
        "plt.figure(figsize=(12, 6))\n",
        "sns.boxplot(data=df[numeric_columns], orient=\"h\", palette=\"Set2\")\n",
        "plt.title(\"Box Plots for Numeric Columns\")\n",
        "plt.xlabel(\"Value\")\n",
        "plt.show()\n"
      ]
    },
    {
      "cell_type": "code",
      "execution_count": null,
      "metadata": {
        "colab": {
          "base_uri": "https://localhost:8080/"
        },
        "id": "goMPhq9c7a3t",
        "outputId": "4e5352b2-b16e-44e6-e274-c884f6e4355e"
      },
      "outputs": [],
      "source": [
        "df_cat = df[['type_of_meal_plan',\n",
        "             'room_type_reserved',\n",
        "             'market_segment_type',\n",
        "             'repeated_guest']]\n",
        "# Create cross-tab for categorical variables\n",
        "for column in df_cat.columns:\n",
        "    cross_tab = pd.crosstab(index=df_cat[column], columns=df['booking_status'])\n",
        "    print(cross_tab)\n",
        "    print(\"\\n\")"
      ]
    },
    {
      "cell_type": "code",
      "execution_count": null,
      "metadata": {
        "colab": {
          "base_uri": "https://localhost:8080/",
          "height": 706
        },
        "id": "86LziTWh8S0E",
        "outputId": "2a39fe05-3881-43b4-e415-8e8419631e6b"
      },
      "outputs": [],
      "source": [
        "fig, ax = plt.subplots(figsize=(20, 8))\n",
        "sns.countplot(x='value', hue='variable', data= pd.melt(df, value_vars=df_cat[0:4]))\n",
        "plt.show()"
      ]
    },
    {
      "cell_type": "code",
      "execution_count": null,
      "metadata": {
        "colab": {
          "base_uri": "https://localhost:8080/",
          "height": 706
        },
        "id": "L8Tk8PQ68ZUC",
        "outputId": "6a25c116-7de3-4a73-964e-9f7dd7f6f063"
      },
      "outputs": [],
      "source": [
        "fig, ax = plt.subplots(figsize=(20, 8))\n",
        "sns.countplot(x='value', hue='variable', data= pd.melt(df, value_vars=df_cat[4:7]))\n",
        "plt.show()"
      ]
    },
    {
      "cell_type": "markdown",
      "metadata": {
        "id": "-fMsawFa9Ncq"
      },
      "source": [
        "Checking for outlier"
      ]
    },
    {
      "cell_type": "code",
      "execution_count": null,
      "metadata": {
        "colab": {
          "base_uri": "https://localhost:8080/",
          "height": 1000
        },
        "id": "yQU7iAFiRZ9Q",
        "outputId": "64ef1318-c238-4137-c009-0e0dca365c73"
      },
      "outputs": [],
      "source": [
        "#some Histograms for the numerical clumns\n",
        "for col in numeric_cols(removeOutliers):\n",
        "    plt.figure(figsize=(12, 6))\n",
        "    # Histogram\n",
        "    plt.subplot(1, 2, 2)\n",
        "    plt.hist(removeOutliers[col], bins=20)\n",
        "    plt.title(f'Histogram of {col}')\n",
        "    plt.xlabel('Values')\n",
        "    plt.ylabel('Frequency')\n",
        "    plt.tight_layout()\n",
        "    plt.show()"
      ]
    },
    {
      "cell_type": "code",
      "execution_count": null,
      "metadata": {
        "colab": {
          "base_uri": "https://localhost:8080/",
          "height": 534
        },
        "id": "oWNzBEziZSrG",
        "outputId": "cc4cc9ef-aca3-492e-fb38-0b91e0b4acfe"
      },
      "outputs": [],
      "source": [
        "categorical_columns= removeOutliers[[ 'type_of_meal_plan', 'room_type_reserved', 'market_segment_type', 'booking_status']]\n",
        "categorical_columns"
      ]
    },
    {
      "cell_type": "code",
      "execution_count": null,
      "metadata": {
        "colab": {
          "base_uri": "https://localhost:8080/",
          "height": 1000
        },
        "id": "GOhxkzsvaKiA",
        "outputId": "96e42c50-3ac0-4d4b-ff86-1ed87e6928c5"
      },
      "outputs": [],
      "source": [
        "# Create bar plots for all categorical columns\n",
        "for col in categorical_columns:\n",
        "    plt.figure(figsize=(10, 6))\n",
        "\n",
        "    # Bar plot\n",
        "    value_counts = removeOutliers[col].value_counts()\n",
        "    value_counts.plot(kind='bar')\n",
        "    plt.title(f'Bar Plot of {col}')\n",
        "    plt.xlabel('Categories')\n",
        "    plt.ylabel('Frequency')\n",
        "    plt.tight_layout()\n",
        "    plt.show()"
      ]
    },
    {
      "cell_type": "code",
      "execution_count": null,
      "metadata": {
        "colab": {
          "base_uri": "https://localhost:8080/",
          "height": 1000
        },
        "id": "csy-z_x_byHZ",
        "outputId": "2ee4c074-d0f2-462d-f027-3b4ee03d4658"
      },
      "outputs": [],
      "source": [
        "# Create stacked bar charts\n",
        "for col in categorical_columns:\n",
        "  plt.figure(figsize=(10, 6))\n",
        "\n",
        "  # plot\n",
        "  cross_tab = pd.crosstab(index=removeOutliers[col], columns=removeOutliers['booking_status'])\n",
        "  cross_tab.plot(kind='bar', stacked=True)\n",
        "  plt.title(f\"{col} by Booking Status\")\n",
        "  plt.xlabel(col)\n",
        "  plt.ylabel('Count')\n",
        "  plt.show()"
      ]
    },
    {
      "cell_type": "code",
      "execution_count": null,
      "metadata": {
        "colab": {
          "base_uri": "https://localhost:8080/",
          "height": 1000
        },
        "id": "EIDB-5soKoTy",
        "outputId": "3b7db8ea-0556-4b21-bd5f-340e2322c96d"
      },
      "outputs": [],
      "source": [
        "# Stacked bar charts\n",
        "for column in df_cat.columns:\n",
        "    cross_tab = pd.crosstab(index=df_cat[column], columns=df['booking_status'])\n",
        "    cross_tab.plot(kind='bar', stacked=True)\n",
        "    plt.title(f\"{column} by Booking Status\")\n",
        "    plt.xlabel(column)\n",
        "    plt.ylabel('Count')\n",
        "    plt.show()"
      ]
    },
    {
      "cell_type": "markdown",
      "metadata": {
        "id": "euSsWumEKyev"
      },
      "source": [
        "### **Time Series**"
      ]
    },
    {
      "cell_type": "code",
      "execution_count": null,
      "metadata": {
        "id": "x9ps_GuiKvrD"
      },
      "outputs": [],
      "source": [
        "# Combine year, month, day into 1 column in datetime format ('full_arrival_date')\n",
        "df['day']=df['arrival_date'].copy()\n",
        "df['month']=df['arrival_month'].copy()\n",
        "df['year']=df['arrival_year'].copy()\n",
        "df['full_arrival_date']=pd.to_datetime(df[['year','month','day']],format='%Y-%M-%D',errors='coerce')"
      ]
    },
    {
      "cell_type": "code",
      "execution_count": null,
      "metadata": {
        "id": "R6KCI3aiLJ6x"
      },
      "outputs": [],
      "source": [
        "# New outcome variable\n",
        "df['booking_status_binary']=pd.get_dummies(df['booking_status'],drop_first=True)"
      ]
    },
    {
      "cell_type": "code",
      "execution_count": null,
      "metadata": {
        "colab": {
          "base_uri": "https://localhost:8080/",
          "height": 544
        },
        "id": "dDKzdQ1UKtGU",
        "outputId": "10d236f9-acc9-4db4-e507-10fe2d53a3ba"
      },
      "outputs": [],
      "source": [
        "# All reservations time-series (takes ~25 sec to run)\n",
        "sns.lineplot(data=df, x='full_arrival_date', y='booking_status_binary')\n",
        "plt.xticks(rotation=45)\n",
        "plt.title('All Reservations')\n"
      ]
    },
    {
      "cell_type": "markdown",
      "metadata": {
        "id": "3Jq-i-67LtQW"
      },
      "source": [
        "## **Data Split and Preprocessing Pipeline**"
      ]
    },
    {
      "cell_type": "code",
      "execution_count": null,
      "metadata": {
        "colab": {
          "base_uri": "https://localhost:8080/",
          "height": 314
        },
        "id": "V-w3eFU4Lwlc",
        "outputId": "1c7ec4db-d5a1-4977-aaad-7d32d3af8ddf"
      },
      "outputs": [],
      "source": [
        "df.head()"
      ]
    },
    {
      "cell_type": "code",
      "execution_count": null,
      "metadata": {
        "colab": {
          "base_uri": "https://localhost:8080/"
        },
        "id": "-EQ_HuHkL9c9",
        "outputId": "1f44ce94-92e0-424e-e494-763690b4a99a"
      },
      "outputs": [],
      "source": [
        "df.booking_status_binary"
      ]
    },
    {
      "cell_type": "code",
      "execution_count": null,
      "metadata": {
        "id": "Xs11x15dLwv6"
      },
      "outputs": [],
      "source": [
        "X = df.drop(['booking_status','booking_status_binary'], axis=1)\n",
        "y = df['booking_status_binary']\n",
        "X_train, X_test, y_train, y_test = train_test_split(X, y, train_size = 27000, random_state=1)\n",
        "X_train, X_val, y_train, y_val = train_test_split(X_train, y_train, train_size=15000, random_state=1)"
      ]
    },
    {
      "cell_type": "code",
      "execution_count": null,
      "metadata": {
        "colab": {
          "base_uri": "https://localhost:8080/"
        },
        "id": "uD65oPcgMc3S",
        "outputId": "d403110d-5e7b-4797-c720-0707292c033f"
      },
      "outputs": [],
      "source": [
        "X_train.shape, X_val.shape, X_test.shape"
      ]
    },
    {
      "cell_type": "code",
      "execution_count": null,
      "metadata": {
        "id": "NAW2rMF9MuEm"
      },
      "outputs": [],
      "source": [
        "#Final list of variables\n",
        "cats_final = ['required_car_parking_space','repeated_guest','meal_plan','room_type_reserved', 'market_segment_type']\n",
        "nums_final = ['no_of_adults', 'no_of_children', 'lead_time', 'no_of_previous_cancellations', 'total_nights',\n",
        "              'no_of_previous_bookings_not_canceled', 'avg_price_per_room', 'no_of_special_requests']"
      ]
    },
    {
      "cell_type": "code",
      "execution_count": null,
      "metadata": {
        "colab": {
          "base_uri": "https://localhost:8080/",
          "height": 242
        },
        "id": "kXP18RaBMfPr",
        "outputId": "1ffeb558-d8e2-4497-946c-2fb7d3feb203"
      },
      "outputs": [],
      "source": [
        "cat_pipe = Pipeline([('encoder', OneHotEncoder(handle_unknown='ignore'))])\n",
        "num_pipe = Pipeline([('variance', VarianceThreshold()),('skew_standardize', PowerTransformer())])\n",
        "all_pipe = make_pipeline(ColumnTransformer([('cat', cat_pipe, cats_final),('num', num_pipe, nums_final)]))\n",
        "all_pipe\n"
      ]
    },
    {
      "cell_type": "markdown",
      "metadata": {
        "id": "I1IifrG4NUs-"
      },
      "source": [
        "# References\n",
        " * https://saturncloud.io/blog/pandas-seaborn-countplot-from-several-columns/"
      ]
    }
  ],
  "metadata": {
    "colab": {
      "provenance": []
    },
    "kernelspec": {
      "display_name": "ADS500B",
      "language": "python",
      "name": "python3"
    },
    "language_info": {
      "codemirror_mode": {
        "name": "ipython",
        "version": 3
      },
      "file_extension": ".py",
      "mimetype": "text/x-python",
      "name": "python",
      "nbconvert_exporter": "python",
      "pygments_lexer": "ipython3",
      "version": "3.10.4"
    }
  },
  "nbformat": 4,
  "nbformat_minor": 0
}
