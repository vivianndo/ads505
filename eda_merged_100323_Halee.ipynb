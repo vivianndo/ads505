{
 "cells": [
  {
   "cell_type": "markdown",
   "metadata": {
    "id": "Hjorj4ZKHr-_"
   },
   "source": [
    "## ADS505 Final Project\n",
    "## Dataset: Hotel Reservations\n",
    "## Vivian Do, Mirna Philip, Halee Staggs\n"
   ]
  },
  {
   "cell_type": "markdown",
   "metadata": {},
   "source": [
    "### Attribute Description"
   ]
  },
  {
   "cell_type": "markdown",
   "metadata": {
    "id": "UiONTbMGIFCm"
   },
   "source": [
    "| Column Name                           | Description                                                                                      |\n",
    "|---------------------------------------|--------------------------------------------------------------------------------------------------|\n",
    "| Booking_ID                            | Unique identifier of each booking                                                                |\n",
    "| no_of_adults                          | Number of adults                                                                                 |\n",
    "| no_of_children                        | Number of Children                                                                               |\n",
    "| no_of_weekend_nights                  | Number of weekend nights (Saturday or Sunday) the guest stayed or booked to stay at the hotel  |\n",
    "| no_of_week_nights                     | Number of week nights (Monday to Friday) the guest stayed or booked to stay at the hotel      |\n",
    "| type_of_meal_plan                     | Type of meal plan booked by the customer                                                         |\n",
    "| required_car_parking_space            | Does the customer require a car parking space? (0 - No, 1- Yes)                                   |\n",
    "| room_type_reserved                    | Type of room reserved by the customer                                                             |\n",
    "| lead_time                             | Number of days between the date of booking and the arrival date                                   |\n",
    "| arrival_year                          | Year of arrival date                                                                             |\n",
    "| arrival_month                         | Month of arrival date                                                                            |\n",
    "| arrival_date                          | Date of the month                                                                                |\n",
    "| market_segment_type                   | Market segment designation                                                                       |\n",
    "| repeated_guest                        | Is the customer a repeated guest? (0 - No, 1- Yes)                                               |\n",
    "| no_of_previous_cancellations          | Number of previous bookings that were canceled by the customer prior to the current booking     |\n",
    "| no_of_previous_bookings_not_canceled  | Number of previous bookings not canceled by the customer prior to the current booking           |\n",
    "| avg_price_per_room                    | Average price per day of the reservation; prices of the rooms are dynamic (in euros)            |\n",
    "| no_of_special_requests                | Total number of special requests made by the customer                                            |\n",
    "| booking_status                        | Flag indicating if the booking was canceled or not                                               |\n"
   ]
  },
  {
   "cell_type": "markdown",
   "metadata": {},
   "source": [
    "### Library and Data Import"
   ]
  },
  {
   "cell_type": "code",
   "execution_count": 1,
   "metadata": {
    "colab": {
     "base_uri": "https://localhost:8080/"
    },
    "id": "vZ47wxTFHgXT",
    "outputId": "2fe72586-053a-438e-8483-3757d36902ee"
   },
   "outputs": [
    {
     "name": "stdout",
     "output_type": "stream",
     "text": [
      "no display found. Using non-interactive Agg backend\n"
     ]
    }
   ],
   "source": [
    "#Importing all the necessary packages\n",
    "import pandas as pd\n",
    "import numpy as np\n",
    "import matplotlib as mpl\n",
    "import matplotlib.pyplot as plt\n",
    "import seaborn as sns\n",
    "import warnings\n",
    "import scipy.stats as stats\n",
    "from scipy.stats import zscore\n",
    "from scipy.stats import yeojohnson\n",
    "import statsmodels.api as sm\n",
    "from sklearn.preprocessing import OneHotEncoder, PowerTransformer\n",
    "from sklearn.feature_selection import VarianceThreshold\n",
    "from sklearn.compose import ColumnTransformer\n",
    "from sklearn.model_selection import train_test_split, cross_val_score, GridSearchCV\n",
    "from sklearn.metrics import confusion_matrix, accuracy_score, ConfusionMatrixDisplay,  roc_auc_score, roc_curve \n",
    "from sklearn.metrics import classification_report, mean_squared_error\n",
    "from sklearn.linear_model import LogisticRegressionCV\n",
    "from sklearn.tree import DecisionTreeRegressor\n",
    "from sklearn.preprocessing import StandardScaler\n",
    "from sklearn.pipeline import make_pipeline, Pipeline\n",
    "from dmba import classificationSummary, AIC_score, BIC_score, plotDecisionTree,gainsChart\n",
    "from scikitplot.metrics import plot_lift_curve\n",
    "from sklearn.neural_network import MLPClassifier\n",
    "from sklearn.tree import DecisionTreeClassifier\n",
    "from sklearn.neighbors import NearestNeighbors, KNeighborsClassifier \n",
    "from sklearn.ensemble import GradientBoostingClassifier\n",
    "from sklearn import set_config\n",
    "#!pip install imblearn\n",
    "from imblearn.metrics import specificity_score, sensitivity_score\n"
   ]
  },
  {
   "cell_type": "code",
   "execution_count": 2,
   "metadata": {},
   "outputs": [],
   "source": [
    "#!pip install ipympl\n",
    "#import ipympl"
   ]
  },
  {
   "cell_type": "code",
   "execution_count": 3,
   "metadata": {
    "colab": {
     "base_uri": "https://localhost:8080/",
     "height": 200
    },
    "id": "8BNDaOpNILrV",
    "outputId": "9f8e2688-702e-4c55-b60e-d3ee74fcacc5"
   },
   "outputs": [
    {
     "data": {
      "text/html": [
       "<div>\n",
       "<style scoped>\n",
       "    .dataframe tbody tr th:only-of-type {\n",
       "        vertical-align: middle;\n",
       "    }\n",
       "\n",
       "    .dataframe tbody tr th {\n",
       "        vertical-align: top;\n",
       "    }\n",
       "\n",
       "    .dataframe thead th {\n",
       "        text-align: right;\n",
       "    }\n",
       "</style>\n",
       "<table border=\"1\" class=\"dataframe\">\n",
       "  <thead>\n",
       "    <tr style=\"text-align: right;\">\n",
       "      <th></th>\n",
       "      <th>Booking_ID</th>\n",
       "      <th>no_of_adults</th>\n",
       "      <th>no_of_children</th>\n",
       "      <th>no_of_weekend_nights</th>\n",
       "      <th>no_of_week_nights</th>\n",
       "      <th>type_of_meal_plan</th>\n",
       "      <th>required_car_parking_space</th>\n",
       "      <th>room_type_reserved</th>\n",
       "      <th>lead_time</th>\n",
       "      <th>arrival_year</th>\n",
       "      <th>arrival_month</th>\n",
       "      <th>arrival_date</th>\n",
       "      <th>market_segment_type</th>\n",
       "      <th>repeated_guest</th>\n",
       "      <th>no_of_previous_cancellations</th>\n",
       "      <th>no_of_previous_bookings_not_canceled</th>\n",
       "      <th>avg_price_per_room</th>\n",
       "      <th>no_of_special_requests</th>\n",
       "      <th>booking_status</th>\n",
       "    </tr>\n",
       "  </thead>\n",
       "  <tbody>\n",
       "    <tr>\n",
       "      <th>0</th>\n",
       "      <td>INN00001</td>\n",
       "      <td>2</td>\n",
       "      <td>0</td>\n",
       "      <td>1</td>\n",
       "      <td>2</td>\n",
       "      <td>Meal Plan 1</td>\n",
       "      <td>0</td>\n",
       "      <td>Room_Type 1</td>\n",
       "      <td>224</td>\n",
       "      <td>2017</td>\n",
       "      <td>10</td>\n",
       "      <td>2</td>\n",
       "      <td>Offline</td>\n",
       "      <td>0</td>\n",
       "      <td>0</td>\n",
       "      <td>0</td>\n",
       "      <td>65.00</td>\n",
       "      <td>0</td>\n",
       "      <td>Not_Canceled</td>\n",
       "    </tr>\n",
       "    <tr>\n",
       "      <th>1</th>\n",
       "      <td>INN00002</td>\n",
       "      <td>2</td>\n",
       "      <td>0</td>\n",
       "      <td>2</td>\n",
       "      <td>3</td>\n",
       "      <td>Not Selected</td>\n",
       "      <td>0</td>\n",
       "      <td>Room_Type 1</td>\n",
       "      <td>5</td>\n",
       "      <td>2018</td>\n",
       "      <td>11</td>\n",
       "      <td>6</td>\n",
       "      <td>Online</td>\n",
       "      <td>0</td>\n",
       "      <td>0</td>\n",
       "      <td>0</td>\n",
       "      <td>106.68</td>\n",
       "      <td>1</td>\n",
       "      <td>Not_Canceled</td>\n",
       "    </tr>\n",
       "    <tr>\n",
       "      <th>2</th>\n",
       "      <td>INN00003</td>\n",
       "      <td>1</td>\n",
       "      <td>0</td>\n",
       "      <td>2</td>\n",
       "      <td>1</td>\n",
       "      <td>Meal Plan 1</td>\n",
       "      <td>0</td>\n",
       "      <td>Room_Type 1</td>\n",
       "      <td>1</td>\n",
       "      <td>2018</td>\n",
       "      <td>2</td>\n",
       "      <td>28</td>\n",
       "      <td>Online</td>\n",
       "      <td>0</td>\n",
       "      <td>0</td>\n",
       "      <td>0</td>\n",
       "      <td>60.00</td>\n",
       "      <td>0</td>\n",
       "      <td>Canceled</td>\n",
       "    </tr>\n",
       "    <tr>\n",
       "      <th>3</th>\n",
       "      <td>INN00004</td>\n",
       "      <td>2</td>\n",
       "      <td>0</td>\n",
       "      <td>0</td>\n",
       "      <td>2</td>\n",
       "      <td>Meal Plan 1</td>\n",
       "      <td>0</td>\n",
       "      <td>Room_Type 1</td>\n",
       "      <td>211</td>\n",
       "      <td>2018</td>\n",
       "      <td>5</td>\n",
       "      <td>20</td>\n",
       "      <td>Online</td>\n",
       "      <td>0</td>\n",
       "      <td>0</td>\n",
       "      <td>0</td>\n",
       "      <td>100.00</td>\n",
       "      <td>0</td>\n",
       "      <td>Canceled</td>\n",
       "    </tr>\n",
       "    <tr>\n",
       "      <th>4</th>\n",
       "      <td>INN00005</td>\n",
       "      <td>2</td>\n",
       "      <td>0</td>\n",
       "      <td>1</td>\n",
       "      <td>1</td>\n",
       "      <td>Not Selected</td>\n",
       "      <td>0</td>\n",
       "      <td>Room_Type 1</td>\n",
       "      <td>48</td>\n",
       "      <td>2018</td>\n",
       "      <td>4</td>\n",
       "      <td>11</td>\n",
       "      <td>Online</td>\n",
       "      <td>0</td>\n",
       "      <td>0</td>\n",
       "      <td>0</td>\n",
       "      <td>94.50</td>\n",
       "      <td>0</td>\n",
       "      <td>Canceled</td>\n",
       "    </tr>\n",
       "  </tbody>\n",
       "</table>\n",
       "</div>"
      ],
      "text/plain": [
       "  Booking_ID  no_of_adults  no_of_children  no_of_weekend_nights  \\\n",
       "0   INN00001             2               0                     1   \n",
       "1   INN00002             2               0                     2   \n",
       "2   INN00003             1               0                     2   \n",
       "3   INN00004             2               0                     0   \n",
       "4   INN00005             2               0                     1   \n",
       "\n",
       "   no_of_week_nights type_of_meal_plan  required_car_parking_space  \\\n",
       "0                  2       Meal Plan 1                           0   \n",
       "1                  3      Not Selected                           0   \n",
       "2                  1       Meal Plan 1                           0   \n",
       "3                  2       Meal Plan 1                           0   \n",
       "4                  1      Not Selected                           0   \n",
       "\n",
       "  room_type_reserved  lead_time  arrival_year  arrival_month  arrival_date  \\\n",
       "0        Room_Type 1        224          2017             10             2   \n",
       "1        Room_Type 1          5          2018             11             6   \n",
       "2        Room_Type 1          1          2018              2            28   \n",
       "3        Room_Type 1        211          2018              5            20   \n",
       "4        Room_Type 1         48          2018              4            11   \n",
       "\n",
       "  market_segment_type  repeated_guest  no_of_previous_cancellations  \\\n",
       "0             Offline               0                             0   \n",
       "1              Online               0                             0   \n",
       "2              Online               0                             0   \n",
       "3              Online               0                             0   \n",
       "4              Online               0                             0   \n",
       "\n",
       "   no_of_previous_bookings_not_canceled  avg_price_per_room  \\\n",
       "0                                     0               65.00   \n",
       "1                                     0              106.68   \n",
       "2                                     0               60.00   \n",
       "3                                     0              100.00   \n",
       "4                                     0               94.50   \n",
       "\n",
       "   no_of_special_requests booking_status  \n",
       "0                       0   Not_Canceled  \n",
       "1                       1   Not_Canceled  \n",
       "2                       0       Canceled  \n",
       "3                       0       Canceled  \n",
       "4                       0       Canceled  "
      ]
     },
     "execution_count": 3,
     "metadata": {},
     "output_type": "execute_result"
    }
   ],
   "source": [
    "#uploating the dataset\n",
    "df = pd.read_csv('Hotel Reservations.csv')\n",
    "# display of first three rows  in the dataframe\n",
    "df.head()"
   ]
  },
  {
   "cell_type": "markdown",
   "metadata": {
    "id": "levEvZfJIlvy"
   },
   "source": [
    "### Understanding the dataset"
   ]
  },
  {
   "cell_type": "code",
   "execution_count": 4,
   "metadata": {
    "colab": {
     "base_uri": "https://localhost:8080/"
    },
    "id": "oP7Zd7Ls46bb",
    "outputId": "e48ffeb9-eac3-451f-b3e6-e5b1f624bc08"
   },
   "outputs": [
    {
     "data": {
      "text/plain": [
       "Index(['Booking_ID', 'no_of_adults', 'no_of_children', 'no_of_weekend_nights',\n",
       "       'no_of_week_nights', 'type_of_meal_plan', 'required_car_parking_space',\n",
       "       'room_type_reserved', 'lead_time', 'arrival_year', 'arrival_month',\n",
       "       'arrival_date', 'market_segment_type', 'repeated_guest',\n",
       "       'no_of_previous_cancellations', 'no_of_previous_bookings_not_canceled',\n",
       "       'avg_price_per_room', 'no_of_special_requests', 'booking_status'],\n",
       "      dtype='object')"
      ]
     },
     "execution_count": 4,
     "metadata": {},
     "output_type": "execute_result"
    }
   ],
   "source": [
    "df.columns"
   ]
  },
  {
   "cell_type": "code",
   "execution_count": 5,
   "metadata": {
    "colab": {
     "base_uri": "https://localhost:8080/"
    },
    "id": "QrgHJ39y49V5",
    "outputId": "08f59760-d8ce-4040-d56d-94adaf187cdf"
   },
   "outputs": [
    {
     "data": {
      "text/plain": [
       "(36275, 19)"
      ]
     },
     "execution_count": 5,
     "metadata": {},
     "output_type": "execute_result"
    }
   ],
   "source": [
    "# Dimensions: 36275 observations and 19 variables\n",
    "df.shape"
   ]
  },
  {
   "cell_type": "code",
   "execution_count": 6,
   "metadata": {
    "colab": {
     "base_uri": "https://localhost:8080/"
    },
    "id": "fULia4Li23rv",
    "outputId": "0b8c28e3-f2b3-4454-daa9-fec0721c86ef"
   },
   "outputs": [
    {
     "name": "stdout",
     "output_type": "stream",
     "text": [
      "<class 'pandas.core.frame.DataFrame'>\n",
      "RangeIndex: 36275 entries, 0 to 36274\n",
      "Data columns (total 19 columns):\n",
      " #   Column                                Non-Null Count  Dtype  \n",
      "---  ------                                --------------  -----  \n",
      " 0   Booking_ID                            36275 non-null  object \n",
      " 1   no_of_adults                          36275 non-null  int64  \n",
      " 2   no_of_children                        36275 non-null  int64  \n",
      " 3   no_of_weekend_nights                  36275 non-null  int64  \n",
      " 4   no_of_week_nights                     36275 non-null  int64  \n",
      " 5   type_of_meal_plan                     36275 non-null  object \n",
      " 6   required_car_parking_space            36275 non-null  int64  \n",
      " 7   room_type_reserved                    36275 non-null  object \n",
      " 8   lead_time                             36275 non-null  int64  \n",
      " 9   arrival_year                          36275 non-null  int64  \n",
      " 10  arrival_month                         36275 non-null  int64  \n",
      " 11  arrival_date                          36275 non-null  int64  \n",
      " 12  market_segment_type                   36275 non-null  object \n",
      " 13  repeated_guest                        36275 non-null  int64  \n",
      " 14  no_of_previous_cancellations          36275 non-null  int64  \n",
      " 15  no_of_previous_bookings_not_canceled  36275 non-null  int64  \n",
      " 16  avg_price_per_room                    36275 non-null  float64\n",
      " 17  no_of_special_requests                36275 non-null  int64  \n",
      " 18  booking_status                        36275 non-null  object \n",
      "dtypes: float64(1), int64(13), object(5)\n",
      "memory usage: 5.3+ MB\n"
     ]
    }
   ],
   "source": [
    "#Check data types and missing values\n",
    "df.info()"
   ]
  },
  {
   "cell_type": "code",
   "execution_count": 7,
   "metadata": {},
   "outputs": [
    {
     "data": {
      "text/plain": [
       "0"
      ]
     },
     "execution_count": 7,
     "metadata": {},
     "output_type": "execute_result"
    }
   ],
   "source": [
    "#The sum count of the duplicated values\n",
    "df.duplicated().sum()"
   ]
  },
  {
   "cell_type": "code",
   "execution_count": 8,
   "metadata": {
    "colab": {
     "base_uri": "https://localhost:8080/",
     "height": 400
    },
    "id": "DtxmG8a5I1Pa",
    "outputId": "32f9359d-7100-47ac-a732-b9f6153b966e"
   },
   "outputs": [
    {
     "data": {
      "text/html": [
       "<div>\n",
       "<style scoped>\n",
       "    .dataframe tbody tr th:only-of-type {\n",
       "        vertical-align: middle;\n",
       "    }\n",
       "\n",
       "    .dataframe tbody tr th {\n",
       "        vertical-align: top;\n",
       "    }\n",
       "\n",
       "    .dataframe thead th {\n",
       "        text-align: right;\n",
       "    }\n",
       "</style>\n",
       "<table border=\"1\" class=\"dataframe\">\n",
       "  <thead>\n",
       "    <tr style=\"text-align: right;\">\n",
       "      <th></th>\n",
       "      <th>no_of_adults</th>\n",
       "      <th>no_of_children</th>\n",
       "      <th>no_of_weekend_nights</th>\n",
       "      <th>no_of_week_nights</th>\n",
       "      <th>required_car_parking_space</th>\n",
       "      <th>lead_time</th>\n",
       "      <th>arrival_year</th>\n",
       "      <th>arrival_month</th>\n",
       "      <th>arrival_date</th>\n",
       "      <th>repeated_guest</th>\n",
       "      <th>no_of_previous_cancellations</th>\n",
       "      <th>no_of_previous_bookings_not_canceled</th>\n",
       "      <th>avg_price_per_room</th>\n",
       "      <th>no_of_special_requests</th>\n",
       "    </tr>\n",
       "  </thead>\n",
       "  <tbody>\n",
       "    <tr>\n",
       "      <th>count</th>\n",
       "      <td>36275.000000</td>\n",
       "      <td>36275.000000</td>\n",
       "      <td>36275.000000</td>\n",
       "      <td>36275.000000</td>\n",
       "      <td>36275.000000</td>\n",
       "      <td>36275.000000</td>\n",
       "      <td>36275.000000</td>\n",
       "      <td>36275.000000</td>\n",
       "      <td>36275.000000</td>\n",
       "      <td>36275.000000</td>\n",
       "      <td>36275.000000</td>\n",
       "      <td>36275.000000</td>\n",
       "      <td>36275.000000</td>\n",
       "      <td>36275.000000</td>\n",
       "    </tr>\n",
       "    <tr>\n",
       "      <th>mean</th>\n",
       "      <td>1.844962</td>\n",
       "      <td>0.105279</td>\n",
       "      <td>0.810724</td>\n",
       "      <td>2.204300</td>\n",
       "      <td>0.030986</td>\n",
       "      <td>85.232557</td>\n",
       "      <td>2017.820427</td>\n",
       "      <td>7.423653</td>\n",
       "      <td>15.596995</td>\n",
       "      <td>0.025637</td>\n",
       "      <td>0.023349</td>\n",
       "      <td>0.153411</td>\n",
       "      <td>103.423539</td>\n",
       "      <td>0.619655</td>\n",
       "    </tr>\n",
       "    <tr>\n",
       "      <th>std</th>\n",
       "      <td>0.518715</td>\n",
       "      <td>0.402648</td>\n",
       "      <td>0.870644</td>\n",
       "      <td>1.410905</td>\n",
       "      <td>0.173281</td>\n",
       "      <td>85.930817</td>\n",
       "      <td>0.383836</td>\n",
       "      <td>3.069894</td>\n",
       "      <td>8.740447</td>\n",
       "      <td>0.158053</td>\n",
       "      <td>0.368331</td>\n",
       "      <td>1.754171</td>\n",
       "      <td>35.089424</td>\n",
       "      <td>0.786236</td>\n",
       "    </tr>\n",
       "    <tr>\n",
       "      <th>min</th>\n",
       "      <td>0.000000</td>\n",
       "      <td>0.000000</td>\n",
       "      <td>0.000000</td>\n",
       "      <td>0.000000</td>\n",
       "      <td>0.000000</td>\n",
       "      <td>0.000000</td>\n",
       "      <td>2017.000000</td>\n",
       "      <td>1.000000</td>\n",
       "      <td>1.000000</td>\n",
       "      <td>0.000000</td>\n",
       "      <td>0.000000</td>\n",
       "      <td>0.000000</td>\n",
       "      <td>0.000000</td>\n",
       "      <td>0.000000</td>\n",
       "    </tr>\n",
       "    <tr>\n",
       "      <th>25%</th>\n",
       "      <td>2.000000</td>\n",
       "      <td>0.000000</td>\n",
       "      <td>0.000000</td>\n",
       "      <td>1.000000</td>\n",
       "      <td>0.000000</td>\n",
       "      <td>17.000000</td>\n",
       "      <td>2018.000000</td>\n",
       "      <td>5.000000</td>\n",
       "      <td>8.000000</td>\n",
       "      <td>0.000000</td>\n",
       "      <td>0.000000</td>\n",
       "      <td>0.000000</td>\n",
       "      <td>80.300000</td>\n",
       "      <td>0.000000</td>\n",
       "    </tr>\n",
       "    <tr>\n",
       "      <th>50%</th>\n",
       "      <td>2.000000</td>\n",
       "      <td>0.000000</td>\n",
       "      <td>1.000000</td>\n",
       "      <td>2.000000</td>\n",
       "      <td>0.000000</td>\n",
       "      <td>57.000000</td>\n",
       "      <td>2018.000000</td>\n",
       "      <td>8.000000</td>\n",
       "      <td>16.000000</td>\n",
       "      <td>0.000000</td>\n",
       "      <td>0.000000</td>\n",
       "      <td>0.000000</td>\n",
       "      <td>99.450000</td>\n",
       "      <td>0.000000</td>\n",
       "    </tr>\n",
       "    <tr>\n",
       "      <th>75%</th>\n",
       "      <td>2.000000</td>\n",
       "      <td>0.000000</td>\n",
       "      <td>2.000000</td>\n",
       "      <td>3.000000</td>\n",
       "      <td>0.000000</td>\n",
       "      <td>126.000000</td>\n",
       "      <td>2018.000000</td>\n",
       "      <td>10.000000</td>\n",
       "      <td>23.000000</td>\n",
       "      <td>0.000000</td>\n",
       "      <td>0.000000</td>\n",
       "      <td>0.000000</td>\n",
       "      <td>120.000000</td>\n",
       "      <td>1.000000</td>\n",
       "    </tr>\n",
       "    <tr>\n",
       "      <th>max</th>\n",
       "      <td>4.000000</td>\n",
       "      <td>10.000000</td>\n",
       "      <td>7.000000</td>\n",
       "      <td>17.000000</td>\n",
       "      <td>1.000000</td>\n",
       "      <td>443.000000</td>\n",
       "      <td>2018.000000</td>\n",
       "      <td>12.000000</td>\n",
       "      <td>31.000000</td>\n",
       "      <td>1.000000</td>\n",
       "      <td>13.000000</td>\n",
       "      <td>58.000000</td>\n",
       "      <td>540.000000</td>\n",
       "      <td>5.000000</td>\n",
       "    </tr>\n",
       "  </tbody>\n",
       "</table>\n",
       "</div>"
      ],
      "text/plain": [
       "       no_of_adults  no_of_children  no_of_weekend_nights  no_of_week_nights  \\\n",
       "count  36275.000000    36275.000000          36275.000000       36275.000000   \n",
       "mean       1.844962        0.105279              0.810724           2.204300   \n",
       "std        0.518715        0.402648              0.870644           1.410905   \n",
       "min        0.000000        0.000000              0.000000           0.000000   \n",
       "25%        2.000000        0.000000              0.000000           1.000000   \n",
       "50%        2.000000        0.000000              1.000000           2.000000   \n",
       "75%        2.000000        0.000000              2.000000           3.000000   \n",
       "max        4.000000       10.000000              7.000000          17.000000   \n",
       "\n",
       "       required_car_parking_space     lead_time  arrival_year  arrival_month  \\\n",
       "count                36275.000000  36275.000000  36275.000000   36275.000000   \n",
       "mean                     0.030986     85.232557   2017.820427       7.423653   \n",
       "std                      0.173281     85.930817      0.383836       3.069894   \n",
       "min                      0.000000      0.000000   2017.000000       1.000000   \n",
       "25%                      0.000000     17.000000   2018.000000       5.000000   \n",
       "50%                      0.000000     57.000000   2018.000000       8.000000   \n",
       "75%                      0.000000    126.000000   2018.000000      10.000000   \n",
       "max                      1.000000    443.000000   2018.000000      12.000000   \n",
       "\n",
       "       arrival_date  repeated_guest  no_of_previous_cancellations  \\\n",
       "count  36275.000000    36275.000000                  36275.000000   \n",
       "mean      15.596995        0.025637                      0.023349   \n",
       "std        8.740447        0.158053                      0.368331   \n",
       "min        1.000000        0.000000                      0.000000   \n",
       "25%        8.000000        0.000000                      0.000000   \n",
       "50%       16.000000        0.000000                      0.000000   \n",
       "75%       23.000000        0.000000                      0.000000   \n",
       "max       31.000000        1.000000                     13.000000   \n",
       "\n",
       "       no_of_previous_bookings_not_canceled  avg_price_per_room  \\\n",
       "count                          36275.000000        36275.000000   \n",
       "mean                               0.153411          103.423539   \n",
       "std                                1.754171           35.089424   \n",
       "min                                0.000000            0.000000   \n",
       "25%                                0.000000           80.300000   \n",
       "50%                                0.000000           99.450000   \n",
       "75%                                0.000000          120.000000   \n",
       "max                               58.000000          540.000000   \n",
       "\n",
       "       no_of_special_requests  \n",
       "count            36275.000000  \n",
       "mean                 0.619655  \n",
       "std                  0.786236  \n",
       "min                  0.000000  \n",
       "25%                  0.000000  \n",
       "50%                  0.000000  \n",
       "75%                  1.000000  \n",
       "max                  5.000000  "
      ]
     },
     "execution_count": 8,
     "metadata": {},
     "output_type": "execute_result"
    }
   ],
   "source": [
    "#df.describe() provides statistics such as the mean, minimum, standard deviation, and more.\n",
    "df.describe()"
   ]
  },
  {
   "cell_type": "markdown",
   "metadata": {},
   "source": [
    "Numerical Data Insights"
   ]
  },
  {
   "cell_type": "code",
   "execution_count": 9,
   "metadata": {
    "colab": {
     "base_uri": "https://localhost:8080/"
    },
    "id": "UwZTemFX29CM",
    "outputId": "f4fc35bb-4817-4975-88f4-a248e96839ae"
   },
   "outputs": [
    {
     "data": {
      "text/plain": [
       "Not_Canceled    95\n",
       "Canceled        44\n",
       "Name: booking_status, dtype: int64"
      ]
     },
     "execution_count": 9,
     "metadata": {},
     "output_type": "execute_result"
    }
   ],
   "source": [
    "#Data from children?\n",
    "adult_zero = pd.DataFrame(df[df['no_of_adults'] == 0])\n",
    "adult_zero['booking_status'].value_counts()"
   ]
  },
  {
   "cell_type": "code",
   "execution_count": 10,
   "metadata": {
    "colab": {
     "base_uri": "https://localhost:8080/"
    },
    "id": "_2kk-Gaw3F_G",
    "outputId": "06f275ba-b3d0-444f-b4d2-40f8efd592f1"
   },
   "outputs": [
    {
     "data": {
      "text/plain": [
       "Series([], Name: booking_status, dtype: int64)"
      ]
     },
     "execution_count": 10,
     "metadata": {},
     "output_type": "execute_result"
    }
   ],
   "source": [
    "#Check for rows that report no adults or children\n",
    "both = pd.DataFrame(df[(df['no_of_adults'] == 0) & (df['no_of_children'] == 0)])\n",
    "both['booking_status'].value_counts()  # None"
   ]
  },
  {
   "cell_type": "code",
   "execution_count": 11,
   "metadata": {
    "colab": {
     "base_uri": "https://localhost:8080/"
    },
    "id": "AFGgUzZH3mvA",
    "outputId": "7eab810e-9bd8-471a-950f-68241b5526b8"
   },
   "outputs": [
    {
     "data": {
      "text/plain": [
       "Not_Canceled    76\n",
       "Canceled         2\n",
       "Name: booking_status, dtype: int64"
      ]
     },
     "execution_count": 11,
     "metadata": {},
     "output_type": "execute_result"
    }
   ],
   "source": [
    "#Check if any reservations report being not a week or weekend day\n",
    "#Small amount of sample has no data for weekdays or weeknights\n",
    "#Can maybe impute with median\n",
    "no_day_type = pd.DataFrame(df[(df['no_of_weekend_nights'] == 0) & (df['no_of_week_nights'] == 0)])\n",
    "no_day_type['booking_status'].value_counts()  # Drop these later"
   ]
  },
  {
   "cell_type": "markdown",
   "metadata": {},
   "source": [
    "Categorical Data Insights"
   ]
  },
  {
   "cell_type": "code",
   "execution_count": 12,
   "metadata": {
    "colab": {
     "base_uri": "https://localhost:8080/"
    },
    "id": "wYBqt6n-6a90",
    "outputId": "d1ffc8bc-6ad3-4e2b-f25a-fa0c63e4ea36"
   },
   "outputs": [
    {
     "name": "stdout",
     "output_type": "stream",
     "text": [
      "Not_Canceled    24390\n",
      "Canceled        11885\n",
      "Name: booking_status, dtype: int64\n",
      "\n",
      " Not_Canceled    0.672364\n",
      "Canceled        0.327636\n",
      "Name: booking_status, dtype: float64\n"
     ]
    }
   ],
   "source": [
    "# Distribution of outcome variable -- Class imbalance, needs to be addressed in training set\n",
    "print(df['booking_status'].value_counts())\n",
    "print('\\n',df['booking_status'].value_counts()/len(df))"
   ]
  },
  {
   "cell_type": "markdown",
   "metadata": {},
   "source": [
    "Arrival Year"
   ]
  },
  {
   "cell_type": "code",
   "execution_count": 13,
   "metadata": {
    "colab": {
     "base_uri": "https://localhost:8080/"
    },
    "id": "0FKeir9i5DAr",
    "outputId": "100c970a-1315-4d9d-e817-2332f1e6657d"
   },
   "outputs": [
    {
     "data": {
      "text/plain": [
       "2018    29761\n",
       "2017     6514\n",
       "Name: arrival_year, dtype: int64"
      ]
     },
     "execution_count": 13,
     "metadata": {},
     "output_type": "execute_result"
    }
   ],
   "source": [
    "# Data spans two years (2017-2018)\n",
    "df['arrival_year'].value_counts()"
   ]
  },
  {
   "cell_type": "code",
   "execution_count": 14,
   "metadata": {},
   "outputs": [
    {
     "data": {
      "text/plain": [
       "Text(0.5, 1.0, 'Arrival Year by Booking Status')"
      ]
     },
     "execution_count": 14,
     "metadata": {},
     "output_type": "execute_result"
    }
   ],
   "source": [
    "pd.crosstab(df['arrival_year'], df['booking_status']).plot(kind='bar', stacked=True)\n",
    "plt.ylabel('Frequency')\n",
    "plt.title('Arrival Year by Booking Status')"
   ]
  },
  {
   "cell_type": "code",
   "execution_count": 15,
   "metadata": {},
   "outputs": [
    {
     "name": "stderr",
     "output_type": "stream",
     "text": [
      "/var/folders/b8/4ntn3_wd1wg59r0lmbfgfmwc0000gn/T/ipykernel_76003/69901213.py:9: UserWarning: Matplotlib is currently using agg, which is a non-GUI backend, so cannot show the figure.\n",
      "  plt.show()\n"
     ]
    }
   ],
   "source": [
    "# Normalized barcharts\n",
    "cross_tab = pd.crosstab(index=df['arrival_year'], columns=df['booking_status'])\n",
    "cross_tab = round(cross_tab.div(cross_tab.sum(0), axis=1)*100,1)\n",
    "norm_cross_tab=cross_tab.div(cross_tab.sum(axis=1), axis=0)\n",
    "norm_cross_tab.plot(kind='bar', stacked=True)\n",
    "plt.title(f\"Normalized Arrival Year by Booking Status\")\n",
    "plt.xticks(rotation=45)\n",
    "plt.ylabel('Proportion')\n",
    "plt.show()"
   ]
  },
  {
   "cell_type": "markdown",
   "metadata": {},
   "source": [
    "Car Parking Space"
   ]
  },
  {
   "cell_type": "code",
   "execution_count": 16,
   "metadata": {
    "colab": {
     "base_uri": "https://localhost:8080/"
    },
    "id": "c5W6k5Mj35hC",
    "outputId": "770ba149-8742-450d-868a-51984cd20aa9"
   },
   "outputs": [
    {
     "data": {
      "text/plain": [
       "0    35151\n",
       "1     1124\n",
       "Name: required_car_parking_space, dtype: int64"
      ]
     },
     "execution_count": 16,
     "metadata": {},
     "output_type": "execute_result"
    }
   ],
   "source": [
    "df['required_car_parking_space'].value_counts()"
   ]
  },
  {
   "cell_type": "code",
   "execution_count": 17,
   "metadata": {},
   "outputs": [
    {
     "data": {
      "text/plain": [
       "Text(0.5, 1.0, 'Parking Space by Booking Status')"
      ]
     },
     "execution_count": 17,
     "metadata": {},
     "output_type": "execute_result"
    }
   ],
   "source": [
    "pd.crosstab(df['required_car_parking_space'], df['booking_status']).plot(kind='bar', stacked=True)\n",
    "plt.ylabel('Frequency')\n",
    "plt.title('Parking Space by Booking Status')"
   ]
  },
  {
   "cell_type": "code",
   "execution_count": 18,
   "metadata": {},
   "outputs": [
    {
     "name": "stderr",
     "output_type": "stream",
     "text": [
      "/var/folders/b8/4ntn3_wd1wg59r0lmbfgfmwc0000gn/T/ipykernel_76003/1497438068.py:9: UserWarning: Matplotlib is currently using agg, which is a non-GUI backend, so cannot show the figure.\n",
      "  plt.show()\n"
     ]
    }
   ],
   "source": [
    "# Normalized barcharts\n",
    "cross_tab = pd.crosstab(index=df['required_car_parking_space'], columns=df['booking_status'])\n",
    "cross_tab = round(cross_tab.div(cross_tab.sum(0), axis=1)*100,1)\n",
    "norm_cross_tab=cross_tab.div(cross_tab.sum(axis=1), axis=0)\n",
    "norm_cross_tab.plot(kind='bar', stacked=True)\n",
    "plt.title(f\"Normalized Required Car Parking by Booking Status\")\n",
    "plt.xticks(rotation=45)\n",
    "plt.ylabel('Proportion')\n",
    "plt.show()"
   ]
  },
  {
   "cell_type": "markdown",
   "metadata": {},
   "source": [
    "Repeated Guest"
   ]
  },
  {
   "cell_type": "code",
   "execution_count": 19,
   "metadata": {
    "colab": {
     "base_uri": "https://localhost:8080/"
    },
    "id": "emu8Rg1X3-C3",
    "outputId": "05a03c51-621f-4926-824f-bb57f77c5019"
   },
   "outputs": [
    {
     "data": {
      "text/plain": [
       "0    35345\n",
       "1      930\n",
       "Name: repeated_guest, dtype: int64"
      ]
     },
     "execution_count": 19,
     "metadata": {},
     "output_type": "execute_result"
    }
   ],
   "source": [
    "df['repeated_guest'].value_counts()"
   ]
  },
  {
   "cell_type": "code",
   "execution_count": 20,
   "metadata": {},
   "outputs": [
    {
     "data": {
      "text/plain": [
       "Text(0.5, 1.0, 'Repeated Guest by Booking Status')"
      ]
     },
     "execution_count": 20,
     "metadata": {},
     "output_type": "execute_result"
    }
   ],
   "source": [
    "pd.crosstab(df['repeated_guest'], df['booking_status']).plot(kind='bar', stacked=True)\n",
    "plt.ylabel('Frequency')\n",
    "plt.title('Repeated Guest by Booking Status')"
   ]
  },
  {
   "cell_type": "code",
   "execution_count": 21,
   "metadata": {},
   "outputs": [
    {
     "name": "stderr",
     "output_type": "stream",
     "text": [
      "/var/folders/b8/4ntn3_wd1wg59r0lmbfgfmwc0000gn/T/ipykernel_76003/2563160653.py:9: UserWarning: Matplotlib is currently using agg, which is a non-GUI backend, so cannot show the figure.\n",
      "  plt.show()\n"
     ]
    }
   ],
   "source": [
    "# Normalized barcharts\n",
    "cross_tab = pd.crosstab(index=df['repeated_guest'], columns=df['booking_status'])\n",
    "cross_tab = round(cross_tab.div(cross_tab.sum(0), axis=1)*100,1)\n",
    "norm_cross_tab=cross_tab.div(cross_tab.sum(axis=1), axis=0)\n",
    "norm_cross_tab.plot(kind='bar', stacked=True)\n",
    "plt.title(f\"Normalized Repeated Guest by Booking Status\")\n",
    "plt.xticks(rotation=45)\n",
    "plt.ylabel('Proportion')\n",
    "plt.show()"
   ]
  },
  {
   "cell_type": "markdown",
   "metadata": {},
   "source": [
    "Arrival Month"
   ]
  },
  {
   "cell_type": "code",
   "execution_count": 22,
   "metadata": {
    "colab": {
     "base_uri": "https://localhost:8080/"
    },
    "id": "yf1O57ql4ErG",
    "outputId": "61915d23-3683-43d0-a57c-f161adf1b650"
   },
   "outputs": [
    {
     "data": {
      "text/plain": [
       "10    5317\n",
       "9     4611\n",
       "8     3813\n",
       "6     3203\n",
       "12    3021\n",
       "11    2980\n",
       "7     2920\n",
       "4     2736\n",
       "5     2598\n",
       "3     2358\n",
       "2     1704\n",
       "1     1014\n",
       "Name: arrival_month, dtype: int64"
      ]
     },
     "execution_count": 22,
     "metadata": {},
     "output_type": "execute_result"
    }
   ],
   "source": [
    "df['arrival_month'].value_counts()"
   ]
  },
  {
   "cell_type": "code",
   "execution_count": 23,
   "metadata": {},
   "outputs": [
    {
     "data": {
      "text/plain": [
       "Text(0.5, 1.0, 'Arrival Month by Booking Status')"
      ]
     },
     "execution_count": 23,
     "metadata": {},
     "output_type": "execute_result"
    }
   ],
   "source": [
    "pd.crosstab(df['arrival_month'], df['booking_status']).plot(kind='bar', stacked=True)\n",
    "plt.ylabel('Frequency')\n",
    "plt.title('Arrival Month by Booking Status')"
   ]
  },
  {
   "cell_type": "code",
   "execution_count": 24,
   "metadata": {},
   "outputs": [
    {
     "name": "stderr",
     "output_type": "stream",
     "text": [
      "/var/folders/b8/4ntn3_wd1wg59r0lmbfgfmwc0000gn/T/ipykernel_76003/604438260.py:9: UserWarning: Matplotlib is currently using agg, which is a non-GUI backend, so cannot show the figure.\n",
      "  plt.show()\n"
     ]
    }
   ],
   "source": [
    "# Normalized bar chart\n",
    "cross_tab = pd.crosstab(index=df['arrival_month'], columns=df['booking_status'])\n",
    "cross_tab = round(cross_tab.div(cross_tab.sum(0), axis=1)*100,1)\n",
    "norm_cross_tab=cross_tab.div(cross_tab.sum(axis=1), axis=0)\n",
    "norm_cross_tab.plot(kind='bar', stacked=True)\n",
    "plt.title(f\"Normalized Arrival Month by Booking Status\")\n",
    "plt.xticks(rotation=45)\n",
    "plt.ylabel('Proportion')\n",
    "plt.show()"
   ]
  },
  {
   "cell_type": "markdown",
   "metadata": {},
   "source": [
    "Meal Plan"
   ]
  },
  {
   "cell_type": "code",
   "execution_count": 25,
   "metadata": {
    "colab": {
     "base_uri": "https://localhost:8080/"
    },
    "id": "931ZWZvO4K1E",
    "outputId": "b68f10ec-cbce-48d8-fe54-8887e37004bc"
   },
   "outputs": [
    {
     "data": {
      "text/plain": [
       "Meal Plan 1     27835\n",
       "Not Selected     5130\n",
       "Meal Plan 2      3305\n",
       "Meal Plan 3         5\n",
       "Name: type_of_meal_plan, dtype: int64"
      ]
     },
     "execution_count": 25,
     "metadata": {},
     "output_type": "execute_result"
    }
   ],
   "source": [
    "df['type_of_meal_plan'].value_counts()"
   ]
  },
  {
   "cell_type": "code",
   "execution_count": 26,
   "metadata": {},
   "outputs": [
    {
     "data": {
      "text/plain": [
       "Text(0.5, 1.0, 'Meal Plan by Booking Status')"
      ]
     },
     "execution_count": 26,
     "metadata": {},
     "output_type": "execute_result"
    }
   ],
   "source": [
    "pd.crosstab(df['type_of_meal_plan'], df['booking_status']).plot(kind='bar', stacked=True)\n",
    "plt.ylabel('Frequency')\n",
    "plt.title('Meal Plan by Booking Status')"
   ]
  },
  {
   "cell_type": "code",
   "execution_count": 27,
   "metadata": {},
   "outputs": [
    {
     "name": "stderr",
     "output_type": "stream",
     "text": [
      "/var/folders/b8/4ntn3_wd1wg59r0lmbfgfmwc0000gn/T/ipykernel_76003/3300129511.py:9: UserWarning: Matplotlib is currently using agg, which is a non-GUI backend, so cannot show the figure.\n",
      "  plt.show()\n"
     ]
    }
   ],
   "source": [
    "# Normalized bar chart\n",
    "cross_tab = pd.crosstab(index=df['type_of_meal_plan'], columns=df['booking_status'])\n",
    "cross_tab = round(cross_tab.div(cross_tab.sum(0), axis=1)*100,1)\n",
    "norm_cross_tab=cross_tab.div(cross_tab.sum(axis=1), axis=0)\n",
    "norm_cross_tab.plot(kind='bar', stacked=True)\n",
    "plt.title(f\"Normalized Meal Plan by Booking Status\")\n",
    "plt.xticks(rotation=45)\n",
    "plt.ylabel('Proportion')\n",
    "plt.show()"
   ]
  },
  {
   "cell_type": "markdown",
   "metadata": {},
   "source": [
    "Room Type"
   ]
  },
  {
   "cell_type": "code",
   "execution_count": 28,
   "metadata": {
    "colab": {
     "base_uri": "https://localhost:8080/"
    },
    "id": "6f8RjoIE4Klu",
    "outputId": "8bcaa394-707a-4898-8020-8c323681432c"
   },
   "outputs": [
    {
     "data": {
      "text/plain": [
       "Room_Type 1    28130\n",
       "Room_Type 4     6057\n",
       "Room_Type 6      966\n",
       "Room_Type 2      692\n",
       "Room_Type 5      265\n",
       "Room_Type 7      158\n",
       "Room_Type 3        7\n",
       "Name: room_type_reserved, dtype: int64"
      ]
     },
     "execution_count": 28,
     "metadata": {},
     "output_type": "execute_result"
    }
   ],
   "source": [
    "df['room_type_reserved'].value_counts()"
   ]
  },
  {
   "cell_type": "code",
   "execution_count": 29,
   "metadata": {},
   "outputs": [
    {
     "data": {
      "text/plain": [
       "Text(0.5, 1.0, 'Room Type by Booking Status')"
      ]
     },
     "execution_count": 29,
     "metadata": {},
     "output_type": "execute_result"
    }
   ],
   "source": [
    "pd.crosstab(df['room_type_reserved'], df['booking_status']).plot(kind='bar', stacked=True)\n",
    "plt.ylabel('Frequency')\n",
    "plt.title('Room Type by Booking Status')"
   ]
  },
  {
   "cell_type": "code",
   "execution_count": 30,
   "metadata": {},
   "outputs": [
    {
     "name": "stderr",
     "output_type": "stream",
     "text": [
      "/var/folders/b8/4ntn3_wd1wg59r0lmbfgfmwc0000gn/T/ipykernel_76003/3144924454.py:9: UserWarning: Matplotlib is currently using agg, which is a non-GUI backend, so cannot show the figure.\n",
      "  plt.show()\n"
     ]
    }
   ],
   "source": [
    "# Normalized bar chart\n",
    "cross_tab = pd.crosstab(index=df['room_type_reserved'], columns=df['booking_status'])\n",
    "cross_tab = round(cross_tab.div(cross_tab.sum(0), axis=1)*100,1)\n",
    "norm_cross_tab=cross_tab.div(cross_tab.sum(axis=1), axis=0)\n",
    "norm_cross_tab.plot(kind='bar', stacked=True)\n",
    "plt.title(f\"Normalized Room Type by Booking Status\")\n",
    "plt.xticks(rotation=45)\n",
    "plt.ylabel('Proportion')\n",
    "plt.show()"
   ]
  },
  {
   "cell_type": "code",
   "execution_count": 31,
   "metadata": {
    "colab": {
     "base_uri": "https://localhost:8080/"
    },
    "id": "lEqtGWLs4KJH",
    "outputId": "bd9cef24-202a-4e21-86dd-495a9564354d"
   },
   "outputs": [
    {
     "data": {
      "text/plain": [
       "Online           23214\n",
       "Offline          10528\n",
       "Corporate         2017\n",
       "Complementary      391\n",
       "Aviation           125\n",
       "Name: market_segment_type, dtype: int64"
      ]
     },
     "execution_count": 31,
     "metadata": {},
     "output_type": "execute_result"
    }
   ],
   "source": [
    "df['market_segment_type'].value_counts()"
   ]
  },
  {
   "cell_type": "code",
   "execution_count": 32,
   "metadata": {},
   "outputs": [
    {
     "data": {
      "text/plain": [
       "Text(0.5, 1.0, 'Market Segment by Booking Status')"
      ]
     },
     "execution_count": 32,
     "metadata": {},
     "output_type": "execute_result"
    }
   ],
   "source": [
    "pd.crosstab(df['market_segment_type'], df['booking_status']).plot(kind='bar', stacked=True)\n",
    "plt.ylabel('Frequency')\n",
    "plt.title('Market Segment by Booking Status')"
   ]
  },
  {
   "cell_type": "code",
   "execution_count": 33,
   "metadata": {},
   "outputs": [
    {
     "name": "stderr",
     "output_type": "stream",
     "text": [
      "/var/folders/b8/4ntn3_wd1wg59r0lmbfgfmwc0000gn/T/ipykernel_76003/4223241086.py:9: UserWarning: Matplotlib is currently using agg, which is a non-GUI backend, so cannot show the figure.\n",
      "  plt.show()\n"
     ]
    }
   ],
   "source": [
    "# Normalized barcharts\n",
    "cross_tab = pd.crosstab(index=df['market_segment_type'], columns=df['booking_status'])\n",
    "cross_tab = round(cross_tab.div(cross_tab.sum(0), axis=1)*100,1)\n",
    "norm_cross_tab=cross_tab.div(cross_tab.sum(axis=1), axis=0)\n",
    "norm_cross_tab.plot(kind='bar', stacked=True)\n",
    "plt.title(f\"Normalized Market Segment by Booking Status\")\n",
    "plt.xticks(rotation=45)\n",
    "plt.ylabel('Proportion')\n",
    "plt.show()"
   ]
  },
  {
   "cell_type": "markdown",
   "metadata": {
    "id": "QPlvXuBD6nco"
   },
   "source": [
    "## Data Preparation"
   ]
  },
  {
   "cell_type": "code",
   "execution_count": 34,
   "metadata": {
    "colab": {
     "base_uri": "https://localhost:8080/",
     "height": 554
    },
    "id": "N7RBMD0H6qgR",
    "outputId": "49a598b7-a4bb-4267-e76f-d12abce36890"
   },
   "outputs": [],
   "source": [
    "# Drop non-predictors\n",
    "df=df.drop(['Booking_ID'],axis=1)"
   ]
  },
  {
   "cell_type": "code",
   "execution_count": 35,
   "metadata": {},
   "outputs": [
    {
     "name": "stdout",
     "output_type": "stream",
     "text": [
      "Categorical attributes \n",
      " Index(['type_of_meal_plan', 'required_car_parking_space', 'room_type_reserved',\n",
      "       'arrival_year', 'arrival_month', 'market_segment_type',\n",
      "       'repeated_guest', 'booking_status'],\n",
      "      dtype='object')\n",
      "\n",
      " Numerical attributes \n",
      " Index(['no_of_adults', 'no_of_children', 'no_of_weekend_nights',\n",
      "       'no_of_week_nights', 'lead_time', 'arrival_date',\n",
      "       'no_of_previous_cancellations', 'no_of_previous_bookings_not_canceled',\n",
      "       'avg_price_per_room', 'no_of_special_requests'],\n",
      "      dtype='object')\n"
     ]
    }
   ],
   "source": [
    "# Convert columns to correct datatypes \n",
    "\n",
    "# Categorical='object'/'category'\n",
    "# Numerical='int'/'float'\n",
    "df['type_of_meal_plan']=df['type_of_meal_plan'].astype('category')\n",
    "df['required_car_parking_space']=df['required_car_parking_space'].astype('category')\n",
    "df['room_type_reserved']=df['room_type_reserved'].astype('category')\n",
    "df['arrival_year']=df['arrival_year'].astype('category')\n",
    "df['arrival_month']=df['arrival_month'].astype('category')\n",
    "df['market_segment_type']=df['market_segment_type'].astype('category')\n",
    "df['repeated_guest']=df['repeated_guest'].astype('category')\n",
    "df['booking_status']=df['booking_status'].astype('category')\n",
    "\n",
    "# Show all categorical data\n",
    "print('Categorical attributes \\n',df.select_dtypes(include=['category']).columns)\n",
    "\n",
    "# Show all numerical data\n",
    "print('\\n Numerical attributes \\n',df.select_dtypes(include=['integer','float']).columns)"
   ]
  },
  {
   "cell_type": "markdown",
   "metadata": {},
   "source": [
    "### Feature Engineering\n",
    "\n",
    "1. Calculate cancellation rate based on the number of previous cancellations out of all bookings"
   ]
  },
  {
   "cell_type": "code",
   "execution_count": 36,
   "metadata": {},
   "outputs": [
    {
     "data": {
      "text/plain": [
       "0.000000    592\n",
       "1.000000    118\n",
       "0.166667     16\n",
       "0.200000     15\n",
       "0.333333     15\n",
       "           ... \n",
       "0.089286      1\n",
       "0.120000      1\n",
       "0.075000      1\n",
       "0.078947      1\n",
       "0.190476      1\n",
       "Name: cancellation_rate, Length: 81, dtype: int64"
      ]
     },
     "execution_count": 36,
     "metadata": {},
     "output_type": "execute_result"
    }
   ],
   "source": [
    "df['cancellation_rate']=df['no_of_previous_cancellations']/((df['no_of_previous_cancellations'])+(df['no_of_previous_bookings_not_canceled']))\n",
    "df['cancellation_rate']=df['cancellation_rate'].astype('float64')\n",
    "df['cancellation_rate'].value_counts()"
   ]
  },
  {
   "cell_type": "markdown",
   "metadata": {},
   "source": [
    "The cancellation rate uses historic bookings to calculate the guest's overall rate of bookings fulfilled, where 0 = a customer has fulfilled every booking and 1 = a customer has canceled every booking. "
   ]
  },
  {
   "cell_type": "code",
   "execution_count": 37,
   "metadata": {},
   "outputs": [
    {
     "name": "stderr",
     "output_type": "stream",
     "text": [
      "/var/folders/b8/4ntn3_wd1wg59r0lmbfgfmwc0000gn/T/ipykernel_76003/4023004260.py:9: UserWarning: Matplotlib is currently using agg, which is a non-GUI backend, so cannot show the figure.\n",
      "  plt.show()\n"
     ]
    }
   ],
   "source": [
    "y1 = list(df[df['booking_status'] == 'Canceled']['cancellation_rate'])\n",
    "y0 = list(df[df['booking_status'] == 'Not_Canceled']['cancellation_rate'])\n",
    "names = ['Fulfilled','Cancelled']\n",
    "plt.hist([y0,y1], label=names, stacked = True)\n",
    "plt.xlabel('Cancellation Rate')\n",
    "plt.ylabel('Frequency')\n",
    "plt.title('Cancellation Rate by Cancellation Status')\n",
    "plt.legend(loc='upper right')\n",
    "plt.show()"
   ]
  },
  {
   "cell_type": "markdown",
   "metadata": {},
   "source": [
    "2. Get full arrival date by combining year, month, and day"
   ]
  },
  {
   "cell_type": "code",
   "execution_count": 38,
   "metadata": {},
   "outputs": [],
   "source": [
    "# Combine year, month, day into 1 column in datetime format ('full_arrival_date')\n",
    "df['day']=df['arrival_date'].copy()\n",
    "df['month']=df['arrival_month'].copy()\n",
    "df['year']=df['arrival_year'].copy()\n",
    "df['full_arrival_date']=pd.to_datetime(df[['year','month','day']],format='%Y-%M-%D',errors='coerce')"
   ]
  },
  {
   "cell_type": "markdown",
   "metadata": {},
   "source": [
    "3. Get total number of guests"
   ]
  },
  {
   "cell_type": "code",
   "execution_count": 39,
   "metadata": {},
   "outputs": [],
   "source": [
    "df['total_guests']=df['no_of_adults']+df['no_of_children']"
   ]
  },
  {
   "cell_type": "code",
   "execution_count": 40,
   "metadata": {},
   "outputs": [
    {
     "name": "stderr",
     "output_type": "stream",
     "text": [
      "/var/folders/b8/4ntn3_wd1wg59r0lmbfgfmwc0000gn/T/ipykernel_76003/969887610.py:9: UserWarning: Matplotlib is currently using agg, which is a non-GUI backend, so cannot show the figure.\n",
      "  plt.show()\n"
     ]
    }
   ],
   "source": [
    "y1 = list(df[df['booking_status'] == 'Canceled']['total_guests'])\n",
    "y0 = list(df[df['booking_status'] == 'Not_Canceled']['total_guests'])\n",
    "names = ['Fulfilled','Cancelled']\n",
    "plt.hist([y0,y1], label=names, stacked = True)\n",
    "plt.xlabel('Total Guests')\n",
    "plt.ylabel('Frequency')\n",
    "plt.title('Total Guests by Cancellation Status')\n",
    "plt.legend(loc='upper right')\n",
    "plt.show()"
   ]
  },
  {
   "cell_type": "markdown",
   "metadata": {},
   "source": [
    "4. Get total number of nights for each booking"
   ]
  },
  {
   "cell_type": "code",
   "execution_count": 41,
   "metadata": {},
   "outputs": [],
   "source": [
    "df['total_nights']=df['no_of_weekend_nights']+df['no_of_week_nights']"
   ]
  },
  {
   "cell_type": "code",
   "execution_count": 42,
   "metadata": {},
   "outputs": [
    {
     "name": "stderr",
     "output_type": "stream",
     "text": [
      "/var/folders/b8/4ntn3_wd1wg59r0lmbfgfmwc0000gn/T/ipykernel_76003/2708508251.py:9: UserWarning: Matplotlib is currently using agg, which is a non-GUI backend, so cannot show the figure.\n",
      "  plt.show()\n"
     ]
    }
   ],
   "source": [
    "y1 = list(df[df['booking_status'] == 'Canceled']['total_nights'])\n",
    "y0 = list(df[df['booking_status'] == 'Not_Canceled']['total_nights'])\n",
    "names = ['Fulfilled','Cancelled']\n",
    "plt.hist([y0,y1], label=names, stacked = True)\n",
    "plt.xlabel('Total Nights')\n",
    "plt.ylabel('Frequency')\n",
    "plt.title('Total Nights by Cancellation Status')\n",
    "plt.legend(loc='upper right')\n",
    "plt.show()"
   ]
  },
  {
   "cell_type": "markdown",
   "metadata": {},
   "source": [
    "5. Get seasonality from arrival month"
   ]
  },
  {
   "cell_type": "code",
   "execution_count": 43,
   "metadata": {},
   "outputs": [
    {
     "data": {
      "text/plain": [
       "Autumn    12908\n",
       "Summer     9936\n",
       "Spring     7692\n",
       "Winter     5739\n",
       "Name: season, dtype: int64"
      ]
     },
     "execution_count": 43,
     "metadata": {},
     "output_type": "execute_result"
    }
   ],
   "source": [
    "def map_to_season(month):\n",
    "    if month in [12,1,2]:\n",
    "        return 'Winter'\n",
    "    elif month in [3,4,5]:\n",
    "        return 'Spring'\n",
    "    elif month in [6,7,8]:\n",
    "        return 'Summer'\n",
    "    elif month in [9,10,11]:\n",
    "        return 'Autumn'\n",
    "    else:\n",
    "        return 'Unknown'  # Handle any unexpected values\n",
    "\n",
    "# Apply mapping function to create a new 'season' column\n",
    "df['season'] = df['arrival_month'].apply(map_to_season)\n",
    "df['season']=df['season'].astype('category')\n",
    "df['season'].value_counts()"
   ]
  },
  {
   "cell_type": "code",
   "execution_count": 44,
   "metadata": {},
   "outputs": [
    {
     "data": {
      "text/plain": [
       "Text(0.5, 1.0, 'Season by Booking Status')"
      ]
     },
     "execution_count": 44,
     "metadata": {},
     "output_type": "execute_result"
    }
   ],
   "source": [
    "pd.crosstab(df['season'], df['booking_status']).plot(kind='bar', stacked=True)\n",
    "plt.ylabel('Frequency')\n",
    "plt.title('Season by Booking Status')"
   ]
  },
  {
   "cell_type": "code",
   "execution_count": 45,
   "metadata": {},
   "outputs": [
    {
     "name": "stderr",
     "output_type": "stream",
     "text": [
      "/var/folders/b8/4ntn3_wd1wg59r0lmbfgfmwc0000gn/T/ipykernel_76003/1500209157.py:9: UserWarning: Matplotlib is currently using agg, which is a non-GUI backend, so cannot show the figure.\n",
      "  plt.show()\n"
     ]
    }
   ],
   "source": [
    "# Normalized barcharts\n",
    "cross_tab = pd.crosstab(index=df['season'], columns=df['booking_status'])\n",
    "cross_tab = round(cross_tab.div(cross_tab.sum(0), axis=1)*100,1)\n",
    "norm_cross_tab=cross_tab.div(cross_tab.sum(axis=1), axis=0)\n",
    "norm_cross_tab.plot(kind='bar', stacked=True)\n",
    "plt.title(f\"Normalized Seasonality by Booking Status\")\n",
    "plt.xticks(rotation=45)\n",
    "plt.ylabel('Proportion')\n",
    "plt.show()"
   ]
  },
  {
   "cell_type": "markdown",
   "metadata": {},
   "source": [
    "Past guests have a lower cancellation rate"
   ]
  },
  {
   "cell_type": "markdown",
   "metadata": {},
   "source": [
    "6. Past Cancellation (0- No, 1-Yes)"
   ]
  },
  {
   "cell_type": "code",
   "execution_count": 46,
   "metadata": {
    "colab": {
     "base_uri": "https://localhost:8080/"
    },
    "id": "eOVdbPLZBcpJ",
    "outputId": "84e356db-c067-40a3-ac73-51fede05f69c"
   },
   "outputs": [
    {
     "data": {
      "text/plain": [
       "0     35937\n",
       "1       198\n",
       "2        46\n",
       "3        43\n",
       "11       25\n",
       "5        11\n",
       "4        10\n",
       "13        4\n",
       "6         1\n",
       "Name: no_of_previous_cancellations, dtype: int64"
      ]
     },
     "execution_count": 46,
     "metadata": {},
     "output_type": "execute_result"
    }
   ],
   "source": [
    "# Show value counts\n",
    "df['no_of_previous_cancellations'].value_counts()\n"
   ]
  },
  {
   "cell_type": "markdown",
   "metadata": {},
   "source": [
    "Most guests did not have a previous cancellation. We will convert this numerical variable to a binary variable where:\n",
    "\n",
    "    * 0 = guest did not have a previous cancellation\n",
    "    * 1 = guest had at least 1 previous cancellation"
   ]
  },
  {
   "cell_type": "code",
   "execution_count": 47,
   "metadata": {},
   "outputs": [],
   "source": [
    "# Make binary; 0=no past cancellations, 1=at least 1 past cancellation\n",
    "df['past_cancellation'] = df['no_of_previous_cancellations'].apply(lambda x: 1 if x > 0 else 0)\n",
    "df['past_cancellation']=df['past_cancellation'].astype('category')"
   ]
  },
  {
   "cell_type": "code",
   "execution_count": 48,
   "metadata": {},
   "outputs": [
    {
     "data": {
      "text/plain": [
       "Text(0.5, 1.0, 'Past Cancellation by Booking Status')"
      ]
     },
     "execution_count": 48,
     "metadata": {},
     "output_type": "execute_result"
    }
   ],
   "source": [
    "pd.crosstab(df['past_cancellation'], df['booking_status']).plot(kind='bar', stacked=True)\n",
    "plt.ylabel('Frequency')\n",
    "plt.title('Past Cancellation by Booking Status')"
   ]
  },
  {
   "cell_type": "code",
   "execution_count": 49,
   "metadata": {},
   "outputs": [
    {
     "name": "stderr",
     "output_type": "stream",
     "text": [
      "/var/folders/b8/4ntn3_wd1wg59r0lmbfgfmwc0000gn/T/ipykernel_76003/345929402.py:9: UserWarning: Matplotlib is currently using agg, which is a non-GUI backend, so cannot show the figure.\n",
      "  plt.show()\n"
     ]
    }
   ],
   "source": [
    "# Normalized barcharts\n",
    "cross_tab = pd.crosstab(index=df['past_cancellation'], columns=df['booking_status'])\n",
    "cross_tab = round(cross_tab.div(cross_tab.sum(0), axis=1)*100,1)\n",
    "norm_cross_tab=cross_tab.div(cross_tab.sum(axis=1), axis=0)\n",
    "norm_cross_tab.plot(kind='bar', stacked=True)\n",
    "plt.title(f\"Normalized Past Cancellation by Booking Status\")\n",
    "plt.xticks(rotation=45)\n",
    "plt.ylabel('Proportion')\n",
    "plt.show()"
   ]
  },
  {
   "cell_type": "markdown",
   "metadata": {},
   "source": [
    "7. Total Reservation Price"
   ]
  },
  {
   "cell_type": "code",
   "execution_count": 50,
   "metadata": {},
   "outputs": [],
   "source": [
    "df['total_price'] = pd.array(df['total_nights'])*pd.array(df['avg_price_per_room'])"
   ]
  },
  {
   "cell_type": "code",
   "execution_count": 51,
   "metadata": {},
   "outputs": [
    {
     "name": "stderr",
     "output_type": "stream",
     "text": [
      "/var/folders/b8/4ntn3_wd1wg59r0lmbfgfmwc0000gn/T/ipykernel_76003/512226575.py:9: UserWarning: Matplotlib is currently using agg, which is a non-GUI backend, so cannot show the figure.\n",
      "  plt.show()\n"
     ]
    }
   ],
   "source": [
    "y1 = list(df[df['booking_status'] == 'Canceled']['total_price'])\n",
    "y0 = list(df[df['booking_status'] == 'Not_Canceled']['total_price'])\n",
    "names = ['Fulfilled','Cancelled']\n",
    "plt.hist([y0,y1], label=names, stacked = True)\n",
    "plt.xlabel('Total Price (euros)')\n",
    "plt.ylabel('Frequency')\n",
    "plt.title('Reservation Price by Cancellation Status')\n",
    "plt.legend(loc='upper right')\n",
    "plt.show()"
   ]
  },
  {
   "cell_type": "markdown",
   "metadata": {},
   "source": [
    "8. Meal plan as binary"
   ]
  },
  {
   "cell_type": "code",
   "execution_count": 52,
   "metadata": {},
   "outputs": [],
   "source": [
    "df['meal_plan'] = df['type_of_meal_plan'].apply(lambda x: 0 if x == 'Not Selected' else 1)\n",
    "df['meal_plan']=df['meal_plan'].astype('category')"
   ]
  },
  {
   "cell_type": "code",
   "execution_count": 53,
   "metadata": {},
   "outputs": [
    {
     "data": {
      "text/plain": [
       "Text(0.5, 1.0, 'Meal Plan by Booking Status')"
      ]
     },
     "execution_count": 53,
     "metadata": {},
     "output_type": "execute_result"
    }
   ],
   "source": [
    "pd.crosstab(df['meal_plan'], df['booking_status']).plot(kind='bar', stacked=True)\n",
    "plt.ylabel('Frequency')\n",
    "plt.title('Meal Plan by Booking Status')"
   ]
  },
  {
   "cell_type": "code",
   "execution_count": 54,
   "metadata": {},
   "outputs": [
    {
     "name": "stderr",
     "output_type": "stream",
     "text": [
      "/var/folders/b8/4ntn3_wd1wg59r0lmbfgfmwc0000gn/T/ipykernel_76003/2427268829.py:9: UserWarning: Matplotlib is currently using agg, which is a non-GUI backend, so cannot show the figure.\n",
      "  plt.show()\n"
     ]
    }
   ],
   "source": [
    "# Normalized barcharts\n",
    "cross_tab = pd.crosstab(index=df['meal_plan'], columns=df['booking_status'])\n",
    "cross_tab = round(cross_tab.div(cross_tab.sum(0), axis=1)*100,1)\n",
    "norm_cross_tab=cross_tab.div(cross_tab.sum(axis=1), axis=0)\n",
    "norm_cross_tab.plot(kind='bar', stacked=True)\n",
    "plt.title(f\"Normalized Meal Plan by Booking Status\")\n",
    "plt.xticks(rotation=45)\n",
    "plt.ylabel('Proportion')\n",
    "plt.show()"
   ]
  },
  {
   "cell_type": "markdown",
   "metadata": {},
   "source": [
    "No significant difference between guests that selected a meal plan compared to guests that didn't. "
   ]
  },
  {
   "cell_type": "markdown",
   "metadata": {},
   "source": [
    "9. Room type as binary"
   ]
  },
  {
   "cell_type": "code",
   "execution_count": 55,
   "metadata": {},
   "outputs": [],
   "source": [
    "df['room_type'] = df['room_type_reserved'].apply(lambda x: 1 if x == 'Room_Type 1' else 0)\n",
    "df['room_type']=df['room_type'].astype('category')"
   ]
  },
  {
   "cell_type": "code",
   "execution_count": 56,
   "metadata": {},
   "outputs": [
    {
     "name": "stderr",
     "output_type": "stream",
     "text": [
      "/opt/miniconda3/envs/ADS500B/lib/python3.10/site-packages/pandas/plotting/_matplotlib/core.py:386: RuntimeWarning: More than 20 figures have been opened. Figures created through the pyplot interface (`matplotlib.pyplot.figure`) are retained until explicitly closed and may consume too much memory. (To control this warning, see the rcParam `figure.max_open_warning`).\n",
      "  fig = self.plt.figure(figsize=self.figsize)\n"
     ]
    },
    {
     "data": {
      "text/plain": [
       "Text(0.5, 1.0, 'Room Type by Booking Status')"
      ]
     },
     "execution_count": 56,
     "metadata": {},
     "output_type": "execute_result"
    }
   ],
   "source": [
    "pd.crosstab(df['room_type'], df['booking_status']).plot(kind='bar', stacked=True)\n",
    "plt.ylabel('Frequency')\n",
    "plt.title('Room Type by Booking Status')"
   ]
  },
  {
   "cell_type": "code",
   "execution_count": 57,
   "metadata": {},
   "outputs": [
    {
     "name": "stderr",
     "output_type": "stream",
     "text": [
      "/var/folders/b8/4ntn3_wd1wg59r0lmbfgfmwc0000gn/T/ipykernel_76003/579575764.py:9: UserWarning: Matplotlib is currently using agg, which is a non-GUI backend, so cannot show the figure.\n",
      "  plt.show()\n"
     ]
    }
   ],
   "source": [
    "# Normalized barcharts\n",
    "cross_tab = pd.crosstab(index=df['room_type'], columns=df['booking_status'])\n",
    "cross_tab = round(cross_tab.div(cross_tab.sum(0), axis=1)*100,1)\n",
    "norm_cross_tab=cross_tab.div(cross_tab.sum(axis=1), axis=0)\n",
    "norm_cross_tab.plot(kind='bar', stacked=True)\n",
    "plt.title(f\"Normalized Room Type by Booking Status\")\n",
    "plt.xticks(rotation=45)\n",
    "plt.ylabel('Proportion')\n",
    "plt.show()"
   ]
  },
  {
   "cell_type": "markdown",
   "metadata": {},
   "source": [
    "No significant difference between room types chosen"
   ]
  },
  {
   "cell_type": "markdown",
   "metadata": {},
   "source": [
    "10. Special Requests as Binary\n",
    "\n",
    "Most guests had at least 1 special request or none."
   ]
  },
  {
   "cell_type": "code",
   "execution_count": 58,
   "metadata": {},
   "outputs": [
    {
     "data": {
      "text/plain": [
       "0    19777\n",
       "1    11373\n",
       "2     4364\n",
       "3      675\n",
       "4       78\n",
       "5        8\n",
       "Name: no_of_special_requests, dtype: int64"
      ]
     },
     "execution_count": 58,
     "metadata": {},
     "output_type": "execute_result"
    }
   ],
   "source": [
    "df['no_of_special_requests'].value_counts()"
   ]
  },
  {
   "cell_type": "code",
   "execution_count": 59,
   "metadata": {},
   "outputs": [
    {
     "data": {
      "text/plain": [
       "0    19777\n",
       "1    16498\n",
       "Name: special_requests, dtype: int64"
      ]
     },
     "execution_count": 59,
     "metadata": {},
     "output_type": "execute_result"
    }
   ],
   "source": [
    "df['special_requests'] = df['no_of_special_requests'].apply(lambda x: 1 if x > 0 else 0)\n",
    "df['special_requests']=df['special_requests'].astype('category')\n",
    "df['special_requests'].value_counts()"
   ]
  },
  {
   "cell_type": "code",
   "execution_count": 60,
   "metadata": {},
   "outputs": [
    {
     "data": {
      "text/plain": [
       "Text(0.5, 1.0, 'Special Requests by Booking Status')"
      ]
     },
     "execution_count": 60,
     "metadata": {},
     "output_type": "execute_result"
    }
   ],
   "source": [
    "pd.crosstab(df['special_requests'], df['booking_status']).plot(kind='bar', stacked=True)\n",
    "plt.ylabel('Frequency')\n",
    "plt.title('Special Requests by Booking Status')"
   ]
  },
  {
   "cell_type": "code",
   "execution_count": 61,
   "metadata": {},
   "outputs": [
    {
     "data": {
      "text/plain": [
       "Text(0.5, 1.0, 'Special Requests by Booking Status')"
      ]
     },
     "execution_count": 61,
     "metadata": {},
     "output_type": "execute_result"
    }
   ],
   "source": [
    "pd.crosstab(df['special_requests'], df['booking_status'], normalize = 'index').plot(kind='bar', stacked=True)\n",
    "plt.ylabel('Frequency')\n",
    "plt.title('Special Requests by Booking Status')"
   ]
  },
  {
   "cell_type": "code",
   "execution_count": 62,
   "metadata": {},
   "outputs": [
    {
     "data": {
      "text/plain": [
       "Index(['no_of_adults', 'no_of_children', 'no_of_weekend_nights',\n",
       "       'no_of_week_nights', 'type_of_meal_plan', 'required_car_parking_space',\n",
       "       'room_type_reserved', 'lead_time', 'arrival_year', 'arrival_month',\n",
       "       'arrival_date', 'market_segment_type', 'repeated_guest',\n",
       "       'no_of_previous_cancellations', 'no_of_previous_bookings_not_canceled',\n",
       "       'avg_price_per_room', 'no_of_special_requests', 'booking_status',\n",
       "       'cancellation_rate', 'day', 'month', 'year', 'full_arrival_date',\n",
       "       'total_guests', 'total_nights', 'season', 'past_cancellation',\n",
       "       'total_price', 'meal_plan', 'room_type', 'special_requests'],\n",
       "      dtype='object')"
      ]
     },
     "execution_count": 62,
     "metadata": {},
     "output_type": "execute_result"
    }
   ],
   "source": [
    "# Show all columns, including all added columns\n",
    "df.columns"
   ]
  },
  {
   "cell_type": "markdown",
   "metadata": {
    "id": "l3jy8KVSSDaX"
   },
   "source": [
    "## Exploratory Data Analysis"
   ]
  },
  {
   "cell_type": "code",
   "execution_count": 63,
   "metadata": {},
   "outputs": [
    {
     "name": "stdout",
     "output_type": "stream",
     "text": [
      "['no_of_adults', 'no_of_children', 'no_of_weekend_nights', 'no_of_week_nights', 'lead_time', 'arrival_date', 'no_of_previous_cancellations', 'no_of_previous_bookings_not_canceled', 'avg_price_per_room', 'no_of_special_requests', 'cancellation_rate', 'day', 'total_guests', 'total_nights', 'total_price']\n"
     ]
    }
   ],
   "source": [
    "#Get a list of numeric column names in a DataFrame.\n",
    "def numeric_cols(data):\n",
    "    num_cols = []\n",
    "    for col in data.columns:\n",
    "        if data[col].dtype == 'int64' or data[col].dtype == 'float64':\n",
    "            num_cols.append(col)\n",
    "    return num_cols\n",
    "numeric_columns = numeric_cols(df)\n",
    "print(numeric_columns)\n"
   ]
  },
  {
   "cell_type": "code",
   "execution_count": 64,
   "metadata": {},
   "outputs": [
    {
     "name": "stdout",
     "output_type": "stream",
     "text": [
      "['type_of_meal_plan', 'required_car_parking_space', 'room_type_reserved', 'arrival_year', 'arrival_month', 'market_segment_type', 'repeated_guest', 'booking_status', 'month', 'year', 'season', 'past_cancellation', 'meal_plan', 'room_type', 'special_requests']\n"
     ]
    }
   ],
   "source": [
    "#Get a list of categorical column names in a DataFrame.\n",
    "def category_columns(data):\n",
    "  cat_cols = []\n",
    "  for i in data:\n",
    "    if data[i].dtype == 'object' or data[i].dtype == 'category':\n",
    "      cat_cols.append(i)\n",
    "  return cat_cols\n",
    "categorical_columns = category_columns(df)\n",
    "print(categorical_columns)\n"
   ]
  },
  {
   "cell_type": "code",
   "execution_count": 65,
   "metadata": {
    "colab": {
     "base_uri": "https://localhost:8080/",
     "height": 1000
    },
    "id": "P7ndrZUw8qoV",
    "outputId": "d938c130-4fad-4fde-80f0-2dc10123cc25"
   },
   "outputs": [
    {
     "name": "stderr",
     "output_type": "stream",
     "text": [
      "/var/folders/b8/4ntn3_wd1wg59r0lmbfgfmwc0000gn/T/ipykernel_76003/3984197658.py:3: UserWarning: Matplotlib is currently using agg, which is a non-GUI backend, so cannot show the figure.\n",
      "  plt.show()\n"
     ]
    }
   ],
   "source": [
    "#Distributions for numerical variables\n",
    "df.hist(figsize=(12,12),bins=20)\n",
    "plt.show()"
   ]
  },
  {
   "cell_type": "code",
   "execution_count": 66,
   "metadata": {
    "colab": {
     "base_uri": "https://localhost:8080/",
     "height": 1000
    },
    "id": "7VLXqzX88vv6",
    "outputId": "9e376707-e37a-4834-a793-45c2fa4cf867"
   },
   "outputs": [
    {
     "data": {
      "text/plain": [
       "<AxesSubplot:title={'center':'Heat Map of Correlation Coefficients'}>"
      ]
     },
     "execution_count": 66,
     "metadata": {},
     "output_type": "execute_result"
    }
   ],
   "source": [
    "#Correlations between numerical variables\n",
    "plt.figure(figsize=(12, 8))\n",
    "plt.title(\"Heat Map of Correlation Coefficients\", fontsize=16)\n",
    "sns.heatmap(df.corr(), cmap = 'coolwarm', fmt = '.1f', linewidths = 1, annot = True)"
   ]
  },
  {
   "cell_type": "code",
   "execution_count": 67,
   "metadata": {
    "colab": {
     "base_uri": "https://localhost:8080/",
     "height": 484
    },
    "id": "KV6a-A2y805v",
    "outputId": "4a61e42d-a49d-4ccc-b9dc-56969736c497"
   },
   "outputs": [
    {
     "data": {
      "text/html": [
       "<div>\n",
       "<style scoped>\n",
       "    .dataframe tbody tr th:only-of-type {\n",
       "        vertical-align: middle;\n",
       "    }\n",
       "\n",
       "    .dataframe tbody tr th {\n",
       "        vertical-align: top;\n",
       "    }\n",
       "\n",
       "    .dataframe thead th {\n",
       "        text-align: right;\n",
       "    }\n",
       "</style>\n",
       "<table border=\"1\" class=\"dataframe\">\n",
       "  <thead>\n",
       "    <tr style=\"text-align: right;\">\n",
       "      <th></th>\n",
       "      <th>no_of_adults</th>\n",
       "      <th>no_of_children</th>\n",
       "      <th>no_of_weekend_nights</th>\n",
       "      <th>no_of_week_nights</th>\n",
       "      <th>lead_time</th>\n",
       "      <th>arrival_date</th>\n",
       "      <th>no_of_previous_cancellations</th>\n",
       "      <th>no_of_previous_bookings_not_canceled</th>\n",
       "      <th>avg_price_per_room</th>\n",
       "      <th>no_of_special_requests</th>\n",
       "      <th>cancellation_rate</th>\n",
       "      <th>day</th>\n",
       "      <th>total_guests</th>\n",
       "      <th>total_nights</th>\n",
       "      <th>total_price</th>\n",
       "    </tr>\n",
       "  </thead>\n",
       "  <tbody>\n",
       "    <tr>\n",
       "      <th>no_of_adults</th>\n",
       "      <td>1.000000</td>\n",
       "      <td>-0.019787</td>\n",
       "      <td>0.103316</td>\n",
       "      <td>0.105622</td>\n",
       "      <td>0.097287</td>\n",
       "      <td>0.026338</td>\n",
       "      <td>-0.047426</td>\n",
       "      <td>-0.119166</td>\n",
       "      <td>0.296886</td>\n",
       "      <td>0.189401</td>\n",
       "      <td>0.363589</td>\n",
       "      <td>0.026338</td>\n",
       "      <td>0.785371</td>\n",
       "      <td>0.133803</td>\n",
       "      <td>0.241718</td>\n",
       "    </tr>\n",
       "    <tr>\n",
       "      <th>no_of_children</th>\n",
       "      <td>-0.019787</td>\n",
       "      <td>1.000000</td>\n",
       "      <td>0.029478</td>\n",
       "      <td>0.024398</td>\n",
       "      <td>-0.047091</td>\n",
       "      <td>0.025482</td>\n",
       "      <td>-0.016390</td>\n",
       "      <td>-0.021189</td>\n",
       "      <td>0.337728</td>\n",
       "      <td>0.124486</td>\n",
       "      <td>-0.060046</td>\n",
       "      <td>0.025482</td>\n",
       "      <td>0.603365</td>\n",
       "      <td>0.033644</td>\n",
       "      <td>0.198209</td>\n",
       "    </tr>\n",
       "    <tr>\n",
       "      <th>no_of_weekend_nights</th>\n",
       "      <td>0.103316</td>\n",
       "      <td>0.029478</td>\n",
       "      <td>1.000000</td>\n",
       "      <td>0.179577</td>\n",
       "      <td>0.046595</td>\n",
       "      <td>0.027304</td>\n",
       "      <td>-0.020690</td>\n",
       "      <td>-0.026312</td>\n",
       "      <td>-0.004525</td>\n",
       "      <td>0.060593</td>\n",
       "      <td>0.067632</td>\n",
       "      <td>0.027304</td>\n",
       "      <td>0.100658</td>\n",
       "      <td>0.629339</td>\n",
       "      <td>0.525327</td>\n",
       "    </tr>\n",
       "    <tr>\n",
       "      <th>no_of_week_nights</th>\n",
       "      <td>0.105622</td>\n",
       "      <td>0.024398</td>\n",
       "      <td>0.179577</td>\n",
       "      <td>1.000000</td>\n",
       "      <td>0.149650</td>\n",
       "      <td>-0.009305</td>\n",
       "      <td>-0.030080</td>\n",
       "      <td>-0.049344</td>\n",
       "      <td>0.022753</td>\n",
       "      <td>0.045994</td>\n",
       "      <td>0.266809</td>\n",
       "      <td>-0.009305</td>\n",
       "      <td>0.099352</td>\n",
       "      <td>0.877513</td>\n",
       "      <td>0.739939</td>\n",
       "    </tr>\n",
       "    <tr>\n",
       "      <th>lead_time</th>\n",
       "      <td>0.097287</td>\n",
       "      <td>-0.047091</td>\n",
       "      <td>0.046595</td>\n",
       "      <td>0.149650</td>\n",
       "      <td>1.000000</td>\n",
       "      <td>0.006479</td>\n",
       "      <td>-0.045723</td>\n",
       "      <td>-0.078137</td>\n",
       "      <td>-0.062596</td>\n",
       "      <td>-0.101645</td>\n",
       "      <td>0.261401</td>\n",
       "      <td>0.006479</td>\n",
       "      <td>0.048441</td>\n",
       "      <td>0.140934</td>\n",
       "      <td>0.076493</td>\n",
       "    </tr>\n",
       "    <tr>\n",
       "      <th>arrival_date</th>\n",
       "      <td>0.026338</td>\n",
       "      <td>0.025482</td>\n",
       "      <td>0.027304</td>\n",
       "      <td>-0.009305</td>\n",
       "      <td>0.006479</td>\n",
       "      <td>1.000000</td>\n",
       "      <td>-0.012542</td>\n",
       "      <td>-0.001498</td>\n",
       "      <td>0.017898</td>\n",
       "      <td>0.018352</td>\n",
       "      <td>-0.149283</td>\n",
       "      <td>1.000000</td>\n",
       "      <td>0.036785</td>\n",
       "      <td>0.005960</td>\n",
       "      <td>0.008446</td>\n",
       "    </tr>\n",
       "    <tr>\n",
       "      <th>no_of_previous_cancellations</th>\n",
       "      <td>-0.047426</td>\n",
       "      <td>-0.016390</td>\n",
       "      <td>-0.020690</td>\n",
       "      <td>-0.030080</td>\n",
       "      <td>-0.045723</td>\n",
       "      <td>-0.012542</td>\n",
       "      <td>1.000000</td>\n",
       "      <td>0.468147</td>\n",
       "      <td>-0.063340</td>\n",
       "      <td>-0.003317</td>\n",
       "      <td>0.379768</td>\n",
       "      <td>-0.012542</td>\n",
       "      <td>-0.047975</td>\n",
       "      <td>-0.033849</td>\n",
       "      <td>-0.048069</td>\n",
       "    </tr>\n",
       "    <tr>\n",
       "      <th>no_of_previous_bookings_not_canceled</th>\n",
       "      <td>-0.119166</td>\n",
       "      <td>-0.021189</td>\n",
       "      <td>-0.026312</td>\n",
       "      <td>-0.049344</td>\n",
       "      <td>-0.078137</td>\n",
       "      <td>-0.001498</td>\n",
       "      <td>0.468147</td>\n",
       "      <td>1.000000</td>\n",
       "      <td>-0.113684</td>\n",
       "      <td>0.027377</td>\n",
       "      <td>-0.204408</td>\n",
       "      <td>-0.001498</td>\n",
       "      <td>-0.108168</td>\n",
       "      <td>-0.051807</td>\n",
       "      <td>-0.077407</td>\n",
       "    </tr>\n",
       "    <tr>\n",
       "      <th>avg_price_per_room</th>\n",
       "      <td>0.296886</td>\n",
       "      <td>0.337728</td>\n",
       "      <td>-0.004525</td>\n",
       "      <td>0.022753</td>\n",
       "      <td>-0.062596</td>\n",
       "      <td>0.017898</td>\n",
       "      <td>-0.063340</td>\n",
       "      <td>-0.113684</td>\n",
       "      <td>1.000000</td>\n",
       "      <td>0.184381</td>\n",
       "      <td>0.200016</td>\n",
       "      <td>0.017898</td>\n",
       "      <td>0.445906</td>\n",
       "      <td>0.015768</td>\n",
       "      <td>0.467291</td>\n",
       "    </tr>\n",
       "    <tr>\n",
       "      <th>no_of_special_requests</th>\n",
       "      <td>0.189401</td>\n",
       "      <td>0.124486</td>\n",
       "      <td>0.060593</td>\n",
       "      <td>0.045994</td>\n",
       "      <td>-0.101645</td>\n",
       "      <td>0.018352</td>\n",
       "      <td>-0.003317</td>\n",
       "      <td>0.027377</td>\n",
       "      <td>0.184381</td>\n",
       "      <td>1.000000</td>\n",
       "      <td>-0.192821</td>\n",
       "      <td>0.018352</td>\n",
       "      <td>0.228146</td>\n",
       "      <td>0.065871</td>\n",
       "      <td>0.142985</td>\n",
       "    </tr>\n",
       "    <tr>\n",
       "      <th>cancellation_rate</th>\n",
       "      <td>0.363589</td>\n",
       "      <td>-0.060046</td>\n",
       "      <td>0.067632</td>\n",
       "      <td>0.266809</td>\n",
       "      <td>0.261401</td>\n",
       "      <td>-0.149283</td>\n",
       "      <td>0.379768</td>\n",
       "      <td>-0.204408</td>\n",
       "      <td>0.200016</td>\n",
       "      <td>-0.192821</td>\n",
       "      <td>1.000000</td>\n",
       "      <td>-0.149283</td>\n",
       "      <td>0.314054</td>\n",
       "      <td>0.275682</td>\n",
       "      <td>0.316046</td>\n",
       "    </tr>\n",
       "    <tr>\n",
       "      <th>day</th>\n",
       "      <td>0.026338</td>\n",
       "      <td>0.025482</td>\n",
       "      <td>0.027304</td>\n",
       "      <td>-0.009305</td>\n",
       "      <td>0.006479</td>\n",
       "      <td>1.000000</td>\n",
       "      <td>-0.012542</td>\n",
       "      <td>-0.001498</td>\n",
       "      <td>0.017898</td>\n",
       "      <td>0.018352</td>\n",
       "      <td>-0.149283</td>\n",
       "      <td>1.000000</td>\n",
       "      <td>0.036785</td>\n",
       "      <td>0.005960</td>\n",
       "      <td>0.008446</td>\n",
       "    </tr>\n",
       "    <tr>\n",
       "      <th>total_guests</th>\n",
       "      <td>0.785371</td>\n",
       "      <td>0.603365</td>\n",
       "      <td>0.100658</td>\n",
       "      <td>0.099352</td>\n",
       "      <td>0.048441</td>\n",
       "      <td>0.036785</td>\n",
       "      <td>-0.047975</td>\n",
       "      <td>-0.108168</td>\n",
       "      <td>0.445906</td>\n",
       "      <td>0.228146</td>\n",
       "      <td>0.314054</td>\n",
       "      <td>0.036785</td>\n",
       "      <td>1.000000</td>\n",
       "      <td>0.127554</td>\n",
       "      <td>0.315520</td>\n",
       "    </tr>\n",
       "    <tr>\n",
       "      <th>total_nights</th>\n",
       "      <td>0.133803</td>\n",
       "      <td>0.033644</td>\n",
       "      <td>0.629339</td>\n",
       "      <td>0.877513</td>\n",
       "      <td>0.140934</td>\n",
       "      <td>0.005960</td>\n",
       "      <td>-0.033849</td>\n",
       "      <td>-0.051807</td>\n",
       "      <td>0.015768</td>\n",
       "      <td>0.065871</td>\n",
       "      <td>0.275682</td>\n",
       "      <td>0.005960</td>\n",
       "      <td>0.127554</td>\n",
       "      <td>1.000000</td>\n",
       "      <td>0.840617</td>\n",
       "    </tr>\n",
       "    <tr>\n",
       "      <th>total_price</th>\n",
       "      <td>0.241718</td>\n",
       "      <td>0.198209</td>\n",
       "      <td>0.525327</td>\n",
       "      <td>0.739939</td>\n",
       "      <td>0.076493</td>\n",
       "      <td>0.008446</td>\n",
       "      <td>-0.048069</td>\n",
       "      <td>-0.077407</td>\n",
       "      <td>0.467291</td>\n",
       "      <td>0.142985</td>\n",
       "      <td>0.316046</td>\n",
       "      <td>0.008446</td>\n",
       "      <td>0.315520</td>\n",
       "      <td>0.840617</td>\n",
       "      <td>1.000000</td>\n",
       "    </tr>\n",
       "  </tbody>\n",
       "</table>\n",
       "</div>"
      ],
      "text/plain": [
       "                                      no_of_adults  no_of_children  \\\n",
       "no_of_adults                              1.000000       -0.019787   \n",
       "no_of_children                           -0.019787        1.000000   \n",
       "no_of_weekend_nights                      0.103316        0.029478   \n",
       "no_of_week_nights                         0.105622        0.024398   \n",
       "lead_time                                 0.097287       -0.047091   \n",
       "arrival_date                              0.026338        0.025482   \n",
       "no_of_previous_cancellations             -0.047426       -0.016390   \n",
       "no_of_previous_bookings_not_canceled     -0.119166       -0.021189   \n",
       "avg_price_per_room                        0.296886        0.337728   \n",
       "no_of_special_requests                    0.189401        0.124486   \n",
       "cancellation_rate                         0.363589       -0.060046   \n",
       "day                                       0.026338        0.025482   \n",
       "total_guests                              0.785371        0.603365   \n",
       "total_nights                              0.133803        0.033644   \n",
       "total_price                               0.241718        0.198209   \n",
       "\n",
       "                                      no_of_weekend_nights  no_of_week_nights  \\\n",
       "no_of_adults                                      0.103316           0.105622   \n",
       "no_of_children                                    0.029478           0.024398   \n",
       "no_of_weekend_nights                              1.000000           0.179577   \n",
       "no_of_week_nights                                 0.179577           1.000000   \n",
       "lead_time                                         0.046595           0.149650   \n",
       "arrival_date                                      0.027304          -0.009305   \n",
       "no_of_previous_cancellations                     -0.020690          -0.030080   \n",
       "no_of_previous_bookings_not_canceled             -0.026312          -0.049344   \n",
       "avg_price_per_room                               -0.004525           0.022753   \n",
       "no_of_special_requests                            0.060593           0.045994   \n",
       "cancellation_rate                                 0.067632           0.266809   \n",
       "day                                               0.027304          -0.009305   \n",
       "total_guests                                      0.100658           0.099352   \n",
       "total_nights                                      0.629339           0.877513   \n",
       "total_price                                       0.525327           0.739939   \n",
       "\n",
       "                                      lead_time  arrival_date  \\\n",
       "no_of_adults                           0.097287      0.026338   \n",
       "no_of_children                        -0.047091      0.025482   \n",
       "no_of_weekend_nights                   0.046595      0.027304   \n",
       "no_of_week_nights                      0.149650     -0.009305   \n",
       "lead_time                              1.000000      0.006479   \n",
       "arrival_date                           0.006479      1.000000   \n",
       "no_of_previous_cancellations          -0.045723     -0.012542   \n",
       "no_of_previous_bookings_not_canceled  -0.078137     -0.001498   \n",
       "avg_price_per_room                    -0.062596      0.017898   \n",
       "no_of_special_requests                -0.101645      0.018352   \n",
       "cancellation_rate                      0.261401     -0.149283   \n",
       "day                                    0.006479      1.000000   \n",
       "total_guests                           0.048441      0.036785   \n",
       "total_nights                           0.140934      0.005960   \n",
       "total_price                            0.076493      0.008446   \n",
       "\n",
       "                                      no_of_previous_cancellations  \\\n",
       "no_of_adults                                             -0.047426   \n",
       "no_of_children                                           -0.016390   \n",
       "no_of_weekend_nights                                     -0.020690   \n",
       "no_of_week_nights                                        -0.030080   \n",
       "lead_time                                                -0.045723   \n",
       "arrival_date                                             -0.012542   \n",
       "no_of_previous_cancellations                              1.000000   \n",
       "no_of_previous_bookings_not_canceled                      0.468147   \n",
       "avg_price_per_room                                       -0.063340   \n",
       "no_of_special_requests                                   -0.003317   \n",
       "cancellation_rate                                         0.379768   \n",
       "day                                                      -0.012542   \n",
       "total_guests                                             -0.047975   \n",
       "total_nights                                             -0.033849   \n",
       "total_price                                              -0.048069   \n",
       "\n",
       "                                      no_of_previous_bookings_not_canceled  \\\n",
       "no_of_adults                                                     -0.119166   \n",
       "no_of_children                                                   -0.021189   \n",
       "no_of_weekend_nights                                             -0.026312   \n",
       "no_of_week_nights                                                -0.049344   \n",
       "lead_time                                                        -0.078137   \n",
       "arrival_date                                                     -0.001498   \n",
       "no_of_previous_cancellations                                      0.468147   \n",
       "no_of_previous_bookings_not_canceled                              1.000000   \n",
       "avg_price_per_room                                               -0.113684   \n",
       "no_of_special_requests                                            0.027377   \n",
       "cancellation_rate                                                -0.204408   \n",
       "day                                                              -0.001498   \n",
       "total_guests                                                     -0.108168   \n",
       "total_nights                                                     -0.051807   \n",
       "total_price                                                      -0.077407   \n",
       "\n",
       "                                      avg_price_per_room  \\\n",
       "no_of_adults                                    0.296886   \n",
       "no_of_children                                  0.337728   \n",
       "no_of_weekend_nights                           -0.004525   \n",
       "no_of_week_nights                               0.022753   \n",
       "lead_time                                      -0.062596   \n",
       "arrival_date                                    0.017898   \n",
       "no_of_previous_cancellations                   -0.063340   \n",
       "no_of_previous_bookings_not_canceled           -0.113684   \n",
       "avg_price_per_room                              1.000000   \n",
       "no_of_special_requests                          0.184381   \n",
       "cancellation_rate                               0.200016   \n",
       "day                                             0.017898   \n",
       "total_guests                                    0.445906   \n",
       "total_nights                                    0.015768   \n",
       "total_price                                     0.467291   \n",
       "\n",
       "                                      no_of_special_requests  \\\n",
       "no_of_adults                                        0.189401   \n",
       "no_of_children                                      0.124486   \n",
       "no_of_weekend_nights                                0.060593   \n",
       "no_of_week_nights                                   0.045994   \n",
       "lead_time                                          -0.101645   \n",
       "arrival_date                                        0.018352   \n",
       "no_of_previous_cancellations                       -0.003317   \n",
       "no_of_previous_bookings_not_canceled                0.027377   \n",
       "avg_price_per_room                                  0.184381   \n",
       "no_of_special_requests                              1.000000   \n",
       "cancellation_rate                                  -0.192821   \n",
       "day                                                 0.018352   \n",
       "total_guests                                        0.228146   \n",
       "total_nights                                        0.065871   \n",
       "total_price                                         0.142985   \n",
       "\n",
       "                                      cancellation_rate       day  \\\n",
       "no_of_adults                                   0.363589  0.026338   \n",
       "no_of_children                                -0.060046  0.025482   \n",
       "no_of_weekend_nights                           0.067632  0.027304   \n",
       "no_of_week_nights                              0.266809 -0.009305   \n",
       "lead_time                                      0.261401  0.006479   \n",
       "arrival_date                                  -0.149283  1.000000   \n",
       "no_of_previous_cancellations                   0.379768 -0.012542   \n",
       "no_of_previous_bookings_not_canceled          -0.204408 -0.001498   \n",
       "avg_price_per_room                             0.200016  0.017898   \n",
       "no_of_special_requests                        -0.192821  0.018352   \n",
       "cancellation_rate                              1.000000 -0.149283   \n",
       "day                                           -0.149283  1.000000   \n",
       "total_guests                                   0.314054  0.036785   \n",
       "total_nights                                   0.275682  0.005960   \n",
       "total_price                                    0.316046  0.008446   \n",
       "\n",
       "                                      total_guests  total_nights  total_price  \n",
       "no_of_adults                              0.785371      0.133803     0.241718  \n",
       "no_of_children                            0.603365      0.033644     0.198209  \n",
       "no_of_weekend_nights                      0.100658      0.629339     0.525327  \n",
       "no_of_week_nights                         0.099352      0.877513     0.739939  \n",
       "lead_time                                 0.048441      0.140934     0.076493  \n",
       "arrival_date                              0.036785      0.005960     0.008446  \n",
       "no_of_previous_cancellations             -0.047975     -0.033849    -0.048069  \n",
       "no_of_previous_bookings_not_canceled     -0.108168     -0.051807    -0.077407  \n",
       "avg_price_per_room                        0.445906      0.015768     0.467291  \n",
       "no_of_special_requests                    0.228146      0.065871     0.142985  \n",
       "cancellation_rate                         0.314054      0.275682     0.316046  \n",
       "day                                       0.036785      0.005960     0.008446  \n",
       "total_guests                              1.000000      0.127554     0.315520  \n",
       "total_nights                              0.127554      1.000000     0.840617  \n",
       "total_price                               0.315520      0.840617     1.000000  "
      ]
     },
     "execution_count": 67,
     "metadata": {},
     "output_type": "execute_result"
    }
   ],
   "source": [
    "df.corr()"
   ]
  },
  {
   "cell_type": "code",
   "execution_count": 68,
   "metadata": {
    "id": "7bhiiDfz65oE"
   },
   "outputs": [],
   "source": [
    "\n",
    "# numeric columns for the box plot\n",
    "numeric_columns = ['no_of_adults', 'no_of_children',\n",
    "                    'total_guests',\n",
    "                   'no_of_weekend_nights', 'no_of_week_nights',\n",
    "                   #'required_car_parking_space', 'arrival_year',\n",
    "                   'lead_time',\n",
    "                   #'arrival_month', 'arrival_date', 'repeated_guest', \n",
    "                   'no_of_previous_cancellations',\n",
    "                   'no_of_previous_bookings_not_canceled', \n",
    "                   'avg_price_per_room', 'no_of_special_requests',\n",
    "                  'cancellation_rate', 'total_price']"
   ]
  },
  {
   "cell_type": "code",
   "execution_count": 69,
   "metadata": {
    "colab": {
     "base_uri": "https://localhost:8080/",
     "height": 574
    },
    "id": "L7_gjc9mLQsu",
    "outputId": "138687b6-338e-4361-90ab-ce4fc3159c6c"
   },
   "outputs": [
    {
     "name": "stderr",
     "output_type": "stream",
     "text": [
      "/var/folders/b8/4ntn3_wd1wg59r0lmbfgfmwc0000gn/T/ipykernel_76003/2975263928.py:6: UserWarning: Matplotlib is currently using agg, which is a non-GUI backend, so cannot show the figure.\n",
      "  plt.show()\n"
     ]
    }
   ],
   "source": [
    "# box plots\n",
    "plt.figure(figsize=(12, 6))\n",
    "sns.boxplot(data=df[numeric_columns], orient=\"h\", palette=\"Set2\")\n",
    "plt.title(\"Box Plots for Numeric Columns\")\n",
    "plt.xlabel(\"Value\")\n",
    "plt.show()\n"
   ]
  },
  {
   "cell_type": "code",
   "execution_count": 70,
   "metadata": {
    "colab": {
     "base_uri": "https://localhost:8080/"
    },
    "id": "goMPhq9c7a3t",
    "outputId": "4e5352b2-b16e-44e6-e274-c884f6e4355e"
   },
   "outputs": [
    {
     "name": "stdout",
     "output_type": "stream",
     "text": [
      "booking_status     Canceled  Not_Canceled\n",
      "type_of_meal_plan                        \n",
      "Meal Plan 1            8679         19156\n",
      "Meal Plan 2            1506          1799\n",
      "Meal Plan 3               1             4\n",
      "Not Selected           1699          3431\n",
      "\n",
      "\n",
      "booking_status              Canceled  Not_Canceled\n",
      "required_car_parking_space                        \n",
      "0                              11771         23380\n",
      "1                                114          1010\n",
      "\n",
      "\n",
      "booking_status      Canceled  Not_Canceled\n",
      "room_type_reserved                        \n",
      "Room_Type 1             9072         19058\n",
      "Room_Type 2              228           464\n",
      "Room_Type 3                2             5\n",
      "Room_Type 4             2069          3988\n",
      "Room_Type 5               72           193\n",
      "Room_Type 6              406           560\n",
      "Room_Type 7               36           122\n",
      "\n",
      "\n",
      "booking_status  Canceled  Not_Canceled\n",
      "arrival_year                          \n",
      "2017                 961          5553\n",
      "2018               10924         18837\n",
      "\n",
      "\n",
      "booking_status  Canceled  Not_Canceled\n",
      "arrival_month                         \n",
      "1                     24           990\n",
      "2                    430          1274\n",
      "3                    700          1658\n",
      "4                    995          1741\n",
      "5                    948          1650\n",
      "6                   1291          1912\n",
      "7                   1314          1606\n",
      "8                   1488          2325\n",
      "9                   1538          3073\n",
      "10                  1880          3437\n",
      "11                   875          2105\n",
      "12                   402          2619\n",
      "\n",
      "\n",
      "booking_status       Canceled  Not_Canceled\n",
      "market_segment_type                        \n",
      "Aviation                   37            88\n",
      "Complementary               0           391\n",
      "Corporate                 220          1797\n",
      "Offline                  3153          7375\n",
      "Online                   8475         14739\n",
      "\n",
      "\n",
      "booking_status  Canceled  Not_Canceled\n",
      "repeated_guest                        \n",
      "0                  11869         23476\n",
      "1                     16           914\n",
      "\n",
      "\n",
      "booking_status  Canceled  Not_Canceled\n",
      "booking_status                        \n",
      "Canceled           11885             0\n",
      "Not_Canceled           0         24390\n",
      "\n",
      "\n",
      "booking_status  Canceled  Not_Canceled\n",
      "month                                 \n",
      "1                     24           990\n",
      "2                    430          1274\n",
      "3                    700          1658\n",
      "4                    995          1741\n",
      "5                    948          1650\n",
      "6                   1291          1912\n",
      "7                   1314          1606\n",
      "8                   1488          2325\n",
      "9                   1538          3073\n",
      "10                  1880          3437\n",
      "11                   875          2105\n",
      "12                   402          2619\n",
      "\n",
      "\n",
      "booking_status  Canceled  Not_Canceled\n",
      "year                                  \n",
      "2017                 961          5553\n",
      "2018               10924         18837\n",
      "\n",
      "\n",
      "booking_status  Canceled  Not_Canceled\n",
      "season                                \n",
      "Autumn              4293          8615\n",
      "Spring              2643          5049\n",
      "Summer              4093          5843\n",
      "Winter               856          4883\n",
      "\n",
      "\n",
      "booking_status     Canceled  Not_Canceled\n",
      "past_cancellation                        \n",
      "0                     11869         24068\n",
      "1                        16           322\n",
      "\n",
      "\n",
      "booking_status  Canceled  Not_Canceled\n",
      "meal_plan                             \n",
      "0                   1699          3431\n",
      "1                  10186         20959\n",
      "\n",
      "\n",
      "booking_status  Canceled  Not_Canceled\n",
      "room_type                             \n",
      "0                   2813          5332\n",
      "1                   9072         19058\n",
      "\n",
      "\n",
      "booking_status    Canceled  Not_Canceled\n",
      "special_requests                        \n",
      "0                     8545         11232\n",
      "1                     3340         13158\n",
      "\n",
      "\n"
     ]
    }
   ],
   "source": [
    "df_cat = df[categorical_columns]\n",
    "# Create cross-tab for categorical variables\n",
    "for column in df_cat.columns:\n",
    "    cross_tab = pd.crosstab(index=df_cat[column], columns=df['booking_status'])\n",
    "    print(cross_tab)\n",
    "    print(\"\\n\")"
   ]
  },
  {
   "cell_type": "markdown",
   "metadata": {
    "id": "-fMsawFa9Ncq"
   },
   "source": [
    "Checking for outlier"
   ]
  },
  {
   "cell_type": "code",
   "execution_count": 71,
   "metadata": {
    "colab": {
     "base_uri": "https://localhost:8080/",
     "height": 1000
    },
    "collapsed": true,
    "id": "yQU7iAFiRZ9Q",
    "outputId": "64ef1318-c238-4137-c009-0e0dca365c73"
   },
   "outputs": [],
   "source": [
    "#some Histograms for the numerical clumns\n",
    "#for col in numeric_cols(removeOutliers):\n",
    "    #plt.figure(figsize=(12, 6))\n",
    "    # Histogram\n",
    "    #plt.subplot(1, 2, 2)\n",
    "    #plt.hist(removeOutliers[col], bins=20)\n",
    "    #plt.title(f'Histogram of {col}')\n",
    "    #plt.xlabel('Values')\n",
    "    #plt.ylabel('Frequency')\n",
    "    #plt.tight_layout()\n",
    "    #plt.show()"
   ]
  },
  {
   "cell_type": "code",
   "execution_count": 72,
   "metadata": {
    "colab": {
     "base_uri": "https://localhost:8080/",
     "height": 534
    },
    "id": "oWNzBEziZSrG",
    "outputId": "cc4cc9ef-aca3-492e-fb38-0b91e0b4acfe"
   },
   "outputs": [],
   "source": [
    "#categorical_columns= removeOutliers[[ 'type_of_meal_plan', 'room_type_reserved', 'market_segment_type', 'booking_status']]\n",
    "#categorical_columns"
   ]
  },
  {
   "cell_type": "code",
   "execution_count": 73,
   "metadata": {
    "colab": {
     "base_uri": "https://localhost:8080/",
     "height": 1000
    },
    "id": "csy-z_x_byHZ",
    "outputId": "2ee4c074-d0f2-462d-f027-3b4ee03d4658"
   },
   "outputs": [],
   "source": [
    "# Create stacked bar charts\n",
    "#for col in categorical_columns:\n",
    "#  plt.figure(figsize=(10, 6))\n",
    "\n",
    "  # plot\n",
    " # cross_tab = pd.crosstab(index=removeOutliers[col], columns=removeOutliers['booking_status'])\n",
    " # cross_tab.plot(kind='bar', stacked=True)\n",
    " # plt.title(f\"{col} by Booking Status\")\n",
    " # plt.xlabel(col)\n",
    " # plt.ylabel('Count')\n",
    " # plt.show()"
   ]
  },
  {
   "cell_type": "code",
   "execution_count": 74,
   "metadata": {
    "colab": {
     "base_uri": "https://localhost:8080/",
     "height": 1000
    },
    "id": "EIDB-5soKoTy",
    "outputId": "3b7db8ea-0556-4b21-bd5f-340e2322c96d"
   },
   "outputs": [],
   "source": [
    "# Stacked bar charts\n",
    "#for column in df_cat.columns:\n",
    "#    cross_tab = pd.crosstab(index=df_cat[column], columns=df['booking_status'])\n",
    " #   cross_tab.plot(kind='bar', stacked=True)\n",
    "  #  plt.title(f\"{column} by Booking Status\")\n",
    "   # plt.xlabel(column)\n",
    "    #plt.ylabel('Count')\n",
    "  #  plt.show()"
   ]
  },
  {
   "cell_type": "code",
   "execution_count": 75,
   "metadata": {},
   "outputs": [],
   "source": [
    "## All reservations time-series (takes ~25 sec to run)\n",
    "# sns.lineplot(data=df, x='full_arrival_date', y='booking_status_binary')\n",
    "#plt.plot(df['full_arrival_date'])\n",
    "#plt.xticks(rotation=45)\n",
    "#plt.title('All Reservations')\n",
    "#plt.show()"
   ]
  },
  {
   "cell_type": "code",
   "execution_count": 76,
   "metadata": {},
   "outputs": [],
   "source": [
    "df.to_csv('hotel_reservations_for_modeling.csv',index=False)"
   ]
  },
  {
   "cell_type": "markdown",
   "metadata": {
    "id": "3Jq-i-67LtQW"
   },
   "source": [
    "## **Data Split and Preprocessing Pipeline**"
   ]
  },
  {
   "cell_type": "code",
   "execution_count": 77,
   "metadata": {},
   "outputs": [
    {
     "data": {
      "text/plain": [
       "Index(['no_of_adults', 'no_of_children', 'no_of_weekend_nights',\n",
       "       'no_of_week_nights', 'type_of_meal_plan', 'required_car_parking_space',\n",
       "       'room_type_reserved', 'lead_time', 'arrival_year', 'arrival_month',\n",
       "       'arrival_date', 'market_segment_type', 'repeated_guest',\n",
       "       'no_of_previous_cancellations', 'no_of_previous_bookings_not_canceled',\n",
       "       'avg_price_per_room', 'no_of_special_requests', 'booking_status',\n",
       "       'cancellation_rate', 'day', 'month', 'year', 'full_arrival_date',\n",
       "       'total_guests', 'total_nights', 'season', 'past_cancellation',\n",
       "       'total_price', 'meal_plan', 'room_type', 'special_requests'],\n",
       "      dtype='object')"
      ]
     },
     "execution_count": 77,
     "metadata": {},
     "output_type": "execute_result"
    }
   ],
   "source": [
    "df.columns"
   ]
  },
  {
   "cell_type": "code",
   "execution_count": 78,
   "metadata": {},
   "outputs": [
    {
     "name": "stdout",
     "output_type": "stream",
     "text": [
      "Predictors used for modeling: \n",
      " ['market_segment_type', 'season', 'required_car_parking_space', 'repeated_guest', 'special_requests', 'lead_time', 'total_price', 'total_guests']\n"
     ]
    }
   ],
   "source": [
    "cats = ['market_segment_type', 'season','required_car_parking_space',\n",
    "        'repeated_guest','special_requests']\n",
    "nums = ['lead_time', 'total_price', 'total_guests']\n",
    "        #'cancellation_rate']\n",
    "all_vars = cats+nums\n",
    "print(f\"Predictors used for modeling: \\n\", all_vars)"
   ]
  },
  {
   "cell_type": "code",
   "execution_count": 79,
   "metadata": {},
   "outputs": [],
   "source": [
    "df['book_binary'] = df['booking_status'].apply(lambda x: 1 if x == 'Canceled' else 0)"
   ]
  },
  {
   "cell_type": "code",
   "execution_count": 80,
   "metadata": {
    "colab": {
     "base_uri": "https://localhost:8080/"
    },
    "id": "-EQ_HuHkL9c9",
    "outputId": "1f44ce94-92e0-424e-e494-763690b4a99a"
   },
   "outputs": [
    {
     "name": "stdout",
     "output_type": "stream",
     "text": [
      "0    24390\n",
      "1    11885\n",
      "Name: book_binary, dtype: int64\n",
      "\n",
      " 0    0.672364\n",
      "1    0.327636\n",
      "Name: book_binary, dtype: float64\n"
     ]
    }
   ],
   "source": [
    "print(df['book_binary'].value_counts())\n",
    "print('\\n', df['book_binary'].value_counts()/len(df))"
   ]
  },
  {
   "cell_type": "markdown",
   "metadata": {},
   "source": [
    "The original dataset is imbalanced, with 33% (11885) cancellations and 67% (24390) non-cancellations. A stratified split will be used to create the training, validation, and testing sets to preserve these proportions. Then, the training set will be further processed to be balanced with a 50/50 split of donations/non-donations. "
   ]
  },
  {
   "cell_type": "code",
   "execution_count": 81,
   "metadata": {
    "colab": {
     "base_uri": "https://localhost:8080/",
     "height": 242
    },
    "id": "kXP18RaBMfPr",
    "outputId": "1ffeb558-d8e2-4497-946c-2fb7d3feb203"
   },
   "outputs": [
    {
     "data": {
      "text/plain": [
       "{'columntransformer': ColumnTransformer(transformers=[('cat',\n",
       "                                  Pipeline(steps=[('encoder',\n",
       "                                                   OneHotEncoder(drop='if_binary'))]),\n",
       "                                  ['market_segment_type', 'season',\n",
       "                                   'required_car_parking_space',\n",
       "                                   'repeated_guest', 'special_requests']),\n",
       "                                 ('num',\n",
       "                                  Pipeline(steps=[('variance',\n",
       "                                                   VarianceThreshold()),\n",
       "                                                  ('skew_standardize',\n",
       "                                                   PowerTransformer())]),\n",
       "                                  ['lead_time', 'total_price', 'total_guests'])],\n",
       "                   verbose_feature_names_out=False)}"
      ]
     },
     "execution_count": 81,
     "metadata": {},
     "output_type": "execute_result"
    }
   ],
   "source": [
    "cat_pipe = Pipeline([('encoder', OneHotEncoder(drop='if_binary'))])\n",
    "num_pipe = Pipeline([('variance', VarianceThreshold()),('skew_standardize', PowerTransformer())])\n",
    "#set_config(transform_output=\"pandas\")\n",
    "all_pipe = make_pipeline(ColumnTransformer([('cat', cat_pipe, cats),('num', num_pipe, nums)],\n",
    "                                          verbose_feature_names_out=False))\n",
    "all_pipe.named_steps\n"
   ]
  },
  {
   "cell_type": "markdown",
   "metadata": {},
   "source": [
    "## Creating a balanced training dataset"
   ]
  },
  {
   "cell_type": "code",
   "execution_count": 82,
   "metadata": {},
   "outputs": [
    {
     "name": "stdout",
     "output_type": "stream",
     "text": [
      "(27000, 8)\n",
      "(27000,)\n",
      "(4637, 8)\n",
      "(4637,)\n",
      "(4638, 8)\n",
      "(4638,)\n"
     ]
    }
   ],
   "source": [
    "#Resplit data\n",
    "X = df[all_vars]\n",
    "y = df['book_binary']\n",
    "X_train, X_test, y_train, y_test = train_test_split(X, y, train_size = 27000, stratify=y, random_state=1)\n",
    "X_val, X_test, y_val, y_test = train_test_split(X_test, y_test, train_size=.50, random_state=1)\n",
    "#X_train, X_test, y_train, y_test = train_test_split(X, y, train_size = 27000, random_state=1)\n",
    "#X_train, X_val, y_train, y_val = train_test_split(X_train, y_train, train_size=15000, random_state=1)\n",
    "\n",
    "print(X_train.shape)\n",
    "print(y_train.shape)\n",
    "print(X_val.shape)\n",
    "print(y_val.shape)\n",
    "print(X_test.shape)\n",
    "print(y_test.shape)"
   ]
  },
  {
   "cell_type": "code",
   "execution_count": 83,
   "metadata": {},
   "outputs": [
    {
     "data": {
      "text/plain": [
       "0    0.67237\n",
       "1    0.32763\n",
       "Name: book_binary, dtype: float64"
      ]
     },
     "execution_count": 83,
     "metadata": {},
     "output_type": "execute_result"
    }
   ],
   "source": [
    "# Confirm stratified split \n",
    "y_train.value_counts()/len(y_train)"
   ]
  },
  {
   "cell_type": "code",
   "execution_count": 84,
   "metadata": {},
   "outputs": [
    {
     "data": {
      "text/plain": [
       "0    18154\n",
       "1     8846\n",
       "Name: book_binary, dtype: int64"
      ]
     },
     "execution_count": 84,
     "metadata": {},
     "output_type": "execute_result"
    }
   ],
   "source": [
    "y_train.value_counts()"
   ]
  },
  {
   "cell_type": "code",
   "execution_count": 85,
   "metadata": {},
   "outputs": [
    {
     "data": {
      "text/plain": [
       "1    18154\n",
       "0    18154\n",
       "Name: book_binary, dtype: int64"
      ]
     },
     "execution_count": 85,
     "metadata": {},
     "output_type": "execute_result"
    }
   ],
   "source": [
    "from imblearn.over_sampling import RandomOverSampler\n",
    "ros=RandomOverSampler(random_state=1)\n",
    "X_train_over, y_train_over = ros.fit_resample(X_train, y_train)\n",
    "\n",
    "# Check proportions \n",
    "y_train_over.value_counts()"
   ]
  },
  {
   "cell_type": "code",
   "execution_count": 86,
   "metadata": {},
   "outputs": [
    {
     "data": {
      "text/plain": [
       "1    8846\n",
       "0    8846\n",
       "Name: book_binary, dtype: int64"
      ]
     },
     "execution_count": 86,
     "metadata": {},
     "output_type": "execute_result"
    }
   ],
   "source": [
    "from imblearn.under_sampling import RandomUnderSampler\n",
    "rus = RandomUnderSampler(random_state = 1, sampling_strategy='majority')\n",
    "X_train_under, y_train_under =rus.fit_resample(X_train, y_train)\n",
    "\n",
    "# Check proportions \n",
    "y_train_under.value_counts()"
   ]
  },
  {
   "cell_type": "code",
   "execution_count": 88,
   "metadata": {},
   "outputs": [
    {
     "name": "stdout",
     "output_type": "stream",
     "text": [
      "<class 'pandas.core.frame.DataFrame'>\n",
      "Int64Index: 17692 entries, 1067 to 28199\n",
      "Data columns (total 8 columns):\n",
      " #   Column                      Non-Null Count  Dtype   \n",
      "---  ------                      --------------  -----   \n",
      " 0   market_segment_type         17692 non-null  category\n",
      " 1   season                      17692 non-null  category\n",
      " 2   required_car_parking_space  17692 non-null  category\n",
      " 3   repeated_guest              17692 non-null  category\n",
      " 4   special_requests            17692 non-null  category\n",
      " 5   lead_time                   17692 non-null  int64   \n",
      " 6   total_price                 17692 non-null  float64 \n",
      " 7   total_guests                17692 non-null  int64   \n",
      "dtypes: category(5), float64(1), int64(2)\n",
      "memory usage: 640.0 KB\n"
     ]
    }
   ],
   "source": [
    "X_train_under.info()"
   ]
  },
  {
   "cell_type": "markdown",
   "metadata": {},
   "source": [
    "## Transform Datasets with Pipeline"
   ]
  },
  {
   "cell_type": "code",
   "execution_count": 89,
   "metadata": {},
   "outputs": [],
   "source": [
    "#Fit pipeline to resampled data\n",
    "X_train_resampled = all_pipe.fit(X_train_under)\n",
    "#Get feature names out from fit and create as new list\n",
    "X_train_cols = X_train_resampled.get_feature_names_out().tolist()\n",
    "#Create new dataframe with transformed data, and apply feature name list as column names\n",
    "X_train_bal = pd.DataFrame(all_pipe.fit_transform(X_train_under), columns = X_train_cols)"
   ]
  },
  {
   "cell_type": "code",
   "execution_count": 90,
   "metadata": {},
   "outputs": [],
   "source": [
    "#Create new dataframe with transformed validation and testing data, and apply feature name list as column names\n",
    "X_val = pd.DataFrame(all_pipe.fit_transform(X_val), columns = X_train_cols)\n",
    "X_test = pd.DataFrame(all_pipe.fit_transform(X_test), columns = X_train_cols)"
   ]
  },
  {
   "cell_type": "code",
   "execution_count": 91,
   "metadata": {},
   "outputs": [
    {
     "data": {
      "text/plain": [
       "((17692, 15), (4637, 15), (4638, 15))"
      ]
     },
     "execution_count": 91,
     "metadata": {},
     "output_type": "execute_result"
    }
   ],
   "source": [
    "X_train_bal.shape, X_val.shape, X_test.shape"
   ]
  },
  {
   "cell_type": "code",
   "execution_count": 92,
   "metadata": {},
   "outputs": [
    {
     "data": {
      "text/html": [
       "<div>\n",
       "<style scoped>\n",
       "    .dataframe tbody tr th:only-of-type {\n",
       "        vertical-align: middle;\n",
       "    }\n",
       "\n",
       "    .dataframe tbody tr th {\n",
       "        vertical-align: top;\n",
       "    }\n",
       "\n",
       "    .dataframe thead th {\n",
       "        text-align: right;\n",
       "    }\n",
       "</style>\n",
       "<table border=\"1\" class=\"dataframe\">\n",
       "  <thead>\n",
       "    <tr style=\"text-align: right;\">\n",
       "      <th></th>\n",
       "      <th>market_segment_type_Aviation</th>\n",
       "      <th>market_segment_type_Complementary</th>\n",
       "      <th>market_segment_type_Corporate</th>\n",
       "      <th>market_segment_type_Offline</th>\n",
       "      <th>market_segment_type_Online</th>\n",
       "      <th>season_Autumn</th>\n",
       "      <th>season_Spring</th>\n",
       "      <th>season_Summer</th>\n",
       "      <th>season_Winter</th>\n",
       "      <th>required_car_parking_space_1</th>\n",
       "      <th>repeated_guest_1</th>\n",
       "      <th>special_requests_1</th>\n",
       "      <th>lead_time</th>\n",
       "      <th>total_price</th>\n",
       "      <th>total_guests</th>\n",
       "    </tr>\n",
       "  </thead>\n",
       "  <tbody>\n",
       "    <tr>\n",
       "      <th>0</th>\n",
       "      <td>0.0</td>\n",
       "      <td>0.0</td>\n",
       "      <td>0.0</td>\n",
       "      <td>0.0</td>\n",
       "      <td>1.0</td>\n",
       "      <td>0.0</td>\n",
       "      <td>1.0</td>\n",
       "      <td>0.0</td>\n",
       "      <td>0.0</td>\n",
       "      <td>0.0</td>\n",
       "      <td>0.0</td>\n",
       "      <td>1.0</td>\n",
       "      <td>-0.826710</td>\n",
       "      <td>1.050635</td>\n",
       "      <td>0.137698</td>\n",
       "    </tr>\n",
       "    <tr>\n",
       "      <th>1</th>\n",
       "      <td>0.0</td>\n",
       "      <td>0.0</td>\n",
       "      <td>0.0</td>\n",
       "      <td>1.0</td>\n",
       "      <td>0.0</td>\n",
       "      <td>0.0</td>\n",
       "      <td>0.0</td>\n",
       "      <td>1.0</td>\n",
       "      <td>0.0</td>\n",
       "      <td>0.0</td>\n",
       "      <td>0.0</td>\n",
       "      <td>0.0</td>\n",
       "      <td>0.465769</td>\n",
       "      <td>-1.355087</td>\n",
       "      <td>-1.667318</td>\n",
       "    </tr>\n",
       "    <tr>\n",
       "      <th>2</th>\n",
       "      <td>0.0</td>\n",
       "      <td>0.0</td>\n",
       "      <td>0.0</td>\n",
       "      <td>1.0</td>\n",
       "      <td>0.0</td>\n",
       "      <td>0.0</td>\n",
       "      <td>0.0</td>\n",
       "      <td>0.0</td>\n",
       "      <td>1.0</td>\n",
       "      <td>0.0</td>\n",
       "      <td>0.0</td>\n",
       "      <td>0.0</td>\n",
       "      <td>0.001580</td>\n",
       "      <td>0.086355</td>\n",
       "      <td>0.137698</td>\n",
       "    </tr>\n",
       "    <tr>\n",
       "      <th>3</th>\n",
       "      <td>0.0</td>\n",
       "      <td>0.0</td>\n",
       "      <td>0.0</td>\n",
       "      <td>1.0</td>\n",
       "      <td>0.0</td>\n",
       "      <td>0.0</td>\n",
       "      <td>1.0</td>\n",
       "      <td>0.0</td>\n",
       "      <td>0.0</td>\n",
       "      <td>0.0</td>\n",
       "      <td>0.0</td>\n",
       "      <td>0.0</td>\n",
       "      <td>1.461213</td>\n",
       "      <td>0.183550</td>\n",
       "      <td>0.137698</td>\n",
       "    </tr>\n",
       "    <tr>\n",
       "      <th>4</th>\n",
       "      <td>0.0</td>\n",
       "      <td>0.0</td>\n",
       "      <td>0.0</td>\n",
       "      <td>1.0</td>\n",
       "      <td>0.0</td>\n",
       "      <td>1.0</td>\n",
       "      <td>0.0</td>\n",
       "      <td>0.0</td>\n",
       "      <td>0.0</td>\n",
       "      <td>0.0</td>\n",
       "      <td>0.0</td>\n",
       "      <td>0.0</td>\n",
       "      <td>0.238323</td>\n",
       "      <td>-0.323012</td>\n",
       "      <td>0.137698</td>\n",
       "    </tr>\n",
       "  </tbody>\n",
       "</table>\n",
       "</div>"
      ],
      "text/plain": [
       "   market_segment_type_Aviation  market_segment_type_Complementary  \\\n",
       "0                           0.0                                0.0   \n",
       "1                           0.0                                0.0   \n",
       "2                           0.0                                0.0   \n",
       "3                           0.0                                0.0   \n",
       "4                           0.0                                0.0   \n",
       "\n",
       "   market_segment_type_Corporate  market_segment_type_Offline  \\\n",
       "0                            0.0                          0.0   \n",
       "1                            0.0                          1.0   \n",
       "2                            0.0                          1.0   \n",
       "3                            0.0                          1.0   \n",
       "4                            0.0                          1.0   \n",
       "\n",
       "   market_segment_type_Online  season_Autumn  season_Spring  season_Summer  \\\n",
       "0                         1.0            0.0            1.0            0.0   \n",
       "1                         0.0            0.0            0.0            1.0   \n",
       "2                         0.0            0.0            0.0            0.0   \n",
       "3                         0.0            0.0            1.0            0.0   \n",
       "4                         0.0            1.0            0.0            0.0   \n",
       "\n",
       "   season_Winter  required_car_parking_space_1  repeated_guest_1  \\\n",
       "0            0.0                           0.0               0.0   \n",
       "1            0.0                           0.0               0.0   \n",
       "2            1.0                           0.0               0.0   \n",
       "3            0.0                           0.0               0.0   \n",
       "4            0.0                           0.0               0.0   \n",
       "\n",
       "   special_requests_1  lead_time  total_price  total_guests  \n",
       "0                 1.0  -0.826710     1.050635      0.137698  \n",
       "1                 0.0   0.465769    -1.355087     -1.667318  \n",
       "2                 0.0   0.001580     0.086355      0.137698  \n",
       "3                 0.0   1.461213     0.183550      0.137698  \n",
       "4                 0.0   0.238323    -0.323012      0.137698  "
      ]
     },
     "execution_count": 92,
     "metadata": {},
     "output_type": "execute_result"
    }
   ],
   "source": [
    "X_train_bal.head()"
   ]
  },
  {
   "cell_type": "markdown",
   "metadata": {},
   "source": [
    "### Predictors for logistic regression with one of the dummies removed: need C-1 dummies for linear models"
   ]
  },
  {
   "cell_type": "code",
   "execution_count": 93,
   "metadata": {},
   "outputs": [],
   "source": [
    "X_train_log = X_train_bal.drop(['market_segment_type_Aviation', 'season_Autumn'], axis = 1)\n",
    "X_val_log = X_val.drop(['market_segment_type_Aviation', 'season_Autumn'], axis = 1)\n",
    "X_test_log = X_test.drop(['market_segment_type_Aviation', 'season_Autumn'], axis = 1)"
   ]
  },
  {
   "cell_type": "markdown",
   "metadata": {},
   "source": [
    "# Model Training"
   ]
  },
  {
   "cell_type": "markdown",
   "metadata": {},
   "source": [
    "## L2 penalized logistic regression with balanced data"
   ]
  },
  {
   "cell_type": "code",
   "execution_count": 94,
   "metadata": {
    "collapsed": true
   },
   "outputs": [
    {
     "name": "stderr",
     "output_type": "stream",
     "text": [
      "/opt/miniconda3/envs/ADS500B/lib/python3.10/site-packages/sklearn/linear_model/_logistic.py:444: ConvergenceWarning: lbfgs failed to converge (status=1):\n",
      "STOP: TOTAL NO. of ITERATIONS REACHED LIMIT.\n",
      "\n",
      "Increase the number of iterations (max_iter) or scale the data as shown in:\n",
      "    https://scikit-learn.org/stable/modules/preprocessing.html\n",
      "Please also refer to the documentation for alternative solver options:\n",
      "    https://scikit-learn.org/stable/modules/linear_model.html#logistic-regression\n",
      "  n_iter_i = _check_optimize_result(\n"
     ]
    },
    {
     "data": {
      "text/html": [
       "<style>#sk-container-id-1 {color: black;background-color: white;}#sk-container-id-1 pre{padding: 0;}#sk-container-id-1 div.sk-toggleable {background-color: white;}#sk-container-id-1 label.sk-toggleable__label {cursor: pointer;display: block;width: 100%;margin-bottom: 0;padding: 0.3em;box-sizing: border-box;text-align: center;}#sk-container-id-1 label.sk-toggleable__label-arrow:before {content: \"▸\";float: left;margin-right: 0.25em;color: #696969;}#sk-container-id-1 label.sk-toggleable__label-arrow:hover:before {color: black;}#sk-container-id-1 div.sk-estimator:hover label.sk-toggleable__label-arrow:before {color: black;}#sk-container-id-1 div.sk-toggleable__content {max-height: 0;max-width: 0;overflow: hidden;text-align: left;background-color: #f0f8ff;}#sk-container-id-1 div.sk-toggleable__content pre {margin: 0.2em;color: black;border-radius: 0.25em;background-color: #f0f8ff;}#sk-container-id-1 input.sk-toggleable__control:checked~div.sk-toggleable__content {max-height: 200px;max-width: 100%;overflow: auto;}#sk-container-id-1 input.sk-toggleable__control:checked~label.sk-toggleable__label-arrow:before {content: \"▾\";}#sk-container-id-1 div.sk-estimator input.sk-toggleable__control:checked~label.sk-toggleable__label {background-color: #d4ebff;}#sk-container-id-1 div.sk-label input.sk-toggleable__control:checked~label.sk-toggleable__label {background-color: #d4ebff;}#sk-container-id-1 input.sk-hidden--visually {border: 0;clip: rect(1px 1px 1px 1px);clip: rect(1px, 1px, 1px, 1px);height: 1px;margin: -1px;overflow: hidden;padding: 0;position: absolute;width: 1px;}#sk-container-id-1 div.sk-estimator {font-family: monospace;background-color: #f0f8ff;border: 1px dotted black;border-radius: 0.25em;box-sizing: border-box;margin-bottom: 0.5em;}#sk-container-id-1 div.sk-estimator:hover {background-color: #d4ebff;}#sk-container-id-1 div.sk-parallel-item::after {content: \"\";width: 100%;border-bottom: 1px solid gray;flex-grow: 1;}#sk-container-id-1 div.sk-label:hover label.sk-toggleable__label {background-color: #d4ebff;}#sk-container-id-1 div.sk-serial::before {content: \"\";position: absolute;border-left: 1px solid gray;box-sizing: border-box;top: 0;bottom: 0;left: 50%;z-index: 0;}#sk-container-id-1 div.sk-serial {display: flex;flex-direction: column;align-items: center;background-color: white;padding-right: 0.2em;padding-left: 0.2em;position: relative;}#sk-container-id-1 div.sk-item {position: relative;z-index: 1;}#sk-container-id-1 div.sk-parallel {display: flex;align-items: stretch;justify-content: center;background-color: white;position: relative;}#sk-container-id-1 div.sk-item::before, #sk-container-id-1 div.sk-parallel-item::before {content: \"\";position: absolute;border-left: 1px solid gray;box-sizing: border-box;top: 0;bottom: 0;left: 50%;z-index: -1;}#sk-container-id-1 div.sk-parallel-item {display: flex;flex-direction: column;z-index: 1;position: relative;background-color: white;}#sk-container-id-1 div.sk-parallel-item:first-child::after {align-self: flex-end;width: 50%;}#sk-container-id-1 div.sk-parallel-item:last-child::after {align-self: flex-start;width: 50%;}#sk-container-id-1 div.sk-parallel-item:only-child::after {width: 0;}#sk-container-id-1 div.sk-dashed-wrapped {border: 1px dashed gray;margin: 0 0.4em 0.5em 0.4em;box-sizing: border-box;padding-bottom: 0.4em;background-color: white;}#sk-container-id-1 div.sk-label label {font-family: monospace;font-weight: bold;display: inline-block;line-height: 1.2em;}#sk-container-id-1 div.sk-label-container {text-align: center;}#sk-container-id-1 div.sk-container {/* jupyter's `normalize.less` sets `[hidden] { display: none; }` but bootstrap.min.css set `[hidden] { display: none !important; }` so we also need the `!important` here to be able to override the default hidden behavior on the sphinx rendered scikit-learn.org. See: https://github.com/scikit-learn/scikit-learn/issues/21755 */display: inline-block !important;position: relative;}#sk-container-id-1 div.sk-text-repr-fallback {display: none;}</style><div id=\"sk-container-id-1\" class=\"sk-top-container\"><div class=\"sk-text-repr-fallback\"><pre>LogisticRegressionCV(cv=5, random_state=1)</pre><b>In a Jupyter environment, please rerun this cell to show the HTML representation or trust the notebook. <br />On GitHub, the HTML representation is unable to render, please try loading this page with nbviewer.org.</b></div><div class=\"sk-container\" hidden><div class=\"sk-item\"><div class=\"sk-estimator sk-toggleable\"><input class=\"sk-toggleable__control sk-hidden--visually\" id=\"sk-estimator-id-1\" type=\"checkbox\" checked><label for=\"sk-estimator-id-1\" class=\"sk-toggleable__label sk-toggleable__label-arrow\">LogisticRegressionCV</label><div class=\"sk-toggleable__content\"><pre>LogisticRegressionCV(cv=5, random_state=1)</pre></div></div></div></div></div>"
      ],
      "text/plain": [
       "LogisticRegressionCV(cv=5, random_state=1)"
      ]
     },
     "execution_count": 94,
     "metadata": {},
     "output_type": "execute_result"
    }
   ],
   "source": [
    "log_l2_bal = LogisticRegressionCV(solver = 'lbfgs', cv = 5, random_state = 1)\n",
    "log_l2_bal.fit(X_train_log, y_train_under.values.ravel())"
   ]
  },
  {
   "cell_type": "code",
   "execution_count": 95,
   "metadata": {},
   "outputs": [
    {
     "data": {
      "text/plain": [
       "array([[-0.05586689, -0.09058129, -0.59656903,  0.67792759,  0.08227876,\n",
       "         0.13662713, -0.45866358, -0.35993276, -0.17111891, -1.38865516,\n",
       "         1.08625156,  0.21449904,  0.04635123]])"
      ]
     },
     "execution_count": 95,
     "metadata": {},
     "output_type": "execute_result"
    }
   ],
   "source": [
    "log_l2_bal.coef_"
   ]
  },
  {
   "cell_type": "markdown",
   "metadata": {},
   "source": [
    "## KNN Classifier"
   ]
  },
  {
   "cell_type": "code",
   "execution_count": 96,
   "metadata": {},
   "outputs": [],
   "source": [
    "knn_results = []\n",
    "for k in range (1, 9):\n",
    "    knn_mod = KNeighborsClassifier(n_neighbors = k).fit(X_train_bal, y_train_under.values.ravel())\n",
    "    knn_results.append({\n",
    "        'k': k,\n",
    "        'Accuracy': accuracy_score(y_val.values.ravel(), knn_mod.predict(X_val)) \n",
    "    })\n",
    "    \n",
    "knn_results = pd.DataFrame(knn_results)\n",
    "warnings.filterwarnings('ignore')"
   ]
  },
  {
   "cell_type": "code",
   "execution_count": 97,
   "metadata": {},
   "outputs": [
    {
     "data": {
      "text/html": [
       "<div>\n",
       "<style scoped>\n",
       "    .dataframe tbody tr th:only-of-type {\n",
       "        vertical-align: middle;\n",
       "    }\n",
       "\n",
       "    .dataframe tbody tr th {\n",
       "        vertical-align: top;\n",
       "    }\n",
       "\n",
       "    .dataframe thead th {\n",
       "        text-align: right;\n",
       "    }\n",
       "</style>\n",
       "<table border=\"1\" class=\"dataframe\">\n",
       "  <thead>\n",
       "    <tr style=\"text-align: right;\">\n",
       "      <th></th>\n",
       "      <th>k</th>\n",
       "      <th>Accuracy</th>\n",
       "    </tr>\n",
       "  </thead>\n",
       "  <tbody>\n",
       "    <tr>\n",
       "      <th>0</th>\n",
       "      <td>1</td>\n",
       "      <td>0.725900</td>\n",
       "    </tr>\n",
       "    <tr>\n",
       "      <th>1</th>\n",
       "      <td>2</td>\n",
       "      <td>0.783696</td>\n",
       "    </tr>\n",
       "    <tr>\n",
       "      <th>2</th>\n",
       "      <td>3</td>\n",
       "      <td>0.758680</td>\n",
       "    </tr>\n",
       "    <tr>\n",
       "      <th>3</th>\n",
       "      <td>4</td>\n",
       "      <td>0.791029</td>\n",
       "    </tr>\n",
       "    <tr>\n",
       "      <th>4</th>\n",
       "      <td>5</td>\n",
       "      <td>0.775286</td>\n",
       "    </tr>\n",
       "    <tr>\n",
       "      <th>5</th>\n",
       "      <td>6</td>\n",
       "      <td>0.792323</td>\n",
       "    </tr>\n",
       "    <tr>\n",
       "      <th>6</th>\n",
       "      <td>7</td>\n",
       "      <td>0.786069</td>\n",
       "    </tr>\n",
       "    <tr>\n",
       "      <th>7</th>\n",
       "      <td>8</td>\n",
       "      <td>0.802674</td>\n",
       "    </tr>\n",
       "  </tbody>\n",
       "</table>\n",
       "</div>"
      ],
      "text/plain": [
       "   k  Accuracy\n",
       "0  1  0.725900\n",
       "1  2  0.783696\n",
       "2  3  0.758680\n",
       "3  4  0.791029\n",
       "4  5  0.775286\n",
       "5  6  0.792323\n",
       "6  7  0.786069\n",
       "7  8  0.802674"
      ]
     },
     "execution_count": 97,
     "metadata": {},
     "output_type": "execute_result"
    }
   ],
   "source": [
    "knn_results"
   ]
  },
  {
   "cell_type": "code",
   "execution_count": 98,
   "metadata": {},
   "outputs": [],
   "source": [
    "knn = KNeighborsClassifier(n_neighbors = 4).fit(X_train_bal, y_train_under.values.ravel())"
   ]
  },
  {
   "cell_type": "markdown",
   "metadata": {},
   "source": [
    "## Neural Network Classifier"
   ]
  },
  {
   "cell_type": "code",
   "execution_count": 99,
   "metadata": {},
   "outputs": [
    {
     "data": {
      "text/html": [
       "<style>#sk-container-id-2 {color: black;background-color: white;}#sk-container-id-2 pre{padding: 0;}#sk-container-id-2 div.sk-toggleable {background-color: white;}#sk-container-id-2 label.sk-toggleable__label {cursor: pointer;display: block;width: 100%;margin-bottom: 0;padding: 0.3em;box-sizing: border-box;text-align: center;}#sk-container-id-2 label.sk-toggleable__label-arrow:before {content: \"▸\";float: left;margin-right: 0.25em;color: #696969;}#sk-container-id-2 label.sk-toggleable__label-arrow:hover:before {color: black;}#sk-container-id-2 div.sk-estimator:hover label.sk-toggleable__label-arrow:before {color: black;}#sk-container-id-2 div.sk-toggleable__content {max-height: 0;max-width: 0;overflow: hidden;text-align: left;background-color: #f0f8ff;}#sk-container-id-2 div.sk-toggleable__content pre {margin: 0.2em;color: black;border-radius: 0.25em;background-color: #f0f8ff;}#sk-container-id-2 input.sk-toggleable__control:checked~div.sk-toggleable__content {max-height: 200px;max-width: 100%;overflow: auto;}#sk-container-id-2 input.sk-toggleable__control:checked~label.sk-toggleable__label-arrow:before {content: \"▾\";}#sk-container-id-2 div.sk-estimator input.sk-toggleable__control:checked~label.sk-toggleable__label {background-color: #d4ebff;}#sk-container-id-2 div.sk-label input.sk-toggleable__control:checked~label.sk-toggleable__label {background-color: #d4ebff;}#sk-container-id-2 input.sk-hidden--visually {border: 0;clip: rect(1px 1px 1px 1px);clip: rect(1px, 1px, 1px, 1px);height: 1px;margin: -1px;overflow: hidden;padding: 0;position: absolute;width: 1px;}#sk-container-id-2 div.sk-estimator {font-family: monospace;background-color: #f0f8ff;border: 1px dotted black;border-radius: 0.25em;box-sizing: border-box;margin-bottom: 0.5em;}#sk-container-id-2 div.sk-estimator:hover {background-color: #d4ebff;}#sk-container-id-2 div.sk-parallel-item::after {content: \"\";width: 100%;border-bottom: 1px solid gray;flex-grow: 1;}#sk-container-id-2 div.sk-label:hover label.sk-toggleable__label {background-color: #d4ebff;}#sk-container-id-2 div.sk-serial::before {content: \"\";position: absolute;border-left: 1px solid gray;box-sizing: border-box;top: 0;bottom: 0;left: 50%;z-index: 0;}#sk-container-id-2 div.sk-serial {display: flex;flex-direction: column;align-items: center;background-color: white;padding-right: 0.2em;padding-left: 0.2em;position: relative;}#sk-container-id-2 div.sk-item {position: relative;z-index: 1;}#sk-container-id-2 div.sk-parallel {display: flex;align-items: stretch;justify-content: center;background-color: white;position: relative;}#sk-container-id-2 div.sk-item::before, #sk-container-id-2 div.sk-parallel-item::before {content: \"\";position: absolute;border-left: 1px solid gray;box-sizing: border-box;top: 0;bottom: 0;left: 50%;z-index: -1;}#sk-container-id-2 div.sk-parallel-item {display: flex;flex-direction: column;z-index: 1;position: relative;background-color: white;}#sk-container-id-2 div.sk-parallel-item:first-child::after {align-self: flex-end;width: 50%;}#sk-container-id-2 div.sk-parallel-item:last-child::after {align-self: flex-start;width: 50%;}#sk-container-id-2 div.sk-parallel-item:only-child::after {width: 0;}#sk-container-id-2 div.sk-dashed-wrapped {border: 1px dashed gray;margin: 0 0.4em 0.5em 0.4em;box-sizing: border-box;padding-bottom: 0.4em;background-color: white;}#sk-container-id-2 div.sk-label label {font-family: monospace;font-weight: bold;display: inline-block;line-height: 1.2em;}#sk-container-id-2 div.sk-label-container {text-align: center;}#sk-container-id-2 div.sk-container {/* jupyter's `normalize.less` sets `[hidden] { display: none; }` but bootstrap.min.css set `[hidden] { display: none !important; }` so we also need the `!important` here to be able to override the default hidden behavior on the sphinx rendered scikit-learn.org. See: https://github.com/scikit-learn/scikit-learn/issues/21755 */display: inline-block !important;position: relative;}#sk-container-id-2 div.sk-text-repr-fallback {display: none;}</style><div id=\"sk-container-id-2\" class=\"sk-top-container\"><div class=\"sk-text-repr-fallback\"><pre>MLPClassifier(activation=&#x27;logistic&#x27;, hidden_layer_sizes=(6, 3), max_iter=500,\n",
       "              random_state=1, solver=&#x27;lbfgs&#x27;)</pre><b>In a Jupyter environment, please rerun this cell to show the HTML representation or trust the notebook. <br />On GitHub, the HTML representation is unable to render, please try loading this page with nbviewer.org.</b></div><div class=\"sk-container\" hidden><div class=\"sk-item\"><div class=\"sk-estimator sk-toggleable\"><input class=\"sk-toggleable__control sk-hidden--visually\" id=\"sk-estimator-id-2\" type=\"checkbox\" checked><label for=\"sk-estimator-id-2\" class=\"sk-toggleable__label sk-toggleable__label-arrow\">MLPClassifier</label><div class=\"sk-toggleable__content\"><pre>MLPClassifier(activation=&#x27;logistic&#x27;, hidden_layer_sizes=(6, 3), max_iter=500,\n",
       "              random_state=1, solver=&#x27;lbfgs&#x27;)</pre></div></div></div></div></div>"
      ],
      "text/plain": [
       "MLPClassifier(activation='logistic', hidden_layer_sizes=(6, 3), max_iter=500,\n",
       "              random_state=1, solver='lbfgs')"
      ]
     },
     "execution_count": 99,
     "metadata": {},
     "output_type": "execute_result"
    }
   ],
   "source": [
    "nn = MLPClassifier(hidden_layer_sizes=(6,3), activation = 'logistic', max_iter = 500, solver = 'lbfgs', random_state=1)\n",
    "nn.fit(X_train_bal, y_train_under.values.ravel())"
   ]
  },
  {
   "cell_type": "markdown",
   "metadata": {},
   "source": [
    "## Boosted Tree Classifier"
   ]
  },
  {
   "cell_type": "code",
   "execution_count": 100,
   "metadata": {},
   "outputs": [
    {
     "ename": "KeyboardInterrupt",
     "evalue": "",
     "output_type": "error",
     "traceback": [
      "\u001b[0;31m---------------------------------------------------------------------------\u001b[0m",
      "\u001b[0;31mKeyboardInterrupt\u001b[0m                         Traceback (most recent call last)",
      "\u001b[1;32m/Users/viviando/Desktop/MSADS/ADS505_Notebooks/ADS505_finalproject/ads505/eda_merged_100323_Halee.ipynb Cell 140\u001b[0m line \u001b[0;36m<cell line: 8>\u001b[0;34m()\u001b[0m\n\u001b[1;32m      <a href='vscode-notebook-cell:/Users/viviando/Desktop/MSADS/ADS505_Notebooks/ADS505_finalproject/ads505/eda_merged_100323_Halee.ipynb#Y263sZmlsZQ%3D%3D?line=0'>1</a>\u001b[0m param_grid \u001b[39m=\u001b[39m {\n\u001b[1;32m      <a href='vscode-notebook-cell:/Users/viviando/Desktop/MSADS/ADS505_Notebooks/ADS505_finalproject/ads505/eda_merged_100323_Halee.ipynb#Y263sZmlsZQ%3D%3D?line=1'>2</a>\u001b[0m     \u001b[39m'\u001b[39m\u001b[39mmax_depth\u001b[39m\u001b[39m'\u001b[39m : [\u001b[39m9\u001b[39m,\u001b[39m10\u001b[39m,\u001b[39m11\u001b[39m,\u001b[39m12\u001b[39m,\u001b[39m13\u001b[39m],\n\u001b[1;32m      <a href='vscode-notebook-cell:/Users/viviando/Desktop/MSADS/ADS505_Notebooks/ADS505_finalproject/ads505/eda_merged_100323_Halee.ipynb#Y263sZmlsZQ%3D%3D?line=2'>3</a>\u001b[0m     \u001b[39m'\u001b[39m\u001b[39mlearning_rate\u001b[39m\u001b[39m'\u001b[39m : [\u001b[39m0.0001\u001b[39m, \u001b[39m0.001\u001b[39m, \u001b[39m0.01\u001b[39m, \u001b[39m0.1\u001b[39m, \u001b[39m1\u001b[39m],\n\u001b[1;32m      <a href='vscode-notebook-cell:/Users/viviando/Desktop/MSADS/ADS505_Notebooks/ADS505_finalproject/ads505/eda_merged_100323_Halee.ipynb#Y263sZmlsZQ%3D%3D?line=3'>4</a>\u001b[0m     \u001b[39m'\u001b[39m\u001b[39mn_estimators\u001b[39m\u001b[39m'\u001b[39m : [\u001b[39m17\u001b[39m,\u001b[39m18\u001b[39m,\u001b[39m19\u001b[39m,\u001b[39m20\u001b[39m,\u001b[39m21\u001b[39m],\n\u001b[1;32m      <a href='vscode-notebook-cell:/Users/viviando/Desktop/MSADS/ADS505_Notebooks/ADS505_finalproject/ads505/eda_merged_100323_Halee.ipynb#Y263sZmlsZQ%3D%3D?line=4'>5</a>\u001b[0m }\n\u001b[1;32m      <a href='vscode-notebook-cell:/Users/viviando/Desktop/MSADS/ADS505_Notebooks/ADS505_finalproject/ads505/eda_merged_100323_Halee.ipynb#Y263sZmlsZQ%3D%3D?line=6'>7</a>\u001b[0m tree_search \u001b[39m=\u001b[39m GridSearchCV(GradientBoostingClassifier(random_state\u001b[39m=\u001b[39m\u001b[39m1\u001b[39m), param_grid, cv\u001b[39m=\u001b[39m\u001b[39m5\u001b[39m, n_jobs\u001b[39m=\u001b[39m\u001b[39m-\u001b[39m\u001b[39m1\u001b[39m)\n\u001b[0;32m----> <a href='vscode-notebook-cell:/Users/viviando/Desktop/MSADS/ADS505_Notebooks/ADS505_finalproject/ads505/eda_merged_100323_Halee.ipynb#Y263sZmlsZQ%3D%3D?line=7'>8</a>\u001b[0m tree_search\u001b[39m.\u001b[39;49mfit(X_train_bal, y_train_under\u001b[39m.\u001b[39;49mvalues\u001b[39m.\u001b[39;49mravel())\n\u001b[1;32m      <a href='vscode-notebook-cell:/Users/viviando/Desktop/MSADS/ADS505_Notebooks/ADS505_finalproject/ads505/eda_merged_100323_Halee.ipynb#Y263sZmlsZQ%3D%3D?line=8'>9</a>\u001b[0m tree \u001b[39m=\u001b[39m tree_search\u001b[39m.\u001b[39mbest_params_\n",
      "File \u001b[0;32m/opt/miniconda3/envs/ADS500B/lib/python3.10/site-packages/sklearn/model_selection/_search.py:875\u001b[0m, in \u001b[0;36mBaseSearchCV.fit\u001b[0;34m(self, X, y, groups, **fit_params)\u001b[0m\n\u001b[1;32m    869\u001b[0m     results \u001b[39m=\u001b[39m \u001b[39mself\u001b[39m\u001b[39m.\u001b[39m_format_results(\n\u001b[1;32m    870\u001b[0m         all_candidate_params, n_splits, all_out, all_more_results\n\u001b[1;32m    871\u001b[0m     )\n\u001b[1;32m    873\u001b[0m     \u001b[39mreturn\u001b[39;00m results\n\u001b[0;32m--> 875\u001b[0m \u001b[39mself\u001b[39;49m\u001b[39m.\u001b[39;49m_run_search(evaluate_candidates)\n\u001b[1;32m    877\u001b[0m \u001b[39m# multimetric is determined here because in the case of a callable\u001b[39;00m\n\u001b[1;32m    878\u001b[0m \u001b[39m# self.scoring the return type is only known after calling\u001b[39;00m\n\u001b[1;32m    879\u001b[0m first_test_score \u001b[39m=\u001b[39m all_out[\u001b[39m0\u001b[39m][\u001b[39m\"\u001b[39m\u001b[39mtest_scores\u001b[39m\u001b[39m\"\u001b[39m]\n",
      "File \u001b[0;32m/opt/miniconda3/envs/ADS500B/lib/python3.10/site-packages/sklearn/model_selection/_search.py:1375\u001b[0m, in \u001b[0;36mGridSearchCV._run_search\u001b[0;34m(self, evaluate_candidates)\u001b[0m\n\u001b[1;32m   1373\u001b[0m \u001b[39mdef\u001b[39;00m \u001b[39m_run_search\u001b[39m(\u001b[39mself\u001b[39m, evaluate_candidates):\n\u001b[1;32m   1374\u001b[0m     \u001b[39m\"\"\"Search all candidates in param_grid\"\"\"\u001b[39;00m\n\u001b[0;32m-> 1375\u001b[0m     evaluate_candidates(ParameterGrid(\u001b[39mself\u001b[39;49m\u001b[39m.\u001b[39;49mparam_grid))\n",
      "File \u001b[0;32m/opt/miniconda3/envs/ADS500B/lib/python3.10/site-packages/sklearn/model_selection/_search.py:822\u001b[0m, in \u001b[0;36mBaseSearchCV.fit.<locals>.evaluate_candidates\u001b[0;34m(candidate_params, cv, more_results)\u001b[0m\n\u001b[1;32m    814\u001b[0m \u001b[39mif\u001b[39;00m \u001b[39mself\u001b[39m\u001b[39m.\u001b[39mverbose \u001b[39m>\u001b[39m \u001b[39m0\u001b[39m:\n\u001b[1;32m    815\u001b[0m     \u001b[39mprint\u001b[39m(\n\u001b[1;32m    816\u001b[0m         \u001b[39m\"\u001b[39m\u001b[39mFitting \u001b[39m\u001b[39m{0}\u001b[39;00m\u001b[39m folds for each of \u001b[39m\u001b[39m{1}\u001b[39;00m\u001b[39m candidates,\u001b[39m\u001b[39m\"\u001b[39m\n\u001b[1;32m    817\u001b[0m         \u001b[39m\"\u001b[39m\u001b[39m totalling \u001b[39m\u001b[39m{2}\u001b[39;00m\u001b[39m fits\u001b[39m\u001b[39m\"\u001b[39m\u001b[39m.\u001b[39mformat(\n\u001b[1;32m    818\u001b[0m             n_splits, n_candidates, n_candidates \u001b[39m*\u001b[39m n_splits\n\u001b[1;32m    819\u001b[0m         )\n\u001b[1;32m    820\u001b[0m     )\n\u001b[0;32m--> 822\u001b[0m out \u001b[39m=\u001b[39m parallel(\n\u001b[1;32m    823\u001b[0m     delayed(_fit_and_score)(\n\u001b[1;32m    824\u001b[0m         clone(base_estimator),\n\u001b[1;32m    825\u001b[0m         X,\n\u001b[1;32m    826\u001b[0m         y,\n\u001b[1;32m    827\u001b[0m         train\u001b[39m=\u001b[39;49mtrain,\n\u001b[1;32m    828\u001b[0m         test\u001b[39m=\u001b[39;49mtest,\n\u001b[1;32m    829\u001b[0m         parameters\u001b[39m=\u001b[39;49mparameters,\n\u001b[1;32m    830\u001b[0m         split_progress\u001b[39m=\u001b[39;49m(split_idx, n_splits),\n\u001b[1;32m    831\u001b[0m         candidate_progress\u001b[39m=\u001b[39;49m(cand_idx, n_candidates),\n\u001b[1;32m    832\u001b[0m         \u001b[39m*\u001b[39;49m\u001b[39m*\u001b[39;49mfit_and_score_kwargs,\n\u001b[1;32m    833\u001b[0m     )\n\u001b[1;32m    834\u001b[0m     \u001b[39mfor\u001b[39;49;00m (cand_idx, parameters), (split_idx, (train, test)) \u001b[39min\u001b[39;49;00m product(\n\u001b[1;32m    835\u001b[0m         \u001b[39menumerate\u001b[39;49m(candidate_params), \u001b[39menumerate\u001b[39;49m(cv\u001b[39m.\u001b[39;49msplit(X, y, groups))\n\u001b[1;32m    836\u001b[0m     )\n\u001b[1;32m    837\u001b[0m )\n\u001b[1;32m    839\u001b[0m \u001b[39mif\u001b[39;00m \u001b[39mlen\u001b[39m(out) \u001b[39m<\u001b[39m \u001b[39m1\u001b[39m:\n\u001b[1;32m    840\u001b[0m     \u001b[39mraise\u001b[39;00m \u001b[39mValueError\u001b[39;00m(\n\u001b[1;32m    841\u001b[0m         \u001b[39m\"\u001b[39m\u001b[39mNo fits were performed. \u001b[39m\u001b[39m\"\u001b[39m\n\u001b[1;32m    842\u001b[0m         \u001b[39m\"\u001b[39m\u001b[39mWas the CV iterator empty? \u001b[39m\u001b[39m\"\u001b[39m\n\u001b[1;32m    843\u001b[0m         \u001b[39m\"\u001b[39m\u001b[39mWere there no candidates?\u001b[39m\u001b[39m\"\u001b[39m\n\u001b[1;32m    844\u001b[0m     )\n",
      "File \u001b[0;32m/opt/miniconda3/envs/ADS500B/lib/python3.10/site-packages/joblib/parallel.py:1952\u001b[0m, in \u001b[0;36mParallel.__call__\u001b[0;34m(self, iterable)\u001b[0m\n\u001b[1;32m   1946\u001b[0m \u001b[39m# The first item from the output is blank, but it makes the interpreter\u001b[39;00m\n\u001b[1;32m   1947\u001b[0m \u001b[39m# progress until it enters the Try/Except block of the generator and\u001b[39;00m\n\u001b[1;32m   1948\u001b[0m \u001b[39m# reach the first `yield` statement. This starts the aynchronous\u001b[39;00m\n\u001b[1;32m   1949\u001b[0m \u001b[39m# dispatch of the tasks to the workers.\u001b[39;00m\n\u001b[1;32m   1950\u001b[0m \u001b[39mnext\u001b[39m(output)\n\u001b[0;32m-> 1952\u001b[0m \u001b[39mreturn\u001b[39;00m output \u001b[39mif\u001b[39;00m \u001b[39mself\u001b[39m\u001b[39m.\u001b[39mreturn_generator \u001b[39melse\u001b[39;00m \u001b[39mlist\u001b[39;49m(output)\n",
      "File \u001b[0;32m/opt/miniconda3/envs/ADS500B/lib/python3.10/site-packages/joblib/parallel.py:1595\u001b[0m, in \u001b[0;36mParallel._get_outputs\u001b[0;34m(self, iterator, pre_dispatch)\u001b[0m\n\u001b[1;32m   1592\u001b[0m     \u001b[39myield\u001b[39;00m\n\u001b[1;32m   1594\u001b[0m     \u001b[39mwith\u001b[39;00m \u001b[39mself\u001b[39m\u001b[39m.\u001b[39m_backend\u001b[39m.\u001b[39mretrieval_context():\n\u001b[0;32m-> 1595\u001b[0m         \u001b[39myield from\u001b[39;00m \u001b[39mself\u001b[39m\u001b[39m.\u001b[39m_retrieve()\n\u001b[1;32m   1597\u001b[0m \u001b[39mexcept\u001b[39;00m \u001b[39mGeneratorExit\u001b[39;00m:\n\u001b[1;32m   1598\u001b[0m     \u001b[39m# The generator has been garbage collected before being fully\u001b[39;00m\n\u001b[1;32m   1599\u001b[0m     \u001b[39m# consumed. This aborts the remaining tasks if possible and warn\u001b[39;00m\n\u001b[1;32m   1600\u001b[0m     \u001b[39m# the user if necessary.\u001b[39;00m\n\u001b[1;32m   1601\u001b[0m     \u001b[39mself\u001b[39m\u001b[39m.\u001b[39m_exception \u001b[39m=\u001b[39m \u001b[39mTrue\u001b[39;00m\n",
      "File \u001b[0;32m/opt/miniconda3/envs/ADS500B/lib/python3.10/site-packages/joblib/parallel.py:1707\u001b[0m, in \u001b[0;36mParallel._retrieve\u001b[0;34m(self)\u001b[0m\n\u001b[1;32m   1702\u001b[0m \u001b[39m# If the next job is not ready for retrieval yet, we just wait for\u001b[39;00m\n\u001b[1;32m   1703\u001b[0m \u001b[39m# async callbacks to progress.\u001b[39;00m\n\u001b[1;32m   1704\u001b[0m \u001b[39mif\u001b[39;00m ((\u001b[39mlen\u001b[39m(\u001b[39mself\u001b[39m\u001b[39m.\u001b[39m_jobs) \u001b[39m==\u001b[39m \u001b[39m0\u001b[39m) \u001b[39mor\u001b[39;00m\n\u001b[1;32m   1705\u001b[0m     (\u001b[39mself\u001b[39m\u001b[39m.\u001b[39m_jobs[\u001b[39m0\u001b[39m]\u001b[39m.\u001b[39mget_status(\n\u001b[1;32m   1706\u001b[0m         timeout\u001b[39m=\u001b[39m\u001b[39mself\u001b[39m\u001b[39m.\u001b[39mtimeout) \u001b[39m==\u001b[39m TASK_PENDING)):\n\u001b[0;32m-> 1707\u001b[0m     time\u001b[39m.\u001b[39;49msleep(\u001b[39m0.01\u001b[39;49m)\n\u001b[1;32m   1708\u001b[0m     \u001b[39mcontinue\u001b[39;00m\n\u001b[1;32m   1710\u001b[0m \u001b[39m# We need to be careful: the job list can be filling up as\u001b[39;00m\n\u001b[1;32m   1711\u001b[0m \u001b[39m# we empty it and Python list are not thread-safe by\u001b[39;00m\n\u001b[1;32m   1712\u001b[0m \u001b[39m# default hence the use of the lock\u001b[39;00m\n",
      "\u001b[0;31mKeyboardInterrupt\u001b[0m: "
     ]
    }
   ],
   "source": [
    "param_grid = {\n",
    "    'max_depth' : [9,10,11,12,13],\n",
    "    'learning_rate' : [0.0001, 0.001, 0.01, 0.1, 1],\n",
    "    'n_estimators' : [17,18,19,20,21],\n",
    "}\n",
    "\n",
    "tree_search = GridSearchCV(GradientBoostingClassifier(random_state=1), param_grid, cv=5, n_jobs=-1)\n",
    "tree_search.fit(X_train_bal, y_train_under.values.ravel())\n",
    "tree = tree_search.best_params_"
   ]
  },
  {
   "cell_type": "code",
   "execution_count": null,
   "metadata": {},
   "outputs": [
    {
     "data": {
      "text/plain": [
       "{'learning_rate': 0.1, 'max_depth': 10, 'n_estimators': 21}"
      ]
     },
     "execution_count": 176,
     "metadata": {},
     "output_type": "execute_result"
    }
   ],
   "source": [
    "tree"
   ]
  },
  {
   "cell_type": "markdown",
   "metadata": {},
   "source": [
    "# Model Performance"
   ]
  },
  {
   "cell_type": "markdown",
   "metadata": {},
   "source": [
    "## Log reg with balanced data"
   ]
  },
  {
   "cell_type": "code",
   "execution_count": null,
   "metadata": {},
   "outputs": [
    {
     "data": {
      "image/png": "[encoded data removed]",
      "text/plain": [
       "<Figure size 640x480 with 2 Axes>"
      ]
     },
     "metadata": {},
     "output_type": "display_data"
    }
   ],
   "source": [
    "#Confusion matrix for logistic regression balanced\n",
    "log_cm_bal = confusion_matrix(y_true = y_val, y_pred = log_l2_bal.predict(X_val_log), labels = log_l2_bal.classes_)\n",
    "log_disp_bal = ConfusionMatrixDisplay(confusion_matrix= log_cm_bal, display_labels=log_l2_bal.classes_)\n",
    "log_disp_bal.plot()\n",
    "plt.show() "
   ]
  },
  {
   "cell_type": "code",
   "execution_count": null,
   "metadata": {},
   "outputs": [
    {
     "data": {
      "text/plain": [
       "Text(0, 0.5, 'True Positive Rate')"
      ]
     },
     "execution_count": 169,
     "metadata": {},
     "output_type": "execute_result"
    },
    {
     "data": {
      "image/png": "[encoded data removed]",
      "text/plain": [
       "<Figure size 640x480 with 1 Axes>"
      ]
     },
     "metadata": {},
     "output_type": "display_data"
    }
   ],
   "source": [
    "#ROC curve for logistic regression\n",
    "fpr, tpr, thresholds = roc_curve(y_val, log_l2_bal.predict(X_val_log))\n",
    "plt.plot(fpr, tpr)\n",
    "plt.xlabel('False Positive Rate')\n",
    "plt.ylabel('True Positive Rate') "
   ]
  },
  {
   "cell_type": "code",
   "execution_count": null,
   "metadata": {},
   "outputs": [
    {
     "data": {
      "text/plain": [
       "(0.8266666666666667, 0.6974816703857188, 0.7392710804399396)"
      ]
     },
     "execution_count": 170,
     "metadata": {},
     "output_type": "execute_result"
    }
   ],
   "source": [
    "#Sensitivity, specificity, and accuracy for log reg with balanced data\n",
    "#Much improved\n",
    "log_sens_bal = sensitivity_score(y_val, log_l2_bal.predict(X_val_log))\n",
    "log_spec_bal = specificity_score(y_val, log_l2_bal.predict(X_val_log))\n",
    "log_acc_bal = accuracy_score(y_val, log_l2_bal.predict(X_val_log))\n",
    "log_sens_bal, log_spec_bal, log_acc_bal"
   ]
  },
  {
   "cell_type": "markdown",
   "metadata": {},
   "source": [
    "## Decision Tree"
   ]
  },
  {
   "cell_type": "code",
   "execution_count": null,
   "metadata": {},
   "outputs": [
    {
     "data": {
      "image/png": "[encoded data removed]",
      "text/plain": [
       "<Figure size 640x480 with 2 Axes>"
      ]
     },
     "metadata": {},
     "output_type": "display_data"
    }
   ],
   "source": [
    "#Confusion matrix for logistic regression balanced\n",
    "tree_cm_bal = confusion_matrix(y_true = y_val, y_pred = tree_search.predict(X_val), labels = tree_search.classes_)\n",
    "tree_disp_bal = ConfusionMatrixDisplay(confusion_matrix= tree_cm_bal, display_labels=tree_search.classes_)\n",
    "tree_disp_bal.plot()\n",
    "plt.show() "
   ]
  },
  {
   "cell_type": "code",
   "execution_count": null,
   "metadata": {},
   "outputs": [
    {
     "data": {
      "text/plain": [
       "(0.7686666666666667, 0.7978960790564233, 0.7884408022428294)"
      ]
     },
     "execution_count": 178,
     "metadata": {},
     "output_type": "execute_result"
    }
   ],
   "source": [
    "#Sensitivity, specificity, and accuracy for decision tree with balanced training\n",
    "#Much improved\n",
    "tree_sens_bal = sensitivity_score(y_val, tree_search.predict(X_val))\n",
    "tree_spec_bal = specificity_score(y_val, tree_search.predict(X_val))\n",
    "tree_acc_bal = accuracy_score(y_val, tree_search.predict(X_val))\n",
    "tree_sens_bal, tree_spec_bal, tree_acc_bal"
   ]
  },
  {
   "cell_type": "markdown",
   "metadata": {},
   "source": [
    "## KNN"
   ]
  },
  {
   "cell_type": "code",
   "execution_count": null,
   "metadata": {},
   "outputs": [
    {
     "data": {
      "image/png": "[encoded data removed]",
      "text/plain": [
       "<Figure size 640x480 with 2 Axes>"
      ]
     },
     "metadata": {},
     "output_type": "display_data"
    }
   ],
   "source": [
    "knn_cm_bal = confusion_matrix(y_true = y_val, y_pred = knn.predict(X_val), labels = knn.classes_)\n",
    "knn_disp_bal = ConfusionMatrixDisplay(confusion_matrix= knn_cm_bal, display_labels=knn.classes_)\n",
    "knn_disp_bal.plot()\n",
    "warnings.filterwarnings('ignore')\n",
    "plt.show()"
   ]
  },
  {
   "cell_type": "code",
   "execution_count": null,
   "metadata": {},
   "outputs": [
    {
     "data": {
      "text/plain": [
       "(0.7326666666666667, 0.8253108065030283, 0.7953418158291999)"
      ]
     },
     "execution_count": 173,
     "metadata": {},
     "output_type": "execute_result"
    }
   ],
   "source": [
    "#Sensitivity, specificity, and accuracy for KNN trained with balanced data\n",
    "#Much improved\n",
    "knn_sens_bal = sensitivity_score(y_val, knn.predict(X_val))\n",
    "knn_spec_bal = specificity_score(y_val, knn.predict(X_val))\n",
    "knn_acc_bal = accuracy_score(y_val, knn.predict(X_val))\n",
    "warnings.filterwarnings('ignore')\n",
    "knn_sens_bal, knn_spec_bal, knn_acc_bal"
   ]
  },
  {
   "cell_type": "markdown",
   "metadata": {},
   "source": [
    "## Neural network"
   ]
  },
  {
   "cell_type": "code",
   "execution_count": null,
   "metadata": {},
   "outputs": [
    {
     "data": {
      "image/png": "[encoded data removed]",
      "text/plain": [
       "<Figure size 640x480 with 2 Axes>"
      ]
     },
     "metadata": {},
     "output_type": "display_data"
    }
   ],
   "source": [
    "nn_cm_bal = confusion_matrix(y_true = y_val, y_pred = nn.predict(X_val), labels = nn.classes_)\n",
    "nn_disp_bal = ConfusionMatrixDisplay(confusion_matrix= nn_cm_bal, display_labels=nn.classes_)\n",
    "nn_disp_bal.plot()\n",
    "plt.show() "
   ]
  },
  {
   "cell_type": "code",
   "execution_count": null,
   "metadata": {},
   "outputs": [
    {
     "data": {
      "text/plain": [
       "(0.7886666666666666, 0.7810009563277016, 0.7834806987276256)"
      ]
     },
     "execution_count": 180,
     "metadata": {},
     "output_type": "execute_result"
    }
   ],
   "source": [
    "#Sensitivity, specificity, and accuracy for neural net\n",
    "nn_sens = sensitivity_score(y_val, nn.predict(X_val))\n",
    "nn_spec = specificity_score(y_val, nn.predict(X_val))\n",
    "nn_acc = accuracy_score(y_val, nn.predict(X_val))\n",
    "nn_sens, nn_spec, nn_acc"
   ]
  },
  {
   "cell_type": "markdown",
   "metadata": {},
   "source": [
    "# Top Two Models: Logistic Regression and Neural Network. Compare performance on test set. Calculate AIC scores."
   ]
  },
  {
   "cell_type": "code",
   "execution_count": null,
   "metadata": {},
   "outputs": [],
   "source": [
    "#Confusion matrix for logistic regression balanced\n",
    "log_cm_bal = confusion_matrix(y_true = y_test, y_pred = log_l2_bal.predict(X_test_log), labels = log_l2_bal.classes_)\n",
    "log_disp_bal = ConfusionMatrixDisplay(confusion_matrix= log_cm_bal, display_labels=log_l2_bal.classes_)\n",
    "log_disp_bal.plot()\n",
    "plt.show() "
   ]
  },
  {
   "cell_type": "code",
   "execution_count": null,
   "metadata": {},
   "outputs": [],
   "source": [
    "log_sens_bal = sensitivity_score(y_test, log_l2_bal.predict(X_test_log))\n",
    "log_spec_bal = specificity_score(y_test, log_l2_bal.predict(X_test_log))\n",
    "log_acc_bal = accuracy_score(y_test, log_l2_bal.predict(X_test_log))\n",
    "log_sens_bal, log_spec_bal, log_acc_bal"
   ]
  },
  {
   "cell_type": "code",
   "execution_count": null,
   "metadata": {},
   "outputs": [],
   "source": [
    "#AIC score"
   ]
  },
  {
   "cell_type": "code",
   "execution_count": null,
   "metadata": {},
   "outputs": [],
   "source": [
    "nn_cm_bal = confusion_matrix(y_true = y_test, y_pred = nn.predict(X_test), labels = nn.classes_)\n",
    "nn_disp_bal = ConfusionMatrixDisplay(confusion_matrix= nn_cm_bal, display_labels=nn.classes_)\n",
    "nn_disp_bal.plot()\n",
    "plt.show() "
   ]
  },
  {
   "cell_type": "code",
   "execution_count": null,
   "metadata": {},
   "outputs": [],
   "source": [
    "nn_sens_bal = sensitivity_score(y_test, nn.predict(X_test))\n",
    "nn_spec_bal = specificity_score(y_test, nn.predict(X_test))\n",
    "nn_acc_bal = accuracy_score(y_test, nn.predict(X_test))\n",
    "nn_sens_bal, nn_spec_bal, nn_acc_bal"
   ]
  },
  {
   "cell_type": "code",
   "execution_count": null,
   "metadata": {},
   "outputs": [],
   "source": [
    "#AIC score"
   ]
  },
  {
   "cell_type": "markdown",
   "metadata": {
    "id": "I1IifrG4NUs-"
   },
   "source": [
    "# References\n",
    " * https://saturncloud.io/blog/pandas-seaborn-countplot-from-several-columns/\n",
    " * https://medium.com/@anderson.riciamorim/how-to-keep-feature-names-in-sklearn-pipeline-e00295359e31\n",
    " * https://imbalanced-learn.org/stable/references/generated/imblearn.over_sampling.RandomOverSampler.html\n",
    " * https://machinelearningmastery.com/random-oversampling-and-undersampling-for-imbalanced-classification/"
   ]
  }
 ],
 "metadata": {
  "colab": {
   "provenance": []
  },
  "kernelspec": {
   "display_name": "Python 3 (ipykernel)",
   "language": "python",
   "name": "python3"
  },
  "language_info": {
   "codemirror_mode": {
    "name": "ipython",
    "version": 3
   },
   "file_extension": ".py",
   "mimetype": "text/x-python",
   "name": "python",
   "nbconvert_exporter": "python",
   "pygments_lexer": "ipython3",
   "version": "3.10.4"
  }
 },
 "nbformat": 4,
 "nbformat_minor": 1
}
