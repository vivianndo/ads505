{
 "cells": [
  {
   "cell_type": "markdown",
   "metadata": {
    "id": "Hjorj4ZKHr-_"
   },
   "source": [
    "## ADS505 Final Project\n",
    "## Dataset: Hotel Reservations\n",
    "## Vivian Do, Mirna Philip, Halee Staggs\n"
   ]
  },
  {
   "cell_type": "markdown",
   "metadata": {},
   "source": [
    "### Attribute Description"
   ]
  },
  {
   "cell_type": "markdown",
   "metadata": {
    "id": "UiONTbMGIFCm"
   },
   "source": [
    "| Column Name                           | Description                                                                                      |\n",
    "|---------------------------------------|--------------------------------------------------------------------------------------------------|\n",
    "| Booking_ID                            | Unique identifier of each booking                                                                |\n",
    "| no_of_adults                          | Number of adults                                                                                 |\n",
    "| no_of_children                        | Number of Children                                                                               |\n",
    "| no_of_weekend_nights                  | Number of weekend nights (Saturday or Sunday) the guest stayed or booked to stay at the hotel  |\n",
    "| no_of_week_nights                     | Number of week nights (Monday to Friday) the guest stayed or booked to stay at the hotel      |\n",
    "| type_of_meal_plan                     | Type of meal plan booked by the customer                                                         |\n",
    "| required_car_parking_space            | Does the customer require a car parking space? (0 - No, 1- Yes)                                   |\n",
    "| room_type_reserved                    | Type of room reserved by the customer                                                             |\n",
    "| lead_time                             | Number of days between the date of booking and the arrival date                                   |\n",
    "| arrival_year                          | Year of arrival date                                                                             |\n",
    "| arrival_month                         | Month of arrival date                                                                            |\n",
    "| arrival_date                          | Date of the month                                                                                |\n",
    "| market_segment_type                   | Market segment designation                                                                       |\n",
    "| repeated_guest                        | Is the customer a repeated guest? (0 - No, 1- Yes)                                               |\n",
    "| no_of_previous_cancellations          | Number of previous bookings that were canceled by the customer prior to the current booking     |\n",
    "| no_of_previous_bookings_not_canceled  | Number of previous bookings not canceled by the customer prior to the current booking           |\n",
    "| avg_price_per_room                    | Average price per day of the reservation; prices of the rooms are dynamic (in euros)            |\n",
    "| no_of_special_requests                | Total number of special requests made by the customer                                            |\n",
    "| booking_status                        | Flag indicating if the booking was canceled or not                                               |\n"
   ]
  },
  {
   "cell_type": "markdown",
   "metadata": {},
   "source": [
    "### Library and Data Import"
   ]
  },
  {
   "cell_type": "code",
   "execution_count": 1,
   "metadata": {
    "colab": {
     "base_uri": "https://localhost:8080/"
    },
    "id": "vZ47wxTFHgXT",
    "outputId": "2fe72586-053a-438e-8483-3757d36902ee"
   },
   "outputs": [
    {
     "name": "stdout",
     "output_type": "stream",
     "text": [
      "no display found. Using non-interactive Agg backend\n"
     ]
    }
   ],
   "source": [
    "#Importing all the necessary packages\n",
    "import pandas as pd\n",
    "import numpy as np\n",
    "import matplotlib as mpl\n",
    "import matplotlib.pyplot as plt\n",
    "import seaborn as sns\n",
    "import warnings\n",
    "import scipy.stats as stats\n",
    "from scipy.stats import zscore\n",
    "from scipy.stats import yeojohnson\n",
    "import statsmodels.api as sm\n",
    "from sklearn.preprocessing import OneHotEncoder, PowerTransformer\n",
    "from sklearn.feature_selection import VarianceThreshold\n",
    "from sklearn.compose import ColumnTransformer\n",
    "from sklearn.model_selection import train_test_split, cross_val_score, GridSearchCV\n",
    "from sklearn.metrics import confusion_matrix, accuracy_score, ConfusionMatrixDisplay,  roc_auc_score, roc_curve \n",
    "from sklearn.metrics import classification_report, mean_squared_error\n",
    "from sklearn.linear_model import LogisticRegressionCV\n",
    "from sklearn.tree import DecisionTreeRegressor\n",
    "from sklearn.preprocessing import StandardScaler\n",
    "from sklearn.pipeline import make_pipeline, Pipeline\n",
    "from dmba import classificationSummary, AIC_score, BIC_score, plotDecisionTree,gainsChart\n",
    "from scikitplot.metrics import plot_lift_curve\n",
    "from sklearn.neural_network import MLPClassifier\n",
    "from sklearn.tree import DecisionTreeClassifier\n",
    "from sklearn.neighbors import NearestNeighbors, KNeighborsClassifier \n",
    "from sklearn.ensemble import GradientBoostingClassifier, RandomForestClassifier\n",
    "from sklearn import set_config\n",
    "from imblearn.under_sampling import RandomUnderSampler\n",
    "#!pip install imblearn\n",
    "from imblearn.metrics import specificity_score, sensitivity_score\n"
   ]
  },
  {
   "cell_type": "code",
   "execution_count": 2,
   "metadata": {},
   "outputs": [],
   "source": [
    "#!pip install ipympl\n",
    "import ipympl"
   ]
  },
  {
   "cell_type": "code",
   "execution_count": 3,
   "metadata": {
    "colab": {
     "base_uri": "https://localhost:8080/",
     "height": 200
    },
    "id": "8BNDaOpNILrV",
    "outputId": "9f8e2688-702e-4c55-b60e-d3ee74fcacc5"
   },
   "outputs": [
    {
     "ename": "FileNotFoundError",
     "evalue": "[Errno 2] No such file or directory: 'Hotel Reservations.csv'",
     "output_type": "error",
     "traceback": [
      "\u001b[0;31m---------------------------------------------------------------------------\u001b[0m",
      "\u001b[0;31mFileNotFoundError\u001b[0m                         Traceback (most recent call last)",
      "\u001b[1;32m/Users/mirnaphilip/Desktop/EDA_and_Modeling.ipynb Cell 7\u001b[0m line \u001b[0;36m2\n\u001b[1;32m      <a href='vscode-notebook-cell:/Users/mirnaphilip/Desktop/EDA_and_Modeling.ipynb#W6sZmlsZQ%3D%3D?line=0'>1</a>\u001b[0m \u001b[39m#uploating the dataset\u001b[39;00m\n\u001b[0;32m----> <a href='vscode-notebook-cell:/Users/mirnaphilip/Desktop/EDA_and_Modeling.ipynb#W6sZmlsZQ%3D%3D?line=1'>2</a>\u001b[0m df \u001b[39m=\u001b[39m pd\u001b[39m.\u001b[39;49mread_csv(\u001b[39m'\u001b[39;49m\u001b[39mHotel Reservations.csv\u001b[39;49m\u001b[39m'\u001b[39;49m)\n\u001b[1;32m      <a href='vscode-notebook-cell:/Users/mirnaphilip/Desktop/EDA_and_Modeling.ipynb#W6sZmlsZQ%3D%3D?line=2'>3</a>\u001b[0m \u001b[39m# display of first three rows  in the dataframe\u001b[39;00m\n\u001b[1;32m      <a href='vscode-notebook-cell:/Users/mirnaphilip/Desktop/EDA_and_Modeling.ipynb#W6sZmlsZQ%3D%3D?line=3'>4</a>\u001b[0m df\u001b[39m.\u001b[39mhead()\n",
      "File \u001b[0;32m/opt/homebrew/lib/python3.11/site-packages/pandas/io/parsers/readers.py:948\u001b[0m, in \u001b[0;36mread_csv\u001b[0;34m(filepath_or_buffer, sep, delimiter, header, names, index_col, usecols, dtype, engine, converters, true_values, false_values, skipinitialspace, skiprows, skipfooter, nrows, na_values, keep_default_na, na_filter, verbose, skip_blank_lines, parse_dates, infer_datetime_format, keep_date_col, date_parser, date_format, dayfirst, cache_dates, iterator, chunksize, compression, thousands, decimal, lineterminator, quotechar, quoting, doublequote, escapechar, comment, encoding, encoding_errors, dialect, on_bad_lines, delim_whitespace, low_memory, memory_map, float_precision, storage_options, dtype_backend)\u001b[0m\n\u001b[1;32m    935\u001b[0m kwds_defaults \u001b[39m=\u001b[39m _refine_defaults_read(\n\u001b[1;32m    936\u001b[0m     dialect,\n\u001b[1;32m    937\u001b[0m     delimiter,\n\u001b[0;32m   (...)\u001b[0m\n\u001b[1;32m    944\u001b[0m     dtype_backend\u001b[39m=\u001b[39mdtype_backend,\n\u001b[1;32m    945\u001b[0m )\n\u001b[1;32m    946\u001b[0m kwds\u001b[39m.\u001b[39mupdate(kwds_defaults)\n\u001b[0;32m--> 948\u001b[0m \u001b[39mreturn\u001b[39;00m _read(filepath_or_buffer, kwds)\n",
      "File \u001b[0;32m/opt/homebrew/lib/python3.11/site-packages/pandas/io/parsers/readers.py:611\u001b[0m, in \u001b[0;36m_read\u001b[0;34m(filepath_or_buffer, kwds)\u001b[0m\n\u001b[1;32m    608\u001b[0m _validate_names(kwds\u001b[39m.\u001b[39mget(\u001b[39m\"\u001b[39m\u001b[39mnames\u001b[39m\u001b[39m\"\u001b[39m, \u001b[39mNone\u001b[39;00m))\n\u001b[1;32m    610\u001b[0m \u001b[39m# Create the parser.\u001b[39;00m\n\u001b[0;32m--> 611\u001b[0m parser \u001b[39m=\u001b[39m TextFileReader(filepath_or_buffer, \u001b[39m*\u001b[39;49m\u001b[39m*\u001b[39;49mkwds)\n\u001b[1;32m    613\u001b[0m \u001b[39mif\u001b[39;00m chunksize \u001b[39mor\u001b[39;00m iterator:\n\u001b[1;32m    614\u001b[0m     \u001b[39mreturn\u001b[39;00m parser\n",
      "File \u001b[0;32m/opt/homebrew/lib/python3.11/site-packages/pandas/io/parsers/readers.py:1448\u001b[0m, in \u001b[0;36mTextFileReader.__init__\u001b[0;34m(self, f, engine, **kwds)\u001b[0m\n\u001b[1;32m   1445\u001b[0m     \u001b[39mself\u001b[39m\u001b[39m.\u001b[39moptions[\u001b[39m\"\u001b[39m\u001b[39mhas_index_names\u001b[39m\u001b[39m\"\u001b[39m] \u001b[39m=\u001b[39m kwds[\u001b[39m\"\u001b[39m\u001b[39mhas_index_names\u001b[39m\u001b[39m\"\u001b[39m]\n\u001b[1;32m   1447\u001b[0m \u001b[39mself\u001b[39m\u001b[39m.\u001b[39mhandles: IOHandles \u001b[39m|\u001b[39m \u001b[39mNone\u001b[39;00m \u001b[39m=\u001b[39m \u001b[39mNone\u001b[39;00m\n\u001b[0;32m-> 1448\u001b[0m \u001b[39mself\u001b[39m\u001b[39m.\u001b[39m_engine \u001b[39m=\u001b[39m \u001b[39mself\u001b[39;49m\u001b[39m.\u001b[39;49m_make_engine(f, \u001b[39mself\u001b[39;49m\u001b[39m.\u001b[39;49mengine)\n",
      "File \u001b[0;32m/opt/homebrew/lib/python3.11/site-packages/pandas/io/parsers/readers.py:1705\u001b[0m, in \u001b[0;36mTextFileReader._make_engine\u001b[0;34m(self, f, engine)\u001b[0m\n\u001b[1;32m   1703\u001b[0m     \u001b[39mif\u001b[39;00m \u001b[39m\"\u001b[39m\u001b[39mb\u001b[39m\u001b[39m\"\u001b[39m \u001b[39mnot\u001b[39;00m \u001b[39min\u001b[39;00m mode:\n\u001b[1;32m   1704\u001b[0m         mode \u001b[39m+\u001b[39m\u001b[39m=\u001b[39m \u001b[39m\"\u001b[39m\u001b[39mb\u001b[39m\u001b[39m\"\u001b[39m\n\u001b[0;32m-> 1705\u001b[0m \u001b[39mself\u001b[39m\u001b[39m.\u001b[39mhandles \u001b[39m=\u001b[39m get_handle(\n\u001b[1;32m   1706\u001b[0m     f,\n\u001b[1;32m   1707\u001b[0m     mode,\n\u001b[1;32m   1708\u001b[0m     encoding\u001b[39m=\u001b[39;49m\u001b[39mself\u001b[39;49m\u001b[39m.\u001b[39;49moptions\u001b[39m.\u001b[39;49mget(\u001b[39m\"\u001b[39;49m\u001b[39mencoding\u001b[39;49m\u001b[39m\"\u001b[39;49m, \u001b[39mNone\u001b[39;49;00m),\n\u001b[1;32m   1709\u001b[0m     compression\u001b[39m=\u001b[39;49m\u001b[39mself\u001b[39;49m\u001b[39m.\u001b[39;49moptions\u001b[39m.\u001b[39;49mget(\u001b[39m\"\u001b[39;49m\u001b[39mcompression\u001b[39;49m\u001b[39m\"\u001b[39;49m, \u001b[39mNone\u001b[39;49;00m),\n\u001b[1;32m   1710\u001b[0m     memory_map\u001b[39m=\u001b[39;49m\u001b[39mself\u001b[39;49m\u001b[39m.\u001b[39;49moptions\u001b[39m.\u001b[39;49mget(\u001b[39m\"\u001b[39;49m\u001b[39mmemory_map\u001b[39;49m\u001b[39m\"\u001b[39;49m, \u001b[39mFalse\u001b[39;49;00m),\n\u001b[1;32m   1711\u001b[0m     is_text\u001b[39m=\u001b[39;49mis_text,\n\u001b[1;32m   1712\u001b[0m     errors\u001b[39m=\u001b[39;49m\u001b[39mself\u001b[39;49m\u001b[39m.\u001b[39;49moptions\u001b[39m.\u001b[39;49mget(\u001b[39m\"\u001b[39;49m\u001b[39mencoding_errors\u001b[39;49m\u001b[39m\"\u001b[39;49m, \u001b[39m\"\u001b[39;49m\u001b[39mstrict\u001b[39;49m\u001b[39m\"\u001b[39;49m),\n\u001b[1;32m   1713\u001b[0m     storage_options\u001b[39m=\u001b[39;49m\u001b[39mself\u001b[39;49m\u001b[39m.\u001b[39;49moptions\u001b[39m.\u001b[39;49mget(\u001b[39m\"\u001b[39;49m\u001b[39mstorage_options\u001b[39;49m\u001b[39m\"\u001b[39;49m, \u001b[39mNone\u001b[39;49;00m),\n\u001b[1;32m   1714\u001b[0m )\n\u001b[1;32m   1715\u001b[0m \u001b[39massert\u001b[39;00m \u001b[39mself\u001b[39m\u001b[39m.\u001b[39mhandles \u001b[39mis\u001b[39;00m \u001b[39mnot\u001b[39;00m \u001b[39mNone\u001b[39;00m\n\u001b[1;32m   1716\u001b[0m f \u001b[39m=\u001b[39m \u001b[39mself\u001b[39m\u001b[39m.\u001b[39mhandles\u001b[39m.\u001b[39mhandle\n",
      "File \u001b[0;32m/opt/homebrew/lib/python3.11/site-packages/pandas/io/common.py:863\u001b[0m, in \u001b[0;36mget_handle\u001b[0;34m(path_or_buf, mode, encoding, compression, memory_map, is_text, errors, storage_options)\u001b[0m\n\u001b[1;32m    858\u001b[0m \u001b[39melif\u001b[39;00m \u001b[39misinstance\u001b[39m(handle, \u001b[39mstr\u001b[39m):\n\u001b[1;32m    859\u001b[0m     \u001b[39m# Check whether the filename is to be opened in binary mode.\u001b[39;00m\n\u001b[1;32m    860\u001b[0m     \u001b[39m# Binary mode does not support 'encoding' and 'newline'.\u001b[39;00m\n\u001b[1;32m    861\u001b[0m     \u001b[39mif\u001b[39;00m ioargs\u001b[39m.\u001b[39mencoding \u001b[39mand\u001b[39;00m \u001b[39m\"\u001b[39m\u001b[39mb\u001b[39m\u001b[39m\"\u001b[39m \u001b[39mnot\u001b[39;00m \u001b[39min\u001b[39;00m ioargs\u001b[39m.\u001b[39mmode:\n\u001b[1;32m    862\u001b[0m         \u001b[39m# Encoding\u001b[39;00m\n\u001b[0;32m--> 863\u001b[0m         handle \u001b[39m=\u001b[39m \u001b[39mopen\u001b[39;49m(\n\u001b[1;32m    864\u001b[0m             handle,\n\u001b[1;32m    865\u001b[0m             ioargs\u001b[39m.\u001b[39;49mmode,\n\u001b[1;32m    866\u001b[0m             encoding\u001b[39m=\u001b[39;49mioargs\u001b[39m.\u001b[39;49mencoding,\n\u001b[1;32m    867\u001b[0m             errors\u001b[39m=\u001b[39;49merrors,\n\u001b[1;32m    868\u001b[0m             newline\u001b[39m=\u001b[39;49m\u001b[39m\"\u001b[39;49m\u001b[39m\"\u001b[39;49m,\n\u001b[1;32m    869\u001b[0m         )\n\u001b[1;32m    870\u001b[0m     \u001b[39melse\u001b[39;00m:\n\u001b[1;32m    871\u001b[0m         \u001b[39m# Binary mode\u001b[39;00m\n\u001b[1;32m    872\u001b[0m         handle \u001b[39m=\u001b[39m \u001b[39mopen\u001b[39m(handle, ioargs\u001b[39m.\u001b[39mmode)\n",
      "\u001b[0;31mFileNotFoundError\u001b[0m: [Errno 2] No such file or directory: 'Hotel Reservations.csv'"
     ]
    }
   ],
   "source": [
    "#uploating the dataset\n",
    "df = pd.read_csv('Hotel Reservations.csv')\n",
    "# display of first three rows  in the dataframe\n",
    "df.head()"
   ]
  },
  {
   "cell_type": "markdown",
   "metadata": {
    "id": "levEvZfJIlvy"
   },
   "source": [
    "### Understanding the dataset"
   ]
  },
  {
   "cell_type": "code",
   "execution_count": null,
   "metadata": {
    "colab": {
     "base_uri": "https://localhost:8080/"
    },
    "id": "oP7Zd7Ls46bb",
    "outputId": "e48ffeb9-eac3-451f-b3e6-e5b1f624bc08"
   },
   "outputs": [
    {
     "data": {
      "text/plain": [
       "Index(['Booking_ID', 'no_of_adults', 'no_of_children', 'no_of_weekend_nights',\n",
       "       'no_of_week_nights', 'type_of_meal_plan', 'required_car_parking_space',\n",
       "       'room_type_reserved', 'lead_time', 'arrival_year', 'arrival_month',\n",
       "       'arrival_date', 'market_segment_type', 'repeated_guest',\n",
       "       'no_of_previous_cancellations', 'no_of_previous_bookings_not_canceled',\n",
       "       'avg_price_per_room', 'no_of_special_requests', 'booking_status'],\n",
       "      dtype='object')"
      ]
     },
     "execution_count": 4,
     "metadata": {},
     "output_type": "execute_result"
    }
   ],
   "source": [
    "# Using .columns to show the column names of the DataFrame\n",
    "df.columns"
   ]
  },
  {
   "cell_type": "code",
   "execution_count": null,
   "metadata": {
    "colab": {
     "base_uri": "https://localhost:8080/"
    },
    "id": "QrgHJ39y49V5",
    "outputId": "08f59760-d8ce-4040-d56d-94adaf187cdf"
   },
   "outputs": [
    {
     "data": {
      "text/plain": [
       "(36275, 19)"
      ]
     },
     "execution_count": 5,
     "metadata": {},
     "output_type": "execute_result"
    }
   ],
   "source": [
    "# Dimensions: 36275 observations and 19 variables\n",
    "df.shape"
   ]
  },
  {
   "cell_type": "code",
   "execution_count": null,
   "metadata": {
    "colab": {
     "base_uri": "https://localhost:8080/"
    },
    "id": "fULia4Li23rv",
    "outputId": "0b8c28e3-f2b3-4454-daa9-fec0721c86ef"
   },
   "outputs": [
    {
     "name": "stdout",
     "output_type": "stream",
     "text": [
      "<class 'pandas.core.frame.DataFrame'>\n",
      "RangeIndex: 36275 entries, 0 to 36274\n",
      "Data columns (total 19 columns):\n",
      " #   Column                                Non-Null Count  Dtype  \n",
      "---  ------                                --------------  -----  \n",
      " 0   Booking_ID                            36275 non-null  object \n",
      " 1   no_of_adults                          36275 non-null  int64  \n",
      " 2   no_of_children                        36275 non-null  int64  \n",
      " 3   no_of_weekend_nights                  36275 non-null  int64  \n",
      " 4   no_of_week_nights                     36275 non-null  int64  \n",
      " 5   type_of_meal_plan                     36275 non-null  object \n",
      " 6   required_car_parking_space            36275 non-null  int64  \n",
      " 7   room_type_reserved                    36275 non-null  object \n",
      " 8   lead_time                             36275 non-null  int64  \n",
      " 9   arrival_year                          36275 non-null  int64  \n",
      " 10  arrival_month                         36275 non-null  int64  \n",
      " 11  arrival_date                          36275 non-null  int64  \n",
      " 12  market_segment_type                   36275 non-null  object \n",
      " 13  repeated_guest                        36275 non-null  int64  \n",
      " 14  no_of_previous_cancellations          36275 non-null  int64  \n",
      " 15  no_of_previous_bookings_not_canceled  36275 non-null  int64  \n",
      " 16  avg_price_per_room                    36275 non-null  float64\n",
      " 17  no_of_special_requests                36275 non-null  int64  \n",
      " 18  booking_status                        36275 non-null  object \n",
      "dtypes: float64(1), int64(13), object(5)\n",
      "memory usage: 5.3+ MB\n"
     ]
    }
   ],
   "source": [
    "#Check data types and missing values\n",
    "df.info()"
   ]
  },
  {
   "cell_type": "code",
   "execution_count": null,
   "metadata": {},
   "outputs": [
    {
     "data": {
      "text/plain": [
       "0"
      ]
     },
     "execution_count": 7,
     "metadata": {},
     "output_type": "execute_result"
    }
   ],
   "source": [
    "#The sum count of the duplicated values\n",
    "df.duplicated().sum()"
   ]
  },
  {
   "cell_type": "code",
   "execution_count": null,
   "metadata": {
    "colab": {
     "base_uri": "https://localhost:8080/",
     "height": 400
    },
    "id": "DtxmG8a5I1Pa",
    "outputId": "32f9359d-7100-47ac-a732-b9f6153b966e"
   },
   "outputs": [
    {
     "data": {
      "text/html": [
       "<div>\n",
       "<style scoped>\n",
       "    .dataframe tbody tr th:only-of-type {\n",
       "        vertical-align: middle;\n",
       "    }\n",
       "\n",
       "    .dataframe tbody tr th {\n",
       "        vertical-align: top;\n",
       "    }\n",
       "\n",
       "    .dataframe thead th {\n",
       "        text-align: right;\n",
       "    }\n",
       "</style>\n",
       "<table border=\"1\" class=\"dataframe\">\n",
       "  <thead>\n",
       "    <tr style=\"text-align: right;\">\n",
       "      <th></th>\n",
       "      <th>no_of_adults</th>\n",
       "      <th>no_of_children</th>\n",
       "      <th>no_of_weekend_nights</th>\n",
       "      <th>no_of_week_nights</th>\n",
       "      <th>required_car_parking_space</th>\n",
       "      <th>lead_time</th>\n",
       "      <th>arrival_year</th>\n",
       "      <th>arrival_month</th>\n",
       "      <th>arrival_date</th>\n",
       "      <th>repeated_guest</th>\n",
       "      <th>no_of_previous_cancellations</th>\n",
       "      <th>no_of_previous_bookings_not_canceled</th>\n",
       "      <th>avg_price_per_room</th>\n",
       "      <th>no_of_special_requests</th>\n",
       "    </tr>\n",
       "  </thead>\n",
       "  <tbody>\n",
       "    <tr>\n",
       "      <th>count</th>\n",
       "      <td>36275.000000</td>\n",
       "      <td>36275.000000</td>\n",
       "      <td>36275.000000</td>\n",
       "      <td>36275.000000</td>\n",
       "      <td>36275.000000</td>\n",
       "      <td>36275.000000</td>\n",
       "      <td>36275.000000</td>\n",
       "      <td>36275.000000</td>\n",
       "      <td>36275.000000</td>\n",
       "      <td>36275.000000</td>\n",
       "      <td>36275.000000</td>\n",
       "      <td>36275.000000</td>\n",
       "      <td>36275.000000</td>\n",
       "      <td>36275.000000</td>\n",
       "    </tr>\n",
       "    <tr>\n",
       "      <th>mean</th>\n",
       "      <td>1.844962</td>\n",
       "      <td>0.105279</td>\n",
       "      <td>0.810724</td>\n",
       "      <td>2.204300</td>\n",
       "      <td>0.030986</td>\n",
       "      <td>85.232557</td>\n",
       "      <td>2017.820427</td>\n",
       "      <td>7.423653</td>\n",
       "      <td>15.596995</td>\n",
       "      <td>0.025637</td>\n",
       "      <td>0.023349</td>\n",
       "      <td>0.153411</td>\n",
       "      <td>103.423539</td>\n",
       "      <td>0.619655</td>\n",
       "    </tr>\n",
       "    <tr>\n",
       "      <th>std</th>\n",
       "      <td>0.518715</td>\n",
       "      <td>0.402648</td>\n",
       "      <td>0.870644</td>\n",
       "      <td>1.410905</td>\n",
       "      <td>0.173281</td>\n",
       "      <td>85.930817</td>\n",
       "      <td>0.383836</td>\n",
       "      <td>3.069894</td>\n",
       "      <td>8.740447</td>\n",
       "      <td>0.158053</td>\n",
       "      <td>0.368331</td>\n",
       "      <td>1.754171</td>\n",
       "      <td>35.089424</td>\n",
       "      <td>0.786236</td>\n",
       "    </tr>\n",
       "    <tr>\n",
       "      <th>min</th>\n",
       "      <td>0.000000</td>\n",
       "      <td>0.000000</td>\n",
       "      <td>0.000000</td>\n",
       "      <td>0.000000</td>\n",
       "      <td>0.000000</td>\n",
       "      <td>0.000000</td>\n",
       "      <td>2017.000000</td>\n",
       "      <td>1.000000</td>\n",
       "      <td>1.000000</td>\n",
       "      <td>0.000000</td>\n",
       "      <td>0.000000</td>\n",
       "      <td>0.000000</td>\n",
       "      <td>0.000000</td>\n",
       "      <td>0.000000</td>\n",
       "    </tr>\n",
       "    <tr>\n",
       "      <th>25%</th>\n",
       "      <td>2.000000</td>\n",
       "      <td>0.000000</td>\n",
       "      <td>0.000000</td>\n",
       "      <td>1.000000</td>\n",
       "      <td>0.000000</td>\n",
       "      <td>17.000000</td>\n",
       "      <td>2018.000000</td>\n",
       "      <td>5.000000</td>\n",
       "      <td>8.000000</td>\n",
       "      <td>0.000000</td>\n",
       "      <td>0.000000</td>\n",
       "      <td>0.000000</td>\n",
       "      <td>80.300000</td>\n",
       "      <td>0.000000</td>\n",
       "    </tr>\n",
       "    <tr>\n",
       "      <th>50%</th>\n",
       "      <td>2.000000</td>\n",
       "      <td>0.000000</td>\n",
       "      <td>1.000000</td>\n",
       "      <td>2.000000</td>\n",
       "      <td>0.000000</td>\n",
       "      <td>57.000000</td>\n",
       "      <td>2018.000000</td>\n",
       "      <td>8.000000</td>\n",
       "      <td>16.000000</td>\n",
       "      <td>0.000000</td>\n",
       "      <td>0.000000</td>\n",
       "      <td>0.000000</td>\n",
       "      <td>99.450000</td>\n",
       "      <td>0.000000</td>\n",
       "    </tr>\n",
       "    <tr>\n",
       "      <th>75%</th>\n",
       "      <td>2.000000</td>\n",
       "      <td>0.000000</td>\n",
       "      <td>2.000000</td>\n",
       "      <td>3.000000</td>\n",
       "      <td>0.000000</td>\n",
       "      <td>126.000000</td>\n",
       "      <td>2018.000000</td>\n",
       "      <td>10.000000</td>\n",
       "      <td>23.000000</td>\n",
       "      <td>0.000000</td>\n",
       "      <td>0.000000</td>\n",
       "      <td>0.000000</td>\n",
       "      <td>120.000000</td>\n",
       "      <td>1.000000</td>\n",
       "    </tr>\n",
       "    <tr>\n",
       "      <th>max</th>\n",
       "      <td>4.000000</td>\n",
       "      <td>10.000000</td>\n",
       "      <td>7.000000</td>\n",
       "      <td>17.000000</td>\n",
       "      <td>1.000000</td>\n",
       "      <td>443.000000</td>\n",
       "      <td>2018.000000</td>\n",
       "      <td>12.000000</td>\n",
       "      <td>31.000000</td>\n",
       "      <td>1.000000</td>\n",
       "      <td>13.000000</td>\n",
       "      <td>58.000000</td>\n",
       "      <td>540.000000</td>\n",
       "      <td>5.000000</td>\n",
       "    </tr>\n",
       "  </tbody>\n",
       "</table>\n",
       "</div>"
      ],
      "text/plain": [
       "       no_of_adults  no_of_children  no_of_weekend_nights  no_of_week_nights  \\\n",
       "count  36275.000000    36275.000000          36275.000000       36275.000000   \n",
       "mean       1.844962        0.105279              0.810724           2.204300   \n",
       "std        0.518715        0.402648              0.870644           1.410905   \n",
       "min        0.000000        0.000000              0.000000           0.000000   \n",
       "25%        2.000000        0.000000              0.000000           1.000000   \n",
       "50%        2.000000        0.000000              1.000000           2.000000   \n",
       "75%        2.000000        0.000000              2.000000           3.000000   \n",
       "max        4.000000       10.000000              7.000000          17.000000   \n",
       "\n",
       "       required_car_parking_space     lead_time  arrival_year  arrival_month  \\\n",
       "count                36275.000000  36275.000000  36275.000000   36275.000000   \n",
       "mean                     0.030986     85.232557   2017.820427       7.423653   \n",
       "std                      0.173281     85.930817      0.383836       3.069894   \n",
       "min                      0.000000      0.000000   2017.000000       1.000000   \n",
       "25%                      0.000000     17.000000   2018.000000       5.000000   \n",
       "50%                      0.000000     57.000000   2018.000000       8.000000   \n",
       "75%                      0.000000    126.000000   2018.000000      10.000000   \n",
       "max                      1.000000    443.000000   2018.000000      12.000000   \n",
       "\n",
       "       arrival_date  repeated_guest  no_of_previous_cancellations  \\\n",
       "count  36275.000000    36275.000000                  36275.000000   \n",
       "mean      15.596995        0.025637                      0.023349   \n",
       "std        8.740447        0.158053                      0.368331   \n",
       "min        1.000000        0.000000                      0.000000   \n",
       "25%        8.000000        0.000000                      0.000000   \n",
       "50%       16.000000        0.000000                      0.000000   \n",
       "75%       23.000000        0.000000                      0.000000   \n",
       "max       31.000000        1.000000                     13.000000   \n",
       "\n",
       "       no_of_previous_bookings_not_canceled  avg_price_per_room  \\\n",
       "count                          36275.000000        36275.000000   \n",
       "mean                               0.153411          103.423539   \n",
       "std                                1.754171           35.089424   \n",
       "min                                0.000000            0.000000   \n",
       "25%                                0.000000           80.300000   \n",
       "50%                                0.000000           99.450000   \n",
       "75%                                0.000000          120.000000   \n",
       "max                               58.000000          540.000000   \n",
       "\n",
       "       no_of_special_requests  \n",
       "count            36275.000000  \n",
       "mean                 0.619655  \n",
       "std                  0.786236  \n",
       "min                  0.000000  \n",
       "25%                  0.000000  \n",
       "50%                  0.000000  \n",
       "75%                  1.000000  \n",
       "max                  5.000000  "
      ]
     },
     "execution_count": 8,
     "metadata": {},
     "output_type": "execute_result"
    }
   ],
   "source": [
    "#df.describe() provides statistics such as the mean, minimum, standard deviation, and more.\n",
    "df.describe()"
   ]
  },
  {
   "cell_type": "markdown",
   "metadata": {},
   "source": [
    "Numerical Data Insights"
   ]
  },
  {
   "cell_type": "code",
   "execution_count": null,
   "metadata": {
    "colab": {
     "base_uri": "https://localhost:8080/"
    },
    "id": "UwZTemFX29CM",
    "outputId": "f4fc35bb-4817-4975-88f4-a248e96839ae"
   },
   "outputs": [
    {
     "data": {
      "text/plain": [
       "Not_Canceled    95\n",
       "Canceled        44\n",
       "Name: booking_status, dtype: int64"
      ]
     },
     "execution_count": 9,
     "metadata": {},
     "output_type": "execute_result"
    }
   ],
   "source": [
    "# Data related to reservations with zero adults\n",
    "adult_zero = pd.DataFrame(df[df['no_of_adults'] == 0])\n",
    "adult_zero['booking_status'].value_counts()"
   ]
  },
  {
   "cell_type": "code",
   "execution_count": null,
   "metadata": {
    "colab": {
     "base_uri": "https://localhost:8080/"
    },
    "id": "_2kk-Gaw3F_G",
    "outputId": "06f275ba-b3d0-444f-b4d2-40f8efd592f1"
   },
   "outputs": [
    {
     "data": {
      "text/plain": [
       "Series([], Name: booking_status, dtype: int64)"
      ]
     },
     "execution_count": 10,
     "metadata": {},
     "output_type": "execute_result"
    }
   ],
   "source": [
    "#Check for rows that report no adults or children\n",
    "both = pd.DataFrame(df[(df['no_of_adults'] == 0) & (df['no_of_children'] == 0)])\n",
    "both['booking_status'].value_counts()  # None"
   ]
  },
  {
   "cell_type": "code",
   "execution_count": null,
   "metadata": {
    "colab": {
     "base_uri": "https://localhost:8080/"
    },
    "id": "AFGgUzZH3mvA",
    "outputId": "7eab810e-9bd8-471a-950f-68241b5526b8"
   },
   "outputs": [
    {
     "data": {
      "text/plain": [
       "Not_Canceled    76\n",
       "Canceled         2\n",
       "Name: booking_status, dtype: int64"
      ]
     },
     "execution_count": 11,
     "metadata": {},
     "output_type": "execute_result"
    }
   ],
   "source": [
    "#Check if any reservations report being not a week or weekend day\n",
    "#Small amount of sample has no data for weekdays or weeknights\n",
    "#Can maybe impute with median\n",
    "no_day_type = pd.DataFrame(df[(df['no_of_weekend_nights'] == 0) & (df['no_of_week_nights'] == 0)])\n",
    "no_day_type['booking_status'].value_counts()  # Drop these later"
   ]
  },
  {
   "cell_type": "markdown",
   "metadata": {},
   "source": [
    "Categorical Data Insights"
   ]
  },
  {
   "cell_type": "code",
   "execution_count": null,
   "metadata": {
    "colab": {
     "base_uri": "https://localhost:8080/"
    },
    "id": "wYBqt6n-6a90",
    "outputId": "d1ffc8bc-6ad3-4e2b-f25a-fa0c63e4ea36"
   },
   "outputs": [
    {
     "name": "stdout",
     "output_type": "stream",
     "text": [
      "Not_Canceled    24390\n",
      "Canceled        11885\n",
      "Name: booking_status, dtype: int64\n",
      "\n",
      " Not_Canceled    0.672364\n",
      "Canceled        0.327636\n",
      "Name: booking_status, dtype: float64\n"
     ]
    }
   ],
   "source": [
    "# Distribution of outcome variable -- Class imbalance, needs to be addressed in training set\n",
    "print(df['booking_status'].value_counts())\n",
    "print('\\n',df['booking_status'].value_counts()/len(df))"
   ]
  },
  {
   "cell_type": "markdown",
   "metadata": {},
   "source": [
    "Arrival Year"
   ]
  },
  {
   "cell_type": "code",
   "execution_count": null,
   "metadata": {
    "colab": {
     "base_uri": "https://localhost:8080/"
    },
    "id": "0FKeir9i5DAr",
    "outputId": "100c970a-1315-4d9d-e817-2332f1e6657d"
   },
   "outputs": [
    {
     "data": {
      "text/plain": [
       "2018    29761\n",
       "2017     6514\n",
       "Name: arrival_year, dtype: int64"
      ]
     },
     "execution_count": 13,
     "metadata": {},
     "output_type": "execute_result"
    }
   ],
   "source": [
    "# Data spans two years (2017-2018)\n",
    "df['arrival_year'].value_counts()"
   ]
  },
  {
   "cell_type": "code",
   "execution_count": null,
   "metadata": {},
   "outputs": [
    {
     "data": {
      "text/plain": [
       "Text(0.5, 1.0, 'Arrival Year by Booking Status')"
      ]
     },
     "execution_count": 3,
     "metadata": {},
     "output_type": "execute_result"
    },
    {
     "data": {
      "image/png": "[encoded data removed]",
      "text/plain": [
       "<Figure size 640x480 with 1 Axes>"
      ]
     },
     "metadata": {},
     "output_type": "display_data"
    }
   ],
   "source": [
    "# Create a stacked bar chart to visualize the relationship between arrival year and booking status.\n",
    "pd.crosstab(df['arrival_year'], df['booking_status']).plot(kind='bar', stacked=True)\n",
    "plt.ylabel('Frequency')\n",
    "plt.title('Arrival Year by Booking Status')"
   ]
  },
  {
   "cell_type": "code",
   "execution_count": null,
   "metadata": {},
   "outputs": [
    {
     "data": {
      "image/png": "[encoded data removed]",
      "text/plain": [
       "<Figure size 640x480 with 1 Axes>"
      ]
     },
     "metadata": {},
     "output_type": "display_data"
    }
   ],
   "source": [
    "# Create normalized bar charts to illustrate the proportion of booking statuses across different arrival years.\n",
    "cross_tab = pd.crosstab(index=df['arrival_year'], columns=df['booking_status'])\n",
    "cross_tab = round(cross_tab.div(cross_tab.sum(0), axis=1)*100,1)\n",
    "norm_cross_tab=cross_tab.div(cross_tab.sum(axis=1), axis=0)\n",
    "norm_cross_tab.plot(kind='bar', stacked=True)\n",
    "plt.title(f\"Normalized Arrival Year by Booking Status\")\n",
    "plt.xticks(rotation=45)\n",
    "plt.ylabel('Proportion')\n",
    "plt.show()"
   ]
  },
  {
   "cell_type": "code",
   "execution_count": null,
   "metadata": {},
   "outputs": [
    {
     "data": {
      "text/html": [
       "<div>\n",
       "<style scoped>\n",
       "    .dataframe tbody tr th:only-of-type {\n",
       "        vertical-align: middle;\n",
       "    }\n",
       "\n",
       "    .dataframe tbody tr th {\n",
       "        vertical-align: top;\n",
       "    }\n",
       "\n",
       "    .dataframe thead th {\n",
       "        text-align: right;\n",
       "    }\n",
       "</style>\n",
       "<table border=\"1\" class=\"dataframe\">\n",
       "  <thead>\n",
       "    <tr style=\"text-align: right;\">\n",
       "      <th>booking_status</th>\n",
       "      <th>Canceled</th>\n",
       "      <th>Not_Canceled</th>\n",
       "      <th>All</th>\n",
       "    </tr>\n",
       "    <tr>\n",
       "      <th>arrival_year</th>\n",
       "      <th></th>\n",
       "      <th></th>\n",
       "      <th></th>\n",
       "    </tr>\n",
       "  </thead>\n",
       "  <tbody>\n",
       "    <tr>\n",
       "      <th>2017</th>\n",
       "      <td>0.026492</td>\n",
       "      <td>0.153081</td>\n",
       "      <td>0.179573</td>\n",
       "    </tr>\n",
       "    <tr>\n",
       "      <th>2018</th>\n",
       "      <td>0.301144</td>\n",
       "      <td>0.519283</td>\n",
       "      <td>0.820427</td>\n",
       "    </tr>\n",
       "    <tr>\n",
       "      <th>All</th>\n",
       "      <td>0.327636</td>\n",
       "      <td>0.672364</td>\n",
       "      <td>1.000000</td>\n",
       "    </tr>\n",
       "  </tbody>\n",
       "</table>\n",
       "</div>"
      ],
      "text/plain": [
       "booking_status  Canceled  Not_Canceled       All\n",
       "arrival_year                                    \n",
       "2017            0.026492      0.153081  0.179573\n",
       "2018            0.301144      0.519283  0.820427\n",
       "All             0.327636      0.672364  1.000000"
      ]
     },
     "execution_count": 81,
     "metadata": {},
     "output_type": "execute_result"
    }
   ],
   "source": [
    "# Create a cross-tabulation table for arrival year and booking status, including margins and normalization.\n",
    "pd.crosstab(df['arrival_year'], df['booking_status'], margins = True, normalize = True)"
   ]
  },
  {
   "cell_type": "code",
   "execution_count": null,
   "metadata": {},
   "outputs": [
    {
     "data": {
      "text/plain": [
       "Not_Canceled    0.852472\n",
       "Canceled        0.147528\n",
       "Name: booking_status, dtype: float64"
      ]
     },
     "execution_count": 83,
     "metadata": {},
     "output_type": "execute_result"
    }
   ],
   "source": [
    "# Calculating the proportion of booking statuses in the year 2017.\n",
    "year17 = df[df['arrival_year'] == 2017]\n",
    "year17['booking_status'].value_counts()/len(year17)"
   ]
  },
  {
   "cell_type": "code",
   "execution_count": null,
   "metadata": {},
   "outputs": [
    {
     "data": {
      "text/plain": [
       "Not_Canceled    0.632942\n",
       "Canceled        0.367058\n",
       "Name: booking_status, dtype: float64"
      ]
     },
     "execution_count": 84,
     "metadata": {},
     "output_type": "execute_result"
    }
   ],
   "source": [
    "# Calculating the proportion of booking statuses in the year 2018.\n",
    "year18 = df[df['arrival_year'] == 2018]\n",
    "year18['booking_status'].value_counts()/len(year18)"
   ]
  },
  {
   "cell_type": "code",
   "execution_count": null,
   "metadata": {},
   "outputs": [
    {
     "data": {
      "text/plain": [
       "0.219"
      ]
     },
     "execution_count": 85,
     "metadata": {},
     "output_type": "execute_result"
    }
   ],
   "source": [
    "# Calculate the difference in cancellation rates between two years.\n",
    "year_cancel_diff = 0.367-0.148\n",
    "year_cancel_diff"
   ]
  },
  {
   "cell_type": "markdown",
   "metadata": {},
   "source": [
    "Car Parking Space"
   ]
  },
  {
   "cell_type": "code",
   "execution_count": null,
   "metadata": {
    "colab": {
     "base_uri": "https://localhost:8080/"
    },
    "id": "c5W6k5Mj35hC",
    "outputId": "770ba149-8742-450d-868a-51984cd20aa9"
   },
   "outputs": [
    {
     "data": {
      "text/plain": [
       "0    35151\n",
       "1     1124\n",
       "Name: required_car_parking_space, dtype: int64"
      ]
     },
     "execution_count": 16,
     "metadata": {},
     "output_type": "execute_result"
    }
   ],
   "source": [
    "# Count the occurrences of 'required_car_parking_space' values.\n",
    "df['required_car_parking_space'].value_counts()"
   ]
  },
  {
   "cell_type": "code",
   "execution_count": null,
   "metadata": {},
   "outputs": [
    {
     "data": {
      "text/plain": [
       "Text(0.5, 1.0, 'Parking Space by Booking Status')"
      ]
     },
     "execution_count": 17,
     "metadata": {},
     "output_type": "execute_result"
    }
   ],
   "source": [
    "## Create a stacked bar chart to visualize the relationship between parking space and booking status.\n",
    "pd.crosstab(df['required_car_parking_space'], df['booking_status']).plot(kind='bar', stacked=True)\n",
    "plt.ylabel('Frequency')\n",
    "plt.title('Parking Space by Booking Status')"
   ]
  },
  {
   "cell_type": "code",
   "execution_count": null,
   "metadata": {},
   "outputs": [
    {
     "name": "stderr",
     "output_type": "stream",
     "text": [
      "/var/folders/b8/4ntn3_wd1wg59r0lmbfgfmwc0000gn/T/ipykernel_76003/1497438068.py:9: UserWarning: Matplotlib is currently using agg, which is a non-GUI backend, so cannot show the figure.\n",
      "  plt.show()\n"
     ]
    }
   ],
   "source": [
    "# Create normalized bar charts to illustrate the proportion of booking statuses based on parking space requirements.\n",
    "cross_tab = pd.crosstab(index=df['required_car_parking_space'], columns=df['booking_status'])\n",
    "cross_tab = round(cross_tab.div(cross_tab.sum(0), axis=1)*100,1)\n",
    "norm_cross_tab=cross_tab.div(cross_tab.sum(axis=1), axis=0)\n",
    "norm_cross_tab.plot(kind='bar', stacked=True)\n",
    "plt.title(f\"Normalized Required Car Parking by Booking Status\")\n",
    "plt.xticks(rotation=45)\n",
    "plt.ylabel('Proportion')\n",
    "plt.show()"
   ]
  },
  {
   "cell_type": "markdown",
   "metadata": {},
   "source": [
    "Repeated Guest"
   ]
  },
  {
   "cell_type": "code",
   "execution_count": null,
   "metadata": {
    "colab": {
     "base_uri": "https://localhost:8080/"
    },
    "id": "emu8Rg1X3-C3",
    "outputId": "05a03c51-621f-4926-824f-bb57f77c5019"
   },
   "outputs": [
    {
     "data": {
      "text/plain": [
       "0    35345\n",
       "1      930\n",
       "Name: repeated_guest, dtype: int64"
      ]
     },
     "execution_count": 19,
     "metadata": {},
     "output_type": "execute_result"
    }
   ],
   "source": [
    "# Count the occurrences of 'repeated_guest' values.\n",
    "df['repeated_guest'].value_counts()"
   ]
  },
  {
   "cell_type": "code",
   "execution_count": null,
   "metadata": {},
   "outputs": [
    {
     "data": {
      "text/plain": [
       "Text(0.5, 1.0, 'Repeated Guest by Booking Status')"
      ]
     },
     "execution_count": 20,
     "metadata": {},
     "output_type": "execute_result"
    }
   ],
   "source": [
    "# Create a stacked bar chart to visualize the relationship between repeated guest status and booking outcomes.\n",
    "pd.crosstab(df['repeated_guest'], df['booking_status']).plot(kind='bar', stacked=True)\n",
    "plt.ylabel('Frequency')\n",
    "plt.title('Repeated Guest by Booking Status')"
   ]
  },
  {
   "cell_type": "code",
   "execution_count": null,
   "metadata": {},
   "outputs": [
    {
     "name": "stderr",
     "output_type": "stream",
     "text": [
      "/var/folders/b8/4ntn3_wd1wg59r0lmbfgfmwc0000gn/T/ipykernel_76003/2563160653.py:9: UserWarning: Matplotlib is currently using agg, which is a non-GUI backend, so cannot show the figure.\n",
      "  plt.show()\n"
     ]
    }
   ],
   "source": [
    "# Create normalized bar charts to illustrate the proportion of booking statuses for repeated and non-repeated guests.\n",
    "cross_tab = pd.crosstab(index=df['repeated_guest'], columns=df['booking_status'])\n",
    "cross_tab = round(cross_tab.div(cross_tab.sum(0), axis=1)*100,1)\n",
    "norm_cross_tab=cross_tab.div(cross_tab.sum(axis=1), axis=0)\n",
    "norm_cross_tab.plot(kind='bar', stacked=True)\n",
    "plt.title(f\"Normalized Repeated Guest by Booking Status\")\n",
    "plt.xticks(rotation=45)\n",
    "plt.ylabel('Proportion')\n",
    "plt.show()"
   ]
  },
  {
   "cell_type": "markdown",
   "metadata": {},
   "source": [
    "Arrival Month"
   ]
  },
  {
   "cell_type": "code",
   "execution_count": null,
   "metadata": {
    "colab": {
     "base_uri": "https://localhost:8080/"
    },
    "id": "yf1O57ql4ErG",
    "outputId": "61915d23-3683-43d0-a57c-f161adf1b650"
   },
   "outputs": [
    {
     "data": {
      "text/plain": [
       "10    5317\n",
       "9     4611\n",
       "8     3813\n",
       "6     3203\n",
       "12    3021\n",
       "11    2980\n",
       "7     2920\n",
       "4     2736\n",
       "5     2598\n",
       "3     2358\n",
       "2     1704\n",
       "1     1014\n",
       "Name: arrival_month, dtype: int64"
      ]
     },
     "execution_count": 22,
     "metadata": {},
     "output_type": "execute_result"
    }
   ],
   "source": [
    "# Count the occurrences of 'arrival_month' values.\n",
    "df['arrival_month'].value_counts()"
   ]
  },
  {
   "cell_type": "code",
   "execution_count": null,
   "metadata": {},
   "outputs": [
    {
     "data": {
      "text/plain": [
       "Text(0.5, 1.0, 'Arrival Month by Booking Status')"
      ]
     },
     "execution_count": 23,
     "metadata": {},
     "output_type": "execute_result"
    }
   ],
   "source": [
    "# Create a stacked bar chart to visualize the relationship between arrival month and booking status.\n",
    "pd.crosstab(df['arrival_month'], df['booking_status']).plot(kind='bar', stacked=True)\n",
    "plt.ylabel('Frequency')\n",
    "plt.title('Arrival Month by Booking Status')"
   ]
  },
  {
   "cell_type": "code",
   "execution_count": null,
   "metadata": {},
   "outputs": [
    {
     "name": "stderr",
     "output_type": "stream",
     "text": [
      "/var/folders/b8/4ntn3_wd1wg59r0lmbfgfmwc0000gn/T/ipykernel_76003/604438260.py:9: UserWarning: Matplotlib is currently using agg, which is a non-GUI backend, so cannot show the figure.\n",
      "  plt.show()\n"
     ]
    }
   ],
   "source": [
    "# Create a normalized bar chart to visualize the proportion of booking statuses based on arrival months.\n",
    "cross_tab = pd.crosstab(index=df['arrival_month'], columns=df['booking_status'])\n",
    "cross_tab = round(cross_tab.div(cross_tab.sum(0), axis=1)*100,1)\n",
    "norm_cross_tab=cross_tab.div(cross_tab.sum(axis=1), axis=0)\n",
    "norm_cross_tab.plot(kind='bar', stacked=True)\n",
    "plt.title(f\"Normalized Arrival Month by Booking Status\")\n",
    "plt.xticks(rotation=45)\n",
    "plt.ylabel('Proportion')\n",
    "plt.show()"
   ]
  },
  {
   "cell_type": "markdown",
   "metadata": {},
   "source": [
    "Meal Plan"
   ]
  },
  {
   "cell_type": "code",
   "execution_count": null,
   "metadata": {
    "colab": {
     "base_uri": "https://localhost:8080/"
    },
    "id": "931ZWZvO4K1E",
    "outputId": "b68f10ec-cbce-48d8-fe54-8887e37004bc"
   },
   "outputs": [
    {
     "data": {
      "text/plain": [
       "Meal Plan 1     27835\n",
       "Not Selected     5130\n",
       "Meal Plan 2      3305\n",
       "Meal Plan 3         5\n",
       "Name: type_of_meal_plan, dtype: int64"
      ]
     },
     "execution_count": 25,
     "metadata": {},
     "output_type": "execute_result"
    }
   ],
   "source": [
    "# Count the occurrences of 'type_of_meal_plan' values.\n",
    "df['type_of_meal_plan'].value_counts()"
   ]
  },
  {
   "cell_type": "code",
   "execution_count": null,
   "metadata": {},
   "outputs": [
    {
     "data": {
      "text/plain": [
       "Text(0.5, 1.0, 'Meal Plan by Booking Status')"
      ]
     },
     "execution_count": 26,
     "metadata": {},
     "output_type": "execute_result"
    }
   ],
   "source": [
    "# Create a stacked bar chart to visualize the relationship between meal plans and booking status.\n",
    "pd.crosstab(df['type_of_meal_plan'], df['booking_status']).plot(kind='bar', stacked=True)\n",
    "plt.ylabel('Frequency')\n",
    "plt.title('Meal Plan by Booking Status')"
   ]
  },
  {
   "cell_type": "code",
   "execution_count": null,
   "metadata": {},
   "outputs": [
    {
     "name": "stderr",
     "output_type": "stream",
     "text": [
      "/var/folders/b8/4ntn3_wd1wg59r0lmbfgfmwc0000gn/T/ipykernel_76003/3300129511.py:9: UserWarning: Matplotlib is currently using agg, which is a non-GUI backend, so cannot show the figure.\n",
      "  plt.show()\n"
     ]
    }
   ],
   "source": [
    "# Create a normalized bar chart to visualize the proportion of booking statuses based on meal plans.\n",
    "cross_tab = pd.crosstab(index=df['type_of_meal_plan'], columns=df['booking_status'])\n",
    "cross_tab = round(cross_tab.div(cross_tab.sum(0), axis=1)*100,1)\n",
    "norm_cross_tab=cross_tab.div(cross_tab.sum(axis=1), axis=0)\n",
    "norm_cross_tab.plot(kind='bar', stacked=True)\n",
    "plt.title(f\"Normalized Meal Plan by Booking Status\")\n",
    "plt.xticks(rotation=45)\n",
    "plt.ylabel('Proportion')\n",
    "plt.show()"
   ]
  },
  {
   "cell_type": "markdown",
   "metadata": {},
   "source": [
    "Room Type"
   ]
  },
  {
   "cell_type": "code",
   "execution_count": null,
   "metadata": {
    "colab": {
     "base_uri": "https://localhost:8080/"
    },
    "id": "6f8RjoIE4Klu",
    "outputId": "8bcaa394-707a-4898-8020-8c323681432c"
   },
   "outputs": [
    {
     "data": {
      "text/plain": [
       "Room_Type 1    28130\n",
       "Room_Type 4     6057\n",
       "Room_Type 6      966\n",
       "Room_Type 2      692\n",
       "Room_Type 5      265\n",
       "Room_Type 7      158\n",
       "Room_Type 3        7\n",
       "Name: room_type_reserved, dtype: int64"
      ]
     },
     "execution_count": 28,
     "metadata": {},
     "output_type": "execute_result"
    }
   ],
   "source": [
    "# Count the occurrences of 'room_type_reserved' values.\n",
    "df['room_type_reserved'].value_counts()"
   ]
  },
  {
   "cell_type": "code",
   "execution_count": null,
   "metadata": {},
   "outputs": [
    {
     "data": {
      "text/plain": [
       "Text(0.5, 1.0, 'Room Type by Booking Status')"
      ]
     },
     "execution_count": 29,
     "metadata": {},
     "output_type": "execute_result"
    }
   ],
   "source": [
    "# Generate a stacked bar chart to depict the correlation between room types and booking status.\n",
    "pd.crosstab(df['room_type_reserved'], df['booking_status']).plot(kind='bar', stacked=True)\n",
    "plt.ylabel('Frequency')\n",
    "plt.title('Room Type by Booking Status')"
   ]
  },
  {
   "cell_type": "code",
   "execution_count": null,
   "metadata": {},
   "outputs": [
    {
     "name": "stderr",
     "output_type": "stream",
     "text": [
      "/var/folders/b8/4ntn3_wd1wg59r0lmbfgfmwc0000gn/T/ipykernel_76003/3144924454.py:9: UserWarning: Matplotlib is currently using agg, which is a non-GUI backend, so cannot show the figure.\n",
      "  plt.show()\n"
     ]
    }
   ],
   "source": [
    "# Creating a normalized bar chart to visualize the proportion of booking statuses within different room types.\n",
    "cross_tab = pd.crosstab(index=df['room_type_reserved'], columns=df['booking_status'])\n",
    "cross_tab = round(cross_tab.div(cross_tab.sum(0), axis=1)*100,1)\n",
    "norm_cross_tab=cross_tab.div(cross_tab.sum(axis=1), axis=0)\n",
    "norm_cross_tab.plot(kind='bar', stacked=True)\n",
    "plt.title(f\"Normalized Room Type by Booking Status\")\n",
    "plt.xticks(rotation=45)\n",
    "plt.ylabel('Proportion')\n",
    "plt.show()"
   ]
  },
  {
   "cell_type": "code",
   "execution_count": null,
   "metadata": {
    "colab": {
     "base_uri": "https://localhost:8080/"
    },
    "id": "lEqtGWLs4KJH",
    "outputId": "bd9cef24-202a-4e21-86dd-495a9564354d"
   },
   "outputs": [
    {
     "data": {
      "text/plain": [
       "Online           23214\n",
       "Offline          10528\n",
       "Corporate         2017\n",
       "Complementary      391\n",
       "Aviation           125\n",
       "Name: market_segment_type, dtype: int64"
      ]
     },
     "execution_count": 31,
     "metadata": {},
     "output_type": "execute_result"
    }
   ],
   "source": [
    "# Count the occurrences of 'market_segment_type' values.\n",
    "df['market_segment_type'].value_counts()"
   ]
  },
  {
   "cell_type": "code",
   "execution_count": null,
   "metadata": {},
   "outputs": [
    {
     "data": {
      "text/plain": [
       "Text(0.5, 1.0, 'Market Segment by Booking Status')"
      ]
     },
     "execution_count": 32,
     "metadata": {},
     "output_type": "execute_result"
    }
   ],
   "source": [
    "# Creating a stacked bar chart to visualize the relationship between market segments and booking status.\n",
    "pd.crosstab(df['market_segment_type'], df['booking_status']).plot(kind='bar', stacked=True)\n",
    "plt.ylabel('Frequency')\n",
    "plt.title('Market Segment by Booking Status')"
   ]
  },
  {
   "cell_type": "code",
   "execution_count": null,
   "metadata": {},
   "outputs": [
    {
     "name": "stderr",
     "output_type": "stream",
     "text": [
      "/var/folders/b8/4ntn3_wd1wg59r0lmbfgfmwc0000gn/T/ipykernel_76003/4223241086.py:9: UserWarning: Matplotlib is currently using agg, which is a non-GUI backend, so cannot show the figure.\n",
      "  plt.show()\n"
     ]
    }
   ],
   "source": [
    "# Create normalized bar charts to visualize the proportion of booking statuses within different market segments.\n",
    "cross_tab = pd.crosstab(index=df['market_segment_type'], columns=df['booking_status'])\n",
    "cross_tab = round(cross_tab.div(cross_tab.sum(0), axis=1)*100,1)\n",
    "norm_cross_tab=cross_tab.div(cross_tab.sum(axis=1), axis=0)\n",
    "norm_cross_tab.plot(kind='bar', stacked=True)\n",
    "plt.title(f\"Normalized Market Segment by Booking Status\")\n",
    "plt.xticks(rotation=45)\n",
    "plt.ylabel('Proportion')\n",
    "plt.show()"
   ]
  },
  {
   "cell_type": "markdown",
   "metadata": {
    "id": "QPlvXuBD6nco"
   },
   "source": [
    "## Data Preparation"
   ]
  },
  {
   "cell_type": "code",
   "execution_count": null,
   "metadata": {
    "colab": {
     "base_uri": "https://localhost:8080/",
     "height": 554
    },
    "id": "N7RBMD0H6qgR",
    "outputId": "49a598b7-a4bb-4267-e76f-d12abce36890"
   },
   "outputs": [],
   "source": [
    "# Drop non-predictors\n",
    "df=df.drop(['Booking_ID'],axis=1)"
   ]
  },
  {
   "cell_type": "code",
   "execution_count": null,
   "metadata": {},
   "outputs": [
    {
     "name": "stdout",
     "output_type": "stream",
     "text": [
      "Categorical attributes \n",
      " Index(['type_of_meal_plan', 'required_car_parking_space', 'room_type_reserved',\n",
      "       'arrival_year', 'arrival_month', 'market_segment_type',\n",
      "       'repeated_guest', 'booking_status'],\n",
      "      dtype='object')\n",
      "\n",
      " Numerical attributes \n",
      " Index(['no_of_adults', 'no_of_children', 'no_of_weekend_nights',\n",
      "       'no_of_week_nights', 'lead_time', 'arrival_date',\n",
      "       'no_of_previous_cancellations', 'no_of_previous_bookings_not_canceled',\n",
      "       'avg_price_per_room', 'no_of_special_requests'],\n",
      "      dtype='object')\n"
     ]
    }
   ],
   "source": [
    "# Convert columns to correct datatypes \n",
    "\n",
    "# Categorical='object'/'category'\n",
    "# Numerical='int'/'float'\n",
    "df['type_of_meal_plan']=df['type_of_meal_plan'].astype('category')\n",
    "df['required_car_parking_space']=df['required_car_parking_space'].astype('category')\n",
    "df['room_type_reserved']=df['room_type_reserved'].astype('category')\n",
    "df['arrival_year']=df['arrival_year'].astype('category')\n",
    "df['arrival_month']=df['arrival_month'].astype('category')\n",
    "df['market_segment_type']=df['market_segment_type'].astype('category')\n",
    "df['repeated_guest']=df['repeated_guest'].astype('category')\n",
    "df['booking_status']=df['booking_status'].astype('category')\n",
    "\n",
    "# Show all categorical data\n",
    "print('Categorical attributes \\n',df.select_dtypes(include=['category']).columns)\n",
    "\n",
    "# Show all numerical data\n",
    "print('\\n Numerical attributes \\n',df.select_dtypes(include=['integer','float']).columns)"
   ]
  },
  {
   "cell_type": "markdown",
   "metadata": {},
   "source": [
    "### Feature Engineering\n",
    "\n",
    "1. Calculate cancellation rate based on the number of previous cancellations out of all bookings"
   ]
  },
  {
   "cell_type": "code",
   "execution_count": null,
   "metadata": {},
   "outputs": [
    {
     "data": {
      "text/plain": [
       "0.000000    592\n",
       "1.000000    118\n",
       "0.166667     16\n",
       "0.200000     15\n",
       "0.333333     15\n",
       "           ... \n",
       "0.089286      1\n",
       "0.120000      1\n",
       "0.075000      1\n",
       "0.078947      1\n",
       "0.190476      1\n",
       "Name: cancellation_rate, Length: 81, dtype: int64"
      ]
     },
     "execution_count": 6,
     "metadata": {},
     "output_type": "execute_result"
    }
   ],
   "source": [
    "# Calculate the cancellation rate based on previous cancellations and bookings.\n",
    "df['cancellation_rate']=df['no_of_previous_cancellations']/((df['no_of_previous_cancellations'])+(df['no_of_previous_bookings_not_canceled']))\n",
    "df['cancellation_rate']=df['cancellation_rate'].astype('float64')\n",
    "df['cancellation_rate'].value_counts()"
   ]
  },
  {
   "cell_type": "markdown",
   "metadata": {},
   "source": [
    "The cancellation rate uses historic bookings to calculate the guest's overall rate of bookings fulfilled, where 0 = a customer has fulfilled every booking and 1 = a customer has canceled every booking. "
   ]
  },
  {
   "cell_type": "code",
   "execution_count": null,
   "metadata": {},
   "outputs": [
    {
     "name": "stderr",
     "output_type": "stream",
     "text": [
      "/var/folders/b8/4ntn3_wd1wg59r0lmbfgfmwc0000gn/T/ipykernel_76003/4023004260.py:9: UserWarning: Matplotlib is currently using agg, which is a non-GUI backend, so cannot show the figure.\n",
      "  plt.show()\n"
     ]
    }
   ],
   "source": [
    "# Extract cancellation rates for both canceled and not-canceled bookings.\n",
    "y1 = list(df[df['booking_status'] == 'Canceled']['cancellation_rate'])\n",
    "y0 = list(df[df['booking_status'] == 'Not_Canceled']['cancellation_rate'])\n",
    "\n",
    "# Define labels for the two categories.\n",
    "names = ['Fulfilled','Cancelled']\n",
    "\n",
    "# Create a histogram to visualize the distribution of cancellation rates by cancellation status.\n",
    "plt.hist([y0,y1], label=names, stacked = True)\n",
    "plt.xlabel('Cancellation Rate')\n",
    "plt.ylabel('Frequency')\n",
    "plt.title('Cancellation Rate by Cancellation Status')\n",
    "plt.legend(loc='upper right')\n",
    "plt.show()"
   ]
  },
  {
   "cell_type": "markdown",
   "metadata": {},
   "source": [
    "2. Get full arrival date by combining year, month, and day"
   ]
  },
  {
   "cell_type": "code",
   "execution_count": null,
   "metadata": {},
   "outputs": [],
   "source": [
    "# Combine year, month, day into 1 column in datetime format ('full_arrival_date')\n",
    "df['day']=df['arrival_date'].copy()\n",
    "df['month']=df['arrival_month'].copy()\n",
    "df['year']=df['arrival_year'].copy()\n",
    "df['full_arrival_date']=pd.to_datetime(df[['year','month','day']],format='%Y-%M-%D',errors='coerce')"
   ]
  },
  {
   "cell_type": "markdown",
   "metadata": {},
   "source": [
    "3. Get total number of guests"
   ]
  },
  {
   "cell_type": "code",
   "execution_count": null,
   "metadata": {},
   "outputs": [],
   "source": [
    "# Calculate the total number of guests by summing the number of adults and children.\n",
    "df['total_guests']=df['no_of_adults']+df['no_of_children']"
   ]
  },
  {
   "cell_type": "code",
   "execution_count": null,
   "metadata": {},
   "outputs": [
    {
     "name": "stderr",
     "output_type": "stream",
     "text": [
      "/var/folders/b8/4ntn3_wd1wg59r0lmbfgfmwc0000gn/T/ipykernel_76003/969887610.py:9: UserWarning: Matplotlib is currently using agg, which is a non-GUI backend, so cannot show the figure.\n",
      "  plt.show()\n"
     ]
    }
   ],
   "source": [
    "# Extract the total number of guests for both canceled and not-canceled bookings.\n",
    "y1 = list(df[df['booking_status'] == 'Canceled']['total_guests'])\n",
    "y0 = list(df[df['booking_status'] == 'Not_Canceled']['total_guests'])\n",
    "\n",
    "# Define labels for the two categories.\n",
    "names = ['Fulfilled','Cancelled']\n",
    "\n",
    "# Create a histogram to visualize the distribution of total guests by cancellation status.\n",
    "plt.hist([y0,y1], label=names, stacked = True)\n",
    "plt.xlabel('Total Guests')\n",
    "plt.ylabel('Frequency')\n",
    "plt.title('Total Guests by Cancellation Status')\n",
    "plt.legend(loc='upper right')\n",
    "plt.show()"
   ]
  },
  {
   "cell_type": "markdown",
   "metadata": {},
   "source": [
    "4. Get total number of nights for each booking"
   ]
  },
  {
   "cell_type": "code",
   "execution_count": null,
   "metadata": {},
   "outputs": [],
   "source": [
    "# Calculate the total number of nights for each reservation by adding the weekend nights and week nights.\n",
    "df['total_nights']=df['no_of_weekend_nights']+df['no_of_week_nights']"
   ]
  },
  {
   "cell_type": "code",
   "execution_count": null,
   "metadata": {},
   "outputs": [
    {
     "name": "stderr",
     "output_type": "stream",
     "text": [
      "/var/folders/b8/4ntn3_wd1wg59r0lmbfgfmwc0000gn/T/ipykernel_76003/2708508251.py:9: UserWarning: Matplotlib is currently using agg, which is a non-GUI backend, so cannot show the figure.\n",
      "  plt.show()\n"
     ]
    }
   ],
   "source": [
    "# Extract the total number of nights for both canceled and not-canceled bookings.\n",
    "y1 = list(df[df['booking_status'] == 'Canceled']['total_nights'])\n",
    "y0 = list(df[df['booking_status'] == 'Not_Canceled']['total_nights'])\n",
    "\n",
    "# Define labels for the two categories.\n",
    "names = ['Fulfilled','Cancelled']\n",
    "\n",
    "# Create a histogram to visualize the distribution of total nights by cancellation status.\n",
    "plt.hist([y0,y1], label=names, stacked = True)\n",
    "plt.xlabel('Total Nights')\n",
    "plt.ylabel('Frequency')\n",
    "plt.title('Total Nights by Cancellation Status')\n",
    "plt.legend(loc='upper right')\n",
    "plt.show()"
   ]
  },
  {
   "cell_type": "markdown",
   "metadata": {},
   "source": [
    "5. Get seasonality from arrival month"
   ]
  },
  {
   "cell_type": "code",
   "execution_count": null,
   "metadata": {},
   "outputs": [
    {
     "data": {
      "text/plain": [
       "Autumn    12908\n",
       "Summer     9936\n",
       "Spring     7692\n",
       "Winter     5739\n",
       "Name: season, dtype: int64"
      ]
     },
     "execution_count": 9,
     "metadata": {},
     "output_type": "execute_result"
    }
   ],
   "source": [
    "# Define a mapping function to assign seasons based on arrival month.\n",
    "def map_to_season(month):\n",
    "    if month in [12,1,2]:\n",
    "        return 'Winter'\n",
    "    elif month in [3,4,5]:\n",
    "        return 'Spring'\n",
    "    elif month in [6,7,8]:\n",
    "        return 'Summer'\n",
    "    elif month in [9,10,11]:\n",
    "        return 'Autumn'\n",
    "    else:\n",
    "        return 'Unknown'  # Handle any unexpected values\n",
    "\n",
    "# Apply mapping function to create a new 'season' column\n",
    "df['season'] = df['arrival_month'].apply(map_to_season)\n",
    "df['season']=df['season'].astype('category')\n",
    "df['season'].value_counts()"
   ]
  },
  {
   "cell_type": "code",
   "execution_count": null,
   "metadata": {},
   "outputs": [
    {
     "data": {
      "text/plain": [
       "Text(0.5, 1.0, 'Season by Booking Status')"
      ]
     },
     "execution_count": 44,
     "metadata": {},
     "output_type": "execute_result"
    }
   ],
   "source": [
    "# Create a stacked bar chart to visualize the relationship between seasons and booking status.\n",
    "pd.crosstab(df['season'], df['booking_status']).plot(kind='bar', stacked=True)\n",
    "plt.ylabel('Frequency')\n",
    "plt.title('Season by Booking Status')"
   ]
  },
  {
   "cell_type": "code",
   "execution_count": null,
   "metadata": {},
   "outputs": [
    {
     "name": "stderr",
     "output_type": "stream",
     "text": [
      "/var/folders/b8/4ntn3_wd1wg59r0lmbfgfmwc0000gn/T/ipykernel_76003/1500209157.py:9: UserWarning: Matplotlib is currently using agg, which is a non-GUI backend, so cannot show the figure.\n",
      "  plt.show()\n"
     ]
    }
   ],
   "source": [
    "# Create normalized bar charts to visualize the proportion of booking statuses within different seasons.\n",
    "cross_tab = pd.crosstab(index=df['season'], columns=df['booking_status'])\n",
    "cross_tab = round(cross_tab.div(cross_tab.sum(0), axis=1)*100,1)\n",
    "# Create a stacked bar chart to display the normalized booking status by seasonality.\n",
    "norm_cross_tab=cross_tab.div(cross_tab.sum(axis=1), axis=0)\n",
    "norm_cross_tab.plot(kind='bar', stacked=True)\n",
    "# Set the chart title and adjust the x-axis labels for readability and label the y-axis to indicate proportion\n",
    "plt.title(f\"Normalized Seasonality by Booking Status\")\n",
    "plt.xticks(rotation=45)\n",
    "plt.ylabel('Proportion')\n",
    "plt.show()"
   ]
  },
  {
   "cell_type": "markdown",
   "metadata": {},
   "source": [
    "Past guests have a lower cancellation rate"
   ]
  },
  {
   "cell_type": "markdown",
   "metadata": {},
   "source": [
    "6. Past Cancellation (0- No, 1-Yes)"
   ]
  },
  {
   "cell_type": "code",
   "execution_count": null,
   "metadata": {
    "colab": {
     "base_uri": "https://localhost:8080/"
    },
    "id": "eOVdbPLZBcpJ",
    "outputId": "84e356db-c067-40a3-ac73-51fede05f69c"
   },
   "outputs": [
    {
     "data": {
      "text/plain": [
       "0     35937\n",
       "1       198\n",
       "2        46\n",
       "3        43\n",
       "11       25\n",
       "5        11\n",
       "4        10\n",
       "13        4\n",
       "6         1\n",
       "Name: no_of_previous_cancellations, dtype: int64"
      ]
     },
     "execution_count": 46,
     "metadata": {},
     "output_type": "execute_result"
    }
   ],
   "source": [
    "# Show value counts\n",
    "df['no_of_previous_cancellations'].value_counts()\n"
   ]
  },
  {
   "cell_type": "markdown",
   "metadata": {},
   "source": [
    "Most guests did not have a previous cancellation. We will convert this numerical variable to a binary variable where:\n",
    "\n",
    "    * 0 = guest did not have a previous cancellation\n",
    "    * 1 = guest had at least 1 previous cancellation"
   ]
  },
  {
   "cell_type": "code",
   "execution_count": null,
   "metadata": {},
   "outputs": [],
   "source": [
    "# Make binary; 0=no past cancellations, 1=at least 1 past cancellation\n",
    "df['past_cancellation'] = df['no_of_previous_cancellations'].apply(lambda x: 1 if x > 0 else 0)\n",
    "df['past_cancellation']=df['past_cancellation'].astype('category')"
   ]
  },
  {
   "cell_type": "code",
   "execution_count": null,
   "metadata": {},
   "outputs": [
    {
     "data": {
      "text/plain": [
       "Text(0.5, 1.0, 'Past Cancellation by Booking Status')"
      ]
     },
     "execution_count": 11,
     "metadata": {},
     "output_type": "execute_result"
    },
    {
     "data": {
      "image/png": "[encoded data removed]",
      "text/plain": [
       "<Figure size 640x480 with 1 Axes>"
      ]
     },
     "metadata": {},
     "output_type": "display_data"
    }
   ],
   "source": [
    "# Create a stacked bar chart to visualize the relationship between past cancellations and booking status.\n",
    "pd.crosstab(df['past_cancellation'], df['booking_status']).plot(kind='bar', stacked=True)\n",
    "plt.ylabel('Frequency')\n",
    "plt.title('Past Cancellation by Booking Status')"
   ]
  },
  {
   "cell_type": "code",
   "execution_count": null,
   "metadata": {},
   "outputs": [
    {
     "data": {
      "image/png": "[encoded data removed]",
      "text/plain": [
       "<Figure size 640x480 with 1 Axes>"
      ]
     },
     "metadata": {},
     "output_type": "display_data"
    }
   ],
   "source": [
    "# Create normalized bar charts to visualize the proportion of booking statuses based on past cancellations.\n",
    "cross_tab = pd.crosstab(index=df['past_cancellation'], columns=df['booking_status'])\n",
    "cross_tab = round(cross_tab.div(cross_tab.sum(0), axis=1)*100,1)\n",
    "norm_cross_tab=cross_tab.div(cross_tab.sum(axis=1), axis=0)\n",
    "norm_cross_tab.plot(kind='bar', stacked=True)\n",
    "plt.title(f\"Normalized Past Cancellation by Booking Status\")\n",
    "plt.xticks(rotation=45)\n",
    "plt.ylabel('Proportion')\n",
    "plt.show()"
   ]
  },
  {
   "cell_type": "markdown",
   "metadata": {},
   "source": [
    "7. Total Reservation Price"
   ]
  },
  {
   "cell_type": "code",
   "execution_count": null,
   "metadata": {},
   "outputs": [],
   "source": [
    "# Calculate the total reservation price by multiplying the total number of nights and the average price per room.\n",
    "df['total_price'] = pd.array(df['total_nights'])*pd.array(df['avg_price_per_room'])"
   ]
  },
  {
   "cell_type": "code",
   "execution_count": null,
   "metadata": {},
   "outputs": [
    {
     "name": "stderr",
     "output_type": "stream",
     "text": [
      "/var/folders/b8/4ntn3_wd1wg59r0lmbfgfmwc0000gn/T/ipykernel_76003/512226575.py:9: UserWarning: Matplotlib is currently using agg, which is a non-GUI backend, so cannot show the figure.\n",
      "  plt.show()\n"
     ]
    }
   ],
   "source": [
    "# Extract the total reservation price for both canceled and not-canceled bookings.\n",
    "y1 = list(df[df['booking_status'] == 'Canceled']['total_price'])\n",
    "y0 = list(df[df['booking_status'] == 'Not_Canceled']['total_price'])\n",
    "# Define labels for the two categories.\n",
    "names = ['Fulfilled','Cancelled']\n",
    "# Create a histogram to visualize the distribution of reservation prices by cancellation status.\n",
    "plt.hist([y0,y1], label=names, stacked = True)\n",
    "plt.xlabel('Total Price (euros)')\n",
    "plt.ylabel('Frequency')\n",
    "plt.title('Reservation Price by Cancellation Status')\n",
    "plt.legend(loc='upper right')\n",
    "plt.show()"
   ]
  },
  {
   "cell_type": "markdown",
   "metadata": {},
   "source": [
    "8. Meal plan as binary"
   ]
  },
  {
   "cell_type": "code",
   "execution_count": null,
   "metadata": {},
   "outputs": [],
   "source": [
    "# Create a binary column 'meal_plan' based on the 'type_of_meal_plan,' where 0 represents 'Not Selected' and 1 represents 'Selected.'\n",
    "df['meal_plan'] = df['type_of_meal_plan'].apply(lambda x: 0 if x == 'Not Selected' else 1)\n",
    "df['meal_plan']=df['meal_plan'].astype('category')"
   ]
  },
  {
   "cell_type": "code",
   "execution_count": null,
   "metadata": {},
   "outputs": [
    {
     "data": {
      "text/plain": [
       "Text(0.5, 1.0, 'Meal Plan by Booking Status')"
      ]
     },
     "execution_count": 53,
     "metadata": {},
     "output_type": "execute_result"
    }
   ],
   "source": [
    "# Create a stacked bar chart to visualize the relationship between meal plans and booking status.\n",
    "pd.crosstab(df['meal_plan'], df['booking_status']).plot(kind='bar', stacked=True)\n",
    "plt.ylabel('Frequency')\n",
    "plt.title('Meal Plan by Booking Status')"
   ]
  },
  {
   "cell_type": "code",
   "execution_count": null,
   "metadata": {},
   "outputs": [
    {
     "name": "stderr",
     "output_type": "stream",
     "text": [
      "/var/folders/b8/4ntn3_wd1wg59r0lmbfgfmwc0000gn/T/ipykernel_76003/2427268829.py:9: UserWarning: Matplotlib is currently using agg, which is a non-GUI backend, so cannot show the figure.\n",
      "  plt.show()\n"
     ]
    }
   ],
   "source": [
    "# Create normalized bar charts to visualize the proportion of booking statuses with respect to meal plans.\n",
    "cross_tab = pd.crosstab(index=df['meal_plan'], columns=df['booking_status'])\n",
    "cross_tab = round(cross_tab.div(cross_tab.sum(0), axis=1)*100,1)\n",
    "norm_cross_tab=cross_tab.div(cross_tab.sum(axis=1), axis=0)\n",
    "norm_cross_tab.plot(kind='bar', stacked=True)\n",
    "plt.title(f\"Normalized Meal Plan by Booking Status\")\n",
    "plt.xticks(rotation=45)\n",
    "plt.ylabel('Proportion')\n",
    "plt.show()"
   ]
  },
  {
   "cell_type": "markdown",
   "metadata": {},
   "source": [
    "No significant difference between guests that selected a meal plan compared to guests that didn't. "
   ]
  },
  {
   "cell_type": "markdown",
   "metadata": {},
   "source": [
    "9. Room type as binary"
   ]
  },
  {
   "cell_type": "code",
   "execution_count": null,
   "metadata": {},
   "outputs": [],
   "source": [
    "# Create a binary column 'room_type' based on the 'room_type_reserved,' where 1 represents 'Room_Type 1' and 0 represents 'Other.'\n",
    "df['room_type'] = df['room_type_reserved'].apply(lambda x: 1 if x == 'Room_Type 1' else 0)\n",
    "df['room_type']=df['room_type'].astype('category')"
   ]
  },
  {
   "cell_type": "code",
   "execution_count": null,
   "metadata": {},
   "outputs": [
    {
     "name": "stderr",
     "output_type": "stream",
     "text": [
      "/opt/miniconda3/envs/ADS500B/lib/python3.10/site-packages/pandas/plotting/_matplotlib/core.py:386: RuntimeWarning: More than 20 figures have been opened. Figures created through the pyplot interface (`matplotlib.pyplot.figure`) are retained until explicitly closed and may consume too much memory. (To control this warning, see the rcParam `figure.max_open_warning`).\n",
      "  fig = self.plt.figure(figsize=self.figsize)\n"
     ]
    },
    {
     "data": {
      "text/plain": [
       "Text(0.5, 1.0, 'Room Type by Booking Status')"
      ]
     },
     "execution_count": 56,
     "metadata": {},
     "output_type": "execute_result"
    }
   ],
   "source": [
    "# Create a stacked bar chart to visualize the relationship between room types and booking status.\n",
    "pd.crosstab(df['room_type'], df['booking_status']).plot(kind='bar', stacked=True)\n",
    "plt.ylabel('Frequency')\n",
    "plt.title('Room Type by Booking Status')"
   ]
  },
  {
   "cell_type": "code",
   "execution_count": null,
   "metadata": {},
   "outputs": [
    {
     "name": "stderr",
     "output_type": "stream",
     "text": [
      "/var/folders/b8/4ntn3_wd1wg59r0lmbfgfmwc0000gn/T/ipykernel_76003/579575764.py:9: UserWarning: Matplotlib is currently using agg, which is a non-GUI backend, so cannot show the figure.\n",
      "  plt.show()\n"
     ]
    }
   ],
   "source": [
    "# Create normalized bar charts to visualize the proportion of booking statuses based on room types.\n",
    "cross_tab = pd.crosstab(index=df['room_type'], columns=df['booking_status'])\n",
    "cross_tab = round(cross_tab.div(cross_tab.sum(0), axis=1)*100,1)\n",
    "norm_cross_tab=cross_tab.div(cross_tab.sum(axis=1), axis=0)\n",
    "norm_cross_tab.plot(kind='bar', stacked=True)\n",
    "plt.title(f\"Normalized Room Type by Booking Status\")\n",
    "plt.xticks(rotation=45)\n",
    "plt.ylabel('Proportion')\n",
    "plt.show()"
   ]
  },
  {
   "cell_type": "markdown",
   "metadata": {},
   "source": [
    "No significant difference between room types chosen"
   ]
  },
  {
   "cell_type": "markdown",
   "metadata": {},
   "source": [
    "10. Special Requests as Binary\n",
    "\n",
    "Most guests had at least 1 special request or none."
   ]
  },
  {
   "cell_type": "code",
   "execution_count": null,
   "metadata": {},
   "outputs": [
    {
     "data": {
      "text/plain": [
       "0    19777\n",
       "1    11373\n",
       "2     4364\n",
       "3      675\n",
       "4       78\n",
       "5        8\n",
       "Name: no_of_special_requests, dtype: int64"
      ]
     },
     "execution_count": 58,
     "metadata": {},
     "output_type": "execute_result"
    }
   ],
   "source": [
    "# Count the frequency of the number of special requests.\n",
    "df['no_of_special_requests'].value_counts()"
   ]
  },
  {
   "cell_type": "code",
   "execution_count": null,
   "metadata": {},
   "outputs": [
    {
     "data": {
      "text/plain": [
       "0    19777\n",
       "1    16498\n",
       "Name: special_requests, dtype: int64"
      ]
     },
     "execution_count": 14,
     "metadata": {},
     "output_type": "execute_result"
    }
   ],
   "source": [
    "# Create a binary column 'special_requests' based on the 'no_of_special_requests,' where 1 indicates the presence of special requests (more than 0) and 0 indicates no special requests.\n",
    "df['special_requests'] = df['no_of_special_requests'].apply(lambda x: 1 if x > 0 else 0)\n",
    "df['special_requests']=df['special_requests'].astype('category')\n",
    "df['special_requests'].value_counts()"
   ]
  },
  {
   "cell_type": "code",
   "execution_count": null,
   "metadata": {},
   "outputs": [
    {
     "data": {
      "text/plain": [
       "Text(0.5, 1.0, 'Special Requests by Booking Status')"
      ]
     },
     "execution_count": 60,
     "metadata": {},
     "output_type": "execute_result"
    }
   ],
   "source": [
    "# Create a stacked bar chart to visualize the relationship between special requests and booking status.\n",
    "pd.crosstab(df['special_requests'], df['booking_status']).plot(kind='bar', stacked=True)\n",
    "plt.ylabel('Frequency')\n",
    "plt.title('Special Requests by Booking Status')"
   ]
  },
  {
   "cell_type": "code",
   "execution_count": null,
   "metadata": {},
   "outputs": [
    {
     "data": {
      "text/plain": [
       "Text(0.5, 1.0, 'Special Requests by Booking Status')"
      ]
     },
     "execution_count": 61,
     "metadata": {},
     "output_type": "execute_result"
    }
   ],
   "source": [
    "# Create a normalized stacked bar chart to visualize the relationship between special requests and booking status.\n",
    "pd.crosstab(df['special_requests'], df['booking_status'], normalize = 'index').plot(kind='bar', stacked=True)\n",
    "plt.ylabel('Frequency')\n",
    "plt.title('Special Requests by Booking Status')"
   ]
  },
  {
   "cell_type": "code",
   "execution_count": null,
   "metadata": {},
   "outputs": [
    {
     "data": {
      "text/plain": [
       "Index(['no_of_adults', 'no_of_children', 'no_of_weekend_nights',\n",
       "       'no_of_week_nights', 'type_of_meal_plan', 'required_car_parking_space',\n",
       "       'room_type_reserved', 'lead_time', 'arrival_year', 'arrival_month',\n",
       "       'arrival_date', 'market_segment_type', 'repeated_guest',\n",
       "       'no_of_previous_cancellations', 'no_of_previous_bookings_not_canceled',\n",
       "       'avg_price_per_room', 'no_of_special_requests', 'booking_status',\n",
       "       'cancellation_rate', 'day', 'month', 'year', 'full_arrival_date',\n",
       "       'total_guests', 'total_nights', 'season', 'past_cancellation',\n",
       "       'total_price', 'meal_plan', 'room_type', 'special_requests'],\n",
       "      dtype='object')"
      ]
     },
     "execution_count": 62,
     "metadata": {},
     "output_type": "execute_result"
    }
   ],
   "source": [
    "# Show all columns, including all added columns\n",
    "df.columns"
   ]
  },
  {
   "cell_type": "markdown",
   "metadata": {
    "id": "l3jy8KVSSDaX"
   },
   "source": [
    "## Exploratory Data Analysis"
   ]
  },
  {
   "cell_type": "code",
   "execution_count": null,
   "metadata": {},
   "outputs": [
    {
     "name": "stdout",
     "output_type": "stream",
     "text": [
      "['no_of_adults', 'no_of_children', 'no_of_weekend_nights', 'no_of_week_nights', 'lead_time', 'arrival_date', 'no_of_previous_cancellations', 'no_of_previous_bookings_not_canceled', 'avg_price_per_room', 'no_of_special_requests', 'cancellation_rate', 'day', 'total_guests', 'total_nights', 'total_price']\n"
     ]
    }
   ],
   "source": [
    "#Get a list of numeric column names in a DataFrame.\n",
    "def numeric_cols(data):\n",
    "    num_cols = []\n",
    "    for col in data.columns:\n",
    "        if data[col].dtype == 'int64' or data[col].dtype == 'float64':\n",
    "            num_cols.append(col)\n",
    "    return num_cols\n",
    "numeric_columns = numeric_cols(df)\n",
    "print(numeric_columns)\n"
   ]
  },
  {
   "cell_type": "code",
   "execution_count": null,
   "metadata": {},
   "outputs": [
    {
     "name": "stdout",
     "output_type": "stream",
     "text": [
      "['type_of_meal_plan', 'required_car_parking_space', 'room_type_reserved', 'arrival_year', 'arrival_month', 'market_segment_type', 'repeated_guest', 'booking_status', 'month', 'year', 'season', 'past_cancellation', 'meal_plan', 'room_type', 'special_requests']\n"
     ]
    }
   ],
   "source": [
    "#Get a list of categorical column names in a DataFrame.\n",
    "def category_columns(data):\n",
    "  cat_cols = []\n",
    "  for i in data:\n",
    "    if data[i].dtype == 'object' or data[i].dtype == 'category':\n",
    "      cat_cols.append(i)\n",
    "  return cat_cols\n",
    "categorical_columns = category_columns(df)\n",
    "print(categorical_columns)\n"
   ]
  },
  {
   "cell_type": "code",
   "execution_count": null,
   "metadata": {
    "colab": {
     "base_uri": "https://localhost:8080/",
     "height": 1000
    },
    "id": "P7ndrZUw8qoV",
    "outputId": "d938c130-4fad-4fde-80f0-2dc10123cc25"
   },
   "outputs": [
    {
     "name": "stderr",
     "output_type": "stream",
     "text": [
      "/var/folders/b8/4ntn3_wd1wg59r0lmbfgfmwc0000gn/T/ipykernel_76003/3984197658.py:3: UserWarning: Matplotlib is currently using agg, which is a non-GUI backend, so cannot show the figure.\n",
      "  plt.show()\n"
     ]
    }
   ],
   "source": [
    "#Distributions for numerical variables\n",
    "df.hist(figsize=(12,12),bins=20)\n",
    "plt.show()"
   ]
  },
  {
   "cell_type": "code",
   "execution_count": null,
   "metadata": {
    "colab": {
     "base_uri": "https://localhost:8080/",
     "height": 1000
    },
    "id": "7VLXqzX88vv6",
    "outputId": "9e376707-e37a-4834-a793-45c2fa4cf867"
   },
   "outputs": [
    {
     "data": {
      "text/plain": [
       "<AxesSubplot:title={'center':'Heat Map of Correlation Coefficients'}>"
      ]
     },
     "execution_count": 66,
     "metadata": {},
     "output_type": "execute_result"
    }
   ],
   "source": [
    "#Correlations between numerical variables\n",
    "plt.figure(figsize=(12, 8))\n",
    "plt.title(\"Heat Map of Correlation Coefficients\", fontsize=16)\n",
    "sns.heatmap(df.corr(), cmap = 'coolwarm', fmt = '.1f', linewidths = 1, annot = True)"
   ]
  },
  {
   "cell_type": "code",
   "execution_count": null,
   "metadata": {
    "colab": {
     "base_uri": "https://localhost:8080/",
     "height": 484
    },
    "id": "KV6a-A2y805v",
    "outputId": "4a61e42d-a49d-4ccc-b9dc-56969736c497"
   },
   "outputs": [
    {
     "data": {
      "text/html": [
       "<div>\n",
       "<style scoped>\n",
       "    .dataframe tbody tr th:only-of-type {\n",
       "        vertical-align: middle;\n",
       "    }\n",
       "\n",
       "    .dataframe tbody tr th {\n",
       "        vertical-align: top;\n",
       "    }\n",
       "\n",
       "    .dataframe thead th {\n",
       "        text-align: right;\n",
       "    }\n",
       "</style>\n",
       "<table border=\"1\" class=\"dataframe\">\n",
       "  <thead>\n",
       "    <tr style=\"text-align: right;\">\n",
       "      <th></th>\n",
       "      <th>no_of_adults</th>\n",
       "      <th>no_of_children</th>\n",
       "      <th>no_of_weekend_nights</th>\n",
       "      <th>no_of_week_nights</th>\n",
       "      <th>lead_time</th>\n",
       "      <th>arrival_date</th>\n",
       "      <th>no_of_previous_cancellations</th>\n",
       "      <th>no_of_previous_bookings_not_canceled</th>\n",
       "      <th>avg_price_per_room</th>\n",
       "      <th>no_of_special_requests</th>\n",
       "      <th>cancellation_rate</th>\n",
       "      <th>day</th>\n",
       "      <th>total_guests</th>\n",
       "      <th>total_nights</th>\n",
       "      <th>total_price</th>\n",
       "    </tr>\n",
       "  </thead>\n",
       "  <tbody>\n",
       "    <tr>\n",
       "      <th>no_of_adults</th>\n",
       "      <td>1.000000</td>\n",
       "      <td>-0.019787</td>\n",
       "      <td>0.103316</td>\n",
       "      <td>0.105622</td>\n",
       "      <td>0.097287</td>\n",
       "      <td>0.026338</td>\n",
       "      <td>-0.047426</td>\n",
       "      <td>-0.119166</td>\n",
       "      <td>0.296886</td>\n",
       "      <td>0.189401</td>\n",
       "      <td>0.363589</td>\n",
       "      <td>0.026338</td>\n",
       "      <td>0.785371</td>\n",
       "      <td>0.133803</td>\n",
       "      <td>0.241718</td>\n",
       "    </tr>\n",
       "    <tr>\n",
       "      <th>no_of_children</th>\n",
       "      <td>-0.019787</td>\n",
       "      <td>1.000000</td>\n",
       "      <td>0.029478</td>\n",
       "      <td>0.024398</td>\n",
       "      <td>-0.047091</td>\n",
       "      <td>0.025482</td>\n",
       "      <td>-0.016390</td>\n",
       "      <td>-0.021189</td>\n",
       "      <td>0.337728</td>\n",
       "      <td>0.124486</td>\n",
       "      <td>-0.060046</td>\n",
       "      <td>0.025482</td>\n",
       "      <td>0.603365</td>\n",
       "      <td>0.033644</td>\n",
       "      <td>0.198209</td>\n",
       "    </tr>\n",
       "    <tr>\n",
       "      <th>no_of_weekend_nights</th>\n",
       "      <td>0.103316</td>\n",
       "      <td>0.029478</td>\n",
       "      <td>1.000000</td>\n",
       "      <td>0.179577</td>\n",
       "      <td>0.046595</td>\n",
       "      <td>0.027304</td>\n",
       "      <td>-0.020690</td>\n",
       "      <td>-0.026312</td>\n",
       "      <td>-0.004525</td>\n",
       "      <td>0.060593</td>\n",
       "      <td>0.067632</td>\n",
       "      <td>0.027304</td>\n",
       "      <td>0.100658</td>\n",
       "      <td>0.629339</td>\n",
       "      <td>0.525327</td>\n",
       "    </tr>\n",
       "    <tr>\n",
       "      <th>no_of_week_nights</th>\n",
       "      <td>0.105622</td>\n",
       "      <td>0.024398</td>\n",
       "      <td>0.179577</td>\n",
       "      <td>1.000000</td>\n",
       "      <td>0.149650</td>\n",
       "      <td>-0.009305</td>\n",
       "      <td>-0.030080</td>\n",
       "      <td>-0.049344</td>\n",
       "      <td>0.022753</td>\n",
       "      <td>0.045994</td>\n",
       "      <td>0.266809</td>\n",
       "      <td>-0.009305</td>\n",
       "      <td>0.099352</td>\n",
       "      <td>0.877513</td>\n",
       "      <td>0.739939</td>\n",
       "    </tr>\n",
       "    <tr>\n",
       "      <th>lead_time</th>\n",
       "      <td>0.097287</td>\n",
       "      <td>-0.047091</td>\n",
       "      <td>0.046595</td>\n",
       "      <td>0.149650</td>\n",
       "      <td>1.000000</td>\n",
       "      <td>0.006479</td>\n",
       "      <td>-0.045723</td>\n",
       "      <td>-0.078137</td>\n",
       "      <td>-0.062596</td>\n",
       "      <td>-0.101645</td>\n",
       "      <td>0.261401</td>\n",
       "      <td>0.006479</td>\n",
       "      <td>0.048441</td>\n",
       "      <td>0.140934</td>\n",
       "      <td>0.076493</td>\n",
       "    </tr>\n",
       "    <tr>\n",
       "      <th>arrival_date</th>\n",
       "      <td>0.026338</td>\n",
       "      <td>0.025482</td>\n",
       "      <td>0.027304</td>\n",
       "      <td>-0.009305</td>\n",
       "      <td>0.006479</td>\n",
       "      <td>1.000000</td>\n",
       "      <td>-0.012542</td>\n",
       "      <td>-0.001498</td>\n",
       "      <td>0.017898</td>\n",
       "      <td>0.018352</td>\n",
       "      <td>-0.149283</td>\n",
       "      <td>1.000000</td>\n",
       "      <td>0.036785</td>\n",
       "      <td>0.005960</td>\n",
       "      <td>0.008446</td>\n",
       "    </tr>\n",
       "    <tr>\n",
       "      <th>no_of_previous_cancellations</th>\n",
       "      <td>-0.047426</td>\n",
       "      <td>-0.016390</td>\n",
       "      <td>-0.020690</td>\n",
       "      <td>-0.030080</td>\n",
       "      <td>-0.045723</td>\n",
       "      <td>-0.012542</td>\n",
       "      <td>1.000000</td>\n",
       "      <td>0.468147</td>\n",
       "      <td>-0.063340</td>\n",
       "      <td>-0.003317</td>\n",
       "      <td>0.379768</td>\n",
       "      <td>-0.012542</td>\n",
       "      <td>-0.047975</td>\n",
       "      <td>-0.033849</td>\n",
       "      <td>-0.048069</td>\n",
       "    </tr>\n",
       "    <tr>\n",
       "      <th>no_of_previous_bookings_not_canceled</th>\n",
       "      <td>-0.119166</td>\n",
       "      <td>-0.021189</td>\n",
       "      <td>-0.026312</td>\n",
       "      <td>-0.049344</td>\n",
       "      <td>-0.078137</td>\n",
       "      <td>-0.001498</td>\n",
       "      <td>0.468147</td>\n",
       "      <td>1.000000</td>\n",
       "      <td>-0.113684</td>\n",
       "      <td>0.027377</td>\n",
       "      <td>-0.204408</td>\n",
       "      <td>-0.001498</td>\n",
       "      <td>-0.108168</td>\n",
       "      <td>-0.051807</td>\n",
       "      <td>-0.077407</td>\n",
       "    </tr>\n",
       "    <tr>\n",
       "      <th>avg_price_per_room</th>\n",
       "      <td>0.296886</td>\n",
       "      <td>0.337728</td>\n",
       "      <td>-0.004525</td>\n",
       "      <td>0.022753</td>\n",
       "      <td>-0.062596</td>\n",
       "      <td>0.017898</td>\n",
       "      <td>-0.063340</td>\n",
       "      <td>-0.113684</td>\n",
       "      <td>1.000000</td>\n",
       "      <td>0.184381</td>\n",
       "      <td>0.200016</td>\n",
       "      <td>0.017898</td>\n",
       "      <td>0.445906</td>\n",
       "      <td>0.015768</td>\n",
       "      <td>0.467291</td>\n",
       "    </tr>\n",
       "    <tr>\n",
       "      <th>no_of_special_requests</th>\n",
       "      <td>0.189401</td>\n",
       "      <td>0.124486</td>\n",
       "      <td>0.060593</td>\n",
       "      <td>0.045994</td>\n",
       "      <td>-0.101645</td>\n",
       "      <td>0.018352</td>\n",
       "      <td>-0.003317</td>\n",
       "      <td>0.027377</td>\n",
       "      <td>0.184381</td>\n",
       "      <td>1.000000</td>\n",
       "      <td>-0.192821</td>\n",
       "      <td>0.018352</td>\n",
       "      <td>0.228146</td>\n",
       "      <td>0.065871</td>\n",
       "      <td>0.142985</td>\n",
       "    </tr>\n",
       "    <tr>\n",
       "      <th>cancellation_rate</th>\n",
       "      <td>0.363589</td>\n",
       "      <td>-0.060046</td>\n",
       "      <td>0.067632</td>\n",
       "      <td>0.266809</td>\n",
       "      <td>0.261401</td>\n",
       "      <td>-0.149283</td>\n",
       "      <td>0.379768</td>\n",
       "      <td>-0.204408</td>\n",
       "      <td>0.200016</td>\n",
       "      <td>-0.192821</td>\n",
       "      <td>1.000000</td>\n",
       "      <td>-0.149283</td>\n",
       "      <td>0.314054</td>\n",
       "      <td>0.275682</td>\n",
       "      <td>0.316046</td>\n",
       "    </tr>\n",
       "    <tr>\n",
       "      <th>day</th>\n",
       "      <td>0.026338</td>\n",
       "      <td>0.025482</td>\n",
       "      <td>0.027304</td>\n",
       "      <td>-0.009305</td>\n",
       "      <td>0.006479</td>\n",
       "      <td>1.000000</td>\n",
       "      <td>-0.012542</td>\n",
       "      <td>-0.001498</td>\n",
       "      <td>0.017898</td>\n",
       "      <td>0.018352</td>\n",
       "      <td>-0.149283</td>\n",
       "      <td>1.000000</td>\n",
       "      <td>0.036785</td>\n",
       "      <td>0.005960</td>\n",
       "      <td>0.008446</td>\n",
       "    </tr>\n",
       "    <tr>\n",
       "      <th>total_guests</th>\n",
       "      <td>0.785371</td>\n",
       "      <td>0.603365</td>\n",
       "      <td>0.100658</td>\n",
       "      <td>0.099352</td>\n",
       "      <td>0.048441</td>\n",
       "      <td>0.036785</td>\n",
       "      <td>-0.047975</td>\n",
       "      <td>-0.108168</td>\n",
       "      <td>0.445906</td>\n",
       "      <td>0.228146</td>\n",
       "      <td>0.314054</td>\n",
       "      <td>0.036785</td>\n",
       "      <td>1.000000</td>\n",
       "      <td>0.127554</td>\n",
       "      <td>0.315520</td>\n",
       "    </tr>\n",
       "    <tr>\n",
       "      <th>total_nights</th>\n",
       "      <td>0.133803</td>\n",
       "      <td>0.033644</td>\n",
       "      <td>0.629339</td>\n",
       "      <td>0.877513</td>\n",
       "      <td>0.140934</td>\n",
       "      <td>0.005960</td>\n",
       "      <td>-0.033849</td>\n",
       "      <td>-0.051807</td>\n",
       "      <td>0.015768</td>\n",
       "      <td>0.065871</td>\n",
       "      <td>0.275682</td>\n",
       "      <td>0.005960</td>\n",
       "      <td>0.127554</td>\n",
       "      <td>1.000000</td>\n",
       "      <td>0.840617</td>\n",
       "    </tr>\n",
       "    <tr>\n",
       "      <th>total_price</th>\n",
       "      <td>0.241718</td>\n",
       "      <td>0.198209</td>\n",
       "      <td>0.525327</td>\n",
       "      <td>0.739939</td>\n",
       "      <td>0.076493</td>\n",
       "      <td>0.008446</td>\n",
       "      <td>-0.048069</td>\n",
       "      <td>-0.077407</td>\n",
       "      <td>0.467291</td>\n",
       "      <td>0.142985</td>\n",
       "      <td>0.316046</td>\n",
       "      <td>0.008446</td>\n",
       "      <td>0.315520</td>\n",
       "      <td>0.840617</td>\n",
       "      <td>1.000000</td>\n",
       "    </tr>\n",
       "  </tbody>\n",
       "</table>\n",
       "</div>"
      ],
      "text/plain": [
       "                                      no_of_adults  no_of_children  \\\n",
       "no_of_adults                              1.000000       -0.019787   \n",
       "no_of_children                           -0.019787        1.000000   \n",
       "no_of_weekend_nights                      0.103316        0.029478   \n",
       "no_of_week_nights                         0.105622        0.024398   \n",
       "lead_time                                 0.097287       -0.047091   \n",
       "arrival_date                              0.026338        0.025482   \n",
       "no_of_previous_cancellations             -0.047426       -0.016390   \n",
       "no_of_previous_bookings_not_canceled     -0.119166       -0.021189   \n",
       "avg_price_per_room                        0.296886        0.337728   \n",
       "no_of_special_requests                    0.189401        0.124486   \n",
       "cancellation_rate                         0.363589       -0.060046   \n",
       "day                                       0.026338        0.025482   \n",
       "total_guests                              0.785371        0.603365   \n",
       "total_nights                              0.133803        0.033644   \n",
       "total_price                               0.241718        0.198209   \n",
       "\n",
       "                                      no_of_weekend_nights  no_of_week_nights  \\\n",
       "no_of_adults                                      0.103316           0.105622   \n",
       "no_of_children                                    0.029478           0.024398   \n",
       "no_of_weekend_nights                              1.000000           0.179577   \n",
       "no_of_week_nights                                 0.179577           1.000000   \n",
       "lead_time                                         0.046595           0.149650   \n",
       "arrival_date                                      0.027304          -0.009305   \n",
       "no_of_previous_cancellations                     -0.020690          -0.030080   \n",
       "no_of_previous_bookings_not_canceled             -0.026312          -0.049344   \n",
       "avg_price_per_room                               -0.004525           0.022753   \n",
       "no_of_special_requests                            0.060593           0.045994   \n",
       "cancellation_rate                                 0.067632           0.266809   \n",
       "day                                               0.027304          -0.009305   \n",
       "total_guests                                      0.100658           0.099352   \n",
       "total_nights                                      0.629339           0.877513   \n",
       "total_price                                       0.525327           0.739939   \n",
       "\n",
       "                                      lead_time  arrival_date  \\\n",
       "no_of_adults                           0.097287      0.026338   \n",
       "no_of_children                        -0.047091      0.025482   \n",
       "no_of_weekend_nights                   0.046595      0.027304   \n",
       "no_of_week_nights                      0.149650     -0.009305   \n",
       "lead_time                              1.000000      0.006479   \n",
       "arrival_date                           0.006479      1.000000   \n",
       "no_of_previous_cancellations          -0.045723     -0.012542   \n",
       "no_of_previous_bookings_not_canceled  -0.078137     -0.001498   \n",
       "avg_price_per_room                    -0.062596      0.017898   \n",
       "no_of_special_requests                -0.101645      0.018352   \n",
       "cancellation_rate                      0.261401     -0.149283   \n",
       "day                                    0.006479      1.000000   \n",
       "total_guests                           0.048441      0.036785   \n",
       "total_nights                           0.140934      0.005960   \n",
       "total_price                            0.076493      0.008446   \n",
       "\n",
       "                                      no_of_previous_cancellations  \\\n",
       "no_of_adults                                             -0.047426   \n",
       "no_of_children                                           -0.016390   \n",
       "no_of_weekend_nights                                     -0.020690   \n",
       "no_of_week_nights                                        -0.030080   \n",
       "lead_time                                                -0.045723   \n",
       "arrival_date                                             -0.012542   \n",
       "no_of_previous_cancellations                              1.000000   \n",
       "no_of_previous_bookings_not_canceled                      0.468147   \n",
       "avg_price_per_room                                       -0.063340   \n",
       "no_of_special_requests                                   -0.003317   \n",
       "cancellation_rate                                         0.379768   \n",
       "day                                                      -0.012542   \n",
       "total_guests                                             -0.047975   \n",
       "total_nights                                             -0.033849   \n",
       "total_price                                              -0.048069   \n",
       "\n",
       "                                      no_of_previous_bookings_not_canceled  \\\n",
       "no_of_adults                                                     -0.119166   \n",
       "no_of_children                                                   -0.021189   \n",
       "no_of_weekend_nights                                             -0.026312   \n",
       "no_of_week_nights                                                -0.049344   \n",
       "lead_time                                                        -0.078137   \n",
       "arrival_date                                                     -0.001498   \n",
       "no_of_previous_cancellations                                      0.468147   \n",
       "no_of_previous_bookings_not_canceled                              1.000000   \n",
       "avg_price_per_room                                               -0.113684   \n",
       "no_of_special_requests                                            0.027377   \n",
       "cancellation_rate                                                -0.204408   \n",
       "day                                                              -0.001498   \n",
       "total_guests                                                     -0.108168   \n",
       "total_nights                                                     -0.051807   \n",
       "total_price                                                      -0.077407   \n",
       "\n",
       "                                      avg_price_per_room  \\\n",
       "no_of_adults                                    0.296886   \n",
       "no_of_children                                  0.337728   \n",
       "no_of_weekend_nights                           -0.004525   \n",
       "no_of_week_nights                               0.022753   \n",
       "lead_time                                      -0.062596   \n",
       "arrival_date                                    0.017898   \n",
       "no_of_previous_cancellations                   -0.063340   \n",
       "no_of_previous_bookings_not_canceled           -0.113684   \n",
       "avg_price_per_room                              1.000000   \n",
       "no_of_special_requests                          0.184381   \n",
       "cancellation_rate                               0.200016   \n",
       "day                                             0.017898   \n",
       "total_guests                                    0.445906   \n",
       "total_nights                                    0.015768   \n",
       "total_price                                     0.467291   \n",
       "\n",
       "                                      no_of_special_requests  \\\n",
       "no_of_adults                                        0.189401   \n",
       "no_of_children                                      0.124486   \n",
       "no_of_weekend_nights                                0.060593   \n",
       "no_of_week_nights                                   0.045994   \n",
       "lead_time                                          -0.101645   \n",
       "arrival_date                                        0.018352   \n",
       "no_of_previous_cancellations                       -0.003317   \n",
       "no_of_previous_bookings_not_canceled                0.027377   \n",
       "avg_price_per_room                                  0.184381   \n",
       "no_of_special_requests                              1.000000   \n",
       "cancellation_rate                                  -0.192821   \n",
       "day                                                 0.018352   \n",
       "total_guests                                        0.228146   \n",
       "total_nights                                        0.065871   \n",
       "total_price                                         0.142985   \n",
       "\n",
       "                                      cancellation_rate       day  \\\n",
       "no_of_adults                                   0.363589  0.026338   \n",
       "no_of_children                                -0.060046  0.025482   \n",
       "no_of_weekend_nights                           0.067632  0.027304   \n",
       "no_of_week_nights                              0.266809 -0.009305   \n",
       "lead_time                                      0.261401  0.006479   \n",
       "arrival_date                                  -0.149283  1.000000   \n",
       "no_of_previous_cancellations                   0.379768 -0.012542   \n",
       "no_of_previous_bookings_not_canceled          -0.204408 -0.001498   \n",
       "avg_price_per_room                             0.200016  0.017898   \n",
       "no_of_special_requests                        -0.192821  0.018352   \n",
       "cancellation_rate                              1.000000 -0.149283   \n",
       "day                                           -0.149283  1.000000   \n",
       "total_guests                                   0.314054  0.036785   \n",
       "total_nights                                   0.275682  0.005960   \n",
       "total_price                                    0.316046  0.008446   \n",
       "\n",
       "                                      total_guests  total_nights  total_price  \n",
       "no_of_adults                              0.785371      0.133803     0.241718  \n",
       "no_of_children                            0.603365      0.033644     0.198209  \n",
       "no_of_weekend_nights                      0.100658      0.629339     0.525327  \n",
       "no_of_week_nights                         0.099352      0.877513     0.739939  \n",
       "lead_time                                 0.048441      0.140934     0.076493  \n",
       "arrival_date                              0.036785      0.005960     0.008446  \n",
       "no_of_previous_cancellations             -0.047975     -0.033849    -0.048069  \n",
       "no_of_previous_bookings_not_canceled     -0.108168     -0.051807    -0.077407  \n",
       "avg_price_per_room                        0.445906      0.015768     0.467291  \n",
       "no_of_special_requests                    0.228146      0.065871     0.142985  \n",
       "cancellation_rate                         0.314054      0.275682     0.316046  \n",
       "day                                       0.036785      0.005960     0.008446  \n",
       "total_guests                              1.000000      0.127554     0.315520  \n",
       "total_nights                              0.127554      1.000000     0.840617  \n",
       "total_price                               0.315520      0.840617     1.000000  "
      ]
     },
     "execution_count": 67,
     "metadata": {},
     "output_type": "execute_result"
    }
   ],
   "source": [
    "# correlation matrix for numerical columns in the DataFrame.\n",
    "df.corr()"
   ]
  },
  {
   "cell_type": "code",
   "execution_count": null,
   "metadata": {
    "id": "7bhiiDfz65oE"
   },
   "outputs": [],
   "source": [
    "# numeric columns for the box plot\n",
    "numeric_columns = ['no_of_adults', 'no_of_children',\n",
    "                    'total_guests',\n",
    "                   'no_of_weekend_nights', 'no_of_week_nights',\n",
    "                   #'required_car_parking_space', 'arrival_year',\n",
    "                   'lead_time',\n",
    "                   #'arrival_month', 'arrival_date', 'repeated_guest', \n",
    "                   'no_of_previous_cancellations',\n",
    "                   'no_of_previous_bookings_not_canceled', \n",
    "                   'avg_price_per_room', 'no_of_special_requests',\n",
    "                  'cancellation_rate', 'total_price']"
   ]
  },
  {
   "cell_type": "code",
   "execution_count": null,
   "metadata": {
    "colab": {
     "base_uri": "https://localhost:8080/",
     "height": 574
    },
    "id": "L7_gjc9mLQsu",
    "outputId": "138687b6-338e-4361-90ab-ce4fc3159c6c"
   },
   "outputs": [
    {
     "name": "stderr",
     "output_type": "stream",
     "text": [
      "/var/folders/b8/4ntn3_wd1wg59r0lmbfgfmwc0000gn/T/ipykernel_76003/2975263928.py:6: UserWarning: Matplotlib is currently using agg, which is a non-GUI backend, so cannot show the figure.\n",
      "  plt.show()\n"
     ]
    }
   ],
   "source": [
    "# Create box plots for numeric columns to visualize the distribution of data.\n",
    "plt.figure(figsize=(12, 6))\n",
    "sns.boxplot(data=df[numeric_columns], orient=\"h\", palette=\"Set2\")\n",
    "plt.title(\"Box Plots for Numeric Columns\")\n",
    "plt.xlabel(\"Value\")\n",
    "plt.show()\n"
   ]
  },
  {
   "cell_type": "code",
   "execution_count": null,
   "metadata": {
    "colab": {
     "base_uri": "https://localhost:8080/"
    },
    "id": "goMPhq9c7a3t",
    "outputId": "4e5352b2-b16e-44e6-e274-c884f6e4355e"
   },
   "outputs": [
    {
     "name": "stdout",
     "output_type": "stream",
     "text": [
      "booking_status     Canceled  Not_Canceled\n",
      "type_of_meal_plan                        \n",
      "Meal Plan 1            8679         19156\n",
      "Meal Plan 2            1506          1799\n",
      "Meal Plan 3               1             4\n",
      "Not Selected           1699          3431\n",
      "\n",
      "\n",
      "booking_status              Canceled  Not_Canceled\n",
      "required_car_parking_space                        \n",
      "0                              11771         23380\n",
      "1                                114          1010\n",
      "\n",
      "\n",
      "booking_status      Canceled  Not_Canceled\n",
      "room_type_reserved                        \n",
      "Room_Type 1             9072         19058\n",
      "Room_Type 2              228           464\n",
      "Room_Type 3                2             5\n",
      "Room_Type 4             2069          3988\n",
      "Room_Type 5               72           193\n",
      "Room_Type 6              406           560\n",
      "Room_Type 7               36           122\n",
      "\n",
      "\n",
      "booking_status  Canceled  Not_Canceled\n",
      "arrival_year                          \n",
      "2017                 961          5553\n",
      "2018               10924         18837\n",
      "\n",
      "\n",
      "booking_status  Canceled  Not_Canceled\n",
      "arrival_month                         \n",
      "1                     24           990\n",
      "2                    430          1274\n",
      "3                    700          1658\n",
      "4                    995          1741\n",
      "5                    948          1650\n",
      "6                   1291          1912\n",
      "7                   1314          1606\n",
      "8                   1488          2325\n",
      "9                   1538          3073\n",
      "10                  1880          3437\n",
      "11                   875          2105\n",
      "12                   402          2619\n",
      "\n",
      "\n",
      "booking_status       Canceled  Not_Canceled\n",
      "market_segment_type                        \n",
      "Aviation                   37            88\n",
      "Complementary               0           391\n",
      "Corporate                 220          1797\n",
      "Offline                  3153          7375\n",
      "Online                   8475         14739\n",
      "\n",
      "\n",
      "booking_status  Canceled  Not_Canceled\n",
      "repeated_guest                        \n",
      "0                  11869         23476\n",
      "1                     16           914\n",
      "\n",
      "\n",
      "booking_status  Canceled  Not_Canceled\n",
      "booking_status                        \n",
      "Canceled           11885             0\n",
      "Not_Canceled           0         24390\n",
      "\n",
      "\n",
      "booking_status  Canceled  Not_Canceled\n",
      "month                                 \n",
      "1                     24           990\n",
      "2                    430          1274\n",
      "3                    700          1658\n",
      "4                    995          1741\n",
      "5                    948          1650\n",
      "6                   1291          1912\n",
      "7                   1314          1606\n",
      "8                   1488          2325\n",
      "9                   1538          3073\n",
      "10                  1880          3437\n",
      "11                   875          2105\n",
      "12                   402          2619\n",
      "\n",
      "\n",
      "booking_status  Canceled  Not_Canceled\n",
      "year                                  \n",
      "2017                 961          5553\n",
      "2018               10924         18837\n",
      "\n",
      "\n",
      "booking_status  Canceled  Not_Canceled\n",
      "season                                \n",
      "Autumn              4293          8615\n",
      "Spring              2643          5049\n",
      "Summer              4093          5843\n",
      "Winter               856          4883\n",
      "\n",
      "\n",
      "booking_status     Canceled  Not_Canceled\n",
      "past_cancellation                        \n",
      "0                     11869         24068\n",
      "1                        16           322\n",
      "\n",
      "\n",
      "booking_status  Canceled  Not_Canceled\n",
      "meal_plan                             \n",
      "0                   1699          3431\n",
      "1                  10186         20959\n",
      "\n",
      "\n",
      "booking_status  Canceled  Not_Canceled\n",
      "room_type                             \n",
      "0                   2813          5332\n",
      "1                   9072         19058\n",
      "\n",
      "\n",
      "booking_status    Canceled  Not_Canceled\n",
      "special_requests                        \n",
      "0                     8545         11232\n",
      "1                     3340         13158\n",
      "\n",
      "\n"
     ]
    }
   ],
   "source": [
    "# Create cross-tabulations for each categorical variable against booking status.\n",
    "df_cat = df[categorical_columns]\n",
    "# Create cross-tab for categorical variables\n",
    "for column in df_cat.columns:\n",
    "    cross_tab = pd.crosstab(index=df_cat[column], columns=df['booking_status'])\n",
    "    print(cross_tab)\n",
    "    print(\"\\n\")"
   ]
  },
  {
   "cell_type": "markdown",
   "metadata": {
    "id": "-fMsawFa9Ncq"
   },
   "source": [
    "Checking for outlier"
   ]
  },
  {
   "cell_type": "code",
   "execution_count": null,
   "metadata": {},
   "outputs": [],
   "source": [
    "# Save the DataFrame to a CSV file, excluding the index column.\n",
    "df.to_csv('hotel_reservations_for_modeling.csv',index=False)"
   ]
  },
  {
   "cell_type": "markdown",
   "metadata": {
    "id": "3Jq-i-67LtQW"
   },
   "source": [
    "## **Data Split and Preprocessing Pipeline**"
   ]
  },
  {
   "cell_type": "code",
   "execution_count": null,
   "metadata": {},
   "outputs": [
    {
     "data": {
      "text/plain": [
       "Index(['no_of_adults', 'no_of_children', 'no_of_weekend_nights',\n",
       "       'no_of_week_nights', 'type_of_meal_plan', 'required_car_parking_space',\n",
       "       'room_type_reserved', 'lead_time', 'arrival_year', 'arrival_month',\n",
       "       'arrival_date', 'market_segment_type', 'repeated_guest',\n",
       "       'no_of_previous_cancellations', 'no_of_previous_bookings_not_canceled',\n",
       "       'avg_price_per_room', 'no_of_special_requests', 'booking_status',\n",
       "       'cancellation_rate', 'day', 'month', 'year', 'full_arrival_date',\n",
       "       'total_guests', 'total_nights', 'season', 'past_cancellation',\n",
       "       'total_price', 'meal_plan', 'room_type', 'special_requests'],\n",
       "      dtype='object')"
      ]
     },
     "execution_count": 77,
     "metadata": {},
     "output_type": "execute_result"
    }
   ],
   "source": [
    "# Display the column names of the DataFrame.\n",
    "df.columns"
   ]
  },
  {
   "cell_type": "code",
   "execution_count": null,
   "metadata": {},
   "outputs": [
    {
     "name": "stdout",
     "output_type": "stream",
     "text": [
      "Predictors used for modeling: \n",
      " ['market_segment_type', 'season', 'required_car_parking_space', 'repeated_guest', 'special_requests', 'lead_time', 'total_price', 'total_guests']\n"
     ]
    }
   ],
   "source": [
    "# Define a list of categorical predictors for the model.\n",
    "cats = ['market_segment_type', 'season','required_car_parking_space',\n",
    "        'repeated_guest','special_requests']\n",
    "# Define a list of numerical predictors for the model.\n",
    "nums = ['lead_time', 'total_price', 'total_guests']\n",
    "        #'cancellation_rate']\n",
    "# Combine categorical and numerical predictors into a single list.\n",
    "all_vars = cats+nums\n",
    "print(f\"Predictors used for modeling: \\n\", all_vars)"
   ]
  },
  {
   "cell_type": "code",
   "execution_count": null,
   "metadata": {},
   "outputs": [],
   "source": [
    "# Create a binary target variable 'book_binary' where 1 represents 'Canceled' and 0 represents 'Not Canceled'.\n",
    "df['book_binary'] = df['booking_status'].apply(lambda x: 1 if x == 'Canceled' else 0)"
   ]
  },
  {
   "cell_type": "code",
   "execution_count": null,
   "metadata": {
    "colab": {
     "base_uri": "https://localhost:8080/"
    },
    "id": "-EQ_HuHkL9c9",
    "outputId": "1f44ce94-92e0-424e-e494-763690b4a99a"
   },
   "outputs": [
    {
     "name": "stdout",
     "output_type": "stream",
     "text": [
      "0    24390\n",
      "1    11885\n",
      "Name: book_binary, dtype: int64\n",
      "\n",
      " 0    0.672364\n",
      "1    0.327636\n",
      "Name: book_binary, dtype: float64\n"
     ]
    }
   ],
   "source": [
    "# Print the count of binary target variable 'book_binary,' showing the number of Canceled (1) and Not Canceled (0) bookings.\n",
    "print(df['book_binary'].value_counts())\n",
    "\n",
    "# Print the proportion of Canceled (1) and Not Canceled (0) bookings in the dataset.\n",
    "print('\\n', df['book_binary'].value_counts()/len(df))"
   ]
  },
  {
   "cell_type": "markdown",
   "metadata": {},
   "source": [
    "The original dataset is imbalanced, with 33% (11885) cancellations and 67% (24390) non-cancellations. A stratified split will be used to create the training, validation, and testing sets to preserve these proportions. Then, the training set will be further processed to be balanced with a 50/50 split of donations/non-donations. "
   ]
  },
  {
   "cell_type": "code",
   "execution_count": null,
   "metadata": {
    "colab": {
     "base_uri": "https://localhost:8080/",
     "height": 242
    },
    "id": "kXP18RaBMfPr",
    "outputId": "1ffeb558-d8e2-4497-946c-2fb7d3feb203"
   },
   "outputs": [
    {
     "data": {
      "text/plain": [
       "{'columntransformer': ColumnTransformer(transformers=[('cat',\n",
       "                                  Pipeline(steps=[('encoder',\n",
       "                                                   OneHotEncoder(drop='if_binary'))]),\n",
       "                                  ['market_segment_type', 'season',\n",
       "                                   'required_car_parking_space',\n",
       "                                   'repeated_guest', 'special_requests']),\n",
       "                                 ('num',\n",
       "                                  Pipeline(steps=[('variance',\n",
       "                                                   VarianceThreshold()),\n",
       "                                                  ('skew_standardize',\n",
       "                                                   PowerTransformer())]),\n",
       "                                  ['lead_time', 'total_price', 'total_guests'])],\n",
       "                   verbose_feature_names_out=False)}"
      ]
     },
     "execution_count": 18,
     "metadata": {},
     "output_type": "execute_result"
    }
   ],
   "source": [
    "# Create a categorical processing pipeline that uses one-hot encoding, dropping binary columns.\n",
    "cat_pipe = Pipeline([('encoder', OneHotEncoder(drop='if_binary'))])\n",
    "# Create a numerical processing pipeline that includes variance thresholding and power transformation.\n",
    "num_pipe = Pipeline([('variance', VarianceThreshold()),('skew_standardize', PowerTransformer())])\n",
    "#set_config(transform_output=\"pandas\")\n",
    "all_pipe = make_pipeline(ColumnTransformer([('cat', cat_pipe, cats),('num', num_pipe, nums)],\n",
    "                                          verbose_feature_names_out=False))\n",
    "all_pipe.named_steps\n"
   ]
  },
  {
   "cell_type": "markdown",
   "metadata": {},
   "source": [
    "## Creating a balanced training dataset"
   ]
  },
  {
   "cell_type": "code",
   "execution_count": null,
   "metadata": {},
   "outputs": [
    {
     "name": "stdout",
     "output_type": "stream",
     "text": [
      "(27000, 8)\n",
      "(27000,)\n",
      "(4637, 8)\n",
      "(4637,)\n",
      "(4638, 8)\n",
      "(4638,)\n"
     ]
    }
   ],
   "source": [
    "# Split the data into features (X) and the binary target variable (y).\n",
    "X = df[all_vars]\n",
    "y = df['book_binary']\n",
    "# Perform a three-way split: training, validation, and test sets.\n",
    "# First, split the data into training (X_train, y_train) and the rest (X_test, y_test).\n",
    "X_train, X_test, y_train, y_test = train_test_split(X, y, train_size = 27000, stratify=y, random_state=1)\n",
    "X_val, X_test, y_val, y_test = train_test_split(X_test, y_test, train_size=.50, random_state=1)\n",
    "#X_train, X_test, y_train, y_test = train_test_split(X, y, train_size = 27000, random_state=1)\n",
    "#X_train, X_val, y_train, y_val = train_test_split(X_train, y_train, train_size=15000, random_state=1)\n",
    "# Print the shapes of the resulting datasets for verification.\n",
    "\n",
    "print(X_train.shape)\n",
    "print(y_train.shape)\n",
    "print(X_val.shape)\n",
    "print(y_val.shape)\n",
    "print(X_test.shape)\n",
    "print(y_test.shape)"
   ]
  },
  {
   "cell_type": "code",
   "execution_count": null,
   "metadata": {},
   "outputs": [
    {
     "data": {
      "text/plain": [
       "0    0.67237\n",
       "1    0.32763\n",
       "Name: book_binary, dtype: float64"
      ]
     },
     "execution_count": 83,
     "metadata": {},
     "output_type": "execute_result"
    }
   ],
   "source": [
    "# Confirm stratified split \n",
    "y_train.value_counts()/len(y_train)"
   ]
  },
  {
   "cell_type": "code",
   "execution_count": null,
   "metadata": {},
   "outputs": [
    {
     "data": {
      "text/plain": [
       "0    18154\n",
       "1     8846\n",
       "Name: book_binary, dtype: int64"
      ]
     },
     "execution_count": 84,
     "metadata": {},
     "output_type": "execute_result"
    }
   ],
   "source": [
    "# Count the number of instances for each unique value in the y_train \n",
    "y_train.value_counts()"
   ]
  },
  {
   "cell_type": "code",
   "execution_count": null,
   "metadata": {},
   "outputs": [
    {
     "data": {
      "text/plain": [
       "1    18154\n",
       "0    18154\n",
       "Name: book_binary, dtype: int64"
      ]
     },
     "execution_count": 85,
     "metadata": {},
     "output_type": "execute_result"
    }
   ],
   "source": [
    "#from imblearn.over_sampling import RandomOverSampler\n",
    "#ros=RandomOverSampler(random_state=1)\n",
    "#X_train_over, y_train_over = ros.fit_resample(X_train, y_train)\n",
    "\n",
    "# Check proportions \n",
    "#y_train_over.value_counts()"
   ]
  },
  {
   "cell_type": "code",
   "execution_count": null,
   "metadata": {},
   "outputs": [
    {
     "data": {
      "text/plain": [
       "1    8846\n",
       "0    8846\n",
       "Name: book_binary, dtype: int64"
      ]
     },
     "execution_count": 20,
     "metadata": {},
     "output_type": "execute_result"
    }
   ],
   "source": [
    "# Create a RandomUnderSampler instance with a specified random seed and sampling strategy\n",
    "rus = RandomUnderSampler(random_state = 1, sampling_strategy='majority')\n",
    "\n",
    "# Perform random under-sampling on the training dataset\n",
    "X_train_under, y_train_under =rus.fit_resample(X_train, y_train)\n",
    "\n",
    "# Check proportions \n",
    "y_train_under.value_counts()"
   ]
  },
  {
   "cell_type": "code",
   "execution_count": null,
   "metadata": {},
   "outputs": [
    {
     "name": "stdout",
     "output_type": "stream",
     "text": [
      "<class 'pandas.core.frame.DataFrame'>\n",
      "Int64Index: 17692 entries, 1067 to 28199\n",
      "Data columns (total 8 columns):\n",
      " #   Column                      Non-Null Count  Dtype   \n",
      "---  ------                      --------------  -----   \n",
      " 0   market_segment_type         17692 non-null  category\n",
      " 1   season                      17692 non-null  category\n",
      " 2   required_car_parking_space  17692 non-null  category\n",
      " 3   repeated_guest              17692 non-null  category\n",
      " 4   special_requests            17692 non-null  category\n",
      " 5   lead_time                   17692 non-null  int64   \n",
      " 6   total_price                 17692 non-null  float64 \n",
      " 7   total_guests                17692 non-null  int64   \n",
      "dtypes: category(5), float64(1), int64(2)\n",
      "memory usage: 640.0 KB\n"
     ]
    }
   ],
   "source": [
    "# Display information about the X_train_under dataset\n",
    "X_train_under.info()"
   ]
  },
  {
   "cell_type": "markdown",
   "metadata": {},
   "source": [
    "## Transform Datasets with Pipeline"
   ]
  },
  {
   "cell_type": "code",
   "execution_count": null,
   "metadata": {},
   "outputs": [],
   "source": [
    "#Fit pipeline to resampled data\n",
    "X_train_resampled = all_pipe.fit(X_train_under)\n",
    "#Get feature names out from fit and create as new list\n",
    "X_train_cols = X_train_resampled.get_feature_names_out().tolist()\n",
    "#Create new dataframe with transformed data, and apply feature name list as column names\n",
    "X_train_bal = pd.DataFrame(all_pipe.fit_transform(X_train_under), columns = X_train_cols)"
   ]
  },
  {
   "cell_type": "code",
   "execution_count": null,
   "metadata": {},
   "outputs": [],
   "source": [
    "#Create new dataframe with transformed validation and testing data, and apply feature name list as column names\n",
    "X_val = pd.DataFrame(all_pipe.fit_transform(X_val), columns = X_train_cols)\n",
    "X_test = pd.DataFrame(all_pipe.fit_transform(X_test), columns = X_train_cols)"
   ]
  },
  {
   "cell_type": "code",
   "execution_count": null,
   "metadata": {},
   "outputs": [
    {
     "data": {
      "text/plain": [
       "((17692, 15), (4637, 15), (4638, 15))"
      ]
     },
     "execution_count": 23,
     "metadata": {},
     "output_type": "execute_result"
    }
   ],
   "source": [
    "# Display the shapes of different datasets to check their dimensions\n",
    "X_train_bal.shape, X_val.shape, X_test.shape"
   ]
  },
  {
   "cell_type": "code",
   "execution_count": null,
   "metadata": {},
   "outputs": [
    {
     "data": {
      "text/html": [
       "<div>\n",
       "<style scoped>\n",
       "    .dataframe tbody tr th:only-of-type {\n",
       "        vertical-align: middle;\n",
       "    }\n",
       "\n",
       "    .dataframe tbody tr th {\n",
       "        vertical-align: top;\n",
       "    }\n",
       "\n",
       "    .dataframe thead th {\n",
       "        text-align: right;\n",
       "    }\n",
       "</style>\n",
       "<table border=\"1\" class=\"dataframe\">\n",
       "  <thead>\n",
       "    <tr style=\"text-align: right;\">\n",
       "      <th></th>\n",
       "      <th>market_segment_type_Aviation</th>\n",
       "      <th>market_segment_type_Complementary</th>\n",
       "      <th>market_segment_type_Corporate</th>\n",
       "      <th>market_segment_type_Offline</th>\n",
       "      <th>market_segment_type_Online</th>\n",
       "      <th>season_Autumn</th>\n",
       "      <th>season_Spring</th>\n",
       "      <th>season_Summer</th>\n",
       "      <th>season_Winter</th>\n",
       "      <th>required_car_parking_space_1</th>\n",
       "      <th>repeated_guest_1</th>\n",
       "      <th>special_requests_1</th>\n",
       "      <th>lead_time</th>\n",
       "      <th>total_price</th>\n",
       "      <th>total_guests</th>\n",
       "    </tr>\n",
       "  </thead>\n",
       "  <tbody>\n",
       "    <tr>\n",
       "      <th>0</th>\n",
       "      <td>0.0</td>\n",
       "      <td>0.0</td>\n",
       "      <td>0.0</td>\n",
       "      <td>0.0</td>\n",
       "      <td>1.0</td>\n",
       "      <td>0.0</td>\n",
       "      <td>1.0</td>\n",
       "      <td>0.0</td>\n",
       "      <td>0.0</td>\n",
       "      <td>0.0</td>\n",
       "      <td>0.0</td>\n",
       "      <td>1.0</td>\n",
       "      <td>-0.826710</td>\n",
       "      <td>1.050635</td>\n",
       "      <td>0.137698</td>\n",
       "    </tr>\n",
       "    <tr>\n",
       "      <th>1</th>\n",
       "      <td>0.0</td>\n",
       "      <td>0.0</td>\n",
       "      <td>0.0</td>\n",
       "      <td>1.0</td>\n",
       "      <td>0.0</td>\n",
       "      <td>0.0</td>\n",
       "      <td>0.0</td>\n",
       "      <td>1.0</td>\n",
       "      <td>0.0</td>\n",
       "      <td>0.0</td>\n",
       "      <td>0.0</td>\n",
       "      <td>0.0</td>\n",
       "      <td>0.465769</td>\n",
       "      <td>-1.355087</td>\n",
       "      <td>-1.667318</td>\n",
       "    </tr>\n",
       "    <tr>\n",
       "      <th>2</th>\n",
       "      <td>0.0</td>\n",
       "      <td>0.0</td>\n",
       "      <td>0.0</td>\n",
       "      <td>1.0</td>\n",
       "      <td>0.0</td>\n",
       "      <td>0.0</td>\n",
       "      <td>0.0</td>\n",
       "      <td>0.0</td>\n",
       "      <td>1.0</td>\n",
       "      <td>0.0</td>\n",
       "      <td>0.0</td>\n",
       "      <td>0.0</td>\n",
       "      <td>0.001580</td>\n",
       "      <td>0.086355</td>\n",
       "      <td>0.137698</td>\n",
       "    </tr>\n",
       "    <tr>\n",
       "      <th>3</th>\n",
       "      <td>0.0</td>\n",
       "      <td>0.0</td>\n",
       "      <td>0.0</td>\n",
       "      <td>1.0</td>\n",
       "      <td>0.0</td>\n",
       "      <td>0.0</td>\n",
       "      <td>1.0</td>\n",
       "      <td>0.0</td>\n",
       "      <td>0.0</td>\n",
       "      <td>0.0</td>\n",
       "      <td>0.0</td>\n",
       "      <td>0.0</td>\n",
       "      <td>1.461213</td>\n",
       "      <td>0.183550</td>\n",
       "      <td>0.137698</td>\n",
       "    </tr>\n",
       "    <tr>\n",
       "      <th>4</th>\n",
       "      <td>0.0</td>\n",
       "      <td>0.0</td>\n",
       "      <td>0.0</td>\n",
       "      <td>1.0</td>\n",
       "      <td>0.0</td>\n",
       "      <td>1.0</td>\n",
       "      <td>0.0</td>\n",
       "      <td>0.0</td>\n",
       "      <td>0.0</td>\n",
       "      <td>0.0</td>\n",
       "      <td>0.0</td>\n",
       "      <td>0.0</td>\n",
       "      <td>0.238323</td>\n",
       "      <td>-0.323012</td>\n",
       "      <td>0.137698</td>\n",
       "    </tr>\n",
       "  </tbody>\n",
       "</table>\n",
       "</div>"
      ],
      "text/plain": [
       "   market_segment_type_Aviation  market_segment_type_Complementary  \\\n",
       "0                           0.0                                0.0   \n",
       "1                           0.0                                0.0   \n",
       "2                           0.0                                0.0   \n",
       "3                           0.0                                0.0   \n",
       "4                           0.0                                0.0   \n",
       "\n",
       "   market_segment_type_Corporate  market_segment_type_Offline  \\\n",
       "0                            0.0                          0.0   \n",
       "1                            0.0                          1.0   \n",
       "2                            0.0                          1.0   \n",
       "3                            0.0                          1.0   \n",
       "4                            0.0                          1.0   \n",
       "\n",
       "   market_segment_type_Online  season_Autumn  season_Spring  season_Summer  \\\n",
       "0                         1.0            0.0            1.0            0.0   \n",
       "1                         0.0            0.0            0.0            1.0   \n",
       "2                         0.0            0.0            0.0            0.0   \n",
       "3                         0.0            0.0            1.0            0.0   \n",
       "4                         0.0            1.0            0.0            0.0   \n",
       "\n",
       "   season_Winter  required_car_parking_space_1  repeated_guest_1  \\\n",
       "0            0.0                           0.0               0.0   \n",
       "1            0.0                           0.0               0.0   \n",
       "2            1.0                           0.0               0.0   \n",
       "3            0.0                           0.0               0.0   \n",
       "4            0.0                           0.0               0.0   \n",
       "\n",
       "   special_requests_1  lead_time  total_price  total_guests  \n",
       "0                 1.0  -0.826710     1.050635      0.137698  \n",
       "1                 0.0   0.465769    -1.355087     -1.667318  \n",
       "2                 0.0   0.001580     0.086355      0.137698  \n",
       "3                 0.0   1.461213     0.183550      0.137698  \n",
       "4                 0.0   0.238323    -0.323012      0.137698  "
      ]
     },
     "execution_count": 24,
     "metadata": {},
     "output_type": "execute_result"
    }
   ],
   "source": [
    "# View the balanced training data\n",
    "X_train_bal.head()"
   ]
  },
  {
   "cell_type": "markdown",
   "metadata": {},
   "source": [
    "### Predictors for logistic regression with one of the dummies removed: need C-1 dummies for linear models"
   ]
  },
  {
   "cell_type": "code",
   "execution_count": null,
   "metadata": {},
   "outputs": [],
   "source": [
    "# Remove specific columns from the datasets\n",
    "X_train_log = X_train_bal.drop(['market_segment_type_Aviation', 'season_Autumn'], axis = 1)\n",
    "X_val_log = X_val.drop(['market_segment_type_Aviation', 'season_Autumn'], axis = 1)\n",
    "X_test_log = X_test.drop(['market_segment_type_Aviation', 'season_Autumn'], axis = 1)"
   ]
  },
  {
   "cell_type": "markdown",
   "metadata": {},
   "source": [
    "# Feature Importance"
   ]
  },
  {
   "cell_type": "code",
   "execution_count": null,
   "metadata": {},
   "outputs": [
    {
     "name": "stdout",
     "output_type": "stream",
     "text": [
      "Feature Importance Scores\n",
      "lead_time: 0.4413\n",
      "total_price: 0.3092\n",
      "special_requests_1: 0.0955\n",
      "total_guests: 0.0321\n",
      "market_segment_type_Online: 0.0312\n",
      "market_segment_type_Offline: 0.0223\n",
      "season_Winter: 0.0217\n",
      "required_car_parking_space_1: 0.0084\n",
      "season_Spring: 0.0081\n",
      "season_Summer: 0.0079\n",
      "season_Autumn: 0.0075\n",
      "market_segment_type_Corporate: 0.0068\n",
      "repeated_guest_1: 0.0058\n",
      "market_segment_type_Complementary: 0.0014\n",
      "market_segment_type_Aviation: 0.0007\n"
     ]
    }
   ],
   "source": [
    "# Get feature importance scores\n",
    "importances=random_forest.feature_importances_\n",
    "feature_importance_pairs=list(zip(X_train_bal.columns, importances))\n",
    "\n",
    "# Sort in descending order\n",
    "sorted_feature_importance_pairs = sorted(feature_importance_pairs, key=lambda x: x[1], reverse=True)\n",
    "\n",
    "# Print scores\n",
    "print(\"Feature Importance Scores\")\n",
    "for feature, importance in sorted_feature_importance_pairs:\n",
    "    print(f\"{feature}: {importance:.4f}\")"
   ]
  },
  {
   "cell_type": "code",
   "execution_count": null,
   "metadata": {},
   "outputs": [
    {
     "data": {
      "application/vnd.jupyter.widget-view+json": {
       "model_id": "a327e255ae2f4dfeb702168250239fe8",
       "version_major": 2,
       "version_minor": 0
      },
      "image/png": "[encoded data removed]",
      "text/html": [
       "\n",
       "            <div style=\"display: inline-block;\">\n",
       "                <div class=\"jupyter-widgets widget-label\" style=\"text-align: center;\">\n",
       "                    Figure\n",
       "                </div>\n",
       "                <img src='data:image/png;base64,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' width=720.0/>\n",
       "            </div>\n",
       "        "
      ],
      "text/plain": [
       "Canvas(toolbar=Toolbar(toolitems=[('Home', 'Reset original view', 'home', 'home'), ('Back', 'Back to previous …"
      ]
     },
     "metadata": {},
     "output_type": "display_data"
    }
   ],
   "source": [
    "# Extract feature names and importances\n",
    "feature_names, importances = zip(*sorted_feature_importance_pairs)\n",
    "\n",
    "# Create a horizontal bar plot\n",
    "plt.figure(figsize=(10, 6))\n",
    "plt.barh(range(len(feature_names)), importances, align='center')\n",
    "plt.yticks(range(len(feature_names)), feature_names)\n",
    "plt.xlabel('Feature Importance')\n",
    "plt.gca().invert_yaxis()  # Invert the y-axis to show the most important features at the top\n",
    "plt.show()"
   ]
  },
  {
   "cell_type": "markdown",
   "metadata": {},
   "source": [
    "The most important features were lead time, total price, and whether the guest had a special request. "
   ]
  },
  {
   "cell_type": "markdown",
   "metadata": {},
   "source": [
    "# Model Training"
   ]
  },
  {
   "cell_type": "markdown",
   "metadata": {},
   "source": [
    "## L2 penalized logistic regression with balanced data"
   ]
  },
  {
   "cell_type": "code",
   "execution_count": null,
   "metadata": {},
   "outputs": [
    {
     "data": {
      "text/plain": [
       "LogisticRegressionCV(cv=5, random_state=1)"
      ]
     },
     "execution_count": 26,
     "metadata": {},
     "output_type": "execute_result"
    }
   ],
   "source": [
    "# Create Logistic Regression model with L2 regularization\n",
    "log_l2_bal = LogisticRegressionCV(solver = 'lbfgs', cv = 5, random_state = 1)\n",
    "# Fit the model to the training data\n",
    "log_l2_bal.fit(X_train_log, y_train_under.values.ravel())"
   ]
  },
  {
   "cell_type": "code",
   "execution_count": null,
   "metadata": {},
   "outputs": [
    {
     "data": {
      "text/plain": [
       "array([[-0.05586689, -0.09058129, -0.59656903,  0.67792759,  0.08227876,\n",
       "         0.13662713, -0.45866358, -0.35993276, -0.17111891, -1.38865516,\n",
       "         1.08625156,  0.21449904,  0.04635123]])"
      ]
     },
     "execution_count": 27,
     "metadata": {},
     "output_type": "execute_result"
    }
   ],
   "source": [
    "# Retrieve the coefficients of the trained Logistic Regression model\n",
    "log_l2_bal.coef_"
   ]
  },
  {
   "cell_type": "markdown",
   "metadata": {},
   "source": [
    "## KNN Classifier"
   ]
  },
  {
   "cell_type": "code",
   "execution_count": null,
   "metadata": {},
   "outputs": [],
   "source": [
    "# Initialize an empty list to store KNN results\n",
    "knn_results = []\n",
    "for k in range (1, 11):\n",
    "    # Create a K-Nearest Neighbors model with k neighbors and fit it to the balanced training data\n",
    "    knn_mod = KNeighborsClassifier(n_neighbors = k).fit(X_train_bal, y_train_under.values.ravel())\n",
    "    # Calculate and append results to the list\n",
    "    knn_results.append({\n",
    "        'k': k,\n",
    "        'Accuracy': accuracy_score(y_val.values.ravel(), knn_mod.predict(X_val)) \n",
    "    })\n",
    "# Create a DataFrame from the list of KNN results    \n",
    "knn_results = pd.DataFrame(knn_results)\n",
    "warnings.filterwarnings('ignore')"
   ]
  },
  {
   "cell_type": "code",
   "execution_count": null,
   "metadata": {},
   "outputs": [
    {
     "data": {
      "text/html": [
       "<div>\n",
       "<style scoped>\n",
       "    .dataframe tbody tr th:only-of-type {\n",
       "        vertical-align: middle;\n",
       "    }\n",
       "\n",
       "    .dataframe tbody tr th {\n",
       "        vertical-align: top;\n",
       "    }\n",
       "\n",
       "    .dataframe thead th {\n",
       "        text-align: right;\n",
       "    }\n",
       "</style>\n",
       "<table border=\"1\" class=\"dataframe\">\n",
       "  <thead>\n",
       "    <tr style=\"text-align: right;\">\n",
       "      <th></th>\n",
       "      <th>k</th>\n",
       "      <th>Accuracy</th>\n",
       "    </tr>\n",
       "  </thead>\n",
       "  <tbody>\n",
       "    <tr>\n",
       "      <th>0</th>\n",
       "      <td>1</td>\n",
       "      <td>0.726116</td>\n",
       "    </tr>\n",
       "    <tr>\n",
       "      <th>1</th>\n",
       "      <td>2</td>\n",
       "      <td>0.783696</td>\n",
       "    </tr>\n",
       "    <tr>\n",
       "      <th>2</th>\n",
       "      <td>3</td>\n",
       "      <td>0.758465</td>\n",
       "    </tr>\n",
       "    <tr>\n",
       "      <th>3</th>\n",
       "      <td>4</td>\n",
       "      <td>0.791029</td>\n",
       "    </tr>\n",
       "    <tr>\n",
       "      <th>4</th>\n",
       "      <td>5</td>\n",
       "      <td>0.775286</td>\n",
       "    </tr>\n",
       "    <tr>\n",
       "      <th>5</th>\n",
       "      <td>6</td>\n",
       "      <td>0.792107</td>\n",
       "    </tr>\n",
       "    <tr>\n",
       "      <th>6</th>\n",
       "      <td>7</td>\n",
       "      <td>0.785853</td>\n",
       "    </tr>\n",
       "    <tr>\n",
       "      <th>7</th>\n",
       "      <td>8</td>\n",
       "      <td>0.802674</td>\n",
       "    </tr>\n",
       "    <tr>\n",
       "      <th>8</th>\n",
       "      <td>9</td>\n",
       "      <td>0.792323</td>\n",
       "    </tr>\n",
       "    <tr>\n",
       "      <th>9</th>\n",
       "      <td>10</td>\n",
       "      <td>0.803537</td>\n",
       "    </tr>\n",
       "  </tbody>\n",
       "</table>\n",
       "</div>"
      ],
      "text/plain": [
       "    k  Accuracy\n",
       "0   1  0.726116\n",
       "1   2  0.783696\n",
       "2   3  0.758465\n",
       "3   4  0.791029\n",
       "4   5  0.775286\n",
       "5   6  0.792107\n",
       "6   7  0.785853\n",
       "7   8  0.802674\n",
       "8   9  0.792323\n",
       "9  10  0.803537"
      ]
     },
     "execution_count": 30,
     "metadata": {},
     "output_type": "execute_result"
    }
   ],
   "source": [
    "# Display the results\n",
    "knn_results"
   ]
  },
  {
   "cell_type": "code",
   "execution_count": null,
   "metadata": {},
   "outputs": [],
   "source": [
    "# Create a K-Nearest Neighbors (KNN) classifier with 4 neighbors and fit it to the balanced training data\n",
    "knn = KNeighborsClassifier(n_neighbors = 4).fit(X_train_bal, y_train_under.values.ravel())"
   ]
  },
  {
   "cell_type": "markdown",
   "metadata": {},
   "source": [
    "## Neural Network Classifier"
   ]
  },
  {
   "cell_type": "code",
   "execution_count": null,
   "metadata": {},
   "outputs": [
    {
     "data": {
      "text/plain": [
       "MLPClassifier(activation='logistic', hidden_layer_sizes=(6, 4), max_iter=500,\n",
       "              random_state=1, solver='lbfgs')"
      ]
     },
     "execution_count": 33,
     "metadata": {},
     "output_type": "execute_result"
    }
   ],
   "source": [
    "# Create a Multi-layer Perceptron (MLP) classifier with specified settings and fit it to the balanced training data\n",
    "nn = MLPClassifier(hidden_layer_sizes=(6,4), activation = 'logistic', max_iter = 500, solver = 'lbfgs', random_state=1)\n",
    "nn.fit(X_train_bal, y_train_under.values.ravel())"
   ]
  },
  {
   "cell_type": "markdown",
   "metadata": {},
   "source": [
    "## Boosted Tree Classifier"
   ]
  },
  {
   "cell_type": "code",
   "execution_count": null,
   "metadata": {},
   "outputs": [],
   "source": [
    "# Define a grid of hyperparameters to search for in the Gradient Boosting Classifier\n",
    "param_grid = {\n",
    "    'max_depth' : [9,10,11,12,13],\n",
    "    'learning_rate' : [0.0001, 0.001, 0.01, 0.1, 1],\n",
    "    'n_estimators' : [17,18,19,20,21],\n",
    "}\n",
    "# Create a GridSearchCV object using GradientBoostingClassifier and the defined parameter grid\n",
    "tree_search = GridSearchCV(GradientBoostingClassifier(random_state=1), param_grid, cv=5, n_jobs=-1)\n",
    "# Fit the GridSearchCV to the balanced training data to find the best hyperparameters\n",
    "tree_search.fit(X_train_bal, y_train_under.values.ravel())\n",
    "# Get the best hyperparameters found by the GridSearch\n",
    "tree = tree_search.best_params_"
   ]
  },
  {
   "cell_type": "markdown",
   "metadata": {},
   "source": [
    "# Model Performance"
   ]
  },
  {
   "cell_type": "markdown",
   "metadata": {},
   "source": [
    "## Log reg with balanced data"
   ]
  },
  {
   "cell_type": "code",
   "execution_count": null,
   "metadata": {},
   "outputs": [
    {
     "data": {
      "image/png": "[encoded data removed]",
      "text/plain": [
       "<Figure size 640x480 with 2 Axes>"
      ]
     },
     "metadata": {},
     "output_type": "display_data"
    }
   ],
   "source": [
    "#Confusion matrix for logistic regression balanced\n",
    "log_cm_bal = confusion_matrix(y_true = y_val, y_pred = log_l2_bal.predict(X_val_log), labels = log_l2_bal.classes_)\n",
    "log_disp_bal = ConfusionMatrixDisplay(confusion_matrix= log_cm_bal, display_labels=log_l2_bal.classes_)\n",
    "log_disp_bal.plot()\n",
    "plt.show() "
   ]
  },
  {
   "cell_type": "code",
   "execution_count": null,
   "metadata": {},
   "outputs": [
    {
     "data": {
      "text/plain": [
       "Text(0, 0.5, 'True Positive Rate')"
      ]
     },
     "execution_count": 55,
     "metadata": {},
     "output_type": "execute_result"
    },
    {
     "data": {
      "image/png": "[encoded data removed]",
      "text/plain": [
       "<Figure size 640x480 with 1 Axes>"
      ]
     },
     "metadata": {},
     "output_type": "display_data"
    }
   ],
   "source": [
    "#ROC curve for logistic regression\n",
    "fpr, tpr, thresholds = roc_curve(y_val, log_l2_bal.predict(X_val_log))\n",
    "auc = round(roc_auc_score(y_val, log_l2_bal.predict(X_val_log)), 4)\n",
    "plt.plot(fpr,tpr,label=\"Logistic Regression, AUC=\"+str(auc))\n",
    "plt.xlabel('False Positive Rate')\n",
    "plt.ylabel('True Positive Rate') "
   ]
  },
  {
   "cell_type": "code",
   "execution_count": null,
   "metadata": {},
   "outputs": [
    {
     "data": {
      "text/plain": [
       "(0.8266666666666667, 0.6971628944851769, 0.7390554237653656)"
      ]
     },
     "execution_count": 36,
     "metadata": {},
     "output_type": "execute_result"
    }
   ],
   "source": [
    "#Sensitivity, specificity, and accuracy for log reg with balanced data\n",
    "#Much improved\n",
    "log_sens_bal = sensitivity_score(y_val, log_l2_bal.predict(X_val_log))\n",
    "log_spec_bal = specificity_score(y_val, log_l2_bal.predict(X_val_log))\n",
    "log_acc_bal = accuracy_score(y_val, log_l2_bal.predict(X_val_log))\n",
    "log_sens_bal, log_spec_bal, log_acc_bal"
   ]
  },
  {
   "cell_type": "markdown",
   "metadata": {},
   "source": [
    "## Decision Tree"
   ]
  },
  {
   "cell_type": "code",
   "execution_count": null,
   "metadata": {},
   "outputs": [
    {
     "data": {
      "image/png": "[encoded data removed]",
      "text/plain": [
       "<Figure size 640x480 with 2 Axes>"
      ]
     },
     "metadata": {},
     "output_type": "display_data"
    }
   ],
   "source": [
    "#Confusion matrix for logistic regression balanced\n",
    "tree_cm_bal = confusion_matrix(y_true = y_val, y_pred = tree_search.predict(X_val), labels = tree_search.classes_)\n",
    "tree_disp_bal = ConfusionMatrixDisplay(confusion_matrix= tree_cm_bal, display_labels=tree_search.classes_)\n",
    "tree_disp_bal.plot()\n",
    "plt.show() "
   ]
  },
  {
   "cell_type": "code",
   "execution_count": null,
   "metadata": {},
   "outputs": [
    {
     "data": {
      "text/plain": [
       "Text(0, 0.5, 'True Positive Rate')"
      ]
     },
     "execution_count": 56,
     "metadata": {},
     "output_type": "execute_result"
    },
    {
     "data": {
      "image/png": "[encoded data removed]",
      "text/plain": [
       "<Figure size 640x480 with 1 Axes>"
      ]
     },
     "metadata": {},
     "output_type": "display_data"
    }
   ],
   "source": [
    "#ROC curve for tree\n",
    "fpr, tpr, thresholds = roc_curve(y_val, tree_search.predict(X_val))\n",
    "auc = round(roc_auc_score(y_val, tree_search.predict(X_val)), 4)\n",
    "plt.plot(fpr,tpr,label=\"Boosted Tree, AUC=\"+str(auc))\n",
    "plt.xlabel('False Positive Rate')\n",
    "plt.ylabel('True Positive Rate') "
   ]
  },
  {
   "cell_type": "code",
   "execution_count": null,
   "metadata": {},
   "outputs": [
    {
     "data": {
      "text/plain": [
       "(0.7713333333333333, 0.7982148549569652, 0.7895190856156998)"
      ]
     },
     "execution_count": 47,
     "metadata": {},
     "output_type": "execute_result"
    }
   ],
   "source": [
    "#Sensitivity, specificity, and accuracy for decision tree with balanced training\n",
    "#Much improved\n",
    "tree_sens_bal = sensitivity_score(y_val, tree_search.predict(X_val))\n",
    "tree_spec_bal = specificity_score(y_val, tree_search.predict(X_val))\n",
    "tree_acc_bal = accuracy_score(y_val, tree_search.predict(X_val))\n",
    "tree_sens_bal, tree_spec_bal, tree_acc_bal"
   ]
  },
  {
   "cell_type": "markdown",
   "metadata": {},
   "source": [
    "## KNN"
   ]
  },
  {
   "cell_type": "code",
   "execution_count": null,
   "metadata": {},
   "outputs": [
    {
     "data": {
      "image/png": "[encoded data removed]",
      "text/plain": [
       "<Figure size 640x480 with 2 Axes>"
      ]
     },
     "metadata": {},
     "output_type": "display_data"
    }
   ],
   "source": [
    "# Compute the confusion matrix for KNN model on the validation data\n",
    "knn_cm_bal = confusion_matrix(y_true = y_val, y_pred = knn.predict(X_val), labels = knn.classes_)\n",
    "# Create a ConfusionMatrixDisplay object for visualization\n",
    "knn_disp_bal = ConfusionMatrixDisplay(confusion_matrix= knn_cm_bal, display_labels=knn.classes_)\n",
    "knn_disp_bal.plot()\n",
    "warnings.filterwarnings('ignore')\n",
    "plt.show()"
   ]
  },
  {
   "cell_type": "code",
   "execution_count": null,
   "metadata": {},
   "outputs": [
    {
     "data": {
      "text/plain": [
       "Text(0, 0.5, 'True Positive Rate')"
      ]
     },
     "execution_count": 40,
     "metadata": {},
     "output_type": "execute_result"
    },
    {
     "data": {
      "image/png": "[encoded data removed]",
      "text/plain": [
       "<Figure size 640x480 with 1 Axes>"
      ]
     },
     "metadata": {},
     "output_type": "display_data"
    }
   ],
   "source": [
    "#ROC curve for KNN\n",
    "fpr, tpr, thresholds = roc_curve(y_val, knn.predict(X_val))\n",
    "plt.plot(fpr, tpr)\n",
    "plt.xlabel('False Positive Rate')\n",
    "plt.ylabel('True Positive Rate') "
   ]
  },
  {
   "cell_type": "code",
   "execution_count": null,
   "metadata": {},
   "outputs": [
    {
     "data": {
      "text/plain": [
       "(0.7326666666666667, 0.81893528849219, 0.7910286823377184)"
      ]
     },
     "execution_count": 39,
     "metadata": {},
     "output_type": "execute_result"
    }
   ],
   "source": [
    "#Sensitivity, specificity, and accuracy for KNN trained with balanced data\n",
    "#Much improved\n",
    "knn_sens_bal = sensitivity_score(y_val, knn.predict(X_val))\n",
    "knn_spec_bal = specificity_score(y_val, knn.predict(X_val))\n",
    "knn_acc_bal = accuracy_score(y_val, knn.predict(X_val))\n",
    "warnings.filterwarnings('ignore')\n",
    "knn_sens_bal, knn_spec_bal, knn_acc_bal"
   ]
  },
  {
   "cell_type": "markdown",
   "metadata": {},
   "source": [
    "## Neural network"
   ]
  },
  {
   "cell_type": "code",
   "execution_count": null,
   "metadata": {},
   "outputs": [
    {
     "data": {
      "image/png": "[encoded data removed]",
      "text/plain": [
       "<Figure size 640x480 with 2 Axes>"
      ]
     },
     "metadata": {},
     "output_type": "display_data"
    }
   ],
   "source": [
    "# Compute the confusion matrix for the Neural Network (nn) model on the validation data\n",
    "nn_cm_bal = confusion_matrix(y_true = y_val, y_pred = nn.predict(X_val), labels = nn.classes_)\n",
    "nn_disp_bal = ConfusionMatrixDisplay(confusion_matrix= nn_cm_bal, display_labels=nn.classes_)\n",
    "# Plot the Neural Network confusion matrix\n",
    "nn_disp_bal.plot()\n",
    "plt.show() "
   ]
  },
  {
   "cell_type": "code",
   "execution_count": null,
   "metadata": {},
   "outputs": [
    {
     "data": {
      "text/plain": [
       "Text(0, 0.5, 'True Positive Rate')"
      ]
     },
     "execution_count": 43,
     "metadata": {},
     "output_type": "execute_result"
    },
    {
     "data": {
      "image/png": "[encoded data removed]",
      "text/plain": [
       "<Figure size 640x480 with 1 Axes>"
      ]
     },
     "metadata": {},
     "output_type": "display_data"
    }
   ],
   "source": [
    "#ROC curve for Neural Network\n",
    "fpr, tpr, thresholds = roc_curve(y_val, nn.predict(X_val))\n",
    "plt.plot(fpr, tpr)\n",
    "plt.xlabel('False Positive Rate')\n",
    "plt.ylabel('True Positive Rate') "
   ]
  },
  {
   "cell_type": "code",
   "execution_count": null,
   "metadata": {},
   "outputs": [
    {
     "data": {
      "text/plain": [
       "(0.8013333333333333, 0.7746254383168633, 0.7832650420530516)"
      ]
     },
     "execution_count": 42,
     "metadata": {},
     "output_type": "execute_result"
    }
   ],
   "source": [
    "#Sensitivity, specificity, and accuracy for neural net\n",
    "nn_sens = sensitivity_score(y_val, nn.predict(X_val))\n",
    "nn_spec = specificity_score(y_val, nn.predict(X_val))\n",
    "nn_acc = accuracy_score(y_val, nn.predict(X_val))\n",
    "nn_sens, nn_spec, nn_acc"
   ]
  },
  {
   "cell_type": "markdown",
   "metadata": {},
   "source": [
    "# Compiled ROC Curves for All Models on Unbalanced Validation Data"
   ]
  },
  {
   "cell_type": "code",
   "execution_count": null,
   "metadata": {},
   "outputs": [
    {
     "data": {
      "image/png": "[encoded data removed]",
      "text/plain": [
       "<Figure size 640x480 with 1 Axes>"
      ]
     },
     "metadata": {},
     "output_type": "display_data"
    }
   ],
   "source": [
    "#ROC curve for logistic regression\n",
    "fpr, tpr, thresholds = roc_curve(y_val, log_l2_bal.predict(X_val_log))\n",
    "auc_log = round(roc_auc_score(y_val, log_l2_bal.predict(X_val_log)), 4)\n",
    "plt.plot(fpr,tpr,label=\"Logistic Regression, AUC=\"+str(auc_log))\n",
    "\n",
    "fpr, tpr, thresholds = roc_curve(y_val, tree_search.predict(X_val))\n",
    "auc_tree = round(roc_auc_score(y_val, tree_search.predict(X_val)), 4)\n",
    "plt.plot(fpr,tpr,label=\"Boosted Tree, AUC=\"+str(auc_tree))\n",
    "\n",
    "fpr, tpr, thresholds = roc_curve(y_val, knn.predict(X_val))\n",
    "auc_knn = round(roc_auc_score(y_val, knn.predict(X_val)), 4)\n",
    "plt.plot(fpr,tpr,label=\"K-Nearest Neighbors, AUC=\"+str(auc_knn))\n",
    "\n",
    "fpr, tpr, thresholds = roc_curve(y_val, nn.predict(X_val))\n",
    "auc_nn = round(roc_auc_score(y_val, nn.predict(X_val)), 4)\n",
    "plt.plot(fpr,tpr,label=\"Neural Network, AUC=\"+str(auc_nn))\n",
    "\n",
    "\n",
    "plt.xlabel('False Positive Rate')\n",
    "plt.ylabel('True Positive Rate') \n",
    "plt.title('ROC Curves for Validation Data')\n",
    "plt.legend()\n",
    "plt.savefig('ROCs.png')"
   ]
  },
  {
   "cell_type": "markdown",
   "metadata": {},
   "source": [
    "# Validation Performance Metrics"
   ]
  },
  {
   "cell_type": "code",
   "execution_count": null,
   "metadata": {},
   "outputs": [
    {
     "name": "stdout",
     "output_type": "stream",
     "text": [
      "╒═════════════════════╤══════════════════════════╤══════════════════════════╤════════════╤════════════════════╕\n",
      "│ Model               │   Validation Sensitivity │   Validation Specificity │   Accuracy │   Area Under Curve │\n",
      "╞═════════════════════╪══════════════════════════╪══════════════════════════╪════════════╪════════════════════╡\n",
      "│ Logistic Regression │                 0.820663 │                 0.694095 │   0.736093 │             0.7619 │\n",
      "├─────────────────────┼──────────────────────────┼──────────────────────────┼────────────┼────────────────────┤\n",
      "│ Boosted Tree        │                 0.771333 │                 0.798215 │   0.789519 │             0.7848 │\n",
      "├─────────────────────┼──────────────────────────┼──────────────────────────┼────────────┼────────────────────┤\n",
      "│ K-Nearest Neighbors │                 0.732667 │                 0.818935 │   0.791029 │             0.7758 │\n",
      "├─────────────────────┼──────────────────────────┼──────────────────────────┼────────────┼────────────────────┤\n",
      "│ Neural Network      │                 0.805068 │                 0.770248 │   0.781803 │             0.788  │\n",
      "╘═════════════════════╧══════════════════════════╧══════════════════════════╧════════════╧════════════════════╛\n"
     ]
    },
    {
     "data": {
      "text/plain": [
       "<Figure size 640x480 with 0 Axes>"
      ]
     },
     "metadata": {},
     "output_type": "display_data"
    }
   ],
   "source": [
    "from tabulate import tabulate\n",
    "# Create a table to display performance metrics for different models on the validation dataset\n",
    "\n",
    "val_performance = [\n",
    "{'Model': 'Logistic Regression', 'Validation Sensitivity': log_sens_bal, 'Validation Specificity':log_spec_bal, \n",
    " 'Accuracy': log_acc_bal, 'Area Under Curve':auc_log},\n",
    "    {'Model': 'Boosted Tree', 'Validation Sensitivity': tree_sens_bal, 'Validation Specificity':tree_spec_bal, \n",
    " 'Accuracy': tree_acc_bal, 'Area Under Curve':auc_tree},\n",
    "    {'Model': 'K-Nearest Neighbors', 'Validation Sensitivity': knn_sens_bal, 'Validation Specificity':knn_spec_bal, \n",
    " 'Accuracy': knn_acc_bal, 'Area Under Curve':auc_knn},\n",
    "    {'Model': 'Neural Network', 'Validation Sensitivity': nn_sens_bal, 'Validation Specificity':nn_spec_bal, \n",
    " 'Accuracy': nn_acc_bal, 'Area Under Curve':auc_nn}]\n",
    "# Create a formatted table using tabulate and specify the format as 'fancy_grid'\n",
    "table = tabulate(val_performance, headers='keys', tablefmt='fancy_grid')\n",
    "# Display the comparison table\n",
    "print(table)\n",
    "plt.savefig('val_table.png',\n",
    "            bbox_inches='tight',\n",
    "            dpi=150\n",
    "            )"
   ]
  },
  {
   "cell_type": "markdown",
   "metadata": {},
   "source": [
    "# Top Two Models: Logistic Regression and Neural Network. Compare performance on test set. Calculate AIC scores."
   ]
  },
  {
   "cell_type": "code",
   "execution_count": null,
   "metadata": {},
   "outputs": [
    {
     "data": {
      "image/png": "[encoded data removed]",
      "text/plain": [
       "<Figure size 640x480 with 2 Axes>"
      ]
     },
     "metadata": {},
     "output_type": "display_data"
    }
   ],
   "source": [
    "#Confusion matrix for logistic regression balanced\n",
    "log_cm_bal = confusion_matrix(y_true = y_test, y_pred = log_l2_bal.predict(X_test_log), labels = log_l2_bal.classes_)\n",
    "log_disp_bal = ConfusionMatrixDisplay(confusion_matrix= log_cm_bal, display_labels=log_l2_bal.classes_)\n",
    "log_disp_bal.plot()\n",
    "plt.show() "
   ]
  },
  {
   "cell_type": "code",
   "execution_count": null,
   "metadata": {},
   "outputs": [
    {
     "data": {
      "text/plain": [
       "(0.8206627680311891, 0.6940948693126815, 0.7360931435963778)"
      ]
     },
     "execution_count": 60,
     "metadata": {},
     "output_type": "execute_result"
    }
   ],
   "source": [
    "# Calculate sensitivity, specificity, and accuracy for the Logistic Regression model on the test data\n",
    "log_sens_bal = sensitivity_score(y_test, log_l2_bal.predict(X_test_log))\n",
    "log_spec_bal = specificity_score(y_test, log_l2_bal.predict(X_test_log))\n",
    "log_acc_bal = accuracy_score(y_test, log_l2_bal.predict(X_test_log))\n",
    "# Print the calculated sensitivity, specificity, and accuracy\n",
    "log_sens_bal, log_spec_bal, log_acc_bal"
   ]
  },
  {
   "cell_type": "code",
   "execution_count": null,
   "metadata": {},
   "outputs": [
    {
     "data": {
      "image/png": "[encoded data removed]",
      "text/plain": [
       "<Figure size 640x480 with 1 Axes>"
      ]
     },
     "metadata": {},
     "output_type": "display_data"
    }
   ],
   "source": [
    "#Lift curve for logistic regression on test data\n",
    "plot_lift_curve(y_test, log_l2_bal.predict_proba(X_test_log), title = 'Lift Curve for Logistic Regression')\n",
    "plt.savefig('LogLift.png')"
   ]
  },
  {
   "cell_type": "code",
   "execution_count": null,
   "metadata": {},
   "outputs": [],
   "source": [
    "#AIC score"
   ]
  },
  {
   "cell_type": "code",
   "execution_count": null,
   "metadata": {},
   "outputs": [
    {
     "data": {
      "image/png": "[encoded data removed]",
      "text/plain": [
       "<Figure size 640x480 with 2 Axes>"
      ]
     },
     "metadata": {},
     "output_type": "display_data"
    }
   ],
   "source": [
    "# Compute the confusion matrix for the Neural Network (nn) model on the test data\n",
    "nn_cm_bal = confusion_matrix(y_true = y_test, y_pred = nn.predict(X_test), labels = nn.classes_)\n",
    "nn_disp_bal = ConfusionMatrixDisplay(confusion_matrix= nn_cm_bal, display_labels=nn.classes_)\n",
    "# Plot the Neural Network confusion matrix\n",
    "nn_disp_bal.plot()\n",
    "plt.show() "
   ]
  },
  {
   "cell_type": "code",
   "execution_count": null,
   "metadata": {},
   "outputs": [
    {
     "data": {
      "text/plain": [
       "(0.8050682261208577, 0.7702484672474992, 0.7818025010780509)"
      ]
     },
     "execution_count": 62,
     "metadata": {},
     "output_type": "execute_result"
    }
   ],
   "source": [
    "# Calculate sensitivity, specificity, and accuracy for the Neural Network model on the test data\n",
    "nn_sens_bal = sensitivity_score(y_test, nn.predict(X_test))\n",
    "nn_spec_bal = specificity_score(y_test, nn.predict(X_test))\n",
    "nn_acc_bal = accuracy_score(y_test, nn.predict(X_test))\n",
    "# Print the calculated sensitivity, specificity, and accuracy\n",
    "nn_sens_bal, nn_spec_bal, nn_acc_bal"
   ]
  },
  {
   "cell_type": "code",
   "execution_count": null,
   "metadata": {},
   "outputs": [
    {
     "data": {
      "image/png": "[encoded data removed]",
      "text/plain": [
       "<Figure size 640x480 with 1 Axes>"
      ]
     },
     "metadata": {},
     "output_type": "display_data"
    }
   ],
   "source": [
    "#Lift curve for neural network on test data\n",
    "plot_lift_curve(y_test, nn.predict_proba(X_test), title = 'Lift Curve for Neural Network')\n",
    "plt.savefig('NNLift.png')"
   ]
  },
  {
   "cell_type": "code",
   "execution_count": null,
   "metadata": {},
   "outputs": [],
   "source": [
    "#AIC score"
   ]
  },
  {
   "cell_type": "markdown",
   "metadata": {
    "id": "I1IifrG4NUs-"
   },
   "source": [
    "# References\n",
    " * https://saturncloud.io/blog/pandas-seaborn-countplot-from-several-columns/\n",
    " * https://medium.com/@anderson.riciamorim/how-to-keep-feature-names-in-sklearn-pipeline-e00295359e31\n",
    " * https://imbalanced-learn.org/stable/references/generated/imblearn.over_sampling.RandomOverSampler.html\n",
    " * https://machinelearningmastery.com/random-oversampling-and-undersampling-for-imbalanced-classification/\n",
    " * https://www.statology.org/plot-multiple-roc-curves-python/"
   ]
  }
 ],
 "metadata": {
  "colab": {
   "provenance": []
  },
  "kernelspec": {
   "display_name": "Python 3 (ipykernel)",
   "language": "python",
   "name": "python3"
  },
  "language_info": {
   "codemirror_mode": {
    "name": "ipython",
    "version": 3
   },
   "file_extension": ".py",
   "mimetype": "text/x-python",
   "name": "python",
   "nbconvert_exporter": "python",
   "pygments_lexer": "ipython3",
   "version": "3.11.4"
  }
 },
 "nbformat": 4,
 "nbformat_minor": 1
}
